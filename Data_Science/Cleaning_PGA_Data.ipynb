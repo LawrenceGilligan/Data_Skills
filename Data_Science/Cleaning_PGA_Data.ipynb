{
 "cells": [
  {
   "cell_type": "code",
   "execution_count": 144,
   "metadata": {},
   "outputs": [],
   "source": [
    "import pandas as pd\n",
    "import numpy as np\n",
    "import seaborn as sns\n",
    "import plotly.graph_objects as go\n",
    "import plotly.express as px\n",
    "import plotly.io as pio\n",
    "\n",
    "pio.templates.default = \"plotly_dark\""
   ]
  },
  {
   "cell_type": "code",
   "execution_count": 145,
   "metadata": {},
   "outputs": [],
   "source": [
    "df = pd.read_csv('PGA_RAW_DATA.csv')"
   ]
  },
  {
   "cell_type": "code",
   "execution_count": 146,
   "metadata": {},
   "outputs": [
    {
     "data": {
      "text/html": [
       "<div>\n",
       "<style scoped>\n",
       "    .dataframe tbody tr th:only-of-type {\n",
       "        vertical-align: middle;\n",
       "    }\n",
       "\n",
       "    .dataframe tbody tr th {\n",
       "        vertical-align: top;\n",
       "    }\n",
       "\n",
       "    .dataframe thead th {\n",
       "        text-align: right;\n",
       "    }\n",
       "</style>\n",
       "<table border=\"1\" class=\"dataframe\">\n",
       "  <thead>\n",
       "    <tr style=\"text-align: right;\">\n",
       "      <th></th>\n",
       "      <th>Player_initial_last</th>\n",
       "      <th>tournament id</th>\n",
       "      <th>player id</th>\n",
       "      <th>hole_par</th>\n",
       "      <th>strokes</th>\n",
       "      <th>hole_DKP</th>\n",
       "      <th>hole_FDP</th>\n",
       "      <th>hole_SDP</th>\n",
       "      <th>streak_DKP</th>\n",
       "      <th>streak_FDP</th>\n",
       "      <th>...</th>\n",
       "      <th>purse</th>\n",
       "      <th>season</th>\n",
       "      <th>no_cut</th>\n",
       "      <th>Finish</th>\n",
       "      <th>sg_putt</th>\n",
       "      <th>sg_arg</th>\n",
       "      <th>sg_app</th>\n",
       "      <th>sg_ott</th>\n",
       "      <th>sg_t2g</th>\n",
       "      <th>sg_total</th>\n",
       "    </tr>\n",
       "  </thead>\n",
       "  <tbody>\n",
       "    <tr>\n",
       "      <th>0</th>\n",
       "      <td>A. Ancer</td>\n",
       "      <td>401353224</td>\n",
       "      <td>9261</td>\n",
       "      <td>288</td>\n",
       "      <td>289</td>\n",
       "      <td>60.0</td>\n",
       "      <td>51.1</td>\n",
       "      <td>56</td>\n",
       "      <td>3</td>\n",
       "      <td>7.6</td>\n",
       "      <td>...</td>\n",
       "      <td>12.0</td>\n",
       "      <td>2022</td>\n",
       "      <td>0</td>\n",
       "      <td>T32</td>\n",
       "      <td>0.20</td>\n",
       "      <td>-0.13</td>\n",
       "      <td>-0.08</td>\n",
       "      <td>0.86</td>\n",
       "      <td>0.65</td>\n",
       "      <td>0.85</td>\n",
       "    </tr>\n",
       "    <tr>\n",
       "      <th>1</th>\n",
       "      <td>A. Hadwin</td>\n",
       "      <td>401353224</td>\n",
       "      <td>5548</td>\n",
       "      <td>288</td>\n",
       "      <td>286</td>\n",
       "      <td>72.5</td>\n",
       "      <td>61.5</td>\n",
       "      <td>61</td>\n",
       "      <td>8</td>\n",
       "      <td>13.0</td>\n",
       "      <td>...</td>\n",
       "      <td>12.0</td>\n",
       "      <td>2022</td>\n",
       "      <td>0</td>\n",
       "      <td>T18</td>\n",
       "      <td>0.36</td>\n",
       "      <td>0.75</td>\n",
       "      <td>0.31</td>\n",
       "      <td>0.18</td>\n",
       "      <td>1.24</td>\n",
       "      <td>1.60</td>\n",
       "    </tr>\n",
       "    <tr>\n",
       "      <th>2</th>\n",
       "      <td>A. Lahiri</td>\n",
       "      <td>401353224</td>\n",
       "      <td>4989</td>\n",
       "      <td>144</td>\n",
       "      <td>147</td>\n",
       "      <td>21.5</td>\n",
       "      <td>17.4</td>\n",
       "      <td>27</td>\n",
       "      <td>0</td>\n",
       "      <td>0.0</td>\n",
       "      <td>...</td>\n",
       "      <td>12.0</td>\n",
       "      <td>2022</td>\n",
       "      <td>0</td>\n",
       "      <td>CUT</td>\n",
       "      <td>-0.56</td>\n",
       "      <td>0.74</td>\n",
       "      <td>-1.09</td>\n",
       "      <td>0.37</td>\n",
       "      <td>0.02</td>\n",
       "      <td>-0.54</td>\n",
       "    </tr>\n",
       "    <tr>\n",
       "      <th>3</th>\n",
       "      <td>A. Long</td>\n",
       "      <td>401353224</td>\n",
       "      <td>6015</td>\n",
       "      <td>144</td>\n",
       "      <td>151</td>\n",
       "      <td>20.5</td>\n",
       "      <td>13.6</td>\n",
       "      <td>17</td>\n",
       "      <td>0</td>\n",
       "      <td>0.4</td>\n",
       "      <td>...</td>\n",
       "      <td>12.0</td>\n",
       "      <td>2022</td>\n",
       "      <td>0</td>\n",
       "      <td>CUT</td>\n",
       "      <td>-1.46</td>\n",
       "      <td>-1.86</td>\n",
       "      <td>-0.02</td>\n",
       "      <td>0.80</td>\n",
       "      <td>-1.08</td>\n",
       "      <td>-2.54</td>\n",
       "    </tr>\n",
       "    <tr>\n",
       "      <th>4</th>\n",
       "      <td>A. Noren</td>\n",
       "      <td>401353224</td>\n",
       "      <td>3832</td>\n",
       "      <td>144</td>\n",
       "      <td>148</td>\n",
       "      <td>23.5</td>\n",
       "      <td>18.1</td>\n",
       "      <td>23</td>\n",
       "      <td>0</td>\n",
       "      <td>1.2</td>\n",
       "      <td>...</td>\n",
       "      <td>12.0</td>\n",
       "      <td>2022</td>\n",
       "      <td>0</td>\n",
       "      <td>CUT</td>\n",
       "      <td>0.53</td>\n",
       "      <td>-0.36</td>\n",
       "      <td>-1.39</td>\n",
       "      <td>0.19</td>\n",
       "      <td>-1.56</td>\n",
       "      <td>-1.04</td>\n",
       "    </tr>\n",
       "  </tbody>\n",
       "</table>\n",
       "<p>5 rows × 37 columns</p>\n",
       "</div>"
      ],
      "text/plain": [
       "  Player_initial_last  tournament id  player id  hole_par  strokes  hole_DKP  \\\n",
       "0            A. Ancer      401353224       9261       288      289      60.0   \n",
       "1           A. Hadwin      401353224       5548       288      286      72.5   \n",
       "2           A. Lahiri      401353224       4989       144      147      21.5   \n",
       "3             A. Long      401353224       6015       144      151      20.5   \n",
       "4            A. Noren      401353224       3832       144      148      23.5   \n",
       "\n",
       "   hole_FDP  hole_SDP  streak_DKP  streak_FDP  ...  purse  season  no_cut  \\\n",
       "0      51.1        56           3         7.6  ...   12.0    2022       0   \n",
       "1      61.5        61           8        13.0  ...   12.0    2022       0   \n",
       "2      17.4        27           0         0.0  ...   12.0    2022       0   \n",
       "3      13.6        17           0         0.4  ...   12.0    2022       0   \n",
       "4      18.1        23           0         1.2  ...   12.0    2022       0   \n",
       "\n",
       "   Finish  sg_putt  sg_arg  sg_app  sg_ott  sg_t2g  sg_total  \n",
       "0     T32     0.20   -0.13   -0.08    0.86    0.65      0.85  \n",
       "1     T18     0.36    0.75    0.31    0.18    1.24      1.60  \n",
       "2     CUT    -0.56    0.74   -1.09    0.37    0.02     -0.54  \n",
       "3     CUT    -1.46   -1.86   -0.02    0.80   -1.08     -2.54  \n",
       "4     CUT     0.53   -0.36   -1.39    0.19   -1.56     -1.04  \n",
       "\n",
       "[5 rows x 37 columns]"
      ]
     },
     "execution_count": 146,
     "metadata": {},
     "output_type": "execute_result"
    }
   ],
   "source": [
    "df.head()"
   ]
  },
  {
   "cell_type": "code",
   "execution_count": 147,
   "metadata": {},
   "outputs": [
    {
     "data": {
      "text/plain": [
       "Player_initial_last    False\n",
       "tournament id          False\n",
       "player id              False\n",
       "hole_par               False\n",
       "strokes                False\n",
       "hole_DKP               False\n",
       "hole_FDP               False\n",
       "hole_SDP               False\n",
       "streak_DKP             False\n",
       "streak_FDP             False\n",
       "streak_SDP             False\n",
       "n_rounds               False\n",
       "made_cut               False\n",
       "pos                     True\n",
       "finish_DKP             False\n",
       "finish_FDP             False\n",
       "finish_SDP             False\n",
       "total_DKP              False\n",
       "total_FDP              False\n",
       "total_SDP              False\n",
       "player                 False\n",
       "Unnamed: 2              True\n",
       "Unnamed: 3              True\n",
       "Unnamed: 4              True\n",
       "tournament name        False\n",
       "course                 False\n",
       "date                   False\n",
       "purse                  False\n",
       "season                 False\n",
       "no_cut                 False\n",
       "Finish                  True\n",
       "sg_putt                 True\n",
       "sg_arg                  True\n",
       "sg_app                  True\n",
       "sg_ott                  True\n",
       "sg_t2g                  True\n",
       "sg_total                True\n",
       "dtype: bool"
      ]
     },
     "execution_count": 147,
     "metadata": {},
     "output_type": "execute_result"
    }
   ],
   "source": [
    "df.isna().any()"
   ]
  },
  {
   "cell_type": "code",
   "execution_count": 148,
   "metadata": {},
   "outputs": [],
   "source": [
    "df.drop(columns = ['Unnamed: 2', 'Unnamed: 3', 'Unnamed: 4'], inplace = True)"
   ]
  },
  {
   "cell_type": "code",
   "execution_count": 149,
   "metadata": {},
   "outputs": [],
   "source": [
    "df.replace('Nan',np.nan, inplace = True)"
   ]
  },
  {
   "cell_type": "code",
   "execution_count": 150,
   "metadata": {},
   "outputs": [],
   "source": [
    "df.dropna(axis = 0, inplace = True)"
   ]
  },
  {
   "cell_type": "code",
   "execution_count": 151,
   "metadata": {},
   "outputs": [
    {
     "data": {
      "text/plain": [
       "Player_initial_last    False\n",
       "tournament id          False\n",
       "player id              False\n",
       "hole_par               False\n",
       "strokes                False\n",
       "hole_DKP               False\n",
       "hole_FDP               False\n",
       "hole_SDP               False\n",
       "streak_DKP             False\n",
       "streak_FDP             False\n",
       "streak_SDP             False\n",
       "n_rounds               False\n",
       "made_cut               False\n",
       "pos                    False\n",
       "finish_DKP             False\n",
       "finish_FDP             False\n",
       "finish_SDP             False\n",
       "total_DKP              False\n",
       "total_FDP              False\n",
       "total_SDP              False\n",
       "player                 False\n",
       "tournament name        False\n",
       "course                 False\n",
       "date                   False\n",
       "purse                  False\n",
       "season                 False\n",
       "no_cut                 False\n",
       "Finish                 False\n",
       "sg_putt                False\n",
       "sg_arg                 False\n",
       "sg_app                 False\n",
       "sg_ott                 False\n",
       "sg_t2g                 False\n",
       "sg_total               False\n",
       "dtype: bool"
      ]
     },
     "execution_count": 151,
     "metadata": {},
     "output_type": "execute_result"
    }
   ],
   "source": [
    "df.isna().any()"
   ]
  },
  {
   "cell_type": "code",
   "execution_count": 152,
   "metadata": {},
   "outputs": [],
   "source": [
    "df['purse'] = df['purse'].astype(int)"
   ]
  },
  {
   "cell_type": "code",
   "execution_count": 153,
   "metadata": {},
   "outputs": [
    {
     "data": {
      "text/html": [
       "<div>\n",
       "<style scoped>\n",
       "    .dataframe tbody tr th:only-of-type {\n",
       "        vertical-align: middle;\n",
       "    }\n",
       "\n",
       "    .dataframe tbody tr th {\n",
       "        vertical-align: top;\n",
       "    }\n",
       "\n",
       "    .dataframe thead th {\n",
       "        text-align: right;\n",
       "    }\n",
       "</style>\n",
       "<table border=\"1\" class=\"dataframe\">\n",
       "  <thead>\n",
       "    <tr style=\"text-align: right;\">\n",
       "      <th></th>\n",
       "      <th>Player_initial_last</th>\n",
       "      <th>tournament id</th>\n",
       "      <th>player id</th>\n",
       "      <th>hole_par</th>\n",
       "      <th>strokes</th>\n",
       "      <th>hole_DKP</th>\n",
       "      <th>hole_FDP</th>\n",
       "      <th>hole_SDP</th>\n",
       "      <th>streak_DKP</th>\n",
       "      <th>streak_FDP</th>\n",
       "      <th>...</th>\n",
       "      <th>purse</th>\n",
       "      <th>season</th>\n",
       "      <th>no_cut</th>\n",
       "      <th>Finish</th>\n",
       "      <th>sg_putt</th>\n",
       "      <th>sg_arg</th>\n",
       "      <th>sg_app</th>\n",
       "      <th>sg_ott</th>\n",
       "      <th>sg_t2g</th>\n",
       "      <th>sg_total</th>\n",
       "    </tr>\n",
       "  </thead>\n",
       "  <tbody>\n",
       "    <tr>\n",
       "      <th>0</th>\n",
       "      <td>A. Ancer</td>\n",
       "      <td>401353224</td>\n",
       "      <td>9261</td>\n",
       "      <td>288</td>\n",
       "      <td>289</td>\n",
       "      <td>60.0</td>\n",
       "      <td>51.1</td>\n",
       "      <td>56</td>\n",
       "      <td>3</td>\n",
       "      <td>7.6</td>\n",
       "      <td>...</td>\n",
       "      <td>12</td>\n",
       "      <td>2022</td>\n",
       "      <td>0</td>\n",
       "      <td>T32</td>\n",
       "      <td>0.20</td>\n",
       "      <td>-0.13</td>\n",
       "      <td>-0.08</td>\n",
       "      <td>0.86</td>\n",
       "      <td>0.65</td>\n",
       "      <td>0.85</td>\n",
       "    </tr>\n",
       "    <tr>\n",
       "      <th>1</th>\n",
       "      <td>A. Hadwin</td>\n",
       "      <td>401353224</td>\n",
       "      <td>5548</td>\n",
       "      <td>288</td>\n",
       "      <td>286</td>\n",
       "      <td>72.5</td>\n",
       "      <td>61.5</td>\n",
       "      <td>61</td>\n",
       "      <td>8</td>\n",
       "      <td>13.0</td>\n",
       "      <td>...</td>\n",
       "      <td>12</td>\n",
       "      <td>2022</td>\n",
       "      <td>0</td>\n",
       "      <td>T18</td>\n",
       "      <td>0.36</td>\n",
       "      <td>0.75</td>\n",
       "      <td>0.31</td>\n",
       "      <td>0.18</td>\n",
       "      <td>1.24</td>\n",
       "      <td>1.60</td>\n",
       "    </tr>\n",
       "    <tr>\n",
       "      <th>6</th>\n",
       "      <td>A. Rai</td>\n",
       "      <td>401353224</td>\n",
       "      <td>10906</td>\n",
       "      <td>288</td>\n",
       "      <td>287</td>\n",
       "      <td>63.0</td>\n",
       "      <td>55.7</td>\n",
       "      <td>58</td>\n",
       "      <td>3</td>\n",
       "      <td>7.2</td>\n",
       "      <td>...</td>\n",
       "      <td>12</td>\n",
       "      <td>2022</td>\n",
       "      <td>0</td>\n",
       "      <td>T26</td>\n",
       "      <td>2.05</td>\n",
       "      <td>0.74</td>\n",
       "      <td>-1.32</td>\n",
       "      <td>-0.12</td>\n",
       "      <td>-0.70</td>\n",
       "      <td>1.35</td>\n",
       "    </tr>\n",
       "    <tr>\n",
       "      <th>7</th>\n",
       "      <td>A. Schenk</td>\n",
       "      <td>401353224</td>\n",
       "      <td>10372</td>\n",
       "      <td>288</td>\n",
       "      <td>287</td>\n",
       "      <td>59.5</td>\n",
       "      <td>54.0</td>\n",
       "      <td>59</td>\n",
       "      <td>0</td>\n",
       "      <td>7.8</td>\n",
       "      <td>...</td>\n",
       "      <td>12</td>\n",
       "      <td>2022</td>\n",
       "      <td>0</td>\n",
       "      <td>T26</td>\n",
       "      <td>-0.96</td>\n",
       "      <td>-0.01</td>\n",
       "      <td>1.84</td>\n",
       "      <td>0.48</td>\n",
       "      <td>2.31</td>\n",
       "      <td>1.35</td>\n",
       "    </tr>\n",
       "    <tr>\n",
       "      <th>8</th>\n",
       "      <td>A. Scott</td>\n",
       "      <td>401353224</td>\n",
       "      <td>388</td>\n",
       "      <td>288</td>\n",
       "      <td>299</td>\n",
       "      <td>48.5</td>\n",
       "      <td>34.7</td>\n",
       "      <td>48</td>\n",
       "      <td>0</td>\n",
       "      <td>5.4</td>\n",
       "      <td>...</td>\n",
       "      <td>12</td>\n",
       "      <td>2022</td>\n",
       "      <td>0</td>\n",
       "      <td>T67</td>\n",
       "      <td>-0.82</td>\n",
       "      <td>-1.79</td>\n",
       "      <td>2.00</td>\n",
       "      <td>-1.04</td>\n",
       "      <td>-0.83</td>\n",
       "      <td>-1.65</td>\n",
       "    </tr>\n",
       "  </tbody>\n",
       "</table>\n",
       "<p>5 rows × 34 columns</p>\n",
       "</div>"
      ],
      "text/plain": [
       "  Player_initial_last  tournament id  player id  hole_par  strokes  hole_DKP  \\\n",
       "0            A. Ancer      401353224       9261       288      289      60.0   \n",
       "1           A. Hadwin      401353224       5548       288      286      72.5   \n",
       "6              A. Rai      401353224      10906       288      287      63.0   \n",
       "7           A. Schenk      401353224      10372       288      287      59.5   \n",
       "8            A. Scott      401353224        388       288      299      48.5   \n",
       "\n",
       "   hole_FDP  hole_SDP  streak_DKP  streak_FDP  ...  purse  season  no_cut  \\\n",
       "0      51.1        56           3         7.6  ...     12    2022       0   \n",
       "1      61.5        61           8        13.0  ...     12    2022       0   \n",
       "6      55.7        58           3         7.2  ...     12    2022       0   \n",
       "7      54.0        59           0         7.8  ...     12    2022       0   \n",
       "8      34.7        48           0         5.4  ...     12    2022       0   \n",
       "\n",
       "   Finish  sg_putt  sg_arg  sg_app  sg_ott  sg_t2g  sg_total  \n",
       "0     T32     0.20   -0.13   -0.08    0.86    0.65      0.85  \n",
       "1     T18     0.36    0.75    0.31    0.18    1.24      1.60  \n",
       "6     T26     2.05    0.74   -1.32   -0.12   -0.70      1.35  \n",
       "7     T26    -0.96   -0.01    1.84    0.48    2.31      1.35  \n",
       "8     T67    -0.82   -1.79    2.00   -1.04   -0.83     -1.65  \n",
       "\n",
       "[5 rows x 34 columns]"
      ]
     },
     "execution_count": 153,
     "metadata": {},
     "output_type": "execute_result"
    }
   ],
   "source": [
    "df.head()"
   ]
  },
  {
   "cell_type": "code",
   "execution_count": 154,
   "metadata": {},
   "outputs": [
    {
     "data": {
      "text/plain": [
       "Player_initial_last    16291\n",
       "tournament id          16291\n",
       "player id              16291\n",
       "hole_par               16291\n",
       "strokes                16291\n",
       "hole_DKP               16291\n",
       "hole_FDP               16291\n",
       "hole_SDP               16291\n",
       "streak_DKP             16291\n",
       "streak_FDP             16291\n",
       "streak_SDP             16291\n",
       "n_rounds               16291\n",
       "made_cut               16291\n",
       "pos                    16291\n",
       "finish_DKP             16291\n",
       "finish_FDP             16291\n",
       "finish_SDP             16291\n",
       "total_DKP              16291\n",
       "total_FDP              16291\n",
       "total_SDP              16291\n",
       "player                 16291\n",
       "tournament name        16291\n",
       "course                 16291\n",
       "date                   16291\n",
       "purse                  16291\n",
       "season                 16291\n",
       "no_cut                 16291\n",
       "Finish                 16291\n",
       "sg_putt                16291\n",
       "sg_arg                 16291\n",
       "sg_app                 16291\n",
       "sg_ott                 16291\n",
       "sg_t2g                 16291\n",
       "sg_total               16291\n",
       "dtype: int64"
      ]
     },
     "execution_count": 154,
     "metadata": {},
     "output_type": "execute_result"
    }
   ],
   "source": [
    "df.count()"
   ]
  },
  {
   "cell_type": "code",
   "execution_count": 155,
   "metadata": {},
   "outputs": [],
   "source": [
    "season_2022_df = df[df['season'] == 2022]"
   ]
  },
  {
   "cell_type": "code",
   "execution_count": 156,
   "metadata": {},
   "outputs": [
    {
     "data": {
      "text/html": [
       "<div>\n",
       "<style scoped>\n",
       "    .dataframe tbody tr th:only-of-type {\n",
       "        vertical-align: middle;\n",
       "    }\n",
       "\n",
       "    .dataframe tbody tr th {\n",
       "        vertical-align: top;\n",
       "    }\n",
       "\n",
       "    .dataframe thead th {\n",
       "        text-align: right;\n",
       "    }\n",
       "</style>\n",
       "<table border=\"1\" class=\"dataframe\">\n",
       "  <thead>\n",
       "    <tr style=\"text-align: right;\">\n",
       "      <th></th>\n",
       "      <th>Player_initial_last</th>\n",
       "      <th>tournament id</th>\n",
       "      <th>player id</th>\n",
       "      <th>hole_par</th>\n",
       "      <th>strokes</th>\n",
       "      <th>hole_DKP</th>\n",
       "      <th>hole_FDP</th>\n",
       "      <th>hole_SDP</th>\n",
       "      <th>streak_DKP</th>\n",
       "      <th>streak_FDP</th>\n",
       "      <th>...</th>\n",
       "      <th>purse</th>\n",
       "      <th>season</th>\n",
       "      <th>no_cut</th>\n",
       "      <th>Finish</th>\n",
       "      <th>sg_putt</th>\n",
       "      <th>sg_arg</th>\n",
       "      <th>sg_app</th>\n",
       "      <th>sg_ott</th>\n",
       "      <th>sg_t2g</th>\n",
       "      <th>sg_total</th>\n",
       "    </tr>\n",
       "  </thead>\n",
       "  <tbody>\n",
       "    <tr>\n",
       "      <th>0</th>\n",
       "      <td>A. Ancer</td>\n",
       "      <td>401353224</td>\n",
       "      <td>9261</td>\n",
       "      <td>288</td>\n",
       "      <td>289</td>\n",
       "      <td>60.0</td>\n",
       "      <td>51.1</td>\n",
       "      <td>56</td>\n",
       "      <td>3</td>\n",
       "      <td>7.6</td>\n",
       "      <td>...</td>\n",
       "      <td>12</td>\n",
       "      <td>2022</td>\n",
       "      <td>0</td>\n",
       "      <td>T32</td>\n",
       "      <td>0.20</td>\n",
       "      <td>-0.13</td>\n",
       "      <td>-0.08</td>\n",
       "      <td>0.86</td>\n",
       "      <td>0.65</td>\n",
       "      <td>0.85</td>\n",
       "    </tr>\n",
       "    <tr>\n",
       "      <th>1</th>\n",
       "      <td>A. Hadwin</td>\n",
       "      <td>401353224</td>\n",
       "      <td>5548</td>\n",
       "      <td>288</td>\n",
       "      <td>286</td>\n",
       "      <td>72.5</td>\n",
       "      <td>61.5</td>\n",
       "      <td>61</td>\n",
       "      <td>8</td>\n",
       "      <td>13.0</td>\n",
       "      <td>...</td>\n",
       "      <td>12</td>\n",
       "      <td>2022</td>\n",
       "      <td>0</td>\n",
       "      <td>T18</td>\n",
       "      <td>0.36</td>\n",
       "      <td>0.75</td>\n",
       "      <td>0.31</td>\n",
       "      <td>0.18</td>\n",
       "      <td>1.24</td>\n",
       "      <td>1.60</td>\n",
       "    </tr>\n",
       "    <tr>\n",
       "      <th>6</th>\n",
       "      <td>A. Rai</td>\n",
       "      <td>401353224</td>\n",
       "      <td>10906</td>\n",
       "      <td>288</td>\n",
       "      <td>287</td>\n",
       "      <td>63.0</td>\n",
       "      <td>55.7</td>\n",
       "      <td>58</td>\n",
       "      <td>3</td>\n",
       "      <td>7.2</td>\n",
       "      <td>...</td>\n",
       "      <td>12</td>\n",
       "      <td>2022</td>\n",
       "      <td>0</td>\n",
       "      <td>T26</td>\n",
       "      <td>2.05</td>\n",
       "      <td>0.74</td>\n",
       "      <td>-1.32</td>\n",
       "      <td>-0.12</td>\n",
       "      <td>-0.70</td>\n",
       "      <td>1.35</td>\n",
       "    </tr>\n",
       "    <tr>\n",
       "      <th>7</th>\n",
       "      <td>A. Schenk</td>\n",
       "      <td>401353224</td>\n",
       "      <td>10372</td>\n",
       "      <td>288</td>\n",
       "      <td>287</td>\n",
       "      <td>59.5</td>\n",
       "      <td>54.0</td>\n",
       "      <td>59</td>\n",
       "      <td>0</td>\n",
       "      <td>7.8</td>\n",
       "      <td>...</td>\n",
       "      <td>12</td>\n",
       "      <td>2022</td>\n",
       "      <td>0</td>\n",
       "      <td>T26</td>\n",
       "      <td>-0.96</td>\n",
       "      <td>-0.01</td>\n",
       "      <td>1.84</td>\n",
       "      <td>0.48</td>\n",
       "      <td>2.31</td>\n",
       "      <td>1.35</td>\n",
       "    </tr>\n",
       "    <tr>\n",
       "      <th>8</th>\n",
       "      <td>A. Scott</td>\n",
       "      <td>401353224</td>\n",
       "      <td>388</td>\n",
       "      <td>288</td>\n",
       "      <td>299</td>\n",
       "      <td>48.5</td>\n",
       "      <td>34.7</td>\n",
       "      <td>48</td>\n",
       "      <td>0</td>\n",
       "      <td>5.4</td>\n",
       "      <td>...</td>\n",
       "      <td>12</td>\n",
       "      <td>2022</td>\n",
       "      <td>0</td>\n",
       "      <td>T67</td>\n",
       "      <td>-0.82</td>\n",
       "      <td>-1.79</td>\n",
       "      <td>2.00</td>\n",
       "      <td>-1.04</td>\n",
       "      <td>-0.83</td>\n",
       "      <td>-1.65</td>\n",
       "    </tr>\n",
       "  </tbody>\n",
       "</table>\n",
       "<p>5 rows × 34 columns</p>\n",
       "</div>"
      ],
      "text/plain": [
       "  Player_initial_last  tournament id  player id  hole_par  strokes  hole_DKP  \\\n",
       "0            A. Ancer      401353224       9261       288      289      60.0   \n",
       "1           A. Hadwin      401353224       5548       288      286      72.5   \n",
       "6              A. Rai      401353224      10906       288      287      63.0   \n",
       "7           A. Schenk      401353224      10372       288      287      59.5   \n",
       "8            A. Scott      401353224        388       288      299      48.5   \n",
       "\n",
       "   hole_FDP  hole_SDP  streak_DKP  streak_FDP  ...  purse  season  no_cut  \\\n",
       "0      51.1        56           3         7.6  ...     12    2022       0   \n",
       "1      61.5        61           8        13.0  ...     12    2022       0   \n",
       "6      55.7        58           3         7.2  ...     12    2022       0   \n",
       "7      54.0        59           0         7.8  ...     12    2022       0   \n",
       "8      34.7        48           0         5.4  ...     12    2022       0   \n",
       "\n",
       "   Finish  sg_putt  sg_arg  sg_app  sg_ott  sg_t2g  sg_total  \n",
       "0     T32     0.20   -0.13   -0.08    0.86    0.65      0.85  \n",
       "1     T18     0.36    0.75    0.31    0.18    1.24      1.60  \n",
       "6     T26     2.05    0.74   -1.32   -0.12   -0.70      1.35  \n",
       "7     T26    -0.96   -0.01    1.84    0.48    2.31      1.35  \n",
       "8     T67    -0.82   -1.79    2.00   -1.04   -0.83     -1.65  \n",
       "\n",
       "[5 rows x 34 columns]"
      ]
     },
     "execution_count": 156,
     "metadata": {},
     "output_type": "execute_result"
    }
   ],
   "source": [
    "season_2022_df.head()"
   ]
  },
  {
   "cell_type": "code",
   "execution_count": 157,
   "metadata": {},
   "outputs": [
    {
     "data": {
      "text/plain": [
       "Player_initial_last    1682\n",
       "tournament id          1682\n",
       "player id              1682\n",
       "hole_par               1682\n",
       "strokes                1682\n",
       "hole_DKP               1682\n",
       "hole_FDP               1682\n",
       "hole_SDP               1682\n",
       "streak_DKP             1682\n",
       "streak_FDP             1682\n",
       "streak_SDP             1682\n",
       "n_rounds               1682\n",
       "made_cut               1682\n",
       "pos                    1682\n",
       "finish_DKP             1682\n",
       "finish_FDP             1682\n",
       "finish_SDP             1682\n",
       "total_DKP              1682\n",
       "total_FDP              1682\n",
       "total_SDP              1682\n",
       "player                 1682\n",
       "tournament name        1682\n",
       "course                 1682\n",
       "date                   1682\n",
       "purse                  1682\n",
       "season                 1682\n",
       "no_cut                 1682\n",
       "Finish                 1682\n",
       "sg_putt                1682\n",
       "sg_arg                 1682\n",
       "sg_app                 1682\n",
       "sg_ott                 1682\n",
       "sg_t2g                 1682\n",
       "sg_total               1682\n",
       "dtype: int64"
      ]
     },
     "execution_count": 157,
     "metadata": {},
     "output_type": "execute_result"
    }
   ],
   "source": [
    "season_2022_df.count()"
   ]
  },
  {
   "cell_type": "code",
   "execution_count": 193,
   "metadata": {},
   "outputs": [],
   "source": [
    "specific_values = ['PGA Championship', 'Mexico Open']\n",
    "\n",
    "tour_3_df = season_2022_df[season_2022_df['tournament name'].isin(specific_values)]"
   ]
  },
  {
   "cell_type": "code",
   "execution_count": 194,
   "metadata": {},
   "outputs": [],
   "source": [
    "fig = px.scatter(tour_3_df, x='player', y='strokes', color='pos', facet_col='tournament name')"
   ]
  },
  {
   "cell_type": "code",
   "execution_count": 195,
   "metadata": {},
   "outputs": [
    {
     "data": {
      "application/vnd.plotly.v1+json": {
       "config": {
        "plotlyServerURL": "https://plot.ly"
       },
       "data": [
        {
         "hovertemplate": "tournament name=PGA Championship<br>player=%{x}<br>strokes=%{y}<br>pos=%{marker.color}<extra></extra>",
         "legendgroup": "",
         "marker": {
          "color": [
           9,
           71,
           41,
           23,
           34,
           68,
           69,
           55,
           9,
           30,
           30,
           48,
           5,
           55,
           60,
           13,
           41,
           3,
           48,
           13,
           55,
           34,
           60,
           48,
           55,
           71,
           60,
           23,
           48,
           13,
           34,
           1,
           48,
           69,
           41,
           34,
           23,
           41,
           23,
           60,
           13,
           41,
           60,
           5,
           13,
           34,
           34,
           75,
           3,
           75,
           34,
           23,
           54,
           60,
           60,
           20,
           23,
           60,
           23,
           55,
           71,
           9,
           78,
           30,
           5,
           20,
           13,
           9,
           41,
           71,
           41,
           20,
           2,
           13
          ],
          "coloraxis": "coloraxis",
          "symbol": "circle"
         },
         "mode": "markers",
         "name": "",
         "orientation": "v",
         "showlegend": false,
         "type": "scatter",
         "x": [
          "Abraham Ancer",
          "Adam Hadwin",
          "Adam Schenk",
          "Aaron Wise",
          "Brian Harman",
          "Billy Horschel",
          "Beau Hossler",
          "Brooks Koepka",
          "Brendan Steele",
          "Bubba Watson",
          "Bernd Wiesberger",
          "Cameron Davis",
          "Chris Kirk",
          "Collin Morikawa",
          "Charl Schwartzel",
          "Cameron Smith",
          "Cameron Tringale",
          "Cameron Young",
          "Denny McCarthy",
          "Davis Riley",
          "Francesco Molinari",
          "Gary Woodland",
          "Hideki Matsuyama",
          "Harold Varner III",
          "Jason Day",
          "Justin Harding",
          "Jason Kokrak",
          "Joaquin Niemann",
          "Jon Rahm",
          "Justin Rose",
          "Jordan Spieth",
          "Justin Thomas",
          "Keegan Bradley",
          "Kramer Hickok",
          "Kyoung-Hoon Lee",
          "Keith Mitchell",
          "Kevin Na",
          "Kevin Streelman",
          "Lucas Glover",
          "Lanto Griffin",
          "Lucas Herbert",
          "Luke List",
          "Louis Oosthuizen",
          "Matthew Fitzpatrick",
          "Max Homa",
          "Matt Kuchar",
          "Marc Leishman",
          "Maverick McNealy",
          "Mito Pereira",
          "Patton Kizzire",
          "Patrick Reed",
          "Rickie Fowler",
          "Ryan Fox",
          "Russell Henley",
          "Rikuya Hoshino",
          "Sam Burns",
          "Stewart Cink",
          "Si Woo Kim",
          "Shane Lowry",
          "Sebastian Munoz",
          "Shaun Norris",
          "Seamus Power",
          "Sepp Straka",
          "Tony Finau",
          "Tommy Fleetwood",
          "Talor Gooch",
          "Tyrrell Hatton",
          "Tom Hoge",
          "Troy Merritt",
          "Thomas Pieters",
          "Viktor Hovland",
          "Webb Simpson",
          "Will Zalatoris",
          "Xander Schauffele"
         ],
         "xaxis": "x",
         "y": [
          279,
          292,
          285,
          282,
          284,
          290,
          291,
          288,
          279,
          283,
          283,
          286,
          277,
          288,
          289,
          280,
          285,
          276,
          286,
          280,
          288,
          284,
          289,
          286,
          288,
          292,
          289,
          282,
          286,
          280,
          284,
          275,
          286,
          291,
          285,
          284,
          282,
          285,
          282,
          289,
          280,
          285,
          289,
          277,
          280,
          284,
          284,
          295,
          276,
          295,
          284,
          282,
          287,
          289,
          289,
          281,
          282,
          289,
          282,
          288,
          292,
          279,
          298,
          283,
          277,
          281,
          280,
          279,
          285,
          292,
          285,
          281,
          275,
          280
         ],
         "yaxis": "y"
        },
        {
         "hovertemplate": "tournament name=Mexico Open<br>player=%{x}<br>strokes=%{y}<br>pos=%{marker.color}<extra></extra>",
         "legendgroup": "",
         "marker": {
          "color": [
           42,
           15,
           15,
           42,
           24,
           6,
           6,
           33,
           59,
           42,
           72,
           42,
           64,
           2,
           6,
           33,
           51,
           29,
           13,
           33,
           33,
           6,
           67,
           5,
           33,
           13,
           33,
           24,
           61,
           29,
           15,
           42,
           1,
           61,
           2,
           15,
           42,
           67,
           15,
           51,
           24,
           51,
           59,
           11,
           67,
           11,
           15,
           66,
           42,
           10,
           29,
           42,
           51,
           15,
           51,
           15,
           29,
           33,
           24,
           2,
           51,
           24,
           33,
           67
          ],
          "coloraxis": "coloraxis",
          "symbol": "circle"
         },
         "mode": "markers",
         "name": "",
         "orientation": "v",
         "showlegend": false,
         "type": "scatter",
         "x": [
          "Abraham Ancer",
          "Anirban Lahiri",
          "Adam Long",
          "Alvaro Ortiz",
          "Aaron Rai",
          "Alex Smalley",
          "Aaron Wise",
          "Brice Garnett",
          "Bill Haas",
          "Brandon Hagy",
          "Bryson Nimmer",
          "Brian Stuard",
          "Brendon Todd",
          "Brandon Wu",
          "Cameron Champ",
          "Charles Howell III",
          "Carlos Ortiz",
          "C.T. Pan",
          "Chez Reavie",
          "Cameron Tringale",
          "Doug Ghim",
          "David Lipsky",
          "D.A. Points",
          "Davis Riley",
          "Emiliano Grillo",
          "Grayson Murray",
          "Greyson Sigg",
          "Gary Woodland",
          "Hayden Buckley",
          "Hank Lebioda",
          "Jonathan Byrd",
          "John Huh",
          "Jon Rahm",
          "Kiradech Aphibarnrat",
          "Kurt Kitayama",
          "Kelly Kraft",
          "Kevin Na",
          "Kevin Streelman",
          "Lanto Griffin",
          "Lee Hodges",
          "Michael Gligic",
          "Mark Hubbard",
          "Matt Jones",
          "Martin Trainer",
          "Matt Wallace",
          "Nate Lashley",
          "Peter Malnati",
          "Pat Perez",
          "Patrick Reed",
          "Patrick Rodgers",
          "Ryan Blaum",
          "Robert Garrigus",
          "Scott Brown",
          "Stephan Jaeger",
          "Sung Kang",
          "Satoshi Kodaira",
          "Sebastian Munoz",
          "Scott Piercy",
          "Sahith Theegala",
          "Tony Finau",
          "Tommy Gainey",
          "Trey Mullinax",
          "Wesley Bryan",
          "Wyndham Clark"
         ],
         "xaxis": "x2",
         "y": [
          278,
          274,
          274,
          278,
          275,
          270,
          270,
          277,
          280,
          278,
          285,
          278,
          282,
          268,
          270,
          277,
          279,
          276,
          273,
          277,
          277,
          270,
          284,
          269,
          277,
          273,
          277,
          275,
          281,
          276,
          274,
          278,
          267,
          281,
          268,
          274,
          278,
          284,
          274,
          279,
          275,
          279,
          280,
          272,
          284,
          272,
          274,
          283,
          278,
          271,
          276,
          278,
          279,
          274,
          279,
          274,
          276,
          277,
          275,
          268,
          279,
          275,
          277,
          284
         ],
         "yaxis": "y2"
        }
       ],
       "layout": {
        "annotations": [
         {
          "font": {},
          "showarrow": false,
          "text": "tournament name=PGA Championship",
          "x": 0.245,
          "xanchor": "center",
          "xref": "paper",
          "y": 1,
          "yanchor": "bottom",
          "yref": "paper"
         },
         {
          "font": {},
          "showarrow": false,
          "text": "tournament name=Mexico Open",
          "x": 0.755,
          "xanchor": "center",
          "xref": "paper",
          "y": 1,
          "yanchor": "bottom",
          "yref": "paper"
         }
        ],
        "coloraxis": {
         "colorbar": {
          "title": {
           "text": "pos"
          }
         },
         "colorscale": [
          [
           0,
           "#0d0887"
          ],
          [
           0.1111111111111111,
           "#46039f"
          ],
          [
           0.2222222222222222,
           "#7201a8"
          ],
          [
           0.3333333333333333,
           "#9c179e"
          ],
          [
           0.4444444444444444,
           "#bd3786"
          ],
          [
           0.5555555555555556,
           "#d8576b"
          ],
          [
           0.6666666666666666,
           "#ed7953"
          ],
          [
           0.7777777777777778,
           "#fb9f3a"
          ],
          [
           0.8888888888888888,
           "#fdca26"
          ],
          [
           1,
           "#f0f921"
          ]
         ]
        },
        "legend": {
         "tracegroupgap": 0
        },
        "margin": {
         "t": 60
        },
        "template": {
         "data": {
          "bar": [
           {
            "error_x": {
             "color": "#f2f5fa"
            },
            "error_y": {
             "color": "#f2f5fa"
            },
            "marker": {
             "line": {
              "color": "rgb(17,17,17)",
              "width": 0.5
             },
             "pattern": {
              "fillmode": "overlay",
              "size": 10,
              "solidity": 0.2
             }
            },
            "type": "bar"
           }
          ],
          "barpolar": [
           {
            "marker": {
             "line": {
              "color": "rgb(17,17,17)",
              "width": 0.5
             },
             "pattern": {
              "fillmode": "overlay",
              "size": 10,
              "solidity": 0.2
             }
            },
            "type": "barpolar"
           }
          ],
          "carpet": [
           {
            "aaxis": {
             "endlinecolor": "#A2B1C6",
             "gridcolor": "#506784",
             "linecolor": "#506784",
             "minorgridcolor": "#506784",
             "startlinecolor": "#A2B1C6"
            },
            "baxis": {
             "endlinecolor": "#A2B1C6",
             "gridcolor": "#506784",
             "linecolor": "#506784",
             "minorgridcolor": "#506784",
             "startlinecolor": "#A2B1C6"
            },
            "type": "carpet"
           }
          ],
          "choropleth": [
           {
            "colorbar": {
             "outlinewidth": 0,
             "ticks": ""
            },
            "type": "choropleth"
           }
          ],
          "contour": [
           {
            "colorbar": {
             "outlinewidth": 0,
             "ticks": ""
            },
            "colorscale": [
             [
              0,
              "#0d0887"
             ],
             [
              0.1111111111111111,
              "#46039f"
             ],
             [
              0.2222222222222222,
              "#7201a8"
             ],
             [
              0.3333333333333333,
              "#9c179e"
             ],
             [
              0.4444444444444444,
              "#bd3786"
             ],
             [
              0.5555555555555556,
              "#d8576b"
             ],
             [
              0.6666666666666666,
              "#ed7953"
             ],
             [
              0.7777777777777778,
              "#fb9f3a"
             ],
             [
              0.8888888888888888,
              "#fdca26"
             ],
             [
              1,
              "#f0f921"
             ]
            ],
            "type": "contour"
           }
          ],
          "contourcarpet": [
           {
            "colorbar": {
             "outlinewidth": 0,
             "ticks": ""
            },
            "type": "contourcarpet"
           }
          ],
          "heatmap": [
           {
            "colorbar": {
             "outlinewidth": 0,
             "ticks": ""
            },
            "colorscale": [
             [
              0,
              "#0d0887"
             ],
             [
              0.1111111111111111,
              "#46039f"
             ],
             [
              0.2222222222222222,
              "#7201a8"
             ],
             [
              0.3333333333333333,
              "#9c179e"
             ],
             [
              0.4444444444444444,
              "#bd3786"
             ],
             [
              0.5555555555555556,
              "#d8576b"
             ],
             [
              0.6666666666666666,
              "#ed7953"
             ],
             [
              0.7777777777777778,
              "#fb9f3a"
             ],
             [
              0.8888888888888888,
              "#fdca26"
             ],
             [
              1,
              "#f0f921"
             ]
            ],
            "type": "heatmap"
           }
          ],
          "heatmapgl": [
           {
            "colorbar": {
             "outlinewidth": 0,
             "ticks": ""
            },
            "colorscale": [
             [
              0,
              "#0d0887"
             ],
             [
              0.1111111111111111,
              "#46039f"
             ],
             [
              0.2222222222222222,
              "#7201a8"
             ],
             [
              0.3333333333333333,
              "#9c179e"
             ],
             [
              0.4444444444444444,
              "#bd3786"
             ],
             [
              0.5555555555555556,
              "#d8576b"
             ],
             [
              0.6666666666666666,
              "#ed7953"
             ],
             [
              0.7777777777777778,
              "#fb9f3a"
             ],
             [
              0.8888888888888888,
              "#fdca26"
             ],
             [
              1,
              "#f0f921"
             ]
            ],
            "type": "heatmapgl"
           }
          ],
          "histogram": [
           {
            "marker": {
             "pattern": {
              "fillmode": "overlay",
              "size": 10,
              "solidity": 0.2
             }
            },
            "type": "histogram"
           }
          ],
          "histogram2d": [
           {
            "colorbar": {
             "outlinewidth": 0,
             "ticks": ""
            },
            "colorscale": [
             [
              0,
              "#0d0887"
             ],
             [
              0.1111111111111111,
              "#46039f"
             ],
             [
              0.2222222222222222,
              "#7201a8"
             ],
             [
              0.3333333333333333,
              "#9c179e"
             ],
             [
              0.4444444444444444,
              "#bd3786"
             ],
             [
              0.5555555555555556,
              "#d8576b"
             ],
             [
              0.6666666666666666,
              "#ed7953"
             ],
             [
              0.7777777777777778,
              "#fb9f3a"
             ],
             [
              0.8888888888888888,
              "#fdca26"
             ],
             [
              1,
              "#f0f921"
             ]
            ],
            "type": "histogram2d"
           }
          ],
          "histogram2dcontour": [
           {
            "colorbar": {
             "outlinewidth": 0,
             "ticks": ""
            },
            "colorscale": [
             [
              0,
              "#0d0887"
             ],
             [
              0.1111111111111111,
              "#46039f"
             ],
             [
              0.2222222222222222,
              "#7201a8"
             ],
             [
              0.3333333333333333,
              "#9c179e"
             ],
             [
              0.4444444444444444,
              "#bd3786"
             ],
             [
              0.5555555555555556,
              "#d8576b"
             ],
             [
              0.6666666666666666,
              "#ed7953"
             ],
             [
              0.7777777777777778,
              "#fb9f3a"
             ],
             [
              0.8888888888888888,
              "#fdca26"
             ],
             [
              1,
              "#f0f921"
             ]
            ],
            "type": "histogram2dcontour"
           }
          ],
          "mesh3d": [
           {
            "colorbar": {
             "outlinewidth": 0,
             "ticks": ""
            },
            "type": "mesh3d"
           }
          ],
          "parcoords": [
           {
            "line": {
             "colorbar": {
              "outlinewidth": 0,
              "ticks": ""
             }
            },
            "type": "parcoords"
           }
          ],
          "pie": [
           {
            "automargin": true,
            "type": "pie"
           }
          ],
          "scatter": [
           {
            "marker": {
             "line": {
              "color": "#283442"
             }
            },
            "type": "scatter"
           }
          ],
          "scatter3d": [
           {
            "line": {
             "colorbar": {
              "outlinewidth": 0,
              "ticks": ""
             }
            },
            "marker": {
             "colorbar": {
              "outlinewidth": 0,
              "ticks": ""
             }
            },
            "type": "scatter3d"
           }
          ],
          "scattercarpet": [
           {
            "marker": {
             "colorbar": {
              "outlinewidth": 0,
              "ticks": ""
             }
            },
            "type": "scattercarpet"
           }
          ],
          "scattergeo": [
           {
            "marker": {
             "colorbar": {
              "outlinewidth": 0,
              "ticks": ""
             }
            },
            "type": "scattergeo"
           }
          ],
          "scattergl": [
           {
            "marker": {
             "line": {
              "color": "#283442"
             }
            },
            "type": "scattergl"
           }
          ],
          "scattermapbox": [
           {
            "marker": {
             "colorbar": {
              "outlinewidth": 0,
              "ticks": ""
             }
            },
            "type": "scattermapbox"
           }
          ],
          "scatterpolar": [
           {
            "marker": {
             "colorbar": {
              "outlinewidth": 0,
              "ticks": ""
             }
            },
            "type": "scatterpolar"
           }
          ],
          "scatterpolargl": [
           {
            "marker": {
             "colorbar": {
              "outlinewidth": 0,
              "ticks": ""
             }
            },
            "type": "scatterpolargl"
           }
          ],
          "scatterternary": [
           {
            "marker": {
             "colorbar": {
              "outlinewidth": 0,
              "ticks": ""
             }
            },
            "type": "scatterternary"
           }
          ],
          "surface": [
           {
            "colorbar": {
             "outlinewidth": 0,
             "ticks": ""
            },
            "colorscale": [
             [
              0,
              "#0d0887"
             ],
             [
              0.1111111111111111,
              "#46039f"
             ],
             [
              0.2222222222222222,
              "#7201a8"
             ],
             [
              0.3333333333333333,
              "#9c179e"
             ],
             [
              0.4444444444444444,
              "#bd3786"
             ],
             [
              0.5555555555555556,
              "#d8576b"
             ],
             [
              0.6666666666666666,
              "#ed7953"
             ],
             [
              0.7777777777777778,
              "#fb9f3a"
             ],
             [
              0.8888888888888888,
              "#fdca26"
             ],
             [
              1,
              "#f0f921"
             ]
            ],
            "type": "surface"
           }
          ],
          "table": [
           {
            "cells": {
             "fill": {
              "color": "#506784"
             },
             "line": {
              "color": "rgb(17,17,17)"
             }
            },
            "header": {
             "fill": {
              "color": "#2a3f5f"
             },
             "line": {
              "color": "rgb(17,17,17)"
             }
            },
            "type": "table"
           }
          ]
         },
         "layout": {
          "annotationdefaults": {
           "arrowcolor": "#f2f5fa",
           "arrowhead": 0,
           "arrowwidth": 1
          },
          "autotypenumbers": "strict",
          "coloraxis": {
           "colorbar": {
            "outlinewidth": 0,
            "ticks": ""
           }
          },
          "colorscale": {
           "diverging": [
            [
             0,
             "#8e0152"
            ],
            [
             0.1,
             "#c51b7d"
            ],
            [
             0.2,
             "#de77ae"
            ],
            [
             0.3,
             "#f1b6da"
            ],
            [
             0.4,
             "#fde0ef"
            ],
            [
             0.5,
             "#f7f7f7"
            ],
            [
             0.6,
             "#e6f5d0"
            ],
            [
             0.7,
             "#b8e186"
            ],
            [
             0.8,
             "#7fbc41"
            ],
            [
             0.9,
             "#4d9221"
            ],
            [
             1,
             "#276419"
            ]
           ],
           "sequential": [
            [
             0,
             "#0d0887"
            ],
            [
             0.1111111111111111,
             "#46039f"
            ],
            [
             0.2222222222222222,
             "#7201a8"
            ],
            [
             0.3333333333333333,
             "#9c179e"
            ],
            [
             0.4444444444444444,
             "#bd3786"
            ],
            [
             0.5555555555555556,
             "#d8576b"
            ],
            [
             0.6666666666666666,
             "#ed7953"
            ],
            [
             0.7777777777777778,
             "#fb9f3a"
            ],
            [
             0.8888888888888888,
             "#fdca26"
            ],
            [
             1,
             "#f0f921"
            ]
           ],
           "sequentialminus": [
            [
             0,
             "#0d0887"
            ],
            [
             0.1111111111111111,
             "#46039f"
            ],
            [
             0.2222222222222222,
             "#7201a8"
            ],
            [
             0.3333333333333333,
             "#9c179e"
            ],
            [
             0.4444444444444444,
             "#bd3786"
            ],
            [
             0.5555555555555556,
             "#d8576b"
            ],
            [
             0.6666666666666666,
             "#ed7953"
            ],
            [
             0.7777777777777778,
             "#fb9f3a"
            ],
            [
             0.8888888888888888,
             "#fdca26"
            ],
            [
             1,
             "#f0f921"
            ]
           ]
          },
          "colorway": [
           "#636efa",
           "#EF553B",
           "#00cc96",
           "#ab63fa",
           "#FFA15A",
           "#19d3f3",
           "#FF6692",
           "#B6E880",
           "#FF97FF",
           "#FECB52"
          ],
          "font": {
           "color": "#f2f5fa"
          },
          "geo": {
           "bgcolor": "rgb(17,17,17)",
           "lakecolor": "rgb(17,17,17)",
           "landcolor": "rgb(17,17,17)",
           "showlakes": true,
           "showland": true,
           "subunitcolor": "#506784"
          },
          "hoverlabel": {
           "align": "left"
          },
          "hovermode": "closest",
          "mapbox": {
           "style": "dark"
          },
          "paper_bgcolor": "rgb(17,17,17)",
          "plot_bgcolor": "rgb(17,17,17)",
          "polar": {
           "angularaxis": {
            "gridcolor": "#506784",
            "linecolor": "#506784",
            "ticks": ""
           },
           "bgcolor": "rgb(17,17,17)",
           "radialaxis": {
            "gridcolor": "#506784",
            "linecolor": "#506784",
            "ticks": ""
           }
          },
          "scene": {
           "xaxis": {
            "backgroundcolor": "rgb(17,17,17)",
            "gridcolor": "#506784",
            "gridwidth": 2,
            "linecolor": "#506784",
            "showbackground": true,
            "ticks": "",
            "zerolinecolor": "#C8D4E3"
           },
           "yaxis": {
            "backgroundcolor": "rgb(17,17,17)",
            "gridcolor": "#506784",
            "gridwidth": 2,
            "linecolor": "#506784",
            "showbackground": true,
            "ticks": "",
            "zerolinecolor": "#C8D4E3"
           },
           "zaxis": {
            "backgroundcolor": "rgb(17,17,17)",
            "gridcolor": "#506784",
            "gridwidth": 2,
            "linecolor": "#506784",
            "showbackground": true,
            "ticks": "",
            "zerolinecolor": "#C8D4E3"
           }
          },
          "shapedefaults": {
           "line": {
            "color": "#f2f5fa"
           }
          },
          "sliderdefaults": {
           "bgcolor": "#C8D4E3",
           "bordercolor": "rgb(17,17,17)",
           "borderwidth": 1,
           "tickwidth": 0
          },
          "ternary": {
           "aaxis": {
            "gridcolor": "#506784",
            "linecolor": "#506784",
            "ticks": ""
           },
           "baxis": {
            "gridcolor": "#506784",
            "linecolor": "#506784",
            "ticks": ""
           },
           "bgcolor": "rgb(17,17,17)",
           "caxis": {
            "gridcolor": "#506784",
            "linecolor": "#506784",
            "ticks": ""
           }
          },
          "title": {
           "x": 0.05
          },
          "updatemenudefaults": {
           "bgcolor": "#506784",
           "borderwidth": 0
          },
          "xaxis": {
           "automargin": true,
           "gridcolor": "#283442",
           "linecolor": "#506784",
           "ticks": "",
           "title": {
            "standoff": 15
           },
           "zerolinecolor": "#283442",
           "zerolinewidth": 2
          },
          "yaxis": {
           "automargin": true,
           "gridcolor": "#283442",
           "linecolor": "#506784",
           "ticks": "",
           "title": {
            "standoff": 15
           },
           "zerolinecolor": "#283442",
           "zerolinewidth": 2
          }
         }
        },
        "xaxis": {
         "anchor": "y",
         "domain": [
          0,
          0.49
         ],
         "title": {
          "text": "player"
         },
         "visible": false
        },
        "xaxis2": {
         "anchor": "y2",
         "domain": [
          0.51,
          1
         ],
         "matches": "x",
         "title": {
          "text": "player"
         },
         "visible": false
        },
        "yaxis": {
         "anchor": "x",
         "autorange": "reversed",
         "domain": [
          0,
          1
         ],
         "title": {
          "text": "strokes"
         },
         "visible": false
        },
        "yaxis2": {
         "anchor": "x2",
         "autorange": "reversed",
         "domain": [
          0,
          1
         ],
         "matches": "y",
         "showticklabels": false,
         "visible": false
        }
       }
      }
     },
     "metadata": {},
     "output_type": "display_data"
    }
   ],
   "source": [
    "fig.update_yaxes(autorange='reversed', visible=False)\n",
    "fig.update_xaxes(visible=False)"
   ]
  },
  {
   "cell_type": "code",
   "execution_count": null,
   "metadata": {},
   "outputs": [],
   "source": []
  }
 ],
 "metadata": {
  "kernelspec": {
   "display_name": "Python 3 (ipykernel)",
   "language": "python",
   "name": "python3"
  },
  "language_info": {
   "codemirror_mode": {
    "name": "ipython",
    "version": 3
   },
   "file_extension": ".py",
   "mimetype": "text/x-python",
   "name": "python",
   "nbconvert_exporter": "python",
   "pygments_lexer": "ipython3",
   "version": "3.9.12"
  }
 },
 "nbformat": 4,
 "nbformat_minor": 4
}

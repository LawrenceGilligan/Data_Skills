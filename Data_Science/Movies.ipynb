{
 "cells": [
  {
   "cell_type": "code",
   "execution_count": 1,
   "metadata": {},
   "outputs": [],
   "source": [
    "import pandas as pd\n",
    "import numpy as np\n",
    "import plotly.graph_objects as go\n",
    "import plotly.express as px\n",
    "import plotly.io as pio\n",
    "\n",
    "pio.templates.default = \"plotly_dark\""
   ]
  },
  {
   "cell_type": "code",
   "execution_count": 2,
   "metadata": {},
   "outputs": [],
   "source": [
    "df = pd.read_csv('tmdb_5000_movies.csv')\n"
   ]
  },
  {
   "cell_type": "code",
   "execution_count": 3,
   "metadata": {},
   "outputs": [
    {
     "data": {
      "text/plain": [
       "budget                  4803\n",
       "genres                  4803\n",
       "homepage                1712\n",
       "id                      4803\n",
       "keywords                4803\n",
       "original_language       4803\n",
       "original_title          4803\n",
       "overview                4800\n",
       "popularity              4803\n",
       "production_companies    4803\n",
       "production_countries    4803\n",
       "release_date            4802\n",
       "revenue                 4803\n",
       "runtime                 4801\n",
       "spoken_languages        4803\n",
       "status                  4803\n",
       "tagline                 3959\n",
       "title                   4803\n",
       "vote_average            4803\n",
       "vote_count              4803\n",
       "dtype: int64"
      ]
     },
     "execution_count": 3,
     "metadata": {},
     "output_type": "execute_result"
    }
   ],
   "source": [
    "df.count()"
   ]
  },
  {
   "cell_type": "code",
   "execution_count": 7,
   "metadata": {},
   "outputs": [],
   "source": [
    "title_df = df[['title', 'genres', 'runtime', 'popularity', 'vote_average', 'budget', 'revenue']]"
   ]
  },
  {
   "cell_type": "code",
   "execution_count": 8,
   "metadata": {},
   "outputs": [
    {
     "data": {
      "text/plain": [
       "title           4803\n",
       "genres          4803\n",
       "runtime         4801\n",
       "popularity      4803\n",
       "vote_average    4803\n",
       "budget          4803\n",
       "revenue         4803\n",
       "dtype: int64"
      ]
     },
     "execution_count": 8,
     "metadata": {},
     "output_type": "execute_result"
    }
   ],
   "source": [
    "title_df.count()"
   ]
  },
  {
   "cell_type": "code",
   "execution_count": 9,
   "metadata": {},
   "outputs": [
    {
     "data": {
      "text/html": [
       "<div>\n",
       "<style scoped>\n",
       "    .dataframe tbody tr th:only-of-type {\n",
       "        vertical-align: middle;\n",
       "    }\n",
       "\n",
       "    .dataframe tbody tr th {\n",
       "        vertical-align: top;\n",
       "    }\n",
       "\n",
       "    .dataframe thead th {\n",
       "        text-align: right;\n",
       "    }\n",
       "</style>\n",
       "<table border=\"1\" class=\"dataframe\">\n",
       "  <thead>\n",
       "    <tr style=\"text-align: right;\">\n",
       "      <th></th>\n",
       "      <th>title</th>\n",
       "      <th>genres</th>\n",
       "      <th>runtime</th>\n",
       "      <th>popularity</th>\n",
       "      <th>vote_average</th>\n",
       "      <th>budget</th>\n",
       "      <th>revenue</th>\n",
       "    </tr>\n",
       "  </thead>\n",
       "  <tbody>\n",
       "    <tr>\n",
       "      <th>0</th>\n",
       "      <td>Avatar</td>\n",
       "      <td>[{\"id\": 28, \"name\": \"Action\"}, {\"id\": 12, \"nam...</td>\n",
       "      <td>162.0</td>\n",
       "      <td>150.437577</td>\n",
       "      <td>7.2</td>\n",
       "      <td>237000000</td>\n",
       "      <td>2787965087</td>\n",
       "    </tr>\n",
       "    <tr>\n",
       "      <th>1</th>\n",
       "      <td>Pirates of the Caribbean: At World's End</td>\n",
       "      <td>[{\"id\": 12, \"name\": \"Adventure\"}, {\"id\": 14, \"...</td>\n",
       "      <td>169.0</td>\n",
       "      <td>139.082615</td>\n",
       "      <td>6.9</td>\n",
       "      <td>300000000</td>\n",
       "      <td>961000000</td>\n",
       "    </tr>\n",
       "    <tr>\n",
       "      <th>2</th>\n",
       "      <td>Spectre</td>\n",
       "      <td>[{\"id\": 28, \"name\": \"Action\"}, {\"id\": 12, \"nam...</td>\n",
       "      <td>148.0</td>\n",
       "      <td>107.376788</td>\n",
       "      <td>6.3</td>\n",
       "      <td>245000000</td>\n",
       "      <td>880674609</td>\n",
       "    </tr>\n",
       "    <tr>\n",
       "      <th>3</th>\n",
       "      <td>The Dark Knight Rises</td>\n",
       "      <td>[{\"id\": 28, \"name\": \"Action\"}, {\"id\": 80, \"nam...</td>\n",
       "      <td>165.0</td>\n",
       "      <td>112.312950</td>\n",
       "      <td>7.6</td>\n",
       "      <td>250000000</td>\n",
       "      <td>1084939099</td>\n",
       "    </tr>\n",
       "    <tr>\n",
       "      <th>4</th>\n",
       "      <td>John Carter</td>\n",
       "      <td>[{\"id\": 28, \"name\": \"Action\"}, {\"id\": 12, \"nam...</td>\n",
       "      <td>132.0</td>\n",
       "      <td>43.926995</td>\n",
       "      <td>6.1</td>\n",
       "      <td>260000000</td>\n",
       "      <td>284139100</td>\n",
       "    </tr>\n",
       "  </tbody>\n",
       "</table>\n",
       "</div>"
      ],
      "text/plain": [
       "                                      title  \\\n",
       "0                                    Avatar   \n",
       "1  Pirates of the Caribbean: At World's End   \n",
       "2                                   Spectre   \n",
       "3                     The Dark Knight Rises   \n",
       "4                               John Carter   \n",
       "\n",
       "                                              genres  runtime  popularity  \\\n",
       "0  [{\"id\": 28, \"name\": \"Action\"}, {\"id\": 12, \"nam...    162.0  150.437577   \n",
       "1  [{\"id\": 12, \"name\": \"Adventure\"}, {\"id\": 14, \"...    169.0  139.082615   \n",
       "2  [{\"id\": 28, \"name\": \"Action\"}, {\"id\": 12, \"nam...    148.0  107.376788   \n",
       "3  [{\"id\": 28, \"name\": \"Action\"}, {\"id\": 80, \"nam...    165.0  112.312950   \n",
       "4  [{\"id\": 28, \"name\": \"Action\"}, {\"id\": 12, \"nam...    132.0   43.926995   \n",
       "\n",
       "   vote_average     budget     revenue  \n",
       "0           7.2  237000000  2787965087  \n",
       "1           6.9  300000000   961000000  \n",
       "2           6.3  245000000   880674609  \n",
       "3           7.6  250000000  1084939099  \n",
       "4           6.1  260000000   284139100  "
      ]
     },
     "execution_count": 9,
     "metadata": {},
     "output_type": "execute_result"
    }
   ],
   "source": [
    "title_df.head()"
   ]
  },
  {
   "cell_type": "code",
   "execution_count": 24,
   "metadata": {},
   "outputs": [],
   "source": [
    "# revenue per runtime\n",
    "fig = px.scatter(title_df, x='popularity', y='revenue', hover_data=['title'])"
   ]
  },
  {
   "cell_type": "code",
   "execution_count": 25,
   "metadata": {},
   "outputs": [
    {
     "data": {
      "application/vnd.plotly.v1+json": {
       "config": {
        "plotlyServerURL": "https://plot.ly"
       },
       "data": [
        {
         "customdata": [
          [
           "Avatar"
          ],
          [
           "Pirates of the Caribbean: At World's End"
          ],
          [
           "Spectre"
          ],
          [
           "The Dark Knight Rises"
          ],
          [
           "John Carter"
          ],
          [
           "Spider-Man 3"
          ],
          [
           "Tangled"
          ],
          [
           "Avengers: Age of Ultron"
          ],
          [
           "Harry Potter and the Half-Blood Prince"
          ],
          [
           "Batman v Superman: Dawn of Justice"
          ],
          [
           "Superman Returns"
          ],
          [
           "Quantum of Solace"
          ],
          [
           "Pirates of the Caribbean: Dead Man's Chest"
          ],
          [
           "The Lone Ranger"
          ],
          [
           "Man of Steel"
          ],
          [
           "The Chronicles of Narnia: Prince Caspian"
          ],
          [
           "The Avengers"
          ],
          [
           "Pirates of the Caribbean: On Stranger Tides"
          ],
          [
           "Men in Black 3"
          ],
          [
           "The Hobbit: The Battle of the Five Armies"
          ],
          [
           "The Amazing Spider-Man"
          ],
          [
           "Robin Hood"
          ],
          [
           "The Hobbit: The Desolation of Smaug"
          ],
          [
           "The Golden Compass"
          ],
          [
           "King Kong"
          ],
          [
           "Titanic"
          ],
          [
           "Captain America: Civil War"
          ],
          [
           "Battleship"
          ],
          [
           "Jurassic World"
          ],
          [
           "Skyfall"
          ],
          [
           "Spider-Man 2"
          ],
          [
           "Iron Man 3"
          ],
          [
           "Alice in Wonderland"
          ],
          [
           "X-Men: The Last Stand"
          ],
          [
           "Monsters University"
          ],
          [
           "Transformers: Revenge of the Fallen"
          ],
          [
           "Transformers: Age of Extinction"
          ],
          [
           "Oz: The Great and Powerful"
          ],
          [
           "The Amazing Spider-Man 2"
          ],
          [
           "TRON: Legacy"
          ],
          [
           "Cars 2"
          ],
          [
           "Green Lantern"
          ],
          [
           "Toy Story 3"
          ],
          [
           "Terminator Salvation"
          ],
          [
           "Furious 7"
          ],
          [
           "World War Z"
          ],
          [
           "X-Men: Days of Future Past"
          ],
          [
           "Star Trek Into Darkness"
          ],
          [
           "Jack the Giant Slayer"
          ],
          [
           "The Great Gatsby"
          ],
          [
           "Prince of Persia: The Sands of Time"
          ],
          [
           "Pacific Rim"
          ],
          [
           "Transformers: Dark of the Moon"
          ],
          [
           "Indiana Jones and the Kingdom of the Crystal Skull"
          ],
          [
           "The Good Dinosaur"
          ],
          [
           "Brave"
          ],
          [
           "Star Trek Beyond"
          ],
          [
           "WALL·E"
          ],
          [
           "Rush Hour 3"
          ],
          [
           "2012"
          ],
          [
           "A Christmas Carol"
          ],
          [
           "Jupiter Ascending"
          ],
          [
           "The Legend of Tarzan"
          ],
          [
           "The Chronicles of Narnia: The Lion, the Witch and the Wardrobe"
          ],
          [
           "X-Men: Apocalypse"
          ],
          [
           "The Dark Knight"
          ],
          [
           "Up"
          ],
          [
           "Monsters vs Aliens"
          ],
          [
           "Iron Man"
          ],
          [
           "Hugo"
          ],
          [
           "Wild Wild West"
          ],
          [
           "The Mummy: Tomb of the Dragon Emperor"
          ],
          [
           "Suicide Squad"
          ],
          [
           "Evan Almighty"
          ],
          [
           "Edge of Tomorrow"
          ],
          [
           "Waterworld"
          ],
          [
           "G.I. Joe: The Rise of Cobra"
          ],
          [
           "Inside Out"
          ],
          [
           "The Jungle Book"
          ],
          [
           "Iron Man 2"
          ],
          [
           "Snow White and the Huntsman"
          ],
          [
           "Maleficent"
          ],
          [
           "Dawn of the Planet of the Apes"
          ],
          [
           "The Lovers"
          ],
          [
           "47 Ronin"
          ],
          [
           "Captain America: The Winter Soldier"
          ],
          [
           "Shrek Forever After"
          ],
          [
           "Tomorrowland"
          ],
          [
           "Big Hero 6"
          ],
          [
           "Wreck-It Ralph"
          ],
          [
           "The Polar Express"
          ],
          [
           "Independence Day: Resurgence"
          ],
          [
           "How to Train Your Dragon"
          ],
          [
           "Terminator 3: Rise of the Machines"
          ],
          [
           "Guardians of the Galaxy"
          ],
          [
           "Interstellar"
          ],
          [
           "Inception"
          ],
          [
           "Shin Godzilla"
          ],
          [
           "The Hobbit: An Unexpected Journey"
          ],
          [
           "The Fast and the Furious"
          ],
          [
           "The Curious Case of Benjamin Button"
          ],
          [
           "X-Men: First Class"
          ],
          [
           "The Hunger Games: Mockingjay - Part 2"
          ],
          [
           "The Sorcerer's Apprentice"
          ],
          [
           "Poseidon"
          ],
          [
           "Alice Through the Looking Glass"
          ],
          [
           "Shrek the Third"
          ],
          [
           "Warcraft"
          ],
          [
           "Terminator Genisys"
          ],
          [
           "The Chronicles of Narnia: The Voyage of the Dawn Treader"
          ],
          [
           "Pearl Harbor"
          ],
          [
           "Transformers"
          ],
          [
           "Alexander"
          ],
          [
           "Harry Potter and the Order of the Phoenix"
          ],
          [
           "Harry Potter and the Goblet of Fire"
          ],
          [
           "Hancock"
          ],
          [
           "I Am Legend"
          ],
          [
           "Charlie and the Chocolate Factory"
          ],
          [
           "Ratatouille"
          ],
          [
           "Batman Begins"
          ],
          [
           "Madagascar: Escape 2 Africa"
          ],
          [
           "Night at the Museum: Battle of the Smithsonian"
          ],
          [
           "X-Men Origins: Wolverine"
          ],
          [
           "The Matrix Revolutions"
          ],
          [
           "Frozen"
          ],
          [
           "The Matrix Reloaded"
          ],
          [
           "Thor: The Dark World"
          ],
          [
           "Mad Max: Fury Road"
          ],
          [
           "Angels & Demons"
          ],
          [
           "Thor"
          ],
          [
           "Bolt"
          ],
          [
           "G-Force"
          ],
          [
           "Wrath of the Titans"
          ],
          [
           "Dark Shadows"
          ],
          [
           "Mission: Impossible - Rogue Nation"
          ],
          [
           "The Wolfman"
          ],
          [
           "Bee Movie"
          ],
          [
           "Kung Fu Panda 2"
          ],
          [
           "The Last Airbender"
          ],
          [
           "Mission: Impossible III"
          ],
          [
           "White House Down"
          ],
          [
           "Mars Needs Moms"
          ],
          [
           "Flushed Away"
          ],
          [
           "Pan"
          ],
          [
           "Mr. Peabody & Sherman"
          ],
          [
           "Troy"
          ],
          [
           "Madagascar 3: Europe's Most Wanted"
          ],
          [
           "Die Another Day"
          ],
          [
           "Ghostbusters"
          ],
          [
           "Armageddon"
          ],
          [
           "Men in Black II"
          ],
          [
           "Beowulf"
          ],
          [
           "Kung Fu Panda 3"
          ],
          [
           "Mission: Impossible - Ghost Protocol"
          ],
          [
           "Rise of the Guardians"
          ],
          [
           "Fun with Dick and Jane"
          ],
          [
           "The Last Samurai"
          ],
          [
           "Exodus: Gods and Kings"
          ],
          [
           "Star Trek"
          ],
          [
           "Spider-Man"
          ],
          [
           "How to Train Your Dragon 2"
          ],
          [
           "Gods of Egypt"
          ],
          [
           "Stealth"
          ],
          [
           "Watchmen"
          ],
          [
           "Lethal Weapon 4"
          ],
          [
           "Hulk"
          ],
          [
           "G.I. Joe: Retaliation"
          ],
          [
           "Sahara"
          ],
          [
           "Final Fantasy: The Spirits Within"
          ],
          [
           "Captain America: The First Avenger"
          ],
          [
           "The World Is Not Enough"
          ],
          [
           "Master and Commander: The Far Side of the World"
          ],
          [
           "The Twilight Saga: Breaking Dawn - Part 2"
          ],
          [
           "Happy Feet Two"
          ],
          [
           "The Incredible Hulk"
          ],
          [
           "The BFG"
          ],
          [
           "The Revenant"
          ],
          [
           "Turbo"
          ],
          [
           "Rango"
          ],
          [
           "Penguins of Madagascar"
          ],
          [
           "The Bourne Ultimatum"
          ],
          [
           "Kung Fu Panda"
          ],
          [
           "Ant-Man"
          ],
          [
           "The Hunger Games: Catching Fire"
          ],
          [
           "Home"
          ],
          [
           "War of the Worlds"
          ],
          [
           "Bad Boys II"
          ],
          [
           "Puss in Boots"
          ],
          [
           "Salt"
          ],
          [
           "Noah"
          ],
          [
           "The Adventures of Tintin"
          ],
          [
           "Harry Potter and the Prisoner of Azkaban"
          ],
          [
           "Australia"
          ],
          [
           "After Earth"
          ],
          [
           "Dinosaur"
          ],
          [
           "Night at the Museum: Secret of the Tomb"
          ],
          [
           "Megamind"
          ],
          [
           "Harry Potter and the Philosopher's Stone"
          ],
          [
           "R.I.P.D."
          ],
          [
           "Pirates of the Caribbean: The Curse of the Black Pearl"
          ],
          [
           "The Hunger Games: Mockingjay - Part 1"
          ],
          [
           "The Da Vinci Code"
          ],
          [
           "Rio 2"
          ],
          [
           "X2"
          ],
          [
           "Fast Five"
          ],
          [
           "Sherlock Holmes: A Game of Shadows"
          ],
          [
           "Clash of the Titans"
          ],
          [
           "Total Recall"
          ],
          [
           "The 13th Warrior"
          ],
          [
           "The Bourne Legacy"
          ],
          [
           "Batman & Robin"
          ],
          [
           "How the Grinch Stole Christmas"
          ],
          [
           "The Day After Tomorrow"
          ],
          [
           "Mission: Impossible II"
          ],
          [
           "The Perfect Storm"
          ],
          [
           "Fantastic 4: Rise of the Silver Surfer"
          ],
          [
           "Life of Pi"
          ],
          [
           "Ghost Rider"
          ],
          [
           "Jason Bourne"
          ],
          [
           "Charlie's Angels: Full Throttle"
          ],
          [
           "Prometheus"
          ],
          [
           "Stuart Little 2"
          ],
          [
           "Elysium"
          ],
          [
           "The Chronicles of Riddick"
          ],
          [
           "RoboCop"
          ],
          [
           "Speed Racer"
          ],
          [
           "How Do You Know"
          ],
          [
           "Knight and Day"
          ],
          [
           "Oblivion"
          ],
          [
           "Star Wars: Episode III - Revenge of the Sith"
          ],
          [
           "Star Wars: Episode II - Attack of the Clones"
          ],
          [
           "Monsters, Inc."
          ],
          [
           "The Wolverine"
          ],
          [
           "Star Wars: Episode I - The Phantom Menace"
          ],
          [
           "The Croods"
          ],
          [
           "Asterix at the Olympic Games"
          ],
          [
           "Windtalkers"
          ],
          [
           "The Huntsman: Winter's War"
          ],
          [
           "Teenage Mutant Ninja Turtles"
          ],
          [
           "Gravity"
          ],
          [
           "Dante's Peak"
          ],
          [
           "Teenage Mutant Ninja Turtles: Out of the Shadows"
          ],
          [
           "Fantastic Four"
          ],
          [
           "Night at the Museum"
          ],
          [
           "San Andreas"
          ],
          [
           "Tomorrow Never Dies"
          ],
          [
           "The Patriot"
          ],
          [
           "Ocean's Twelve"
          ],
          [
           "Mr. & Mrs. Smith"
          ],
          [
           "Insurgent"
          ],
          [
           "The Aviator"
          ],
          [
           "Gulliver's Travels"
          ],
          [
           "The Green Hornet"
          ],
          [
           "300: Rise of an Empire"
          ],
          [
           "The Smurfs"
          ],
          [
           "Home on the Range"
          ],
          [
           "Allegiant"
          ],
          [
           "Real Steel"
          ],
          [
           "The Smurfs 2"
          ],
          [
           "Speed 2: Cruise Control"
          ],
          [
           "Ender's Game"
          ],
          [
           "Live Free or Die Hard"
          ],
          [
           "The Lord of the Rings: The Fellowship of the Ring"
          ],
          [
           "Around the World in 80 Days"
          ],
          [
           "Ali"
          ],
          [
           "The Cat in the Hat"
          ],
          [
           "I, Robot"
          ],
          [
           "Kingdom of Heaven"
          ],
          [
           "Stuart Little"
          ],
          [
           "The Princess and the Frog"
          ],
          [
           "The Martian"
          ],
          [
           "The Island"
          ],
          [
           "Town & Country"
          ],
          [
           "Gone in Sixty Seconds"
          ],
          [
           "Gladiator"
          ],
          [
           "Minority Report"
          ],
          [
           "Harry Potter and the Chamber of Secrets"
          ],
          [
           "Casino Royale"
          ],
          [
           "Planet of the Apes"
          ],
          [
           "Terminator 2: Judgment Day"
          ],
          [
           "Public Enemies"
          ],
          [
           "American Gangster"
          ],
          [
           "True Lies"
          ],
          [
           "The Taking of Pelham 1 2 3"
          ],
          [
           "Little Fockers"
          ],
          [
           "The Other Guys"
          ],
          [
           "Eraser"
          ],
          [
           "Django Unchained"
          ],
          [
           "The Hunchback of Notre Dame"
          ],
          [
           "The Emperor's New Groove"
          ],
          [
           "The Expendables 2"
          ],
          [
           "National Treasure"
          ],
          [
           "Eragon"
          ],
          [
           "Where the Wild Things Are"
          ],
          [
           "Epic"
          ],
          [
           "The Tourist"
          ],
          [
           "End of Days"
          ],
          [
           "Blood Diamond"
          ],
          [
           "The Wolf of Wall Street"
          ],
          [
           "Batman Forever"
          ],
          [
           "Starship Troopers"
          ],
          [
           "Cloud Atlas"
          ],
          [
           "Legend of the Guardians: The Owls of Ga'Hoole"
          ],
          [
           "Catwoman"
          ],
          [
           "Hercules"
          ],
          [
           "Treasure Planet"
          ],
          [
           "Land of the Lost"
          ],
          [
           "The Expendables 3"
          ],
          [
           "Point Break"
          ],
          [
           "Son of the Mask"
          ],
          [
           "In the Heart of the Sea"
          ],
          [
           "The Adventures of Pluto Nash"
          ],
          [
           "Green Zone"
          ],
          [
           "The Peanuts Movie"
          ],
          [
           "The Spanish Prisoner"
          ],
          [
           "The Mummy Returns"
          ],
          [
           "Gangs of New York"
          ],
          [
           "The Flowers of War"
          ],
          [
           "Surf's Up"
          ],
          [
           "The Stepford Wives"
          ],
          [
           "Black Hawk Down"
          ],
          [
           "The Campaign"
          ],
          [
           "The Fifth Element"
          ],
          [
           "Sex and the City 2"
          ],
          [
           "The Road to El Dorado"
          ],
          [
           "Ice Age: Continental Drift"
          ],
          [
           "Cinderella"
          ],
          [
           "The Lovely Bones"
          ],
          [
           "Finding Nemo"
          ],
          [
           "The Lord of the Rings: The Return of the King"
          ],
          [
           "The Lord of the Rings: The Two Towers"
          ],
          [
           "Seventh Son"
          ],
          [
           "Lara Croft: Tomb Raider"
          ],
          [
           "Transcendence"
          ],
          [
           "Jurassic Park III"
          ],
          [
           "Rise of the Planet of the Apes"
          ],
          [
           "The Spiderwick Chronicles"
          ],
          [
           "A Good Day to Die Hard"
          ],
          [
           "The Alamo"
          ],
          [
           "The Incredibles"
          ],
          [
           "Cutthroat Island"
          ],
          [
           "Percy Jackson & the Olympians: The Lightning Thief"
          ],
          [
           "Men in Black"
          ],
          [
           "Toy Story 2"
          ],
          [
           "Unstoppable"
          ],
          [
           "Rush Hour 2"
          ],
          [
           "What Lies Beneath"
          ],
          [
           "Cloudy with a Chance of Meatballs"
          ],
          [
           "Ice Age: Dawn of the Dinosaurs"
          ],
          [
           "The Secret Life of Walter Mitty"
          ],
          [
           "Charlie's Angels"
          ],
          [
           "The Departed"
          ],
          [
           "Mulan"
          ],
          [
           "Tropic Thunder"
          ],
          [
           "The Girl with the Dragon Tattoo"
          ],
          [
           "Die Hard: With a Vengeance"
          ],
          [
           "Sherlock Holmes"
          ],
          [
           "Ben-Hur"
          ],
          [
           "Atlantis: The Lost Empire"
          ],
          [
           "Alvin and the Chipmunks: The Road Chip"
          ],
          [
           "Valkyrie"
          ],
          [
           "You Don't Mess with the Zohan"
          ],
          [
           "Pixels"
          ],
          [
           "A.I. Artificial Intelligence"
          ],
          [
           "The Haunted Mansion"
          ],
          [
           "Contact"
          ],
          [
           "Hollow Man"
          ],
          [
           "The Interpreter"
          ],
          [
           "Percy Jackson: Sea of Monsters"
          ],
          [
           "Lara Croft Tomb Raider: The Cradle of Life"
          ],
          [
           "Now You See Me 2"
          ],
          [
           "The Saint"
          ],
          [
           "Spy Game"
          ],
          [
           "Mission to Mars"
          ],
          [
           "Rio"
          ],
          [
           "Bicentennial Man"
          ],
          [
           "Volcano"
          ],
          [
           "The Devil's Own"
          ],
          [
           "K-19: The Widowmaker"
          ],
          [
           "Conan the Barbarian"
          ],
          [
           "Cinderella Man"
          ],
          [
           "The Nutcracker: The Untold Story"
          ],
          [
           "Seabiscuit"
          ],
          [
           "Twister"
          ],
          [
           "Cast Away"
          ],
          [
           "Happy Feet"
          ],
          [
           "The Bourne Supremacy"
          ],
          [
           "Air Force One"
          ],
          [
           "Ocean's Eleven"
          ],
          [
           "The Three Musketeers"
          ],
          [
           "Hotel Transylvania"
          ],
          [
           "Enchanted"
          ],
          [
           "Safe House"
          ],
          [
           "102 Dalmatians"
          ],
          [
           "Tower Heist"
          ],
          [
           "The Holiday"
          ],
          [
           "Enemy of the State"
          ],
          [
           "It's Complicated"
          ],
          [
           "Ocean's Thirteen"
          ],
          [
           "Open Season"
          ],
          [
           "Divergent"
          ],
          [
           "Enemy at the Gates"
          ],
          [
           "The Rundown"
          ],
          [
           "Last Action Hero"
          ],
          [
           "Memoirs of a Geisha"
          ],
          [
           "The Fast and the Furious: Tokyo Drift"
          ],
          [
           "Arthur Christmas"
          ],
          [
           "Meet Joe Black"
          ],
          [
           "Collateral Damage"
          ],
          [
           "All That Jazz"
          ],
          [
           "Mirror Mirror"
          ],
          [
           "Scott Pilgrim vs. the World"
          ],
          [
           "The Core"
          ],
          [
           "Nutty Professor II: The Klumps"
          ],
          [
           "Scooby-Doo"
          ],
          [
           "Dredd"
          ],
          [
           "Click"
          ],
          [
           "Creepshow"
          ],
          [
           "Cats & Dogs 2 : The Revenge of Kitty Galore"
          ],
          [
           "Jumper"
          ],
          [
           "Hellboy II: The Golden Army"
          ],
          [
           "Zodiac"
          ],
          [
           "The 6th Day"
          ],
          [
           "Bruce Almighty"
          ],
          [
           "The Expendables"
          ],
          [
           "Mission: Impossible"
          ],
          [
           "The Hunger Games"
          ],
          [
           "The Hangover Part II"
          ],
          [
           "Batman Returns"
          ],
          [
           "Over the Hedge"
          ],
          [
           "Lilo & Stitch"
          ],
          [
           "Charlotte's Web"
          ],
          [
           "Deep Impact"
          ],
          [
           "RED 2"
          ],
          [
           "The Longest Yard"
          ],
          [
           "Alvin and the Chipmunks: Chipwrecked"
          ],
          [
           "Grown Ups 2"
          ],
          [
           "Get Smart"
          ],
          [
           "Something's Gotta Give"
          ],
          [
           "Shutter Island"
          ],
          [
           "Four Christmases"
          ],
          [
           "Robots"
          ],
          [
           "Face/Off"
          ],
          [
           "Bedtime Stories"
          ],
          [
           "Road to Perdition"
          ],
          [
           "Just Go with It"
          ],
          [
           "Con Air"
          ],
          [
           "Eagle Eye"
          ],
          [
           "Cold Mountain"
          ],
          [
           "The Book of Eli"
          ],
          [
           "Flubber"
          ],
          [
           "The Haunting"
          ],
          [
           "Space Jam"
          ],
          [
           "The Pink Panther"
          ],
          [
           "The Day the Earth Stood Still"
          ],
          [
           "Conspiracy Theory"
          ],
          [
           "Fury"
          ],
          [
           "Six Days Seven Nights"
          ],
          [
           "Yogi Bear"
          ],
          [
           "Spirit: Stallion of the Cimarron"
          ],
          [
           "Zookeeper"
          ],
          [
           "Lost in Space"
          ],
          [
           "The Manchurian Candidate"
          ],
          [
           "Déjà Vu"
          ],
          [
           "Hotel Transylvania 2"
          ],
          [
           "Fantasia 2000"
          ],
          [
           "The Time Machine"
          ],
          [
           "Mighty Joe Young"
          ],
          [
           "Swordfish"
          ],
          [
           "The Legend of Zorro"
          ],
          [
           "What Dreams May Come"
          ],
          [
           "Little Nicky"
          ],
          [
           "The Brothers Grimm"
          ],
          [
           "Mars Attacks!"
          ],
          [
           "Evolution"
          ],
          [
           "The Edge"
          ],
          [
           "Surrogates"
          ],
          [
           "Thirteen Days"
          ],
          [
           "Daylight"
          ],
          [
           "Walking With Dinosaurs"
          ],
          [
           "Battlefield Earth"
          ],
          [
           "Looney Tunes: Back in Action"
          ],
          [
           "Nine"
          ],
          [
           "Timeline"
          ],
          [
           "The Postman"
          ],
          [
           "Babe: Pig in the City"
          ],
          [
           "The Last Witch Hunter"
          ],
          [
           "Red Planet"
          ],
          [
           "Arthur and the Invisibles"
          ],
          [
           "Oceans"
          ],
          [
           "A Sound of Thunder"
          ],
          [
           "Pompeii"
          ],
          [
           "Top Cat Begins"
          ],
          [
           "A Beautiful Mind"
          ],
          [
           "The Lion King"
          ],
          [
           "Journey 2: The Mysterious Island"
          ],
          [
           "Cloudy with a Chance of Meatballs 2"
          ],
          [
           "Red Dragon"
          ],
          [
           "Hidalgo"
          ],
          [
           "Jack and Jill"
          ],
          [
           "2 Fast 2 Furious"
          ],
          [
           "The Little Prince"
          ],
          [
           "The Invasion"
          ],
          [
           "The Adventures of Rocky & Bullwinkle"
          ],
          [
           "The Secret Life of Pets"
          ],
          [
           "The League of Extraordinary Gentlemen"
          ],
          [
           "Despicable Me 2"
          ],
          [
           "Independence Day"
          ],
          [
           "The Lost World: Jurassic Park"
          ],
          [
           "Madagascar"
          ],
          [
           "Children of Men"
          ],
          [
           "X-Men"
          ],
          [
           "Wanted"
          ],
          [
           "The Rock"
          ],
          [
           "Ice Age: The Meltdown"
          ],
          [
           "50 First Dates"
          ],
          [
           "Hairspray"
          ],
          [
           "Exorcist: The Beginning"
          ],
          [
           "Inspector Gadget"
          ],
          [
           "Now You See Me"
          ],
          [
           "Grown Ups"
          ],
          [
           "The Terminal"
          ],
          [
           "Hotel for Dogs"
          ],
          [
           "Vertical Limit"
          ],
          [
           "Charlie Wilson's War"
          ],
          [
           "Shark Tale"
          ],
          [
           "Dreamgirls"
          ],
          [
           "Be Cool"
          ],
          [
           "Munich"
          ],
          [
           "Tears of the Sun"
          ],
          [
           "Killers"
          ],
          [
           "The Man from U.N.C.L.E."
          ],
          [
           "Spanglish"
          ],
          [
           "Monster House"
          ],
          [
           "Bandits"
          ],
          [
           "First Knight"
          ],
          [
           "Anna and the King"
          ],
          [
           "Immortals"
          ],
          [
           "Hostage"
          ],
          [
           "Titan A.E."
          ],
          [
           "Hollywood Homicide"
          ],
          [
           "Soldier"
          ],
          [
           "Carriers"
          ],
          [
           "Monkeybone"
          ],
          [
           "Flight of the Phoenix"
          ],
          [
           "Unbreakable"
          ],
          [
           "Minions"
          ],
          [
           "Sucker Punch"
          ],
          [
           "Snake Eyes"
          ],
          [
           "Sphere"
          ],
          [
           "The Angry Birds Movie"
          ],
          [
           "Fool's Gold"
          ],
          [
           "Funny People"
          ],
          [
           "The Kingdom"
          ],
          [
           "Talladega Nights: The Ballad of Ricky Bobby"
          ],
          [
           "Dr. Dolittle 2"
          ],
          [
           "Braveheart"
          ],
          [
           "Jarhead"
          ],
          [
           "The Simpsons Movie"
          ],
          [
           "The Majestic"
          ],
          [
           "Driven"
          ],
          [
           "Two Brothers"
          ],
          [
           "The Village"
          ],
          [
           "Doctor Dolittle"
          ],
          [
           "Signs"
          ],
          [
           "Shrek 2"
          ],
          [
           "Cars"
          ],
          [
           "Runaway Bride"
          ],
          [
           "xXx"
          ],
          [
           "The SpongeBob Movie: Sponge Out of Water"
          ],
          [
           "Ransom"
          ],
          [
           "Inglourious Basterds"
          ],
          [
           "Hook"
          ],
          [
           "Die Hard 2"
          ],
          [
           "S.W.A.T."
          ],
          [
           "Vanilla Sky"
          ],
          [
           "Lady in the Water"
          ],
          [
           "AVP: Alien vs. Predator"
          ],
          [
           "Alvin and the Chipmunks: The Squeakquel"
          ],
          [
           "We Were Soldiers"
          ],
          [
           "Olympus Has Fallen"
          ],
          [
           "Star Trek: Insurrection"
          ],
          [
           "Battle: Los Angeles"
          ],
          [
           "Big Fish"
          ],
          [
           "Wolf"
          ],
          [
           "War Horse"
          ],
          [
           "The Monuments Men"
          ],
          [
           "The Abyss"
          ],
          [
           "Wall Street: Money Never Sleeps"
          ],
          [
           "Dracula Untold"
          ],
          [
           "The Siege"
          ],
          [
           "Stardust"
          ],
          [
           "Seven Years in Tibet"
          ],
          [
           "The Dilemma"
          ],
          [
           "Bad Company"
          ],
          [
           "Doom"
          ],
          [
           "I Spy"
          ],
          [
           "Underworld: Awakening"
          ],
          [
           "Rock of Ages"
          ],
          [
           "Hart's War"
          ],
          [
           "Killer Elite"
          ],
          [
           "Rollerball"
          ],
          [
           "Ballistic: Ecks vs. Sever"
          ],
          [
           "Hard Rain"
          ],
          [
           "Osmosis Jones"
          ],
          [
           "Legends of Oz: Dorothy's Return"
          ],
          [
           "Blackhat"
          ],
          [
           "Sky Captain and the World of Tomorrow"
          ],
          [
           "Basic Instinct 2"
          ],
          [
           "Escape Plan"
          ],
          [
           "The Legend of Hercules"
          ],
          [
           "The Sum of All Fears"
          ],
          [
           "The Twilight Saga: Eclipse"
          ],
          [
           "The Score"
          ],
          [
           "Despicable Me"
          ],
          [
           "Money Train"
          ],
          [
           "Ted 2"
          ],
          [
           "Agora"
          ],
          [
           "Mystery Men"
          ],
          [
           "Hall Pass"
          ],
          [
           "The Insider"
          ],
          [
           "The Finest Hours"
          ],
          [
           "Body of Lies"
          ],
          [
           "Dinner for Schmucks"
          ],
          [
           "Abraham Lincoln: Vampire Hunter"
          ],
          [
           "Entrapment"
          ],
          [
           "The X Files"
          ],
          [
           "The Last Legion"
          ],
          [
           "Saving Private Ryan"
          ],
          [
           "Need for Speed"
          ],
          [
           "What Women Want"
          ],
          [
           "Ice Age"
          ],
          [
           "Dreamcatcher"
          ],
          [
           "Lincoln"
          ],
          [
           "The Matrix"
          ],
          [
           "Apollo 13"
          ],
          [
           "The Santa Clause 2"
          ],
          [
           "Les Misérables"
          ],
          [
           "You've Got Mail"
          ],
          [
           "Step Brothers"
          ],
          [
           "The Mask of Zorro"
          ],
          [
           "Due Date"
          ],
          [
           "Unbroken"
          ],
          [
           "Space Cowboys"
          ],
          [
           "Cliffhanger"
          ],
          [
           "Broken Arrow"
          ],
          [
           "The Kid"
          ],
          [
           "World Trade Center"
          ],
          [
           "Mona Lisa Smile"
          ],
          [
           "The Dictator"
          ],
          [
           "Eyes Wide Shut"
          ],
          [
           "Annie"
          ],
          [
           "Focus"
          ],
          [
           "This Means War"
          ],
          [
           "Blade: Trinity"
          ],
          [
           "Red Dawn"
          ],
          [
           "Primary Colors"
          ],
          [
           "Resident Evil: Retribution"
          ],
          [
           "Death Race"
          ],
          [
           "The Long Kiss Goodnight"
          ],
          [
           "Proof of Life"
          ],
          [
           "Zathura: A Space Adventure"
          ],
          [
           "Fight Club"
          ],
          [
           "We Are Marshall"
          ],
          [
           "Hudson Hawk"
          ],
          [
           "Lucky Numbers"
          ],
          [
           "I, Frankenstein"
          ],
          [
           "Oliver Twist"
          ],
          [
           "Elektra"
          ],
          [
           "Sin City: A Dame to Kill For"
          ],
          [
           "Random Hearts"
          ],
          [
           "Everest"
          ],
          [
           "Perfume: The Story of a Murderer"
          ],
          [
           "Austin Powers in Goldmember"
          ],
          [
           "Astro Boy"
          ],
          [
           "Jurassic Park"
          ],
          [
           "Wyatt Earp"
          ],
          [
           "Clear and Present Danger"
          ],
          [
           "Dragon Blade"
          ],
          [
           "Little Man"
          ],
          [
           "U-571"
          ],
          [
           "The American President"
          ],
          [
           "The Love Guru"
          ],
          [
           "3000 Miles to Graceland"
          ],
          [
           "The Hateful Eight"
          ],
          [
           "Blades of Glory"
          ],
          [
           "Hop"
          ],
          [
           "300"
          ],
          [
           "Meet the Fockers"
          ],
          [
           "Marley & Me"
          ],
          [
           "The Green Mile"
          ],
          [
           "Wild Hogs"
          ],
          [
           "Chicken Little"
          ],
          [
           "Gone Girl"
          ],
          [
           "The Bourne Identity"
          ],
          [
           "GoldenEye"
          ],
          [
           "The General's Daughter"
          ],
          [
           "The Truman Show"
          ],
          [
           "The Prince of Egypt"
          ],
          [
           "Daddy Day Care"
          ],
          [
           "2 Guns"
          ],
          [
           "Cats & Dogs"
          ],
          [
           "The Italian Job"
          ],
          [
           "Two Weeks Notice"
          ],
          [
           "Antz"
          ],
          [
           "Couples Retreat"
          ],
          [
           "Days of Thunder"
          ],
          [
           "Cheaper by the Dozen 2"
          ],
          [
           "Maze Runner: The Scorch Trials"
          ],
          [
           "Eat Pray Love"
          ],
          [
           "The Family Man"
          ],
          [
           "RED"
          ],
          [
           "Any Given Sunday"
          ],
          [
           "The Horse Whisperer"
          ],
          [
           "Collateral"
          ],
          [
           "The Scorpion King"
          ],
          [
           "Ladder 49"
          ],
          [
           "Jack Reacher"
          ],
          [
           "Deep Blue Sea"
          ],
          [
           "This Is It"
          ],
          [
           "Contagion"
          ],
          [
           "Kangaroo Jack"
          ],
          [
           "Coraline"
          ],
          [
           "The Happening"
          ],
          [
           "Man on Fire"
          ],
          [
           "The Shaggy Dog"
          ],
          [
           "Starsky & Hutch"
          ],
          [
           "Jingle All the Way"
          ],
          [
           "Hellboy"
          ],
          [
           "A Civil Action"
          ],
          [
           "ParaNorman"
          ],
          [
           "The Jackal"
          ],
          [
           "Paycheck"
          ],
          [
           "Up Close & Personal"
          ],
          [
           "The Tale of Despereaux"
          ],
          [
           "The Tuxedo"
          ],
          [
           "Under Siege 2: Dark Territory"
          ],
          [
           "Jack Ryan: Shadow Recruit"
          ],
          [
           "Joy"
          ],
          [
           "London Has Fallen"
          ],
          [
           "Alien: Resurrection"
          ],
          [
           "Shooter"
          ],
          [
           "The Boxtrolls"
          ],
          [
           "Practical Magic"
          ],
          [
           "The Lego Movie"
          ],
          [
           "Miss Congeniality 2: Armed and Fabulous"
          ],
          [
           "Reign of Fire"
          ],
          [
           "Gangster Squad"
          ],
          [
           "Year One"
          ],
          [
           "Invictus"
          ],
          [
           "State of Play"
          ],
          [
           "Duplicity"
          ],
          [
           "My Favorite Martian"
          ],
          [
           "The Sentinel"
          ],
          [
           "Planet 51"
          ],
          [
           "Star Trek: Nemesis"
          ],
          [
           "Intolerable Cruelty"
          ],
          [
           "Trouble with the Curve"
          ],
          [
           "Edge of Darkness"
          ],
          [
           "The Relic"
          ],
          [
           "Analyze That"
          ],
          [
           "Righteous Kill"
          ],
          [
           "Mercury Rising"
          ],
          [
           "The Soloist"
          ],
          [
           "The Legend of Bagger Vance"
          ],
          [
           "Almost Famous"
          ],
          [
           "Garfield: A Tail of Two Kitties"
          ],
          [
           "xXx: State of the Union"
          ],
          [
           "Priest"
          ],
          [
           "Sinbad: Legend of the Seven Seas"
          ],
          [
           "Event Horizon"
          ],
          [
           "Dragonfly"
          ],
          [
           "The Black Dahlia"
          ],
          [
           "Flyboys"
          ],
          [
           "The Last Castle"
          ],
          [
           "Supernova"
          ],
          [
           "Winter's Tale"
          ],
          [
           "The Mortal Instruments: City of Bones"
          ],
          [
           "Meet Dave"
          ],
          [
           "Dark Water"
          ],
          [
           "Edtv"
          ],
          [
           "Inkheart"
          ],
          [
           "The Spirit"
          ],
          [
           "Mortdecai"
          ],
          [
           "In the Name of the King: A Dungeon Siege Tale"
          ],
          [
           "Beyond Borders"
          ],
          [
           "The Monkey King 2"
          ],
          [
           "The Great Raid"
          ],
          [
           "Deadpool"
          ],
          [
           "Holy Man"
          ],
          [
           "American Sniper"
          ],
          [
           "Goosebumps"
          ],
          [
           "Just Like Heaven"
          ],
          [
           "The Flintstones in Viva Rock Vegas"
          ],
          [
           "Rambo III"
          ],
          [
           "Leatherheads"
          ],
          [
           "The Ridiculous 6"
          ],
          [
           "Did You Hear About the Morgans?"
          ],
          [
           "The Internship"
          ],
          [
           "Resident Evil: Afterlife"
          ],
          [
           "Red Tails"
          ],
          [
           "The Devil's Advocate"
          ],
          [
           "That's My Boy"
          ],
          [
           "DragonHeart"
          ],
          [
           "After the Sunset"
          ],
          [
           "Ghost Rider: Spirit of Vengeance"
          ],
          [
           "Captain Corelli's Mandolin"
          ],
          [
           "The Pacifier"
          ],
          [
           "Walking Tall"
          ],
          [
           "Forrest Gump"
          ],
          [
           "Alvin and the Chipmunks"
          ],
          [
           "Meet the Parents"
          ],
          [
           "Pocahontas"
          ],
          [
           "Superman"
          ],
          [
           "The Nutty Professor"
          ],
          [
           "Hitch"
          ],
          [
           "George of the Jungle"
          ],
          [
           "American Wedding"
          ],
          [
           "Captain Phillips"
          ],
          [
           "Date Night"
          ],
          [
           "Casper"
          ],
          [
           "The Equalizer"
          ],
          [
           "Maid in Manhattan"
          ],
          [
           "Crimson Tide"
          ],
          [
           "The Pursuit of Happyness"
          ],
          [
           "Flightplan"
          ],
          [
           "Disclosure"
          ],
          [
           "City of Angels"
          ],
          [
           "Kill Bill: Vol. 1"
          ],
          [
           "Bowfinger"
          ],
          [
           "Kill Bill: Vol. 2"
          ],
          [
           "Tango & Cash"
          ],
          [
           "Death Becomes Her"
          ],
          [
           "Shanghai Noon"
          ],
          [
           "Executive Decision"
          ],
          [
           "Mr. Popper's Penguins"
          ],
          [
           "The Forbidden Kingdom"
          ],
          [
           "Free Birds"
          ],
          [
           "Alien³"
          ],
          [
           "Evita"
          ],
          [
           "Ronin"
          ],
          [
           "The Ghost and the Darkness"
          ],
          [
           "Paddington"
          ],
          [
           "The Watch"
          ],
          [
           "The Hunted"
          ],
          [
           "Instinct"
          ],
          [
           "Stuck on You"
          ],
          [
           "Semi-Pro"
          ],
          [
           "The Pirates! In an Adventure with Scientists!"
          ],
          [
           "Changeling"
          ],
          [
           "Chain Reaction"
          ],
          [
           "The Fan"
          ],
          [
           "The Phantom of the Opera"
          ],
          [
           "Elizabeth: The Golden Age"
          ],
          [
           "Æon Flux"
          ],
          [
           "Gods and Generals"
          ],
          [
           "Turbulence"
          ],
          [
           "Imagine That"
          ],
          [
           "Muppets Most Wanted"
          ],
          [
           "Thunderbirds"
          ],
          [
           "Burlesque"
          ],
          [
           "A Very Long Engagement"
          ],
          [
           "Lolita"
          ],
          [
           "D-Tox"
          ],
          [
           "Blade II"
          ],
          [
           "Seven Pounds"
          ],
          [
           "Bullet to the Head"
          ],
          [
           "The Godfather: Part III"
          ],
          [
           "Elizabethtown"
          ],
          [
           "You, Me and Dupree"
          ],
          [
           "Superman II"
          ],
          [
           "Gigli"
          ],
          [
           "All the King's Men"
          ],
          [
           "Shaft"
          ],
          [
           "Anastasia"
          ],
          [
           "Moulin Rouge!"
          ],
          [
           "Domestic Disturbance"
          ],
          [
           "Black Mass"
          ],
          [
           "Flags of Our Fathers"
          ],
          [
           "Law Abiding Citizen"
          ],
          [
           "Grindhouse"
          ],
          [
           "Beloved"
          ],
          [
           "Lucky You"
          ],
          [
           "Catch Me If You Can"
          ],
          [
           "Zero Dark Thirty"
          ],
          [
           "The Break-Up"
          ],
          [
           "Mamma Mia!"
          ],
          [
           "Valentine's Day"
          ],
          [
           "The Dukes of Hazzard"
          ],
          [
           "The Thin Red Line"
          ],
          [
           "The Change-Up"
          ],
          [
           "Man on the Moon"
          ],
          [
           "Casino"
          ],
          [
           "From Paris with Love"
          ],
          [
           "Bulletproof Monk"
          ],
          [
           "Me, Myself & Irene"
          ],
          [
           "Barnyard"
          ],
          [
           "Deck the Halls"
          ],
          [
           "The Twilight Saga: New Moon"
          ],
          [
           "Shrek"
          ],
          [
           "The Adjustment Bureau"
          ],
          [
           "Robin Hood: Prince of Thieves"
          ],
          [
           "Jerry Maguire"
          ],
          [
           "Ted"
          ],
          [
           "As Good as It Gets"
          ],
          [
           "Patch Adams"
          ],
          [
           "Anchorman 2: The Legend Continues"
          ],
          [
           "Mr. Deeds"
          ],
          [
           "Super 8"
          ],
          [
           "Erin Brockovich"
          ],
          [
           "How to Lose a Guy in 10 Days"
          ],
          [
           "22 Jump Street"
          ],
          [
           "Interview with the Vampire"
          ],
          [
           "Yes Man"
          ],
          [
           "Central Intelligence"
          ],
          [
           "Stepmom"
          ],
          [
           "Daddy's Home"
          ],
          [
           "Into the Woods"
          ],
          [
           "Inside Man"
          ],
          [
           "Payback"
          ],
          [
           "Congo"
          ],
          [
           "We Bought a Zoo"
          ],
          [
           "Knowing"
          ],
          [
           "Failure to Launch"
          ],
          [
           "The Ring Two"
          ],
          [
           "Crazy, Stupid, Love."
          ],
          [
           "Garfield"
          ],
          [
           "Christmas with the Kranks"
          ],
          [
           "Moneyball"
          ],
          [
           "Outbreak"
          ],
          [
           "Non-Stop"
          ],
          [
           "Race to Witch Mountain"
          ],
          [
           "V for Vendetta"
          ],
          [
           "Shanghai Knights"
          ],
          [
           "Curious George"
          ],
          [
           "Herbie Fully Loaded"
          ],
          [
           "Don't Say a Word"
          ],
          [
           "Hansel & Gretel: Witch Hunters"
          ],
          [
           "Unfaithful"
          ],
          [
           "I Am Number Four"
          ],
          [
           "Syriana"
          ],
          [
           "13 Hours: The Secret Soldiers of Benghazi"
          ],
          [
           "The Book of Life"
          ],
          [
           "Firewall"
          ],
          [
           "Absolute Power"
          ],
          [
           "G.I. Jane"
          ],
          [
           "The Game"
          ],
          [
           "Silent Hill"
          ],
          [
           "The Replacements"
          ],
          [
           "American Reunion"
          ],
          [
           "The Negotiator"
          ],
          [
           "Into the Storm"
          ],
          [
           "Beverly Hills Cop III"
          ],
          [
           "Gremlins 2: The New Batch"
          ],
          [
           "The Judge"
          ],
          [
           "The Peacemaker"
          ],
          [
           "Resident Evil: Apocalypse"
          ],
          [
           "Bridget Jones: The Edge of Reason"
          ],
          [
           "Out of Time"
          ],
          [
           "On Deadly Ground"
          ],
          [
           "The Adventures of Sharkboy and Lavagirl"
          ],
          [
           "The Beach"
          ],
          [
           "Raising Helen"
          ],
          [
           "Ninja Assassin"
          ],
          [
           "For Love of the Game"
          ],
          [
           "Striptease"
          ],
          [
           "Marmaduke"
          ],
          [
           "Hereafter"
          ],
          [
           "Murder by Numbers"
          ],
          [
           "Assassins"
          ],
          [
           "Hannibal Rising"
          ],
          [
           "The Story of Us"
          ],
          [
           "The Host"
          ],
          [
           "Basic"
          ],
          [
           "Blood Work"
          ],
          [
           "The International"
          ],
          [
           "Escape from L.A."
          ],
          [
           "The Iron Giant"
          ],
          [
           "The Life Aquatic with Steve Zissou"
          ],
          [
           "Free State of Jones"
          ],
          [
           "The Life of David Gale"
          ],
          [
           "Man of the House"
          ],
          [
           "Run All Night"
          ],
          [
           "Eastern Promises"
          ],
          [
           "Into the Blue"
          ],
          [
           "The Messenger: The Story of Joan of Arc"
          ],
          [
           "Your Highness"
          ],
          [
           "Dream House"
          ],
          [
           "Mad City"
          ],
          [
           "Baby's Day Out"
          ],
          [
           "The Scarlet Letter"
          ],
          [
           "Fair Game"
          ],
          [
           "Domino"
          ],
          [
           "Jade"
          ],
          [
           "Gamer"
          ],
          [
           "Beautiful Creatures"
          ],
          [
           "Death to Smoochy"
          ],
          [
           "Zoolander 2"
          ],
          [
           "The Big Bounce"
          ],
          [
           "What Planet Are You From?"
          ],
          [
           "Drive Angry"
          ],
          [
           "Street Fighter: The Legend of Chun-Li"
          ],
          [
           "The One"
          ],
          [
           "The Adventures of Ford Fairlane"
          ],
          [
           "The Boat That Rocked"
          ],
          [
           "Traffic"
          ],
          [
           "Indiana Jones and the Last Crusade"
          ],
          [
           "Anna Karenina"
          ],
          [
           "Chappie"
          ],
          [
           "The Bone Collector"
          ],
          [
           "Panic Room"
          ],
          [
           "The Tooth Fairy"
          ],
          [
           "Three Kings"
          ],
          [
           "Child 44"
          ],
          [
           "Rat Race"
          ],
          [
           "K-PAX"
          ],
          [
           "Kate & Leopold"
          ],
          [
           "Bedazzled"
          ],
          [
           "The Cotton Club"
          ],
          [
           "3:10 to Yuma"
          ],
          [
           "Taken 3"
          ],
          [
           "Out of Sight"
          ],
          [
           "The Cable Guy"
          ],
          [
           "Earth"
          ],
          [
           "Dick Tracy"
          ],
          [
           "The Thomas Crown Affair"
          ],
          [
           "Riding in Cars with Boys"
          ],
          [
           "First Blood"
          ],
          [
           "Solaris"
          ],
          [
           "Happily N'Ever After"
          ],
          [
           "Mary Reilly"
          ],
          [
           "My Best Friend's Wedding"
          ],
          [
           "America's Sweethearts"
          ],
          [
           "Insomnia"
          ],
          [
           "Star Trek: First Contact"
          ],
          [
           "Jonah Hex"
          ],
          [
           "Courage Under Fire"
          ],
          [
           "Liar Liar"
          ],
          [
           "The Infiltrator"
          ],
          [
           "Inchon"
          ],
          [
           "The Flintstones"
          ],
          [
           "Taken 2"
          ],
          [
           "Scary Movie 3"
          ],
          [
           "Miss Congeniality"
          ],
          [
           "Journey to the Center of the Earth"
          ],
          [
           "The Princess Diaries 2: Royal Engagement"
          ],
          [
           "The Pelican Brief"
          ],
          [
           "The Client"
          ],
          [
           "The Bucket List"
          ],
          [
           "Patriot Games"
          ],
          [
           "Monster-in-Law"
          ],
          [
           "Prisoners"
          ],
          [
           "Training Day"
          ],
          [
           "Galaxy Quest"
          ],
          [
           "Scary Movie 2"
          ],
          [
           "The Muppets"
          ],
          [
           "Blade"
          ],
          [
           "Coach Carter"
          ],
          [
           "Changing Lanes"
          ],
          [
           "Anaconda"
          ],
          [
           "Coyote Ugly"
          ],
          [
           "Love Actually"
          ],
          [
           "A Bug's Life"
          ],
          [
           "From Hell"
          ],
          [
           "The Specialist"
          ],
          [
           "Tin Cup"
          ],
          [
           "Yours, Mine and Ours"
          ],
          [
           "Kicking & Screaming"
          ],
          [
           "The Hitchhiker's Guide to the Galaxy"
          ],
          [
           "Fat Albert"
          ],
          [
           "Resident Evil: Extinction"
          ],
          [
           "Blended"
          ],
          [
           "Last Holiday"
          ],
          [
           "The River Wild"
          ],
          [
           "The Indian in the Cupboard"
          ],
          [
           "Savages"
          ],
          [
           "Cellular"
          ],
          [
           "Johnny English"
          ],
          [
           "The Ant Bully"
          ],
          [
           "Dune"
          ],
          [
           "Across the Universe"
          ],
          [
           "Revolutionary Road"
          ],
          [
           "16 Blocks"
          ],
          [
           "Babylon A.D."
          ],
          [
           "The Glimmer Man"
          ],
          [
           "Multiplicity"
          ],
          [
           "Aliens in the Attic"
          ],
          [
           "The Pledge"
          ],
          [
           "The Producers"
          ],
          [
           "The Phantom"
          ],
          [
           "All the Pretty Horses"
          ],
          [
           "Nixon"
          ],
          [
           "The Ghost Writer"
          ],
          [
           "Deep Rising"
          ],
          [
           "Miracle at St. Anna"
          ],
          [
           "Curse of the Golden Flower"
          ],
          [
           "Bangkok Dangerous"
          ],
          [
           "Big Trouble"
          ],
          [
           "Love in the Time of Cholera"
          ],
          [
           "Shadow Conspiracy"
          ],
          [
           "Johnny English Reborn"
          ],
          [
           "Foodfight!"
          ],
          [
           "Argo"
          ],
          [
           "The Fugitive"
          ],
          [
           "The Bounty Hunter"
          ],
          [
           "Sleepers"
          ],
          [
           "Rambo: First Blood Part II"
          ],
          [
           "The Juror"
          ],
          [
           "Pinocchio"
          ],
          [
           "Heaven's Gate"
          ],
          [
           "Underworld: Evolution"
          ],
          [
           "Victor Frankenstein"
          ],
          [
           "Finding Forrester"
          ],
          [
           "28 Days"
          ],
          [
           "Unleashed"
          ],
          [
           "The Sweetest Thing"
          ],
          [
           "The Firm"
          ],
          [
           "Charlie St. Cloud"
          ],
          [
           "The Mechanic"
          ],
          [
           "21 Jump Street"
          ],
          [
           "Notting Hill"
          ],
          [
           "Chicken Run"
          ],
          [
           "Along Came Polly"
          ],
          [
           "Boomerang"
          ],
          [
           "The Heat"
          ],
          [
           "Cleopatra"
          ],
          [
           "Here Comes the Boom"
          ],
          [
           "High Crimes"
          ],
          [
           "The Mirror Has Two Faces"
          ],
          [
           "The Mothman Prophecies"
          ],
          [
           "Brüno"
          ],
          [
           "Licence to Kill"
          ],
          [
           "Red Riding Hood"
          ],
          [
           "15 Minutes"
          ],
          [
           "Super Mario Bros."
          ],
          [
           "Lord of War"
          ],
          [
           "Hero"
          ],
          [
           "One for the Money"
          ],
          [
           "The Interview"
          ],
          [
           "The Warrior's Way"
          ],
          [
           "Micmacs"
          ],
          [
           "8 Mile"
          ],
          [
           "Why I Did (Not) Eat My Father"
          ],
          [
           "A Knight's Tale"
          ],
          [
           "The Medallion"
          ],
          [
           "The Sixth Sense"
          ],
          [
           "Man on a Ledge"
          ],
          [
           "The Big Year"
          ],
          [
           "The Karate Kid"
          ],
          [
           "American Hustle"
          ],
          [
           "The Proposal"
          ],
          [
           "Double Jeopardy"
          ],
          [
           "Back to the Future Part II"
          ],
          [
           "Lucy"
          ],
          [
           "Fifty Shades of Grey"
          ],
          [
           "Spy Kids 3-D: Game Over"
          ],
          [
           "A Time to Kill"
          ],
          [
           "Cheaper by the Dozen"
          ],
          [
           "Lone Survivor"
          ],
          [
           "A League of Their Own"
          ],
          [
           "The Conjuring 2"
          ],
          [
           "The Social Network"
          ],
          [
           "He's Just Not That Into You"
          ],
          [
           "Scary Movie 4"
          ],
          [
           "Scream 3"
          ],
          [
           "Back to the Future Part III"
          ],
          [
           "Get Hard"
          ],
          [
           "Dracula"
          ],
          [
           "Julie & Julia"
          ],
          [
           "42"
          ],
          [
           "The Talented Mr. Ripley"
          ],
          [
           "Dumb and Dumber To"
          ],
          [
           "Eight Below"
          ],
          [
           "The Intern"
          ],
          [
           "Ride Along 2"
          ],
          [
           "The Last of the Mohicans"
          ],
          [
           "Ray"
          ],
          [
           "Sin City"
          ],
          [
           "Vantage Point"
          ],
          [
           "I Love You, Man"
          ],
          [
           "Shallow Hal"
          ],
          [
           "JFK"
          ],
          [
           "Big Momma's House 2"
          ],
          [
           "The Mexican"
          ],
          [
           "17 Again"
          ],
          [
           "The Other Woman"
          ],
          [
           "The Final Destination"
          ],
          [
           "Bridge of Spies"
          ],
          [
           "Behind Enemy Lines"
          ],
          [
           "Get Him to the Greek"
          ],
          [
           "Shall We Dance?"
          ],
          [
           "Small Soldiers"
          ],
          [
           "Spawn"
          ],
          [
           "The Count of Monte Cristo"
          ],
          [
           "The Lincoln Lawyer"
          ],
          [
           "Unknown"
          ],
          [
           "The Prestige"
          ],
          [
           "Horrible Bosses 2"
          ],
          [
           "Escape from Planet Earth"
          ],
          [
           "Apocalypto"
          ],
          [
           "The Living Daylights"
          ],
          [
           "Predators"
          ],
          [
           "Legal Eagles"
          ],
          [
           "Secret Window"
          ],
          [
           "The Lake House"
          ],
          [
           "The Skeleton Key"
          ],
          [
           "The Odd Life of Timothy Green"
          ],
          [
           "Made of Honor"
          ],
          [
           "Jersey Boys"
          ],
          [
           "The Rainmaker"
          ],
          [
           "Gothika"
          ],
          [
           "Amistad"
          ],
          [
           "Medicine Man"
          ],
          [
           "Aliens vs Predator: Requiem"
          ],
          [
           "Ri¢hie Ri¢h"
          ],
          [
           "Autumn in New York"
          ],
          [
           "Music and Lyrics"
          ],
          [
           "Paul"
          ],
          [
           "The Guilt Trip"
          ],
          [
           "Scream 4"
          ],
          [
           "8MM"
          ],
          [
           "The Doors"
          ],
          [
           "Sex Tape"
          ],
          [
           "Hanging Up"
          ],
          [
           "Final Destination 5"
          ],
          [
           "Mickey Blue Eyes"
          ],
          [
           "Pay It Forward"
          ],
          [
           "Fever Pitch"
          ],
          [
           "Drillbit Taylor"
          ],
          [
           "A Million Ways to Die in the West"
          ],
          [
           "The Shadow"
          ],
          [
           "Extremely Loud & Incredibly Close"
          ],
          [
           "Morning Glory"
          ],
          [
           "Get Rich or Die Tryin'"
          ],
          [
           "The Art of War"
          ],
          [
           "Rent"
          ],
          [
           "Bless the Child"
          ],
          [
           "The Out-of-Towners"
          ],
          [
           "The Island of Dr. Moreau"
          ],
          [
           "The Musketeer"
          ],
          [
           "The Other Boleyn Girl"
          ],
          [
           "Sweet November"
          ],
          [
           "The Reaping"
          ],
          [
           "Mean Streets"
          ],
          [
           "Renaissance Man"
          ],
          [
           "Colombiana"
          ],
          [
           "Quest for Camelot"
          ],
          [
           "City By The Sea"
          ],
          [
           "At First Sight"
          ],
          [
           "Torque"
          ],
          [
           "City Hall"
          ],
          [
           "Showgirls"
          ],
          [
           "Marie Antoinette"
          ],
          [
           "Kiss of Death"
          ],
          [
           "Get Carter"
          ],
          [
           "The Impossible"
          ],
          [
           "Ishtar"
          ],
          [
           "Fantastic Mr. Fox"
          ],
          [
           "Life or Something Like It"
          ],
          [
           "Memoirs of an Invisible Man"
          ],
          [
           "Amélie"
          ],
          [
           "New York Minute"
          ],
          [
           "Alfie"
          ],
          [
           "Big Miracle"
          ],
          [
           "The Deep End of the Ocean"
          ],
          [
           "FearDotCom"
          ],
          [
           "Cirque du Freak: The Vampire's Assistant"
          ],
          [
           "Duplex"
          ],
          [
           "Soul Men"
          ],
          [
           "Raise the Titanic"
          ],
          [
           "Universal Soldier: The Return"
          ],
          [
           "Pandorum"
          ],
          [
           "Impostor"
          ],
          [
           "Extreme Ops"
          ],
          [
           "Just Visiting"
          ],
          [
           "Sunshine"
          ],
          [
           "A Thousand Words"
          ],
          [
           "Delgo"
          ],
          [
           "The Gunman"
          ],
          [
           "Stormbreaker"
          ],
          [
           "Disturbia"
          ],
          [
           "Hackers"
          ],
          [
           "The Hunting Party"
          ],
          [
           "The Hudsucker Proxy"
          ],
          [
           "The Warlords"
          ],
          [
           "Nomad: The Warrior"
          ],
          [
           "Snowpiercer"
          ],
          [
           "A Monster in Paris"
          ],
          [
           "The Last Shot"
          ],
          [
           "The Crow"
          ],
          [
           "Baahubali: The Beginning"
          ],
          [
           "The Time Traveler's Wife"
          ],
          [
           "Because I Said So"
          ],
          [
           "Frankenweenie"
          ],
          [
           "Serenity"
          ],
          [
           "Against the Ropes"
          ],
          [
           "Superman III"
          ],
          [
           "Grudge Match"
          ],
          [
           "Red Cliff"
          ],
          [
           "Sweet Home Alabama"
          ],
          [
           "The Ugly Truth"
          ],
          [
           "Sgt. Bilko"
          ],
          [
           "Spy Kids 2: The Island of Lost Dreams"
          ],
          [
           "Star Trek: Generations"
          ],
          [
           "The Grandmaster"
          ],
          [
           "Water for Elephants"
          ],
          [
           "Dragon Nest: Warriors' Dawn"
          ],
          [
           "The Hurricane"
          ],
          [
           "Enough"
          ],
          [
           "Heartbreakers"
          ],
          [
           "Paul Blart: Mall Cop 2"
          ],
          [
           "Angel Eyes"
          ],
          [
           "Joe Somebody"
          ],
          [
           "The Ninth Gate"
          ],
          [
           "Extreme Measures"
          ],
          [
           "Rock Star"
          ],
          [
           "Precious"
          ],
          [
           "White Squall"
          ],
          [
           "The Thing"
          ],
          [
           "Riddick"
          ],
          [
           "Switchback"
          ],
          [
           "Texas Rangers"
          ],
          [
           "City of Ember"
          ],
          [
           "The Master"
          ],
          [
           "Virgin Territory"
          ],
          [
           "The Express"
          ],
          [
           "The 5th Wave"
          ],
          [
           "Creed"
          ],
          [
           "The Town"
          ],
          [
           "What to Expect When You're Expecting"
          ],
          [
           "Burn After Reading"
          ],
          [
           "Nim's Island"
          ],
          [
           "Rush"
          ],
          [
           "Magnolia"
          ],
          [
           "Cop Out"
          ],
          [
           "How to Be Single"
          ],
          [
           "Dolphin Tale"
          ],
          [
           "Twilight"
          ],
          [
           "John Q"
          ],
          [
           "Blue Streak"
          ],
          [
           "We're the Millers"
          ],
          [
           "The Inhabited Island"
          ],
          [
           "Breakdown"
          ],
          [
           "Never Say Never Again"
          ],
          [
           "Hot Tub Time Machine"
          ],
          [
           "Dolphin Tale 2"
          ],
          [
           "Reindeer Games"
          ],
          [
           "A Man Apart"
          ],
          [
           "Aloha"
          ],
          [
           "Ghosts of Mississippi"
          ],
          [
           "Snow Falling on Cedars"
          ],
          [
           "The Rite"
          ],
          [
           "Gattaca"
          ],
          [
           "Isn't She Great"
          ],
          [
           "Space Chimps"
          ],
          [
           "Head of State"
          ],
          [
           "The Hangover"
          ],
          [
           "Ip Man 3"
          ],
          [
           "Austin Powers: The Spy Who Shagged Me"
          ],
          [
           "Batman"
          ],
          [
           "There Be Dragons"
          ],
          [
           "Lethal Weapon 3"
          ],
          [
           "The Blind Side"
          ],
          [
           "Spy Kids"
          ],
          [
           "Horrible Bosses"
          ],
          [
           "True Grit"
          ],
          [
           "The Devil Wears Prada"
          ],
          [
           "Star Trek: The Motion Picture"
          ],
          [
           "Identity Thief"
          ],
          [
           "Cape Fear"
          ],
          [
           "21"
          ],
          [
           "Trainwreck"
          ],
          [
           "Guess Who"
          ],
          [
           "The English Patient"
          ],
          [
           "L.A. Confidential"
          ],
          [
           "Sky High"
          ],
          [
           "In & Out"
          ],
          [
           "Species"
          ],
          [
           "A Nightmare on Elm Street"
          ],
          [
           "The Cell"
          ],
          [
           "The Man in the Iron Mask"
          ],
          [
           "Secretariat"
          ],
          [
           "TMNT"
          ],
          [
           "Radio"
          ],
          [
           "Friends with Benefits"
          ],
          [
           "Neighbors 2: Sorority Rising"
          ],
          [
           "Saving Mr. Banks"
          ],
          [
           "Malcolm X"
          ],
          [
           "This Is 40"
          ],
          [
           "Old Dogs"
          ],
          [
           "Underworld: Rise of the Lycans"
          ],
          [
           "License to Wed"
          ],
          [
           "The Benchwarmers"
          ],
          [
           "Must Love Dogs"
          ],
          [
           "Donnie Brasco"
          ],
          [
           "Resident Evil"
          ],
          [
           "Poltergeist"
          ],
          [
           "The Ladykillers"
          ],
          [
           "Max Payne"
          ],
          [
           "In Time"
          ],
          [
           "The Back-Up Plan"
          ],
          [
           "Something Borrowed"
          ],
          [
           "Black Knight"
          ],
          [
           "The Bad News Bears"
          ],
          [
           "Street Fighter"
          ],
          [
           "The Pianist"
          ],
          [
           "The Nativity Story"
          ],
          [
           "House of Wax"
          ],
          [
           "Closer"
          ],
          [
           "J. Edgar"
          ],
          [
           "Mirrors"
          ],
          [
           "Queen of the Damned"
          ],
          [
           "Predator 2"
          ],
          [
           "Untraceable"
          ],
          [
           "Blast from the Past"
          ],
          [
           "Flash Gordon"
          ],
          [
           "Jersey Girl"
          ],
          [
           "Alex Cross"
          ],
          [
           "Midnight in the Garden of Good and Evil"
          ],
          [
           "Heist"
          ],
          [
           "Nanny McPhee and the Big Bang"
          ],
          [
           "Hoffa"
          ],
          [
           "The X Files: I Want to Believe"
          ],
          [
           "Ella Enchanted"
          ],
          [
           "Concussion"
          ],
          [
           "Abduction"
          ],
          [
           "Valiant"
          ],
          [
           "Wonder Boys"
          ],
          [
           "Superhero Movie"
          ],
          [
           "Broken City"
          ],
          [
           "Cursed"
          ],
          [
           "Premium Rush"
          ],
          [
           "Hot Pursuit"
          ],
          [
           "The Four Feathers"
          ],
          [
           "Parker"
          ],
          [
           "Wimbledon"
          ],
          [
           "Furry Vengeance"
          ],
          [
           "Bait"
          ],
          [
           "Krull"
          ],
          [
           "Lions for Lambs"
          ],
          [
           "Flight of the Intruder"
          ],
          [
           "Walk Hard: The Dewey Cox Story"
          ],
          [
           "The Shipping News"
          ],
          [
           "American Outlaws"
          ],
          [
           "The Young Victoria"
          ],
          [
           "Whiteout"
          ],
          [
           "The Tree of Life"
          ],
          [
           "Knock Off"
          ],
          [
           "Sabotage"
          ],
          [
           "The Order"
          ],
          [
           "Punisher: War Zone"
          ],
          [
           "Zoom"
          ],
          [
           "The Walk"
          ],
          [
           "Warriors of Virtue"
          ],
          [
           "A Good Year"
          ],
          [
           "Radio Flyer"
          ],
          [
           "Bound by Honor"
          ],
          [
           "Smilla's Sense of Snow"
          ],
          [
           "Femme Fatale"
          ],
          [
           "Lion of the Desert"
          ],
          [
           "The Horseman on the Roof"
          ],
          [
           "Ride with the Devil"
          ],
          [
           "Biutiful"
          ],
          [
           "Bandidas"
          ],
          [
           "Black Water Transit"
          ],
          [
           "The Maze Runner"
          ],
          [
           "Unfinished Business"
          ],
          [
           "The Age of Innocence"
          ],
          [
           "The Fountain"
          ],
          [
           "Chill Factor"
          ],
          [
           "Stolen"
          ],
          [
           "Ponyo"
          ],
          [
           "The Longest Ride"
          ],
          [
           "The Astronaut's Wife"
          ],
          [
           "I Dreamed of Africa"
          ],
          [
           "Playing for Keeps"
          ],
          [
           "Mandela: Long Walk to Freedom"
          ],
          [
           "Reds"
          ],
          [
           "A Few Good Men"
          ],
          [
           "Exit Wounds"
          ],
          [
           "Big Momma's House"
          ],
          [
           "Thunder and the House of Magic"
          ],
          [
           "The Darkest Hour"
          ],
          [
           "Step Up Revolution"
          ],
          [
           "Snakes on a Plane"
          ],
          [
           "The Watcher"
          ],
          [
           "The Punisher"
          ],
          [
           "Goal!: The Dream Begins"
          ],
          [
           "Safe"
          ],
          [
           "Pushing Tin"
          ],
          [
           "Return of the Jedi"
          ],
          [
           "Doomsday"
          ],
          [
           "The Reader"
          ],
          [
           "Wanderlust"
          ],
          [
           "Elf"
          ],
          [
           "Phenomenon"
          ],
          [
           "Snow Dogs"
          ],
          [
           "Scrooged"
          ],
          [
           "Nacho Libre"
          ],
          [
           "Bridesmaids"
          ],
          [
           "This Is the End"
          ],
          [
           "Stigmata"
          ],
          [
           "Men of Honor"
          ],
          [
           "Takers"
          ],
          [
           "The Big Wedding"
          ],
          [
           "Big Mommas: Like Father, Like Son"
          ],
          [
           "Source Code"
          ],
          [
           "Alive"
          ],
          [
           "The Number 23"
          ],
          [
           "The Young and Prodigious T.S. Spivet"
          ],
          [
           "1941"
          ],
          [
           "Dreamer: Inspired By a True Story"
          ],
          [
           "A History of Violence"
          ],
          [
           "Transporter 2"
          ],
          [
           "The Quick and the Dead"
          ],
          [
           "Laws of Attraction"
          ],
          [
           "Bringing Out the Dead"
          ],
          [
           "Repo Men"
          ],
          [
           "Dragon Wars: D-War"
          ],
          [
           "Bogus"
          ],
          [
           "The Incredible Burt Wonderstone"
          ],
          [
           "Cats Don't Dance"
          ],
          [
           "Cradle Will Rock"
          ],
          [
           "The Good German"
          ],
          [
           "George and the Dragon"
          ],
          [
           "Apocalypse Now"
          ],
          [
           "Going the Distance"
          ],
          [
           "Mr. Holland's Opus"
          ],
          [
           "Criminal"
          ],
          [
           "Out of Africa"
          ],
          [
           "Flight"
          ],
          [
           "Moonraker"
          ],
          [
           "The Grand Budapest Hotel"
          ],
          [
           "Hearts in Atlantis"
          ],
          [
           "Arachnophobia"
          ],
          [
           "Frequency"
          ],
          [
           "Vacation"
          ],
          [
           "Get Shorty"
          ],
          [
           "Chicago"
          ],
          [
           "Big Daddy"
          ],
          [
           "American Pie 2"
          ],
          [
           "Toy Story"
          ],
          [
           "Speed"
          ],
          [
           "The Vow"
          ],
          [
           "Extraordinary Measures"
          ],
          [
           "Remember the Titans"
          ],
          [
           "The Hunt for Red October"
          ],
          [
           "The Butler"
          ],
          [
           "DodgeBall: A True Underdog Story"
          ],
          [
           "The Addams Family"
          ],
          [
           "Ace Ventura: When Nature Calls"
          ],
          [
           "The Princess Diaries"
          ],
          [
           "The First Wives Club"
          ],
          [
           "Se7en"
          ],
          [
           "District 9"
          ],
          [
           "The SpongeBob SquarePants Movie"
          ],
          [
           "Mystic River"
          ],
          [
           "Million Dollar Baby"
          ],
          [
           "Analyze This"
          ],
          [
           "The Notebook"
          ],
          [
           "27 Dresses"
          ],
          [
           "Hannah Montana: The Movie"
          ],
          [
           "Rugrats in Paris: The Movie"
          ],
          [
           "The Prince of Tides"
          ],
          [
           "Legends of the Fall"
          ],
          [
           "Up in the Air"
          ],
          [
           "About Schmidt"
          ],
          [
           "Warm Bodies"
          ],
          [
           "Looper"
          ],
          [
           "Down to Earth"
          ],
          [
           "Babe"
          ],
          [
           "Hope Springs"
          ],
          [
           "Forgetting Sarah Marshall"
          ],
          [
           "Four Brothers"
          ],
          [
           "Baby Mama"
          ],
          [
           "Hope Floats"
          ],
          [
           "Bride Wars"
          ],
          [
           "Without a Paddle"
          ],
          [
           "13 Going on 30"
          ],
          [
           "Midnight in Paris"
          ],
          [
           "The Nut Job"
          ],
          [
           "Blow"
          ],
          [
           "Message in a Bottle"
          ],
          [
           "Star Trek V: The Final Frontier"
          ],
          [
           "Like Mike"
          ],
          [
           "The Naked Gun 33⅓: The Final Insult"
          ],
          [
           "A View to a Kill"
          ],
          [
           "The Curse of the Were-Rabbit"
          ],
          [
           "P.S. I Love You"
          ],
          [
           "Racing Stripes"
          ],
          [
           "Atonement"
          ],
          [
           "Letters to Juliet"
          ],
          [
           "Black Rain"
          ],
          [
           "The Three Stooges"
          ],
          [
           "Corpse Bride"
          ],
          [
           "Glory Road"
          ],
          [
           "Sicario"
          ],
          [
           "Southpaw"
          ],
          [
           "Drag Me to Hell"
          ],
          [
           "The Age of Adaline"
          ],
          [
           "Secondhand Lions"
          ],
          [
           "Step Up 3D"
          ],
          [
           "Blue Crush"
          ],
          [
           "Stranger Than Fiction"
          ],
          [
           "30 Days of Night"
          ],
          [
           "The Cabin in the Woods"
          ],
          [
           "Meet the Spartans"
          ],
          [
           "Midnight Run"
          ],
          [
           "The Running Man"
          ],
          [
           "Little Shop of Horrors"
          ],
          [
           "Hanna"
          ],
          [
           "Mortal Kombat: Annihilation"
          ],
          [
           "Larry Crowne"
          ],
          [
           "Carrie"
          ],
          [
           "Take the Lead"
          ],
          [
           "Gridiron Gang"
          ],
          [
           "What's the Worst That Could Happen?"
          ],
          [
           "9"
          ],
          [
           "Side Effects"
          ],
          [
           "The Prince & Me"
          ],
          [
           "Winnie the Pooh"
          ],
          [
           "Dumb and Dumberer: When Harry Met Lloyd"
          ],
          [
           "Bulworth"
          ],
          [
           "Get on Up"
          ],
          [
           "One True Thing"
          ],
          [
           "Virtuosity"
          ],
          [
           "My Super Ex-Girlfriend"
          ],
          [
           "Deliver Us from Evil"
          ],
          [
           "Sanctum"
          ],
          [
           "Little Black Book"
          ],
          [
           "The Five-Year Engagement"
          ],
          [
           "Mr. 3000"
          ],
          [
           "The Next Three Days"
          ],
          [
           "Ultraviolet"
          ],
          [
           "Assault on Precinct 13"
          ],
          [
           "The Replacement Killers"
          ],
          [
           "Fled"
          ],
          [
           "Eight Legged Freaks"
          ],
          [
           "Love & Other Drugs"
          ],
          [
           "88 Minutes"
          ],
          [
           "North Country"
          ],
          [
           "The Whole Ten Yards"
          ],
          [
           "Splice"
          ],
          [
           "Howard the Duck"
          ],
          [
           "Pride and Glory"
          ],
          [
           "The Cave"
          ],
          [
           "Alex & Emma"
          ],
          [
           "Wicker Park"
          ],
          [
           "Fright Night"
          ],
          [
           "The New World"
          ],
          [
           "Wing Commander"
          ],
          [
           "In Dreams"
          ],
          [
           "Dragonball Evolution"
          ],
          [
           "The Last Stand"
          ],
          [
           "Godsend"
          ],
          [
           "Chasing Liberty"
          ],
          [
           "Hoodwinked Too! Hood VS. Evil"
          ],
          [
           "An Unfinished Life"
          ],
          [
           "The Imaginarium of Doctor Parnassus"
          ],
          [
           "Barney's Version"
          ],
          [
           "Runner Runner"
          ],
          [
           "Antitrust"
          ],
          [
           "Glory"
          ],
          [
           "Once Upon a Time in America"
          ],
          [
           "Dead Man Down"
          ],
          [
           "The Merchant of Venice"
          ],
          [
           "The Good Thief"
          ],
          [
           "Supercross"
          ],
          [
           "Miss Potter"
          ],
          [
           "The Promise"
          ],
          [
           "DOA: Dead or Alive"
          ],
          [
           "The Assassination of Jesse James by the Coward Robert Ford"
          ],
          [
           "1911"
          ],
          [
           "Little Nicholas"
          ],
          [
           "Wild Card"
          ],
          [
           "Machine Gun Preacher"
          ],
          [
           "Animals United"
          ],
          [
           "Goodbye Bafana"
          ],
          [
           "United Passions"
          ],
          [
           "Grace of Monaco"
          ],
          [
           "Savva. Heart of the Warrior"
          ],
          [
           "Ripley's Game"
          ],
          [
           "Sausage Party"
          ],
          [
           "Pitch Perfect 2"
          ],
          [
           "Walk the Line"
          ],
          [
           "Keeping the Faith"
          ],
          [
           "The Borrowers"
          ],
          [
           "Frost/Nixon"
          ],
          [
           "Confessions of a Dangerous Mind"
          ],
          [
           "Serving Sara"
          ],
          [
           "The Boss"
          ],
          [
           "Cry Freedom"
          ],
          [
           "Mumford"
          ],
          [
           "Seed of Chucky"
          ],
          [
           "The Jacket"
          ],
          [
           "Aladdin"
          ],
          [
           "Straight Outta Compton"
          ],
          [
           "Indiana Jones and the Temple of Doom"
          ],
          [
           "The Rugrats Movie"
          ],
          [
           "Along Came a Spider"
          ],
          [
           "Florence Foster Jenkins"
          ],
          [
           "Once Upon a Time in Mexico"
          ],
          [
           "Die Hard"
          ],
          [
           "Role Models"
          ],
          [
           "The Big Short"
          ],
          [
           "Taking Woodstock"
          ],
          [
           "Miracle"
          ],
          [
           "Dawn of the Dead"
          ],
          [
           "The Wedding Planner"
          ],
          [
           "Space Pirate Captain Harlock"
          ],
          [
           "The Royal Tenenbaums"
          ],
          [
           "Identity"
          ],
          [
           "Last Vegas"
          ],
          [
           "For Your Eyes Only"
          ],
          [
           "Serendipity"
          ],
          [
           "Timecop"
          ],
          [
           "Zoolander"
          ],
          [
           "Safe Haven"
          ],
          [
           "Hocus Pocus"
          ],
          [
           "No Reservations"
          ],
          [
           "Kick-Ass"
          ],
          [
           "30 Minutes or Less"
          ],
          [
           "Dracula 2000"
          ],
          [
           "Alexander and the Terrible, Horrible, No Good, Very Bad Day"
          ],
          [
           "Pride & Prejudice"
          ],
          [
           "Blade Runner"
          ],
          [
           "Rob Roy"
          ],
          [
           "3 Days to Kill"
          ],
          [
           "We Own the Night"
          ],
          [
           "Lost Souls"
          ],
          [
           "Winged Migration"
          ],
          [
           "Just My Luck"
          ],
          [
           "Mystery, Alaska"
          ],
          [
           "The Spy Next Door"
          ],
          [
           "A Simple Wish"
          ],
          [
           "Ghosts of Mars"
          ],
          [
           "Our Brand Is Crisis"
          ],
          [
           "Pride and Prejudice and Zombies"
          ],
          [
           "Kundun"
          ],
          [
           "How to Lose Friends & Alienate People"
          ],
          [
           "Kick-Ass 2"
          ],
          [
           "Alatriste"
          ],
          [
           "Brick Mansions"
          ],
          [
           "Octopussy"
          ],
          [
           "Knocked Up"
          ],
          [
           "My Sister's Keeper"
          ],
          [
           "Welcome Home Roscoe Jenkins"
          ],
          [
           "A Passage to India"
          ],
          [
           "Notes on a Scandal"
          ],
          [
           "Rendition"
          ],
          [
           "Star Trek VI: The Undiscovered Country"
          ],
          [
           "Divine Secrets of the Ya-Ya Sisterhood"
          ],
          [
           "Kiss the Girls"
          ],
          [
           "The Blues Brothers"
          ],
          [
           "The Sisterhood of the Traveling Pants 2"
          ],
          [
           "Joyful Noise"
          ],
          [
           "About a Boy"
          ],
          [
           "Lake Placid"
          ],
          [
           "Lucky Number Slevin"
          ],
          [
           "The Right Stuff"
          ],
          [
           "Anonymous"
          ],
          [
           "The NeverEnding Story"
          ],
          [
           "Dark City"
          ],
          [
           "The Duchess"
          ],
          [
           "Return to Oz"
          ],
          [
           "The Newton Boys"
          ],
          [
           "Case 39"
          ],
          [
           "Suspect Zero"
          ],
          [
           "Martian Child"
          ],
          [
           "Spy Kids: All the Time in the World"
          ],
          [
           "Money Monster"
          ],
          [
           "The 51st State"
          ],
          [
           "Flawless"
          ],
          [
           "Mindhunters"
          ],
          [
           "What Just Happened"
          ],
          [
           "The Statement"
          ],
          [
           "The Magic Flute"
          ],
          [
           "Paul Blart: Mall Cop"
          ],
          [
           "Freaky Friday"
          ],
          [
           "The 40 Year Old Virgin"
          ],
          [
           "Shakespeare in Love"
          ],
          [
           "A Walk Among the Tombstones"
          ],
          [
           "Kindergarten Cop"
          ],
          [
           "Pineapple Express"
          ],
          [
           "Ever After: A Cinderella Story"
          ],
          [
           "Open Range"
          ],
          [
           "Flatliners"
          ],
          [
           "A Bridge Too Far"
          ],
          [
           "Red Eye"
          ],
          [
           "Final Destination 2"
          ],
          [
           "O Brother, Where Art Thou?"
          ],
          [
           "Legion"
          ],
          [
           "Pain & Gain"
          ],
          [
           "In Good Company"
          ],
          [
           "Clockstoppers"
          ],
          [
           "Silverado"
          ],
          [
           "Brothers"
          ],
          [
           "Agent Cody Banks 2: Destination London"
          ],
          [
           "New Year's Eve"
          ],
          [
           "Original Sin"
          ],
          [
           "The Raven"
          ],
          [
           "Welcome to Mooseport"
          ],
          [
           "Highlander: The Final Dimension"
          ],
          [
           "Blood and Wine"
          ],
          [
           "Snow White: A Tale of Terror"
          ],
          [
           "The Curse of the Jade Scorpion"
          ],
          [
           "Accidental Love"
          ],
          [
           "Flipper"
          ],
          [
           "Self/less"
          ],
          [
           "The Constant Gardener"
          ],
          [
           "The Passion of the Christ"
          ],
          [
           "Mrs. Doubtfire"
          ],
          [
           "Rain Man"
          ],
          [
           "Gran Torino"
          ],
          [
           "W."
          ],
          [
           "Taken"
          ],
          [
           "The Best of Me"
          ],
          [
           "The Bodyguard"
          ],
          [
           "Schindler's List"
          ],
          [
           "The Help"
          ],
          [
           "The Fifth Estate"
          ],
          [
           "Scooby-Doo 2: Monsters Unleashed"
          ],
          [
           "Forbidden Kingdom"
          ],
          [
           "Freddy vs. Jason"
          ],
          [
           "The Face of an Angel"
          ],
          [
           "Jimmy Neutron: Boy Genius"
          ],
          [
           "Cloverfield"
          ],
          [
           "Teenage Mutant Ninja Turtles II: The Secret of the Ooze"
          ],
          [
           "The Untouchables"
          ],
          [
           "No Country for Old Men"
          ],
          [
           "Ride Along"
          ],
          [
           "Bridget Jones's Diary"
          ],
          [
           "Chocolat"
          ],
          [
           "Legally Blonde 2: Red, White & Blonde"
          ],
          [
           "Parental Guidance"
          ],
          [
           "No Strings Attached"
          ],
          [
           "Tombstone"
          ],
          [
           "Romeo Must Die"
          ],
          [
           "The Omen"
          ],
          [
           "Final Destination 3"
          ],
          [
           "The Lucky One"
          ],
          [
           "Bridge to Terabithia"
          ],
          [
           "Finding Neverland"
          ],
          [
           "A Madea Christmas"
          ],
          [
           "The Grey"
          ],
          [
           "Hide and Seek"
          ],
          [
           "Anchorman: The Legend of Ron Burgundy"
          ],
          [
           "GoodFellas"
          ],
          [
           "Agent Cody Banks"
          ],
          [
           "Nanny McPhee"
          ],
          [
           "Scarface"
          ],
          [
           "Nothing to Lose"
          ],
          [
           "The Last Emperor"
          ],
          [
           "Contraband"
          ],
          [
           "Money Talks"
          ],
          [
           "There Will Be Blood"
          ],
          [
           "The Wild Thornberrys Movie"
          ],
          [
           "Rugrats Go Wild"
          ],
          [
           "Undercover Brother"
          ],
          [
           "The Sisterhood of the Traveling Pants"
          ],
          [
           "Kiss of the Dragon"
          ],
          [
           "The House Bunny"
          ],
          [
           "Beauty Shop"
          ],
          [
           "Million Dollar Arm"
          ],
          [
           "The Giver"
          ],
          [
           "What a Girl Wants"
          ],
          [
           "Jeepers Creepers 2"
          ],
          [
           "Good Luck Chuck"
          ],
          [
           "Cradle 2 the Grave"
          ],
          [
           "The Hours"
          ],
          [
           "She's the Man"
          ],
          [
           "Mr. Bean's Holiday"
          ],
          [
           "Anacondas: The Hunt for the Blood Orchid"
          ],
          [
           "Blood Ties"
          ],
          [
           "August Rush"
          ],
          [
           "Elizabeth"
          ],
          [
           "Bride of Chucky"
          ],
          [
           "Tora! Tora! Tora!"
          ],
          [
           "Spice World"
          ],
          [
           "The Sitter"
          ],
          [
           "Dance Flick"
          ],
          [
           "The Shawshank Redemption"
          ],
          [
           "Crocodile Dundee in Los Angeles"
          ],
          [
           "Kingpin"
          ],
          [
           "The Gambler"
          ],
          [
           "August: Osage County"
          ],
          [
           "Ice Princess"
          ],
          [
           "A Lot Like Love"
          ],
          [
           "Eddie the Eagle"
          ],
          [
           "He Got Game"
          ],
          [
           "Don Juan DeMarco"
          ],
          [
           "Dear John"
          ],
          [
           "The Losers"
          ],
          [
           "Don't Be Afraid of the Dark"
          ],
          [
           "War"
          ],
          [
           "Punch-Drunk Love"
          ],
          [
           "EuroTrip"
          ],
          [
           "Half Past Dead"
          ],
          [
           "Unaccompanied Minors"
          ],
          [
           "Bright Lights, Big City"
          ],
          [
           "The Adventures of Pinocchio"
          ],
          [
           "The Greatest Game Ever Played"
          ],
          [
           "The Box"
          ],
          [
           "The Ruins"
          ],
          [
           "The Next Best Thing"
          ],
          [
           "My Soul to Take"
          ],
          [
           "The Girl Next Door"
          ],
          [
           "Maximum Risk"
          ],
          [
           "Stealing Harvard"
          ],
          [
           "Legend"
          ],
          [
           "Hot Rod"
          ],
          [
           "Shark Night"
          ],
          [
           "Angela's Ashes"
          ],
          [
           "Draft Day"
          ],
          [
           "Lifeforce"
          ],
          [
           "The Conspirator"
          ],
          [
           "Lords of Dogtown"
          ],
          [
           "The 33"
          ],
          [
           "Big Trouble in Little China"
          ],
          [
           "Fly Me to the Moon"
          ],
          [
           "Warrior"
          ],
          [
           "Michael Collins"
          ],
          [
           "Gettysburg"
          ],
          [
           "Stop-Loss"
          ],
          [
           "Abandon"
          ],
          [
           "Brokedown Palace"
          ],
          [
           "The Possession"
          ],
          [
           "Mrs. Winterbourne"
          ],
          [
           "Straw Dogs"
          ],
          [
           "The Hoax"
          ],
          [
           "Stone Cold"
          ],
          [
           "The Road"
          ],
          [
           "Sheena"
          ],
          [
           "Underclassman"
          ],
          [
           "Say It Isn't So"
          ],
          [
           "The World's Fastest Indian"
          ],
          [
           "Tank Girl"
          ],
          [
           "King's Ransom"
          ],
          [
           "Blindness"
          ],
          [
           "BloodRayne"
          ],
          [
           "Carnage"
          ],
          [
           "Where the Truth Lies"
          ],
          [
           "Cirque du Soleil: Worlds Away"
          ],
          [
           "Without Limits"
          ],
          [
           "Me and Orson Welles"
          ],
          [
           "The Best Offer"
          ],
          [
           "The Bad Lieutenant: Port of Call - New Orleans"
          ],
          [
           "A Turtle's Tale: Sammy's Adventures"
          ],
          [
           "Little White Lies"
          ],
          [
           "Love Ranch"
          ],
          [
           "The True Story of Puss 'n Boots"
          ],
          [
           "Space Dogs"
          ],
          [
           "The Counselor"
          ],
          [
           "Ironclad"
          ],
          [
           "Waterloo"
          ],
          [
           "Kung Fu Jungle"
          ],
          [
           "Red Sky"
          ],
          [
           "Dangerous Liaisons"
          ],
          [
           "On the Road"
          ],
          [
           "Star Trek IV: The Voyage Home"
          ],
          [
           "Rocky Balboa"
          ],
          [
           "Scream 2"
          ],
          [
           "Jane Got a Gun"
          ],
          [
           "Think Like a Man Too"
          ],
          [
           "The Whole Nine Yards"
          ],
          [
           "Footloose"
          ],
          [
           "Old School"
          ],
          [
           "The Fisher King"
          ],
          [
           "I Still Know What You Did Last Summer"
          ],
          [
           "Return to Me"
          ],
          [
           "Zack and Miri Make a Porno"
          ],
          [
           "Nurse Betty"
          ],
          [
           "The Men Who Stare at Goats"
          ],
          [
           "Double Take"
          ],
          [
           "Girl, Interrupted"
          ],
          [
           "Win a Date with Tad Hamilton!"
          ],
          [
           "Muppets from Space"
          ],
          [
           "The Wiz"
          ],
          [
           "Ready to Rumble"
          ],
          [
           "Play It to the Bone"
          ],
          [
           "I Don't Know How She Does It"
          ],
          [
           "Piranha 3D"
          ],
          [
           "Beyond the Sea"
          ],
          [
           "Meet the Deedles"
          ],
          [
           "The Thief and the Cobbler"
          ],
          [
           "The Bridge of San Luis Rey"
          ],
          [
           "Faster"
          ],
          [
           "Howl's Moving Castle"
          ],
          [
           "Zombieland"
          ],
          [
           "The Waterboy"
          ],
          [
           "The Empire Strikes Back"
          ],
          [
           "Bad Boys"
          ],
          [
           "The Naked Gun 2½: The Smell of Fear"
          ],
          [
           "Final Destination"
          ],
          [
           "The Ides of March"
          ],
          [
           "Pitch Black"
          ],
          [
           "Someone Like You..."
          ],
          [
           "Her"
          ],
          [
           "Joy Ride"
          ],
          [
           "The Adventurer: The Curse of the Midas Box"
          ],
          [
           "Anywhere But Here"
          ],
          [
           "The Crew"
          ],
          [
           "Haywire"
          ],
          [
           "Jaws: The Revenge"
          ],
          [
           "Marvin's Room"
          ],
          [
           "The Longshots"
          ],
          [
           "The End of the Affair"
          ],
          [
           "Harley Davidson and the Marlboro Man"
          ],
          [
           "In the Valley of Elah"
          ],
          [
           "Coco Before Chanel"
          ],
          [
           "Forsaken"
          ],
          [
           "Cheri"
          ],
          [
           "Vanity Fair"
          ],
          [
           "Bodyguards and Assassins"
          ],
          [
           "1408"
          ],
          [
           "Spaceballs"
          ],
          [
           "The Water Diviner"
          ],
          [
           "Ghost"
          ],
          [
           "There's Something About Mary"
          ],
          [
           "The Santa Clause"
          ],
          [
           "The Rookie"
          ],
          [
           "The Game Plan"
          ],
          [
           "The Bridges of Madison County"
          ],
          [
           "The Animal"
          ],
          [
           "Gandhi"
          ],
          [
           "The Hundred-Foot Journey"
          ],
          [
           "The Net"
          ],
          [
           "I Am Sam"
          ],
          [
           "Son of God"
          ],
          [
           "Underworld"
          ],
          [
           "Derailed"
          ],
          [
           "The Informant!"
          ],
          [
           "Shadowlands"
          ],
          [
           "Deuce Bigalow: European Gigolo"
          ],
          [
           "Delivery Man"
          ],
          [
           "Our Kind of Traitor"
          ],
          [
           "Saving Silverman"
          ],
          [
           "Diary of a Wimpy Kid: Dog Days"
          ],
          [
           "Summer of Sam"
          ],
          [
           "Jay and Silent Bob Strike Back"
          ],
          [
           "The Glass House"
          ],
          [
           "Hail, Caesar!"
          ],
          [
           "Josie and the Pussycats"
          ],
          [
           "Homefront"
          ],
          [
           "The Little Vampire"
          ],
          [
           "I Heart Huckabees"
          ],
          [
           "RoboCop 3"
          ],
          [
           "Megiddo: The Omega Code 2"
          ],
          [
           "Darling Lili"
          ],
          [
           "Dudley Do-Right"
          ],
          [
           "The Transporter Refueled"
          ],
          [
           "The Libertine"
          ],
          [
           "Black Book"
          ],
          [
           "Joyeux Noël"
          ],
          [
           "Hit & Run"
          ],
          [
           "Mad Money"
          ],
          [
           "Before I Go to Sleep"
          ],
          [
           "Sorcerer"
          ],
          [
           "Stone"
          ],
          [
           "Moliere"
          ],
          [
           "Out of the Furnace"
          ],
          [
           "Michael Clayton"
          ],
          [
           "My Fellow Americans"
          ],
          [
           "Arlington Road"
          ],
          [
           "Underdogs"
          ],
          [
           "To Rome with Love"
          ],
          [
           "Firefox"
          ],
          [
           "South Park: Bigger, Longer & Uncut"
          ],
          [
           "Death at a Funeral"
          ],
          [
           "Teenage Mutant Ninja Turtles III"
          ],
          [
           "Hardball"
          ],
          [
           "Silver Linings Playbook"
          ],
          [
           "Freedom Writers"
          ],
          [
           "For Colored Girls"
          ],
          [
           "The Transporter"
          ],
          [
           "Never Back Down"
          ],
          [
           "The Rage: Carrie 2"
          ],
          [
           "Away We Go"
          ],
          [
           "Swing Vote"
          ],
          [
           "Moonlight Mile"
          ],
          [
           "Tinker Tailor Soldier Spy"
          ],
          [
           "Molly"
          ],
          [
           "The Beaver"
          ],
          [
           "The Best Little Whorehouse in Texas"
          ],
          [
           "eXistenZ"
          ],
          [
           "Raiders of the Lost Ark"
          ],
          [
           "Home Alone 2: Lost in New York"
          ],
          [
           "Close Encounters of the Third Kind"
          ],
          [
           "Pulse"
          ],
          [
           "Beverly Hills Cop II"
          ],
          [
           "Bringing Down the House"
          ],
          [
           "The Silence of the Lambs"
          ],
          [
           "Wayne's World"
          ],
          [
           "Jackass 3D"
          ],
          [
           "Jaws 2"
          ],
          [
           "Beverly Hills Chihuahua"
          ],
          [
           "The Conjuring"
          ],
          [
           "Are We There Yet?"
          ],
          [
           "Tammy"
          ],
          [
           "School of Rock"
          ],
          [
           "Mortal Kombat"
          ],
          [
           "White Chicks"
          ],
          [
           "The Descendants"
          ],
          [
           "Holes"
          ],
          [
           "The Last Song"
          ],
          [
           "12 Years a Slave"
          ],
          [
           "Drumline"
          ],
          [
           "Why Did I Get Married Too?"
          ],
          [
           "Edward Scissorhands"
          ],
          [
           "Me Before You"
          ],
          [
           "Madea's Witness Protection"
          ],
          [
           "The French Connection"
          ],
          [
           "Bad Moms"
          ],
          [
           "Date Movie"
          ],
          [
           "Return to Never Land"
          ],
          [
           "Selma"
          ],
          [
           "The Jungle Book 2"
          ],
          [
           "Boogeyman"
          ],
          [
           "Premonition"
          ],
          [
           "The Tigger Movie"
          ],
          [
           "Orphan"
          ],
          [
           "Max"
          ],
          [
           "Epic Movie"
          ],
          [
           "Spotlight"
          ],
          [
           "Lakeview Terrace"
          ],
          [
           "The Grudge 2"
          ],
          [
           "How Stella Got Her Groove Back"
          ],
          [
           "Bill & Ted's Bogus Journey"
          ],
          [
           "Man of the Year"
          ],
          [
           "The Black Hole"
          ],
          [
           "The American"
          ],
          [
           "Selena"
          ],
          [
           "Vampires Suck"
          ],
          [
           "Babel"
          ],
          [
           "This Is Where I Leave You"
          ],
          [
           "Doubt"
          ],
          [
           "Team America: World Police"
          ],
          [
           "Texas Chainsaw 3D"
          ],
          [
           "Copycat"
          ],
          [
           "Scary Movie 5"
          ],
          [
           "Paint Your Wagon"
          ],
          [
           "Milk"
          ],
          [
           "Risen"
          ],
          [
           "Ghost Ship"
          ],
          [
           "A Very Harold & Kumar Christmas"
          ],
          [
           "Wild Things"
          ],
          [
           "The Stepfather"
          ],
          [
           "The Debt"
          ],
          [
           "High Fidelity"
          ],
          [
           "One Missed Call"
          ],
          [
           "Eye for an Eye"
          ],
          [
           "The Bank Job"
          ],
          [
           "Eternal Sunshine of the Spotless Mind"
          ],
          [
           "You Again"
          ],
          [
           "Street Kings"
          ],
          [
           "The World's End"
          ],
          [
           "Nancy Drew"
          ],
          [
           "Daybreakers"
          ],
          [
           "She's Out of My League"
          ],
          [
           "Monte Carlo"
          ],
          [
           "Stay Alive"
          ],
          [
           "Quigley Down Under"
          ],
          [
           "Alpha and Omega"
          ],
          [
           "The Covenant"
          ],
          [
           "Stick It"
          ],
          [
           "Shorts"
          ],
          [
           "To Die For"
          ],
          [
           "Nerve"
          ],
          [
           "Appaloosa"
          ],
          [
           "Vampires"
          ],
          [
           "Psycho"
          ],
          [
           "My Best Friend's Girl"
          ],
          [
           "Endless Love"
          ],
          [
           "Georgia Rule"
          ],
          [
           "Under the Rainbow"
          ],
          [
           "Ladyhawke"
          ],
          [
           "Simon Birch"
          ],
          [
           "Reign Over Me"
          ],
          [
           "Into the Wild"
          ],
          [
           "School for Scoundrels"
          ],
          [
           "Silent Hill: Revelation 3D"
          ],
          [
           "From Dusk Till Dawn"
          ],
          [
           "Pooh's Heffalump Movie"
          ],
          [
           "Home for the Holidays"
          ],
          [
           "Kung Fu Hustle"
          ],
          [
           "The Country Bears"
          ],
          [
           "The Kite Runner"
          ],
          [
           "21 Grams"
          ],
          [
           "Paparazzi"
          ],
          [
           "A Guy Thing"
          ],
          [
           "Loser"
          ],
          [
           "Capitalism: A Love Story"
          ],
          [
           "The Greatest Story Ever Told"
          ],
          [
           "Secret in Their Eyes"
          ],
          [
           "Disaster Movie"
          ],
          [
           "Armored"
          ],
          [
           "The Man Who Knew Too Little"
          ],
          [
           "What's Your Number?"
          ],
          [
           "Lockout"
          ],
          [
           "Envy"
          ],
          [
           "Crank: High Voltage"
          ],
          [
           "Bullets Over Broadway"
          ],
          [
           "One Night with the King"
          ],
          [
           "The Quiet American"
          ],
          [
           "The Weather Man"
          ],
          [
           "Undisputed"
          ],
          [
           "Ghost Town"
          ],
          [
           "12 Rounds"
          ],
          [
           "Let Me In"
          ],
          [
           "3 Ninjas Kick Back"
          ],
          [
           "Be Kind Rewind"
          ],
          [
           "Mrs Henderson Presents"
          ],
          [
           "Triple 9"
          ],
          [
           "Deconstructing Harry"
          ],
          [
           "Three to Tango"
          ],
          [
           "Burnt"
          ],
          [
           "We're No Angels"
          ],
          [
           "Everyone Says I Love You"
          ],
          [
           "Death Sentence"
          ],
          [
           "Everybody's Fine"
          ],
          [
           "Superbabies: Baby Geniuses 2"
          ],
          [
           "The Man"
          ],
          [
           "Code Name: The Cleaner"
          ],
          [
           "Connie and Carla"
          ],
          [
           "Sweet Charity"
          ],
          [
           "Inherent Vice"
          ],
          [
           "Doogal"
          ],
          [
           "Battle of the Year"
          ],
          [
           "An American Carol"
          ],
          [
           "Machete Kills"
          ],
          [
           "Willard"
          ],
          [
           "Strange Wilderness"
          ],
          [
           "Topsy-Turvy"
          ],
          [
           "Little Boy"
          ],
          [
           "A Dangerous Method"
          ],
          [
           "A Scanner Darkly"
          ],
          [
           "Chasing Mavericks"
          ],
          [
           "Alone in the Dark"
          ],
          [
           "Bandslam"
          ],
          [
           "Birth"
          ],
          [
           "A Most Violent Year"
          ],
          [
           "Passchendaele"
          ],
          [
           "Flash of Genius"
          ],
          [
           "I'm Not There."
          ],
          [
           "The Cold Light of Day"
          ],
          [
           "The Brothers Bloom"
          ],
          [
           "Synecdoche, New York"
          ],
          [
           "Princess Mononoke"
          ],
          [
           "Bon voyage"
          ],
          [
           "Can't Stop the Music"
          ],
          [
           "The Proposition"
          ],
          [
           "My All American"
          ],
          [
           "Marci X"
          ],
          [
           "Equilibrium"
          ],
          [
           "The Children of Huang Shi"
          ],
          [
           "The Yards"
          ],
          [
           "The Oogieloves in the Big Balloon Adventure"
          ],
          [
           "By the Sea"
          ],
          [
           "Steamboy"
          ],
          [
           "The Game of Their Lives"
          ],
          [
           "All Good Things"
          ],
          [
           "Rapa Nui"
          ],
          [
           "CJ7"
          ],
          [
           "The Visitors II: The Corridors of Time"
          ],
          [
           "Dylan Dog: Dead of Night"
          ],
          [
           "People I Know"
          ],
          [
           "The Tempest"
          ],
          [
           "Regression"
          ],
          [
           "Three Kingdoms: Resurrection of the Dragon"
          ],
          [
           "Butterfly on a Wheel"
          ],
          [
           "Zambezia"
          ],
          [
           "Ramanujan"
          ],
          [
           "Dwegons"
          ],
          [
           "Hands of Stone"
          ],
          [
           "Survivor"
          ],
          [
           "The Frozen Ground"
          ],
          [
           "The Painted Veil"
          ],
          [
           "The Baader Meinhof Complex"
          ],
          [
           "Dances with Wolves"
          ],
          [
           "Bad Teacher"
          ],
          [
           "Sea of Love"
          ],
          [
           "A Cinderella Story"
          ],
          [
           "Scream"
          ],
          [
           "Thir13en Ghosts"
          ],
          [
           "The Shining"
          ],
          [
           "Back to the Future"
          ],
          [
           "House on Haunted Hill"
          ],
          [
           "I Can Do Bad All By Myself"
          ],
          [
           "Fight Valley"
          ],
          [
           "The Switch"
          ],
          [
           "Just Married"
          ],
          [
           "The Devil's Double"
          ],
          [
           "Thomas and the Magic Railroad"
          ],
          [
           "The Crazies"
          ],
          [
           "Spirited Away"
          ],
          [
           "Firestorm"
          ],
          [
           "The Bounty"
          ],
          [
           "The Book Thief"
          ],
          [
           "Sex Drive"
          ],
          [
           "Leap Year"
          ],
          [
           "The Fall of the Roman Empire"
          ],
          [
           "Take Me Home Tonight"
          ],
          [
           "Won't Back Down"
          ],
          [
           "The Nutcracker"
          ],
          [
           "Kansas City"
          ],
          [
           "Indignation"
          ],
          [
           "The Amityville Horror"
          ],
          [
           "Adaptation."
          ],
          [
           "Land of the Dead"
          ],
          [
           "Out of Inferno"
          ],
          [
           "Fear and Loathing in Las Vegas"
          ],
          [
           "The Invention of Lying"
          ],
          [
           "Neighbors"
          ],
          [
           "The Mask"
          ],
          [
           "Big"
          ],
          [
           "Borat: Cultural Learnings of America for Make Benefit Glorious Nation of Kazakhstan"
          ],
          [
           "Legally Blonde"
          ],
          [
           "Star Trek III: The Search for Spock"
          ],
          [
           "The Exorcism of Emily Rose"
          ],
          [
           "Deuce Bigalow: Male Gigolo"
          ],
          [
           "Left Behind"
          ],
          [
           "The Family Stone"
          ],
          [
           "Barbershop 2:  Back in Business"
          ],
          [
           "Bad Santa"
          ],
          [
           "Austin Powers: International Man of Mystery"
          ],
          [
           "My Big Fat Greek Wedding 2"
          ],
          [
           "Diary of a Wimpy Kid: Rodrick Rules"
          ],
          [
           "Predator"
          ],
          [
           "Amadeus"
          ],
          [
           "Prom Night"
          ],
          [
           "Mean Girls"
          ],
          [
           "Under the Tuscan Sun"
          ],
          [
           "Gosford Park"
          ],
          [
           "Peggy Sue Got Married"
          ],
          [
           "Birdman"
          ],
          [
           "Blue Jasmine"
          ],
          [
           "United 93"
          ],
          [
           "Honey"
          ],
          [
           "Spy Hard"
          ],
          [
           "The Fog"
          ],
          [
           "Soul Surfer"
          ],
          [
           "Catch-22"
          ],
          [
           "Observe and Report"
          ],
          [
           "Conan the Destroyer"
          ],
          [
           "Raging Bull"
          ],
          [
           "Love Happens"
          ],
          [
           "Young Sherlock Holmes"
          ],
          [
           "Fame"
          ],
          [
           "127 Hours"
          ],
          [
           "Small Time Crooks"
          ],
          [
           "Center Stage"
          ],
          [
           "Love the Coopers"
          ],
          [
           "Catch That Kid"
          ],
          [
           "Life as a House"
          ],
          [
           "Steve Jobs"
          ],
          [
           "I Love You, Beth Cooper"
          ],
          [
           "Youth in Revolt"
          ],
          [
           "The Legend of the Lone Ranger"
          ],
          [
           "The Tailor of Panama"
          ],
          [
           "Blow Out"
          ],
          [
           "Getaway"
          ],
          [
           "The Ice Storm"
          ],
          [
           "And So It Goes"
          ],
          [
           "Troop Beverly Hills"
          ],
          [
           "Being Julia"
          ],
          [
           "Nine 1/2 Weeks"
          ],
          [
           "Dragonslayer"
          ],
          [
           "The Last Station"
          ],
          [
           "Ed Wood"
          ],
          [
           "Labor Day"
          ],
          [
           "Mongol: The Rise of Genghis Khan"
          ],
          [
           "RockNRolla"
          ],
          [
           "Megaforce"
          ],
          [
           "Hamlet"
          ],
          [
           "Mao's Last Dancer"
          ],
          [
           "Midnight Special"
          ],
          [
           "Anything Else"
          ],
          [
           "The Railway Man"
          ],
          [
           "The White Ribbon"
          ],
          [
           "Restoration"
          ],
          [
           "The Wraith"
          ],
          [
           "Salton Sea"
          ],
          [
           "Metallica: Through the Never"
          ],
          [
           "The Informers"
          ],
          [
           "Carlos"
          ],
          [
           "I Come with the Rain"
          ],
          [
           "One Man's Hero"
          ],
          [
           "Day of the Dead"
          ],
          [
           "I Am Wrath"
          ],
          [
           "Renaissance"
          ],
          [
           "Red Sonja"
          ],
          [
           "Red Lights"
          ],
          [
           "Superbad"
          ],
          [
           "Madea Goes to Jail"
          ],
          [
           "Wolves"
          ],
          [
           "Step Up 2: The Streets"
          ],
          [
           "Hoodwinked!"
          ],
          [
           "Hotel Rwanda"
          ],
          [
           "Hitman"
          ],
          [
           "Black Nativity"
          ],
          [
           "The Prince"
          ],
          [
           "City of Ghosts"
          ],
          [
           "The Others"
          ],
          [
           "Aliens"
          ],
          [
           "My Fair Lady"
          ],
          [
           "I Know What You Did Last Summer"
          ],
          [
           "Let's Be Cops"
          ],
          [
           "Sideways"
          ],
          [
           "Beerfest"
          ],
          [
           "Halloween"
          ],
          [
           "Good Boy!"
          ],
          [
           "The Best Man Holiday"
          ],
          [
           "Smokin' Aces"
          ],
          [
           "Saw: The Final Chapter"
          ],
          [
           "40 Days and 40 Nights"
          ],
          [
           "A Night at the Roxbury"
          ],
          [
           "Beastly"
          ],
          [
           "The Hills Have Eyes"
          ],
          [
           "Dickie Roberts: Former Child Star"
          ],
          [
           "McFarland, USA"
          ],
          [
           "Lottery Ticket"
          ],
          [
           "ATL"
          ],
          [
           "Pitch Perfect"
          ],
          [
           "Summer Catch"
          ],
          [
           "A Simple Plan"
          ],
          [
           "They"
          ],
          [
           "Larry the Cable Guy: Health Inspector"
          ],
          [
           "The Adventures of Elmo in Grouchland"
          ],
          [
           "Brooklyn's Finest"
          ],
          [
           "55 Days at Peking"
          ],
          [
           "Evil Dead"
          ],
          [
           "My Life in Ruins"
          ],
          [
           "American Dreamz"
          ],
          [
           "Superman IV: The Quest for Peace"
          ],
          [
           "How She Move"
          ],
          [
           "Running Scared"
          ],
          [
           "Bobby Jones: Stroke of Genius"
          ],
          [
           "Shanghai Surprise"
          ],
          [
           "The Illusionist"
          ],
          [
           "Roar"
          ],
          [
           "Veronica Guerin"
          ],
          [
           "Escobar: Paradise Lost"
          ],
          [
           "Southland Tales"
          ],
          [
           "Dragon Hunters"
          ],
          [
           "Damnation Alley"
          ],
          [
           "The Apparition"
          ],
          [
           "My Girl"
          ],
          [
           "Fur: An Imaginary Portrait of Diane Arbus"
          ],
          [
           "Wall Street"
          ],
          [
           "Sense and Sensibility"
          ],
          [
           "Becoming Jane"
          ],
          [
           "Sydney White"
          ],
          [
           "House of Sand and Fog"
          ],
          [
           "Dead Poets Society"
          ],
          [
           "Dumb and Dumber"
          ],
          [
           "When Harry Met Sally..."
          ],
          [
           "The Verdict"
          ],
          [
           "Road Trip"
          ],
          [
           "Varsity Blues"
          ],
          [
           "The Artist"
          ],
          [
           "The Unborn"
          ],
          [
           "Moonrise Kingdom"
          ],
          [
           "The Texas Chainsaw Massacre: The Beginning"
          ],
          [
           "The Young Messiah"
          ],
          [
           "The Master of Disguise"
          ],
          [
           "Pan's Labyrinth"
          ],
          [
           "See Spot Run"
          ],
          [
           "Baby Boy"
          ],
          [
           "The Roommate"
          ],
          [
           "Joe Dirt"
          ],
          [
           "Double Impact"
          ],
          [
           "Hot Fuzz"
          ],
          [
           "The Women"
          ],
          [
           "Vicky Cristina Barcelona"
          ],
          [
           "Arn: The Knight Templar"
          ],
          [
           "Boys and Girls"
          ],
          [
           "White Oleander"
          ],
          [
           "Jennifer's Body"
          ],
          [
           "Drowning Mona"
          ],
          [
           "Radio Days"
          ],
          [
           "Remember Me"
          ],
          [
           "How to Deal"
          ],
          [
           "My Stepmother is an Alien"
          ],
          [
           "Philadelphia"
          ],
          [
           "The Thirteenth Floor"
          ],
          [
           "The Cookout"
          ],
          [
           "Meteor"
          ],
          [
           "Duets"
          ],
          [
           "Hollywood Ending"
          ],
          [
           "Detroit Rock City"
          ],
          [
           "Highlander"
          ],
          [
           "Things We Lost in the Fire"
          ],
          [
           "Steel"
          ],
          [
           "The Immigrant"
          ],
          [
           "The White Countess"
          ],
          [
           "Trance"
          ],
          [
           "Soul Plane"
          ],
          [
           "Welcome to the Sticks"
          ],
          [
           "Good"
          ],
          [
           "Enter the Void"
          ],
          [
           "Vamps"
          ],
          [
           "Hachi: A Dog's Tale"
          ],
          [
           "Zulu"
          ],
          [
           "The Homesman"
          ],
          [
           "Juwanna Mann"
          ],
          [
           "Ararat"
          ],
          [
           "Madison"
          ],
          [
           "Slow Burn"
          ],
          [
           "Wasabi"
          ],
          [
           "Slither"
          ],
          [
           "Beverly Hills Cop"
          ],
          [
           "Home Alone"
          ],
          [
           "Three Men and a Baby"
          ],
          [
           "Tootsie"
          ],
          [
           "Top Gun"
          ],
          [
           "Crouching Tiger, Hidden Dragon"
          ],
          [
           "American Beauty"
          ],
          [
           "The King's Speech"
          ],
          [
           "Twins"
          ],
          [
           "The Yellow Handkerchief"
          ],
          [
           "The Color Purple"
          ],
          [
           "Tidal Wave"
          ],
          [
           "The Imitation Game"
          ],
          [
           "Private Benjamin"
          ],
          [
           "Coal Miner's Daughter"
          ],
          [
           "Diary of a Wimpy Kid"
          ],
          [
           "Mama"
          ],
          [
           "National Lampoon's Vacation"
          ],
          [
           "Bad Grandpa"
          ],
          [
           "The Queen"
          ],
          [
           "Beetlejuice"
          ],
          [
           "Why Did I Get Married?"
          ],
          [
           "Little Women"
          ],
          [
           "The Woman in Black"
          ],
          [
           "When a Stranger Calls"
          ],
          [
           "Big Fat Liar"
          ],
          [
           "The Deer Hunter"
          ],
          [
           "Wag the Dog"
          ],
          [
           "The Lizzie McGuire Movie"
          ],
          [
           "Snitch"
          ],
          [
           "Krampus"
          ],
          [
           "The Faculty"
          ],
          [
           "What's Love Got to Do with It"
          ],
          [
           "Cop Land"
          ],
          [
           "Not Another Teen Movie"
          ],
          [
           "End of Watch"
          ],
          [
           "The Skulls"
          ],
          [
           "The Theory of Everything"
          ],
          [
           "Malibu's Most Wanted"
          ],
          [
           "Where the Heart Is"
          ],
          [
           "Lawrence of Arabia"
          ],
          [
           "Halloween II"
          ],
          [
           "Wild"
          ],
          [
           "The Last House on the Left"
          ],
          [
           "The Wedding Date"
          ],
          [
           "Halloween: Resurrection"
          ],
          [
           "The Princess Bride"
          ],
          [
           "The Great Debaters"
          ],
          [
           "Drive"
          ],
          [
           "Confessions of a Teenage Drama Queen"
          ],
          [
           "The Object of My Affection"
          ],
          [
           "28 Weeks Later"
          ],
          [
           "When the Game Stands Tall"
          ],
          [
           "Because of Winn-Dixie"
          ],
          [
           "Love & Basketball"
          ],
          [
           "Grosse Pointe Blank"
          ],
          [
           "All About Steve"
          ],
          [
           "Book of Shadows: Blair Witch 2"
          ],
          [
           "The Craft"
          ],
          [
           "Match Point"
          ],
          [
           "Ramona and Beezus"
          ],
          [
           "The Remains of the Day"
          ],
          [
           "Boogie Nights"
          ],
          [
           "Nowhere to Run"
          ],
          [
           "Flicka"
          ],
          [
           "The Hills Have Eyes 2"
          ],
          [
           "Urban Legends: Final Cut"
          ],
          [
           "Tuck Everlasting"
          ],
          [
           "The Marine"
          ],
          [
           "Keanu"
          ],
          [
           "Country Strong"
          ],
          [
           "Disturbing Behavior"
          ],
          [
           "The Place Beyond the Pines"
          ],
          [
           "The November Man"
          ],
          [
           "Eye of the Beholder"
          ],
          [
           "The Hurt Locker"
          ],
          [
           "Firestarter"
          ],
          [
           "Killing Them Softly"
          ],
          [
           "A Most Wanted Man"
          ],
          [
           "Freddy Got Fingered"
          ],
          [
           "VeggieTales: The Pirates Who Don't Do Anything"
          ],
          [
           "U2 3D"
          ],
          [
           "Highlander: Endgame"
          ],
          [
           "Idlewild"
          ],
          [
           "One Day"
          ],
          [
           "Whip It"
          ],
          [
           "Knockaround Guys"
          ],
          [
           "Confidence"
          ],
          [
           "The Muse"
          ],
          [
           "De-Lovely"
          ],
          [
           "New York Stories"
          ],
          [
           "Barney's Great Adventure"
          ],
          [
           "The Man with the Iron Fists"
          ],
          [
           "Home Fries"
          ],
          [
           "Here On Earth"
          ],
          [
           "Brazil"
          ],
          [
           "Raise Your Voice"
          ],
          [
           "The Big Lebowski"
          ],
          [
           "Black Snake Moan"
          ],
          [
           "Dark Blue"
          ],
          [
           "A Mighty Heart"
          ],
          [
           "Whatever It Takes"
          ],
          [
           "Boat Trip"
          ],
          [
           "The Importance of Being Earnest"
          ],
          [
           "The Love Letter"
          ],
          [
           "Hoot"
          ],
          [
           "In Bruges"
          ],
          [
           "Peeples"
          ],
          [
           "The Rocker"
          ],
          [
           "Post Grad"
          ],
          [
           "Promised Land"
          ],
          [
           "Whatever Works"
          ],
          [
           "The In Crowd"
          ],
          [
           "The Three Burials of Melquiades Estrada"
          ],
          [
           "Jakob the Liar"
          ],
          [
           "Kiss Kiss Bang Bang"
          ],
          [
           "Idle Hands"
          ],
          [
           "Mulholland Drive"
          ],
          [
           "Blood and Chocolate"
          ],
          [
           "You Will Meet a Tall Dark Stranger"
          ],
          [
           "Never Let Me Go"
          ],
          [
           "The Company"
          ],
          [
           "Transsiberian"
          ],
          [
           "The Clan of the Cave Bear"
          ],
          [
           "Crazy in Alabama"
          ],
          [
           "Funny Games"
          ],
          [
           "Listening"
          ],
          [
           "Felicia's Journey"
          ],
          [
           "Metropolis"
          ],
          [
           "District B13"
          ],
          [
           "Things to Do in Denver When You're Dead"
          ],
          [
           "The Assassin"
          ],
          [
           "Buffalo Soldiers"
          ],
          [
           "The Return"
          ],
          [
           "Ong Bak 2"
          ],
          [
           "Centurion"
          ],
          [
           "Silent Trigger"
          ],
          [
           "The Midnight Meat Train"
          ],
          [
           "Winnie Mandela"
          ],
          [
           "The Son of No One"
          ],
          [
           "All The Queen's Men"
          ],
          [
           "The Good Night"
          ],
          [
           "Bathory: Countess of Blood"
          ],
          [
           "Khumba"
          ],
          [
           "Automata"
          ],
          [
           "Dungeons & Dragons: Wrath of the Dragon God"
          ],
          [
           "Chiamatemi Francesco - Il Papa della gente"
          ],
          [
           "Shinjuku Incident"
          ],
          [
           "Pandaemonium"
          ],
          [
           "Groundhog Day"
          ],
          [
           "Magic Mike XXL"
          ],
          [
           "Romeo + Juliet"
          ],
          [
           "Sarah's Key"
          ],
          [
           "Freedom"
          ],
          [
           "Unforgiven"
          ],
          [
           "Manderlay"
          ],
          [
           "Slumdog Millionaire"
          ],
          [
           "Fatal Attraction"
          ],
          [
           "Pretty Woman"
          ],
          [
           "Crocodile Dundee II"
          ],
          [
           "Broken Horses"
          ],
          [
           "Born on the Fourth of July"
          ],
          [
           "Cool Runnings"
          ],
          [
           "My Bloody Valentine"
          ],
          [
           "Stomp the Yard"
          ],
          [
           "The Spy Who Loved Me"
          ],
          [
           "Urban Legend"
          ],
          [
           "Good Deeds"
          ],
          [
           "White Fang"
          ],
          [
           "Superstar"
          ],
          [
           "The Iron Lady"
          ],
          [
           "Jonah: A VeggieTales Movie"
          ],
          [
           "Poetic Justice"
          ],
          [
           "All About the Benjamins"
          ],
          [
           "Vampire in Brooklyn"
          ],
          [
           "Exorcist II: The Heretic"
          ],
          [
           "An American Haunting"
          ],
          [
           "My Boss's Daughter"
          ],
          [
           "A Perfect Getaway"
          ],
          [
           "Our Family Wedding"
          ],
          [
           "Dead Man on Campus"
          ],
          [
           "Tea with Mussolini"
          ],
          [
           "Thinner"
          ],
          [
           "New York, New York"
          ],
          [
           "Crooklyn"
          ],
          [
           "I Think I Love My Wife"
          ],
          [
           "Jason X"
          ],
          [
           "Bobby"
          ],
          [
           "Head Over Heels"
          ],
          [
           "Fun Size"
          ],
          [
           "The Diving Bell and the Butterfly"
          ],
          [
           "Little Children"
          ],
          [
           "Gossip"
          ],
          [
           "A Walk on the Moon"
          ],
          [
           "Catch a Fire"
          ],
          [
           "Soul Survivors"
          ],
          [
           "Jefferson in Paris"
          ],
          [
           "Easy Virtue"
          ],
          [
           "Caravans"
          ],
          [
           "Mr. Turner"
          ],
          [
           "Wild Grass"
          ],
          [
           "Amen."
          ],
          [
           "Reign of Assassins"
          ],
          [
           "The Lucky Ones"
          ],
          [
           "Margaret"
          ],
          [
           "Stan Helsing"
          ],
          [
           "Flipped"
          ],
          [
           "Brokeback Mountain"
          ],
          [
           "Clueless"
          ],
          [
           "Far from Heaven"
          ],
          [
           "Hot Tub Time Machine 2"
          ],
          [
           "Quills"
          ],
          [
           "Seven Psychopaths"
          ],
          [
           "The Caveman's Valentine"
          ],
          [
           "Downfall"
          ],
          [
           "The Sea Inside"
          ],
          [
           "Under the Skin"
          ],
          [
           "Good Morning, Vietnam"
          ],
          [
           "The Last Godfather"
          ],
          [
           "Justin Bieber: Never Say Never"
          ],
          [
           "Black Swan"
          ],
          [
           "The Godfather: Part II"
          ],
          [
           "Save the Last Dance"
          ],
          [
           "A Nightmare on Elm Street 4: The Dream Master"
          ],
          [
           "Miracles from Heaven"
          ],
          [
           "Dude, Where’s My Car?"
          ],
          [
           "Young Guns"
          ],
          [
           "St. Vincent"
          ],
          [
           "About Last Night"
          ],
          [
           "10 Things I Hate About You"
          ],
          [
           "The New Guy"
          ],
          [
           "National Lampoon's Loaded Weapon 1"
          ],
          [
           "The Shallows"
          ],
          [
           "The Butterfly Effect"
          ],
          [
           "Snow Day"
          ],
          [
           "This Christmas"
          ],
          [
           "Baby Geniuses"
          ],
          [
           "The Big Hit"
          ],
          [
           "Harriet the Spy"
          ],
          [
           "Child's Play 2"
          ],
          [
           "No Good Deed"
          ],
          [
           "The Mist"
          ],
          [
           "Ex Machina"
          ],
          [
           "Being John Malkovich"
          ],
          [
           "Two Can Play That Game"
          ],
          [
           "Earth to Echo"
          ],
          [
           "Crazy/Beautiful"
          ],
          [
           "Letters from Iwo Jima"
          ],
          [
           "The Astronaut Farmer"
          ],
          [
           "Woo"
          ],
          [
           "Room"
          ],
          [
           "Dirty Work"
          ],
          [
           "Serial Mom"
          ],
          [
           "Dick"
          ],
          [
           "Light It Up"
          ],
          [
           "54"
          ],
          [
           "Bubble Boy"
          ],
          [
           "Birthday Girl"
          ],
          [
           "21 & Over"
          ],
          [
           "Paris, je t'aime"
          ],
          [
           "Resurrecting the Champ"
          ],
          [
           "Admission"
          ],
          [
           "The Widow of Saint-Pierre"
          ],
          [
           "Chloe"
          ],
          [
           "Faithful"
          ],
          [
           "Find Me Guilty"
          ],
          [
           "The Perks of Being a Wallflower"
          ],
          [
           "Excessive Force"
          ],
          [
           "Infamous"
          ],
          [
           "The Claim"
          ],
          [
           "The Vatican Tapes"
          ],
          [
           "Attack the Block"
          ],
          [
           "In the Land of Blood and Honey"
          ],
          [
           "The Call"
          ],
          [
           "Operation Chromite"
          ],
          [
           "The Crocodile Hunter: Collision Course"
          ],
          [
           "I Love You Phillip Morris"
          ],
          [
           "Quest for Fire"
          ],
          [
           "Antwone Fisher"
          ],
          [
           "The Emperor's Club"
          ],
          [
           "True Romance"
          ],
          [
           "Womb"
          ],
          [
           "Glengarry Glen Ross"
          ],
          [
           "The Killer Inside Me"
          ],
          [
           "Cat People"
          ],
          [
           "Sorority Row"
          ],
          [
           "The Prisoner of Zenda"
          ],
          [
           "Lars and the Real Girl"
          ],
          [
           "The Boy in the Striped Pyjamas"
          ],
          [
           "Dancer in the Dark"
          ],
          [
           "Oscar and Lucinda"
          ],
          [
           "The Funeral"
          ],
          [
           "Solitary Man"
          ],
          [
           "Machete"
          ],
          [
           "Casino Jack"
          ],
          [
           "The Land Before Time"
          ],
          [
           "Tae Guk Gi: The Brotherhood of War"
          ],
          [
           "The Perfect Game"
          ],
          [
           "The Exorcist"
          ],
          [
           "Jaws"
          ],
          [
           "American Pie"
          ],
          [
           "Ernest & Celestine"
          ],
          [
           "The Golden Child"
          ],
          [
           "Think Like a Man"
          ],
          [
           "Barbershop"
          ],
          [
           "Star Trek II: The Wrath of Khan"
          ],
          [
           "Ace Ventura: Pet Detective"
          ],
          [
           "WarGames"
          ],
          [
           "Witness"
          ],
          [
           "Act of Valor"
          ],
          [
           "Step Up"
          ],
          [
           "Beavis and Butt-Head Do America"
          ],
          [
           "Jackie Brown"
          ],
          [
           "Harold & Kumar Escape from Guantanamo Bay"
          ],
          [
           "Chronicle"
          ],
          [
           "Yentl"
          ],
          [
           "Time Bandits"
          ],
          [
           "Crossroads"
          ],
          [
           "Project X"
          ],
          [
           "Patton"
          ],
          [
           "One Hour Photo"
          ],
          [
           "Quarantine"
          ],
          [
           "The Eye"
          ],
          [
           "Johnson Family Vacation"
          ],
          [
           "How High"
          ],
          [
           "The Muppet Christmas Carol"
          ],
          [
           "Frida"
          ],
          [
           "Katy Perry: Part of Me"
          ],
          [
           "The Fault in Our Stars"
          ],
          [
           "Rounders"
          ],
          [
           "Top Five"
          ],
          [
           "Prophecy"
          ],
          [
           "Stir of Echoes"
          ],
          [
           "Philomena"
          ],
          [
           "The Upside of Anger"
          ],
          [
           "The Boys from Brazil"
          ],
          [
           "Aquamarine"
          ],
          [
           "Paper Towns"
          ],
          [
           "My Baby's Daddy"
          ],
          [
           "Nebraska"
          ],
          [
           "Tales from the Crypt: Demon Knight"
          ],
          [
           "Max Keeble's Big Move"
          ],
          [
           "Young Adult"
          ],
          [
           "Crank"
          ],
          [
           "Def Jam's How to Be a Player"
          ],
          [
           "Living Out Loud"
          ],
          [
           "Just Wright"
          ],
          [
           "Rachel Getting Married"
          ],
          [
           "The Postman Always Rings Twice"
          ],
          [
           "Girl with a Pearl Earring"
          ],
          [
           "Das Boot"
          ],
          [
           "Sorority Boys"
          ],
          [
           "About Time"
          ],
          [
           "House of Flying Daggers"
          ],
          [
           "Arbitrage"
          ],
          [
           "Project Almanac"
          ],
          [
           "Cadillac Records"
          ],
          [
           "Screwed"
          ],
          [
           "Fortress"
          ],
          [
           "For Your Consideration"
          ],
          [
           "Celebrity"
          ],
          [
           "Running with Scissors"
          ],
          [
           "From Justin to Kelly"
          ],
          [
           "Girl 6"
          ],
          [
           "In the Cut"
          ],
          [
           "Two Lovers"
          ],
          [
           "Last Orders"
          ],
          [
           "The Host"
          ],
          [
           "The Pursuit of D.B. Cooper"
          ],
          [
           "Ravenous"
          ],
          [
           "Charlie Bartlett"
          ],
          [
           "The Great Beauty"
          ],
          [
           "The Dangerous Lives of Altar Boys"
          ],
          [
           "Stoker"
          ],
          [
           "2046"
          ],
          [
           "Married Life"
          ],
          [
           "Duma"
          ],
          [
           "Ondine"
          ],
          [
           "Brother"
          ],
          [
           "Welcome to Collinwood"
          ],
          [
           "Critical Care"
          ],
          [
           "The Life Before Her Eyes"
          ],
          [
           "Darling Companion"
          ],
          [
           "Trade"
          ],
          [
           "Fateless"
          ],
          [
           "Breakfast of Champions"
          ],
          [
           "A Woman, a Gun and a Noodle Shop"
          ],
          [
           "Cypher"
          ],
          [
           "City of Life and Death"
          ],
          [
           "Legend of a Rabbit"
          ],
          [
           "Space Battleship Yamato"
          ],
          [
           "5 Days of War"
          ],
          [
           "Triangle"
          ],
          [
           "10 Days in a Madhouse"
          ],
          [
           "Heaven is for Real"
          ],
          [
           "Snatch"
          ],
          [
           "Dancin' It's On"
          ],
          [
           "Pet Sematary"
          ],
          [
           "Madadayo"
          ],
          [
           "The Cry of the Owl"
          ],
          [
           "A Tale of Three Cities"
          ],
          [
           "Gremlins"
          ],
          [
           "Star Wars"
          ],
          [
           "Dirty Grandpa"
          ],
          [
           "Doctor Zhivago"
          ],
          [
           "Trash"
          ],
          [
           "High School Musical 3: Senior Year"
          ],
          [
           "The Fighter"
          ],
          [
           "Jackass Number Two"
          ],
          [
           "My Cousin Vinny"
          ],
          [
           "If I Stay"
          ],
          [
           "Drive Hard"
          ],
          [
           "Major League"
          ],
          [
           "St. Trinian's"
          ],
          [
           "Phone Booth"
          ],
          [
           "A Walk to Remember"
          ],
          [
           "Dead Man Walking"
          ],
          [
           "Cruel Intentions"
          ],
          [
           "Saw VI"
          ],
          [
           "History of the World: Part I"
          ],
          [
           "The Secret Life of Bees"
          ],
          [
           "Corky Romano"
          ],
          [
           "Raising Cain"
          ],
          [
           "F.I.S.T."
          ],
          [
           "Invaders from Mars"
          ],
          [
           "Brooklyn"
          ],
          [
           "Barry Lyndon"
          ],
          [
           "Out Cold"
          ],
          [
           "The Ladies Man"
          ],
          [
           "Quartet"
          ],
          [
           "Tomcats"
          ],
          [
           "Frailty"
          ],
          [
           "Woman in Gold"
          ],
          [
           "Kinsey"
          ],
          [
           "Army of Darkness"
          ],
          [
           "Slackers"
          ],
          [
           "What's Eating Gilbert Grape"
          ],
          [
           "The Visual Bible: The Gospel of John"
          ],
          [
           "Vera Drake"
          ],
          [
           "The Guru"
          ],
          [
           "The Perez Family"
          ],
          [
           "Inside Llewyn Davis"
          ],
          [
           "O"
          ],
          [
           "Return to the Blue Lagoon"
          ],
          [
           "The Molly Maguires"
          ],
          [
           "Romance & Cigarettes"
          ],
          [
           "Copying Beethoven"
          ],
          [
           "Brighton Rock"
          ],
          [
           "Saw V"
          ],
          [
           "Machine Gun McCain"
          ],
          [
           "LOL"
          ],
          [
           "Jindabyne"
          ],
          [
           "Kabhi Alvida Naa Kehna"
          ],
          [
           "An Ideal Husband"
          ],
          [
           "The Last Days on Mars"
          ],
          [
           "Darkness"
          ],
          [
           "2001: A Space Odyssey"
          ],
          [
           "E.T. the Extra-Terrestrial"
          ],
          [
           "In the Land of Women"
          ],
          [
           "The Blue Butterfly"
          ],
          [
           "There Goes My Baby"
          ],
          [
           "Housefull"
          ],
          [
           "September Dawn"
          ],
          [
           "For Greater Glory - The True Story of Cristiada"
          ],
          [
           "The Bélier Family"
          ],
          [
           "Good Will Hunting"
          ],
          [
           "Misconduct"
          ],
          [
           "Saw III"
          ],
          [
           "Stripes"
          ],
          [
           "Bring It On"
          ],
          [
           "The Purge: Election Year"
          ],
          [
           "She's All That"
          ],
          [
           "Saw IV"
          ],
          [
           "White Noise"
          ],
          [
           "Madea's Family Reunion"
          ],
          [
           "The Color of Money"
          ],
          [
           "The Longest Day"
          ],
          [
           "The Mighty Ducks"
          ],
          [
           "The Grudge"
          ],
          [
           "Happy Gilmore"
          ],
          [
           "Jeepers Creepers"
          ],
          [
           "Bill & Ted's Excellent Adventure"
          ],
          [
           "Oliver!"
          ],
          [
           "The Best Exotic Marigold Hotel"
          ],
          [
           "Recess: School's Out"
          ],
          [
           "Mad Max Beyond Thunderdome"
          ],
          [
           "Commando"
          ],
          [
           "The Boy"
          ],
          [
           "Devil"
          ],
          [
           "Friday After Next"
          ],
          [
           "Insidious: Chapter 3"
          ],
          [
           "The Last Dragon"
          ],
          [
           "The Lawnmower Man"
          ],
          [
           "Nick and Norah's Infinite Playlist"
          ],
          [
           "Dogma"
          ],
          [
           "The Banger Sisters"
          ],
          [
           "Twilight Zone: The Movie"
          ],
          [
           "Road House"
          ],
          [
           "A Low Down Dirty Shame"
          ],
          [
           "Swimfan"
          ],
          [
           "Employee of the Month"
          ],
          [
           "Can't Hardly Wait"
          ],
          [
           "The Outsiders"
          ],
          [
           "Pete's Dragon"
          ],
          [
           "The Dead Zone"
          ],
          [
           "Sinister 2"
          ],
          [
           "Sparkle"
          ],
          [
           "Valentine"
          ],
          [
           "The Fourth Kind"
          ],
          [
           "A Prairie Home Companion"
          ],
          [
           "Sugar Hill"
          ],
          [
           "Invasion U.S.A."
          ],
          [
           "Roll Bounce"
          ],
          [
           "Rushmore"
          ],
          [
           "Skyline"
          ],
          [
           "The Second Best Exotic Marigold Hotel"
          ],
          [
           "Kit Kittredge: An American Girl"
          ],
          [
           "The Perfect Man"
          ],
          [
           "Mo' Better Blues"
          ],
          [
           "Kung Pow: Enter the Fist"
          ],
          [
           "Tremors"
          ],
          [
           "Wrong Turn"
          ],
          [
           "The Long Riders"
          ],
          [
           "The Corruptor"
          ],
          [
           "Mud"
          ],
          [
           "Reno 911!: Miami"
          ],
          [
           "One Direction: This Is Us"
          ],
          [
           "The Goods: Live Hard, Sell Hard"
          ],
          [
           "Hey Arnold! The Movie"
          ],
          [
           "My Week with Marilyn"
          ],
          [
           "The Matador"
          ],
          [
           "Love Jones"
          ],
          [
           "The Gift"
          ],
          [
           "End of the Spear"
          ],
          [
           "Get Over It"
          ],
          [
           "Office Space"
          ],
          [
           "Drop Dead Gorgeous"
          ],
          [
           "Big Eyes"
          ],
          [
           "Very Bad Things"
          ],
          [
           "Sleepover"
          ],
          [
           "Body Double"
          ],
          [
           "MacGruber"
          ],
          [
           "Dirty Pretty Things"
          ],
          [
           "Movie 43"
          ],
          [
           "Over Her Dead Body"
          ],
          [
           "Seeking a Friend for the End of the World"
          ],
          [
           "Cedar Rapids"
          ],
          [
           "American History X"
          ],
          [
           "The Collection"
          ],
          [
           "Teacher's Pet"
          ],
          [
           "The Red Violin"
          ],
          [
           "The Straight Story"
          ],
          [
           "Deuces Wild"
          ],
          [
           "Bad Words"
          ],
          [
           "Run, Fatboy, Run"
          ],
          [
           "Heartbeeps"
          ],
          [
           "Black or White"
          ],
          [
           "On the Line"
          ],
          [
           "Rescue Dawn"
          ],
          [
           "Danny Collins"
          ],
          [
           "Jeff, Who Lives at Home"
          ],
          [
           "I Am Love"
          ],
          [
           "Atlas Shrugged Part II"
          ],
          [
           "Romeo Is Bleeding"
          ],
          [
           "The Limey"
          ],
          [
           "Crash"
          ],
          [
           "The House of Mirth"
          ],
          [
           "Malone"
          ],
          [
           "Peaceful Warrior"
          ],
          [
           "Bucky Larson: Born to Be a Star"
          ],
          [
           "Bamboozled"
          ],
          [
           "The Forest"
          ],
          [
           "Sphinx"
          ],
          [
           "While We're Young"
          ],
          [
           "A Better Life"
          ],
          [
           "Spider"
          ],
          [
           "Gun Shy"
          ],
          [
           "Nicholas Nickleby"
          ],
          [
           "The Iceman"
          ],
          [
           "Krrish"
          ],
          [
           "Cecil B. Demented"
          ],
          [
           "Killer Joe"
          ],
          [
           "The Joneses"
          ],
          [
           "Owning Mahowny"
          ],
          [
           "The Brothers Solomon"
          ],
          [
           "My Blueberry Nights"
          ],
          [
           "Illuminata"
          ],
          [
           "Swept Away"
          ],
          [
           "War, Inc."
          ],
          [
           "Shaolin Soccer"
          ],
          [
           "The Brown Bunny"
          ],
          [
           "The Swindle"
          ],
          [
           "Rosewater"
          ],
          [
           "The Chambermaid on the Titanic"
          ],
          [
           "Coriolanus"
          ],
          [
           "Imaginary Heroes"
          ],
          [
           "High Heels and Low Lifes"
          ],
          [
           "World's Greatest Dad"
          ],
          [
           "Severance"
          ],
          [
           "Edmond"
          ],
          [
           "Welcome to the Rileys"
          ],
          [
           "Police Academy: Mission to Moscow"
          ],
          [
           "Blood Done Sign My Name"
          ],
          [
           "Cinco de Mayo: La Batalla"
          ],
          [
           "Elsa & Fred"
          ],
          [
           "An Alan Smithee Film: Burn, Hollywood, Burn"
          ],
          [
           "The Open Road"
          ],
          [
           "The Good Guy"
          ],
          [
           "Motherhood"
          ],
          [
           "Free Style"
          ],
          [
           "Strangerland"
          ],
          [
           "Janky Promoters"
          ],
          [
           "Blonde Ambition"
          ],
          [
           "The Oxford Murders"
          ],
          [
           "The Reef"
          ],
          [
           "Eulogy"
          ],
          [
           "White Noise 2: The Light"
          ],
          [
           "Beat the World"
          ],
          [
           "Fifty Dead Men Walking"
          ],
          [
           "Jungle Shuffle"
          ],
          [
           "Adam Resurrected"
          ],
          [
           "Of Horses and Men"
          ],
          [
           "It's a Wonderful Afterlife"
          ],
          [
           "The Devil's Tomb"
          ],
          [
           "Partition"
          ],
          [
           "Good Intentions"
          ],
          [
           "The Good, The Bad, The Weird"
          ],
          [
           "Nurse 3-D"
          ],
          [
           "Gunless"
          ],
          [
           "Adventureland"
          ],
          [
           "The Lost City"
          ],
          [
           "Next Friday"
          ],
          [
           "American Heist"
          ],
          [
           "You Only Live Twice"
          ],
          [
           "Plastic"
          ],
          [
           "Amour"
          ],
          [
           "Poltergeist III"
          ],
          [
           "Re-Kill"
          ],
          [
           "It's a Mad, Mad, Mad, Mad World"
          ],
          [
           "Volver"
          ],
          [
           "Heavy Metal"
          ],
          [
           "Gentlemen Broncos"
          ],
          [
           "Richard III"
          ],
          [
           "Into the Grizzly Maze"
          ],
          [
           "Kites"
          ],
          [
           "Melancholia"
          ],
          [
           "Red Dog"
          ],
          [
           "Jab Tak Hai Jaan"
          ],
          [
           "Alien"
          ],
          [
           "The Texas Chain Saw Massacre"
          ],
          [
           "The Runaways"
          ],
          [
           "Fiddler on the Roof"
          ],
          [
           "Thunderball"
          ],
          [
           "Detention"
          ],
          [
           "Loose Cannons"
          ],
          [
           "Set It Off"
          ],
          [
           "The Best Man"
          ],
          [
           "Child's Play"
          ],
          [
           "Sicko"
          ],
          [
           "The Purge: Anarchy"
          ],
          [
           "Down to You"
          ],
          [
           "Harold & Kumar Go to White Castle"
          ],
          [
           "The Contender"
          ],
          [
           "Boiler Room"
          ],
          [
           "Trading Places"
          ],
          [
           "Black Christmas"
          ],
          [
           "Breakin' All the Rules"
          ],
          [
           "Henry V"
          ],
          [
           "The Savages"
          ],
          [
           "Chasing Papi"
          ],
          [
           "The Way of the Gun"
          ],
          [
           "Igby Goes Down"
          ],
          [
           "PCU"
          ],
          [
           "The Ultimate Gift"
          ],
          [
           "The Ice Pirates"
          ],
          [
           "Gracie"
          ],
          [
           "Trust the Man"
          ],
          [
           "Hamlet 2"
          ],
          [
           "Velvet Goldmine"
          ],
          [
           "The Wailing"
          ],
          [
           "Glee: The Concert Movie"
          ],
          [
           "The Legend of Suriyothai"
          ],
          [
           "Two Evil Eyes"
          ],
          [
           "Barbecue"
          ],
          [
           "All or Nothing"
          ],
          [
           "Princess Kaiulani"
          ],
          [
           "Opal Dream"
          ],
          [
           "Flame & Citron"
          ],
          [
           "Undiscovered"
          ],
          [
           "Red Riding: In the Year of Our Lord 1974"
          ],
          [
           "The Girl on the Train"
          ],
          [
           "Veronika Decides to Die"
          ],
          [
           "Crocodile Dundee"
          ],
          [
           "Ultramarines: A Warhammer 40,000 Movie"
          ],
          [
           "The I Inside"
          ],
          [
           "Beneath Hill 60"
          ],
          [
           "Polisse"
          ],
          [
           "Awake"
          ],
          [
           "Star Wars: Clone Wars: Volume 1"
          ],
          [
           "Skin Trade"
          ],
          [
           "The Lost Boys"
          ],
          [
           "Crazy Heart"
          ],
          [
           "The Rose"
          ],
          [
           "Baggage Claim"
          ],
          [
           "Barbarella"
          ],
          [
           "Shipwrecked"
          ],
          [
           "Election"
          ],
          [
           "The Namesake"
          ],
          [
           "The DUFF"
          ],
          [
           "Glitter"
          ],
          [
           "The Haunting in Connecticut 2: Ghosts of Georgia"
          ],
          [
           "Silmido"
          ],
          [
           "Bright Star"
          ],
          [
           "My Name Is Khan"
          ],
          [
           "All Is Lost"
          ],
          [
           "Limbo"
          ],
          [
           "Namastey London"
          ],
          [
           "The Wind That Shakes the Barley"
          ],
          [
           "Yeh Jawaani Hai Deewani"
          ],
          [
           "Quo Vadis"
          ],
          [
           "Repo! The Genetic Opera"
          ],
          [
           "Valley of the Wolves: Iraq"
          ],
          [
           "Pulp Fiction"
          ],
          [
           "The Muppet Movie"
          ],
          [
           "Nightcrawler"
          ],
          [
           "Club Dread"
          ],
          [
           "The Sound of Music"
          ],
          [
           "Splash"
          ],
          [
           "Little Miss Sunshine"
          ],
          [
           "Stand by Me"
          ],
          [
           "28 Days Later"
          ],
          [
           "You Got Served"
          ],
          [
           "Escape from Alcatraz"
          ],
          [
           "Brown Sugar"
          ],
          [
           "A Thin Line Between Love and Hate"
          ],
          [
           "50/50"
          ],
          [
           "Shutter"
          ],
          [
           "That Awkward Moment"
          ],
          [
           "Modern Problems"
          ],
          [
           "Kicks"
          ],
          [
           "Much Ado About Nothing"
          ],
          [
           "On Her Majesty's Secret Service"
          ],
          [
           "New Nightmare"
          ],
          [
           "Drive Me Crazy"
          ],
          [
           "Akeelah and the Bee"
          ],
          [
           "Half Baked"
          ],
          [
           "New in Town"
          ],
          [
           "American Psycho"
          ],
          [
           "The Good Girl"
          ],
          [
           "Bon Cop Bad Cop"
          ],
          [
           "The Boondock Saints II: All Saints Day"
          ],
          [
           "The City of Your Final Destination"
          ],
          [
           "Enough Said"
          ],
          [
           "Easy A"
          ],
          [
           "The Inkwell"
          ],
          [
           "Shadow of the Vampire"
          ],
          [
           "Prom"
          ],
          [
           "The Pallbearer"
          ],
          [
           "Held Up"
          ],
          [
           "Woman on Top"
          ],
          [
           "Howards End"
          ],
          [
           "Anomalisa"
          ],
          [
           "Another Year"
          ],
          [
           "8 Women"
          ],
          [
           "Showdown in Little Tokyo"
          ],
          [
           "Clay Pigeons"
          ],
          [
           "It's Kind of a Funny Story"
          ],
          [
           "Made in Dagenham"
          ],
          [
           "When Did You Last See Your Father?"
          ],
          [
           "Prefontaine"
          ],
          [
           "The Wicked Lady"
          ],
          [
           "The Secret of Kells"
          ],
          [
           "Begin Again"
          ],
          [
           "Down in the Valley"
          ],
          [
           "Brooklyn Rules"
          ],
          [
           "Restless"
          ],
          [
           "The Singing Detective"
          ],
          [
           "The Land Girls"
          ],
          [
           "Fido"
          ],
          [
           "The Wendell Baker Story"
          ],
          [
           "Wild Target"
          ],
          [
           "Pathology"
          ],
          [
           "Wuthering Heights"
          ],
          [
           "10th & Wolf"
          ],
          [
           "Dear Wendy"
          ],
          [
           "Aloft"
          ],
          [
           "Akira"
          ],
          [
           "The Death and Life of Bobby Z"
          ],
          [
           "The Rocket: The Legend of Rocket Richard"
          ],
          [
           "Swelter"
          ],
          [
           "My Lucky Star"
          ],
          [
           "Imagine Me & You"
          ],
          [
           "Mr. Church"
          ],
          [
           "Swimming Pool"
          ],
          [
           "Green Street Hooligans: Underground"
          ],
          [
           "The Blood of Heroes"
          ],
          [
           "Code of Honor"
          ],
          [
           "Driving Miss Daisy"
          ],
          [
           "Soul Food"
          ],
          [
           "Rumble in the Bronx"
          ],
          [
           "Far from Men"
          ],
          [
           "Thank You for Smoking"
          ],
          [
           "Hostel: Part II"
          ],
          [
           "An Education"
          ],
          [
           "Shopgirl"
          ],
          [
           "The Hotel New Hampshire"
          ],
          [
           "Narc"
          ],
          [
           "Men with Brooms"
          ],
          [
           "Witless Protection"
          ],
          [
           "The Work and the Glory"
          ],
          [
           "Extract"
          ],
          [
           "Masked and Anonymous"
          ],
          [
           "Betty Fisher and Other Stories"
          ],
          [
           "Code 46"
          ],
          [
           "Outside Bet"
          ],
          [
           "Albert Nobbs"
          ],
          [
           "Black November"
          ],
          [
           "Ta Ra Rum Pum"
          ],
          [
           "Persepolis"
          ],
          [
           "The Hole"
          ],
          [
           "The Wave"
          ],
          [
           "The Neon Demon"
          ],
          [
           "Harry Brown"
          ],
          [
           "The Omega Code"
          ],
          [
           "Juno"
          ],
          [
           "Pound of Flesh"
          ],
          [
           "Diamonds Are Forever"
          ],
          [
           "The Godfather"
          ],
          [
           "Flashdance"
          ],
          [
           "(500) Days of Summer"
          ],
          [
           "The Piano"
          ],
          [
           "Magic Mike"
          ],
          [
           "Darkness Falls"
          ],
          [
           "Live and Let Die"
          ],
          [
           "My Dog Skip"
          ],
          [
           "Definitely, Maybe"
          ],
          [
           "Jumping the Broom"
          ],
          [
           "Good Night, and Good Luck."
          ],
          [
           "Capote"
          ],
          [
           "Desperado"
          ],
          [
           "Logan's Run"
          ],
          [
           "The Man with the Golden Gun"
          ],
          [
           "Action Jackson"
          ],
          [
           "The Descent"
          ],
          [
           "Michael Jordan to the Max"
          ],
          [
           "Devil's Due"
          ],
          [
           "Flirting with Disaster"
          ],
          [
           "The Devil's Rejects"
          ],
          [
           "Dope"
          ],
          [
           "In Too Deep"
          ],
          [
           "House of 1000 Corpses"
          ],
          [
           "Alien Zone"
          ],
          [
           "A Serious Man"
          ],
          [
           "Get Low"
          ],
          [
           "Warlock"
          ],
          [
           "Beyond the Lights"
          ],
          [
           "A Single Man"
          ],
          [
           "The Last Temptation of Christ"
          ],
          [
           "Outside Providence"
          ],
          [
           "Bride & Prejudice"
          ],
          [
           "Rabbit-Proof Fence"
          ],
          [
           "Who's Your Caddy?"
          ],
          [
           "Split Second"
          ],
          [
           "The Other Side of Heaven"
          ],
          [
           "Veer-Zaara"
          ],
          [
           "Redbelt"
          ],
          [
           "Cyrus"
          ],
          [
           "A Dog Of Flanders"
          ],
          [
           "Auto Focus"
          ],
          [
           "Factory Girl"
          ],
          [
           "We Need to Talk About Kevin"
          ],
          [
           "The Christmas Candle"
          ],
          [
           "The Mighty Macs"
          ],
          [
           "Losin' It"
          ],
          [
           "Mother and Child"
          ],
          [
           "March or Die"
          ],
          [
           "The Visitors"
          ],
          [
           "Somewhere"
          ],
          [
           "I Hope They Serve Beer in Hell"
          ],
          [
           "Chairman of the Board"
          ],
          [
           "Hesher"
          ],
          [
           "Dom Hemingway"
          ],
          [
           "Gerry"
          ],
          [
           "The Heart of Me"
          ],
          [
           "Freeheld"
          ],
          [
           "The Extra Man"
          ],
          [
           "Hard to Be a God"
          ],
          [
           "Ca$h"
          ],
          [
           "Wah-Wah"
          ],
          [
           "The Boondock Saints"
          ],
          [
           "Z Storm"
          ],
          [
           "Twixt"
          ],
          [
           "The Snow Queen"
          ],
          [
           "Alpha and Omega: The Legend of the Saw Tooth Cave"
          ],
          [
           "Pale Rider"
          ],
          [
           "Stargate: The Ark of Truth"
          ],
          [
           "Dazed and Confused"
          ],
          [
           "High School Musical 2"
          ],
          [
           "Two Lovers and a Bear"
          ],
          [
           "Criminal Activities"
          ],
          [
           "Aimee & Jaguar"
          ],
          [
           "The Chumscrubber"
          ],
          [
           "Shade"
          ],
          [
           "House at the End of the Street"
          ],
          [
           "Incendies"
          ],
          [
           "Remember Me, My Love"
          ],
          [
           "Perrier’s Bounty"
          ],
          [
           "Elite Squad"
          ],
          [
           "Annabelle"
          ],
          [
           "Bran Nue Dae"
          ],
          [
           "Boyz n the Hood"
          ],
          [
           "La Bamba"
          ],
          [
           "The Four Seasons"
          ],
          [
           "Dressed to Kill"
          ],
          [
           "The Adventures of Huck Finn"
          ],
          [
           "Go"
          ],
          [
           "Friends with Money"
          ],
          [
           "The Andromeda Strain"
          ],
          [
           "Bats"
          ],
          [
           "Nowhere in Africa"
          ],
          [
           "Shame"
          ],
          [
           "Layer Cake"
          ],
          [
           "The Work and the Glory II: American Zion"
          ],
          [
           "The East"
          ],
          [
           "A Home at the End of the World"
          ],
          [
           "Aberdeen"
          ],
          [
           "The Messenger"
          ],
          [
           "Tracker"
          ],
          [
           "Control"
          ],
          [
           "The Terminator"
          ],
          [
           "Good bye, Lenin!"
          ],
          [
           "The Damned United"
          ],
          [
           "The Return of the Living Dead"
          ],
          [
           "Mallrats"
          ],
          [
           "Grease"
          ],
          [
           "Platoon"
          ],
          [
           "Fahrenheit 9/11"
          ],
          [
           "Butch Cassidy and the Sundance Kid"
          ],
          [
           "Mary Poppins"
          ],
          [
           "Ordinary People"
          ],
          [
           "West Side Story"
          ],
          [
           "Caddyshack"
          ],
          [
           "The Brothers"
          ],
          [
           "The Wood"
          ],
          [
           "The Usual Suspects"
          ],
          [
           "A Nightmare on Elm Street 5: The Dream Child"
          ],
          [
           "National Lampoon’s Van Wilder"
          ],
          [
           "The Wrestler"
          ],
          [
           "Duel in the Sun"
          ],
          [
           "Best in Show"
          ],
          [
           "Escape from New York"
          ],
          [
           "School Daze"
          ],
          [
           "Daddy Day Camp"
          ],
          [
           "Mr. Nice Guy"
          ],
          [
           "A Mighty Wind"
          ],
          [
           "Mystic Pizza"
          ],
          [
           "Sliding Doors"
          ],
          [
           "Tales from the Hood"
          ],
          [
           "The Last King of Scotland"
          ],
          [
           "Halloween 5: The Revenge of Michael Myers"
          ],
          [
           "Bernie"
          ],
          [
           "Dolphins and Whales: Tribes of the Ocean"
          ],
          [
           "Pollock"
          ],
          [
           "200 Cigarettes"
          ],
          [
           "The Words"
          ],
          [
           "Casa De Mi Padre"
          ],
          [
           "City Island"
          ],
          [
           "The Guard"
          ],
          [
           "College"
          ],
          [
           "The Virgin Suicides"
          ],
          [
           "Little Voice"
          ],
          [
           "Miss March"
          ],
          [
           "Wish I Was Here"
          ],
          [
           "Simply Irresistible"
          ],
          [
           "Hedwig and the Angry Inch"
          ],
          [
           "Only the Strong"
          ],
          [
           "Goddess of Love"
          ],
          [
           "Shattered Glass"
          ],
          [
           "Novocaine"
          ],
          [
           "The Business of Strangers"
          ],
          [
           "The Wild Bunch"
          ],
          [
           "The Wackness"
          ],
          [
           "The First Great Train Robbery"
          ],
          [
           "Morvern Callar"
          ],
          [
           "Beastmaster 2: Through the Portal of Time"
          ],
          [
           "The 5th Quarter"
          ],
          [
           "The Flower of Evil"
          ],
          [
           "The Greatest"
          ],
          [
           "Snow Flower and the Secret Fan"
          ],
          [
           "Come Early Morning"
          ],
          [
           "Lucky Break"
          ],
          [
           "Julia"
          ],
          [
           "Surfer, Dude"
          ],
          [
           "Lake of Fire"
          ],
          [
           "11:14"
          ],
          [
           "Men of War"
          ],
          [
           "Don McKay"
          ],
          [
           "Deadfall"
          ],
          [
           "A Shine of Rainbows"
          ],
          [
           "The Hit List"
          ],
          [
           "Emma"
          ],
          [
           "Videodrome"
          ],
          [
           "The Spanish Apartment"
          ],
          [
           "Song One"
          ],
          [
           "Winter in Wartime"
          ],
          [
           "Freaky Deaky"
          ],
          [
           "The Train"
          ],
          [
           "Trade Of Innocents"
          ],
          [
           "The Protector"
          ],
          [
           "Stiff Upper Lips"
          ],
          [
           "Bend It Like Beckham"
          ],
          [
           "Sunshine State"
          ],
          [
           "Crossover"
          ],
          [
           "Khiladi 786"
          ],
          [
           "[REC]²"
          ],
          [
           "Standing Ovation"
          ],
          [
           "The Sting"
          ],
          [
           "Chariots of Fire"
          ],
          [
           "Diary of a Mad Black Woman"
          ],
          [
           "Shine"
          ],
          [
           "Don Jon"
          ],
          [
           "High Plains Drifter"
          ],
          [
           "Ghost World"
          ],
          [
           "Iris"
          ],
          [
           "Galaxina"
          ],
          [
           "The Chorus"
          ],
          [
           "Mambo Italiano"
          ],
          [
           "Wonderland"
          ],
          [
           "Do the Right Thing"
          ],
          [
           "Harvard Man"
          ],
          [
           "Le Havre"
          ],
          [
           "Irreversible"
          ],
          [
           "R100"
          ],
          [
           "Rang De Basanti"
          ],
          [
           "Animals"
          ],
          [
           "Salvation Boulevard"
          ],
          [
           "The Ten"
          ],
          [
           "A Room for Romeo Brass"
          ],
          [
           "Headhunters"
          ],
          [
           "Grabbers"
          ],
          [
           "Saint Ralph"
          ],
          [
           "Miss Julie"
          ],
          [
           "Somewhere in Time"
          ],
          [
           "Dum Maaro Dum"
          ],
          [
           "Insidious: Chapter 2"
          ],
          [
           "Saw II"
          ],
          [
           "10 Cloverfield Lane"
          ],
          [
           "Jackass: The Movie"
          ],
          [
           "Lights Out"
          ],
          [
           "Paranormal Activity 3"
          ],
          [
           "Ouija"
          ],
          [
           "A Nightmare on Elm Street 3: Dream Warriors"
          ],
          [
           "Instructions Not Included"
          ],
          [
           "Paranormal Activity 4"
          ],
          [
           "The Robe"
          ],
          [
           "The Return of the Pink Panther"
          ],
          [
           "Freddy's Dead: The Final Nightmare"
          ],
          [
           "Monster"
          ],
          [
           "20,000 Leagues Under the Sea"
          ],
          [
           "Paranormal Activity: The Marked Ones"
          ],
          [
           "The Elephant Man"
          ],
          [
           "Dallas Buyers Club"
          ],
          [
           "The Lazarus Effect"
          ],
          [
           "Memento"
          ],
          [
           "Oculus"
          ],
          [
           "Clerks II"
          ],
          [
           "Billy Elliot"
          ],
          [
           "The Way Way Back"
          ],
          [
           "House Party 2"
          ],
          [
           "The Man from Snowy River"
          ],
          [
           "Doug's 1st Movie"
          ],
          [
           "The Apostle"
          ],
          [
           "Mommie Dearest"
          ],
          [
           "Our Idiot Brother"
          ],
          [
           "Race"
          ],
          [
           "The Players Club"
          ],
          [
           "As Above, So Below"
          ],
          [
           "Addicted"
          ],
          [
           "Eve's Bayou"
          ],
          [
           "Still Alice"
          ],
          [
           "The Egyptian"
          ],
          [
           "Nighthawks"
          ],
          [
           "Friday the 13th Part VIII: Jason Takes Manhattan"
          ],
          [
           "My Big Fat Greek Wedding"
          ],
          [
           "Spring Breakers"
          ],
          [
           "Halloween: The Curse of Michael Myers"
          ],
          [
           "Y Tu Mamá También"
          ],
          [
           "Shaun of the Dead"
          ],
          [
           "The Haunting of Molly Hartley"
          ],
          [
           "Lone Star"
          ],
          [
           "Halloween 4: The Return of Michael Myers"
          ],
          [
           "April Fool's Day"
          ],
          [
           "Diner"
          ],
          [
           "Lone Wolf McQuade"
          ],
          [
           "Apollo 18"
          ],
          [
           "Sunshine Cleaning"
          ],
          [
           "No Escape"
          ],
          [
           "The Beastmaster"
          ],
          [
           "Solomon and Sheba"
          ],
          [
           "Fifty Shades of Black"
          ],
          [
           "Not Easily Broken"
          ],
          [
           "A Farewell to Arms"
          ],
          [
           "The Perfect Match"
          ],
          [
           "Digimon: The Movie"
          ],
          [
           "Saved!"
          ],
          [
           "The Barbarian Invasions"
          ],
          [
           "Robin and Marian"
          ],
          [
           "The Forsaken"
          ],
          [
           "Force 10 from Navarone"
          ],
          [
           "UHF"
          ],
          [
           "Grandma's Boy"
          ],
          [
           "Slums of Beverly Hills"
          ],
          [
           "Once Upon a Time in the West"
          ],
          [
           "Made"
          ],
          [
           "Moon"
          ],
          [
           "Keeping Up with the Steins"
          ],
          [
           "Sea Rex 3D: Journey to a Prehistoric World"
          ],
          [
           "The Sweet Hereafter"
          ],
          [
           "Of Gods and Men"
          ],
          [
           "Bottle Shock"
          ],
          [
           "Jekyll and Hyde ... Together Again"
          ],
          [
           "Heavenly Creatures"
          ],
          [
           "90 Minutes in Heaven"
          ],
          [
           "Everything Must Go"
          ],
          [
           "Zero Effect"
          ],
          [
           "The Machinist"
          ],
          [
           "Light Sleeper"
          ],
          [
           "Kill the Messenger"
          ],
          [
           "Rabbit Hole"
          ],
          [
           "Party Monster"
          ],
          [
           "Green Room"
          ],
          [
           "The Oh in Ohio"
          ],
          [
           "Atlas Shrugged Part III: Who is John Galt?"
          ],
          [
           "Bottle Rocket"
          ],
          [
           "Albino Alligator"
          ],
          [
           "Gandhi, My Father"
          ],
          [
           "Standard Operating Procedure"
          ],
          [
           "Out of the Blue"
          ],
          [
           "Tucker and Dale vs Evil"
          ],
          [
           "Lovely, Still"
          ],
          [
           "Tycoon"
          ],
          [
           "Desert Blue"
          ],
          [
           "Decoys"
          ],
          [
           "The Visit"
          ],
          [
           "Redacted"
          ],
          [
           "Fascination"
          ],
          [
           "Area 51"
          ],
          [
           "Sleep Tight"
          ],
          [
           "The Cottage"
          ],
          [
           "Dead Like Me: Life After Death"
          ],
          [
           "Farce of the Penguins"
          ],
          [
           "Flying By"
          ],
          [
           "Rudderless"
          ],
          [
           "Henry & Me"
          ],
          [
           "Christmas Eve"
          ],
          [
           "We Have Your Husband"
          ],
          [
           "Dying of the Light"
          ],
          [
           "Born Of War"
          ],
          [
           "Capricorn One"
          ],
          [
           "Should've Been Romeo"
          ],
          [
           "Running Forever"
          ],
          [
           "Yoga Hosers"
          ],
          [
           "Navy Seals vs. Zombies"
          ],
          [
           "I Served the King of England"
          ],
          [
           "Soul Kitchen"
          ],
          [
           "Sling Blade"
          ],
          [
           "The Awakening"
          ],
          [
           "Hostel"
          ],
          [
           "A Cock and Bull Story"
          ],
          [
           "Take Shelter"
          ],
          [
           "Lady in White"
          ],
          [
           "Driving Lessons"
          ],
          [
           "Let's Kill Ward's Wife"
          ],
          [
           "The Texas Chainsaw Massacre 2"
          ],
          [
           "Pat Garrett & Billy the Kid"
          ],
          [
           "Only God Forgives"
          ],
          [
           "Camping Sauvage"
          ],
          [
           "Without Men"
          ],
          [
           "Dear Frankie"
          ],
          [
           "All Hat"
          ],
          [
           "The Names of Love"
          ],
          [
           "Treading Water"
          ],
          [
           "Savage Grace"
          ],
          [
           "Out of the Blue"
          ],
          [
           "Police Academy"
          ],
          [
           "The Blue Lagoon"
          ],
          [
           "Four Weddings and a Funeral"
          ],
          [
           "Fast Times at Ridgemont High"
          ],
          [
           "Moby Dick"
          ],
          [
           "25th Hour"
          ],
          [
           "Bound"
          ],
          [
           "Requiem for a Dream"
          ],
          [
           "State Fair"
          ],
          [
           "Tango"
          ],
          [
           "Salvador"
          ],
          [
           "Moms' Night Out"
          ],
          [
           "Donnie Darko"
          ],
          [
           "Saving Private Perez"
          ],
          [
           "Character"
          ],
          [
           "Spun"
          ],
          [
           "Life During Wartime"
          ],
          [
           "Sympathy for Lady Vengeance"
          ],
          [
           "Mozart's Sister"
          ],
          [
           "Mean Machine"
          ],
          [
           "Exiled"
          ],
          [
           "Blackthorn"
          ],
          [
           "Lilya 4-ever"
          ],
          [
           "After.Life"
          ],
          [
           "Fugly"
          ],
          [
           "One Flew Over the Cuckoo's Nest"
          ],
          [
           "R.L. Stine's Monsterville: The Cabinet of Souls"
          ],
          [
           "Silent Movie"
          ],
          [
           "Airlift"
          ],
          [
           "Anne of Green Gables"
          ],
          [
           "Falcon Rising"
          ],
          [
           "The Sweeney"
          ],
          [
           "Sexy Beast"
          ],
          [
           "Easy Money"
          ],
          [
           "Whale Rider"
          ],
          [
           "Paa"
          ],
          [
           "Cargo"
          ],
          [
           "High School Musical"
          ],
          [
           "Love and Death on Long Island"
          ],
          [
           "Night Watch"
          ],
          [
           "The Crying Game"
          ],
          [
           "Porky's"
          ],
          [
           "Survival of the Dead"
          ],
          [
           "Night of the Living Dead"
          ],
          [
           "Lost in Translation"
          ],
          [
           "Annie Hall"
          ],
          [
           "The Greatest Show on Earth"
          ],
          [
           "Monster's Ball"
          ],
          [
           "Maggie"
          ],
          [
           "Leaving Las Vegas"
          ],
          [
           "Hansel and Gretel Get Baked"
          ],
          [
           "The Front Page"
          ],
          [
           "The Boy Next Door"
          ],
          [
           "Trapeze"
          ],
          [
           "The Kids Are All Right"
          ],
          [
           "They Live"
          ],
          [
           "The Great Escape"
          ],
          [
           "What the #$*! Do We (K)now!?"
          ],
          [
           "The Last Exorcism Part II"
          ],
          [
           "Boyhood"
          ],
          [
           "Scoop"
          ],
          [
           "The Wash"
          ],
          [
           "3 Strikes"
          ],
          [
           "The Cooler"
          ],
          [
           "The Misfits"
          ],
          [
           "The Night Listener"
          ],
          [
           "The Jerky Boys"
          ],
          [
           "The Orphanage"
          ],
          [
           "A Haunted House 2"
          ],
          [
           "The Rules of Attraction"
          ],
          [
           "Topaz"
          ],
          [
           "Let's Go to Prison"
          ],
          [
           "Four Rooms"
          ],
          [
           "Secretary"
          ],
          [
           "The Real Cancun"
          ],
          [
           "Talk Radio"
          ],
          [
           "Waiting for Guffman"
          ],
          [
           "Love Stinks"
          ],
          [
           "You Kill Me"
          ],
          [
           "Thumbsucker"
          ],
          [
           "Red State"
          ],
          [
           "Mirrormask"
          ],
          [
           "Samsara"
          ],
          [
           "The Barbarians"
          ],
          [
           "The Art of Getting By"
          ],
          [
           "Zipper"
          ],
          [
           "Poolhall Junkies"
          ],
          [
           "The Loss of Sexual Innocence"
          ],
          [
           "Holy Motors"
          ],
          [
           "Joe"
          ],
          [
           "Shooting Fish"
          ],
          [
           "Prison"
          ],
          [
           "Psycho Beach Party"
          ],
          [
           "The Big Tease"
          ],
          [
           "Guten Tag, Ramón"
          ],
          [
           "Trust"
          ],
          [
           "An Everlasting Piece"
          ],
          [
           "Among Giants"
          ],
          [
           "Adore"
          ],
          [
           "The Velocity of Gary"
          ],
          [
           "Mondays in the Sun"
          ],
          [
           "Stake Land"
          ],
          [
           "The Last Time I Committed Suicide"
          ],
          [
           "Futuro Beach"
          ],
          [
           "Another Happy Day"
          ],
          [
           "A Lonely Place to Die"
          ],
          [
           "Nothing"
          ],
          [
           "The Geographer Drank His Globe Away"
          ],
          [
           "1776"
          ],
          [
           "Inescapable"
          ],
          [
           "Hell's Angels"
          ],
          [
           "Purple Violets"
          ],
          [
           "The Veil"
          ],
          [
           "The Loved Ones"
          ],
          [
           "The Helpers"
          ],
          [
           "How to Fall in Love"
          ],
          [
           "The Perfect Wave"
          ],
          [
           "A Man for All Seasons"
          ],
          [
           "Network"
          ],
          [
           "Gone with the Wind"
          ],
          [
           "Desert Dancer"
          ],
          [
           "Major Dundee"
          ],
          [
           "Annie Get Your Gun"
          ],
          [
           "Four Lions"
          ],
          [
           "The House of Sand"
          ],
          [
           "Defendor"
          ],
          [
           "The Pirate"
          ],
          [
           "The Good Heart"
          ],
          [
           "The History Boys"
          ],
          [
           "Midnight Cowboy"
          ],
          [
           "The Full Monty"
          ],
          [
           "Airplane!"
          ],
          [
           "Chain of Command"
          ],
          [
           "Friday"
          ],
          [
           "Menace II Society"
          ],
          [
           "Creepshow 2"
          ],
          [
           "The Ballad of Cable Hogue"
          ],
          [
           "In Cold Blood"
          ],
          [
           "The Nun's Story"
          ],
          [
           "Harper"
          ],
          [
           "Frenzy"
          ],
          [
           "The Witch"
          ],
          [
           "I Got the Hook Up"
          ],
          [
           "She's the One"
          ],
          [
           "Gods and Monsters"
          ],
          [
           "The Secret in Their Eyes"
          ],
          [
           "Train"
          ],
          [
           "Evil Dead II"
          ],
          [
           "Pootie Tang"
          ],
          [
           "Sharknado"
          ],
          [
           "The Other Conquest"
          ],
          [
           "Troll Hunter"
          ],
          [
           "Ira & Abby"
          ],
          [
           "Winter Passing"
          ],
          [
           "D.E.B.S."
          ],
          [
           "The Masked Saint"
          ],
          [
           "The Betrayed"
          ],
          [
           "Taxman"
          ],
          [
           "The Secret"
          ],
          [
           "2:13"
          ],
          [
           "Batman: The Dark Knight Returns, Part 2"
          ],
          [
           "Time to Choose"
          ],
          [
           "In the Name of the King III"
          ],
          [
           "Wicked Blood"
          ],
          [
           "Stranded"
          ],
          [
           "Lords of London"
          ],
          [
           "High Anxiety"
          ],
          [
           "March of the Penguins"
          ],
          [
           "Margin Call"
          ],
          [
           "August"
          ],
          [
           "Choke"
          ],
          [
           "Whiplash"
          ],
          [
           "City of God"
          ],
          [
           "Human Traffic"
          ],
          [
           "To Write Love on Her Arms"
          ],
          [
           "The Dead Girl"
          ],
          [
           "The Hunt"
          ],
          [
           "A Christmas Story"
          ],
          [
           "Bella"
          ],
          [
           "Class of 1984"
          ],
          [
           "The Opposite Sex"
          ],
          [
           "Dreaming of Joseph Lees"
          ],
          [
           "The Class"
          ],
          [
           "Rosemary's Baby"
          ],
          [
           "The Man Who Shot Liberty Valance"
          ],
          [
           "Adam"
          ],
          [
           "Maria Full of Grace"
          ],
          [
           "Beginners"
          ],
          [
           "Feast"
          ],
          [
           "Animal House"
          ],
          [
           "Goldfinger"
          ],
          [
           "Antiviral"
          ],
          [
           "It's a Wonderful Life"
          ],
          [
           "Trainspotting"
          ],
          [
           "The Original Kings of Comedy"
          ],
          [
           "Paranormal Activity 2"
          ],
          [
           "Waking Ned"
          ],
          [
           "Bowling for Columbine"
          ],
          [
           "Coming Home"
          ],
          [
           "A Nightmare on Elm Street Part 2: Freddy's Revenge"
          ],
          [
           "A Room with a View"
          ],
          [
           "The Purge"
          ],
          [
           "Sinister"
          ],
          [
           "Martin Lawrence Live: Runteldat"
          ],
          [
           "Cat on a Hot Tin Roof"
          ],
          [
           "Beneath the Planet of the Apes"
          ],
          [
           "Air Bud"
          ],
          [
           "Pokémon: Spell of the Unknown"
          ],
          [
           "Friday the 13th Part VI: Jason Lives"
          ],
          [
           "The Bridge on the River Kwai"
          ],
          [
           "Spaced Invaders"
          ],
          [
           "Family Plot"
          ],
          [
           "The Apartment"
          ],
          [
           "Jason Goes to Hell: The Final Friday"
          ],
          [
           "Torn Curtain"
          ],
          [
           "Dave Chappelle's Block Party"
          ],
          [
           "Slow West"
          ],
          [
           "Krush Groove"
          ],
          [
           "Next Day Air"
          ],
          [
           "Elmer Gantry"
          ],
          [
           "Judgment at Nuremberg"
          ],
          [
           "Trippin'"
          ],
          [
           "Red River"
          ],
          [
           "Phat Girlz"
          ],
          [
           "Before Midnight"
          ],
          [
           "Teen Wolf Too"
          ],
          [
           "Phantasm II"
          ],
          [
           "Woman Thou Art Loosed"
          ],
          [
           "Real Women Have Curves"
          ],
          [
           "Water"
          ],
          [
           "East Is East"
          ],
          [
           "Whipped"
          ],
          [
           "Kama Sutra - A Tale of Love"
          ],
          [
           "Please Give"
          ],
          [
           "Willy Wonka & the Chocolate Factory"
          ],
          [
           "Warlock: The Armageddon"
          ],
          [
           "8 Heads in a Duffel Bag"
          ],
          [
           "Days of Heaven"
          ],
          [
           "Thirteen Conversations About One Thing"
          ],
          [
           "Jawbreaker"
          ],
          [
           "Basquiat"
          ],
          [
           "Frances Ha"
          ],
          [
           "Tsotsi"
          ],
          [
           "Happiness"
          ],
          [
           "DysFunktional Family"
          ],
          [
           "Tusk"
          ],
          [
           "Oldboy"
          ],
          [
           "Letters to God"
          ],
          [
           "Hobo with a Shotgun"
          ],
          [
           "Compadres"
          ],
          [
           "Freeway"
          ],
          [
           "Love's Abiding Joy"
          ],
          [
           "Fish Tank"
          ],
          [
           "Damsels in Distress"
          ],
          [
           "Creature"
          ],
          [
           "Bachelorette"
          ],
          [
           "Brave New Girl"
          ],
          [
           "Tim and Eric's Billion Dollar Movie"
          ],
          [
           "Summer Storm"
          ],
          [
           "Fort McCoy"
          ],
          [
           "Chain Letter"
          ],
          [
           "Just Looking"
          ],
          [
           "The Divide"
          ],
          [
           "The Eclipse"
          ],
          [
           "Demonic"
          ],
          [
           "My Big Fat Independent Movie"
          ],
          [
           "The Deported"
          ],
          [
           "Tanner Hall"
          ],
          [
           "Open Road"
          ],
          [
           "They Came Together"
          ],
          [
           "30 Nights of Paranormal Activity With the Devil Inside the Girl With the Dragon Tattoo"
          ],
          [
           "Never Back Down 2: The Beatdown"
          ],
          [
           "Point Blank"
          ],
          [
           "Four Single Fathers"
          ],
          [
           "Enter the Dangerous Mind"
          ],
          [
           "Something Wicked"
          ],
          [
           "AWOL-72"
          ],
          [
           "Iguana"
          ],
          [
           "Chicago Overcoat"
          ],
          [
           "Barry Munday"
          ],
          [
           "Central Station"
          ],
          [
           "Pocketful of Miracles"
          ],
          [
           "Close Range"
          ],
          [
           "Boynton Beach Club"
          ],
          [
           "Amnesiac"
          ],
          [
           "Freakonomics"
          ],
          [
           "High Tension"
          ],
          [
           "Griff the Invisible"
          ],
          [
           "Unnatural"
          ],
          [
           "Hustle & Flow"
          ],
          [
           "Some Like It Hot"
          ],
          [
           "Friday the 13th Part VII: The New Blood"
          ],
          [
           "The Wizard of Oz"
          ],
          [
           "Young Frankenstein"
          ],
          [
           "Diary of the Dead"
          ],
          [
           "Lage Raho Munna Bhai"
          ],
          [
           "Ulee's Gold"
          ],
          [
           "The Black Stallion"
          ],
          [
           "Sardaarji"
          ],
          [
           "Journey to Saturn"
          ],
          [
           "Donovan's Reef"
          ],
          [
           "The Dress"
          ],
          [
           "A Guy Named Joe"
          ],
          [
           "Blazing Saddles"
          ],
          [
           "Friday the 13th: The Final Chapter"
          ],
          [
           "Ida"
          ],
          [
           "Maurice"
          ],
          [
           "Beer League"
          ],
          [
           "Riding Giants"
          ],
          [
           "Timecrimes"
          ],
          [
           "Silver Medalist"
          ],
          [
           "Timber Falls"
          ],
          [
           "Singin' in the Rain"
          ],
          [
           "Fat, Sick & Nearly Dead"
          ],
          [
           "A Haunted House"
          ],
          [
           "2016: Obama's America"
          ],
          [
           "That Thing You Do!"
          ],
          [
           "Halloween III: Season of the Witch"
          ],
          [
           "Escape from the Planet of the Apes"
          ],
          [
           "Hud"
          ],
          [
           "Kevin Hart: Let Me Explain"
          ],
          [
           "My Own Private Idaho"
          ],
          [
           "Garden State"
          ],
          [
           "Before Sunrise"
          ],
          [
           "Evil Words"
          ],
          [
           "Jesus' Son"
          ],
          [
           "Saving Face"
          ],
          [
           "Brick Lane"
          ],
          [
           "Robot & Frank"
          ],
          [
           "My Life Without Me"
          ],
          [
           "The Spectacular Now"
          ],
          [
           "Religulous"
          ],
          [
           "Fuel"
          ],
          [
           "Valley of the Heart's Delight"
          ],
          [
           "Eye of the Dolphin"
          ],
          [
           "8: The Mormon Proposition"
          ],
          [
           "The Other End of the Line"
          ],
          [
           "Anatomy"
          ],
          [
           "Sleep Dealer"
          ],
          [
           "Super"
          ],
          [
           "Christmas Mail"
          ],
          [
           "Stung"
          ],
          [
           "Antibirth"
          ],
          [
           "Get on the Bus"
          ],
          [
           "Thr3e"
          ],
          [
           "Idiocracy"
          ],
          [
           "The Rise of the Krays"
          ],
          [
           "This Is England"
          ],
          [
           "U.F.O."
          ],
          [
           "Bathing Beauty"
          ],
          [
           "Go for It!"
          ],
          [
           "Dancer, Texas Pop. 81"
          ],
          [
           "Show Boat"
          ],
          [
           "Redemption Road"
          ],
          [
           "The Calling"
          ],
          [
           "The Brave Little Toaster"
          ],
          [
           "Fantasia"
          ],
          [
           "8 Days"
          ],
          [
           "Friday the 13th Part III"
          ],
          [
           "Friday the 13th: A New Beginning"
          ],
          [
           "The Last Sin Eater"
          ],
          [
           "Do You Believe?"
          ],
          [
           "Impact Point"
          ],
          [
           "The Valley of Decision"
          ],
          [
           "Eden"
          ],
          [
           "Chicken Tikka Masala"
          ],
          [
           "There's Always Woodstock"
          ],
          [
           "Jack Brooks: Monster Slayer"
          ],
          [
           "The Best Years of Our Lives"
          ],
          [
           "Bully"
          ],
          [
           "Elling"
          ],
          [
           "Mi America"
          ],
          [
           "[REC]"
          ],
          [
           "Lies in Plain Sight"
          ],
          [
           "Sharkskin"
          ],
          [
           "Containment"
          ],
          [
           "The Timber"
          ],
          [
           "From Russia with Love"
          ],
          [
           "The Toxic Avenger Part II"
          ],
          [
           "Sleeper"
          ],
          [
           "It Follows"
          ],
          [
           "Everything You Always Wanted to Know About Sex *But Were Afraid to Ask"
          ],
          [
           "To Kill a Mockingbird"
          ],
          [
           "Mad Max 2: The Road Warrior"
          ],
          [
           "The Legend of Drunken Master"
          ],
          [
           "Boys Don't Cry"
          ],
          [
           "Silent House"
          ],
          [
           "The Lives of Others"
          ],
          [
           "Courageous"
          ],
          [
           "The Hustler"
          ],
          [
           "Boom Town"
          ],
          [
           "The Triplets of Belleville"
          ],
          [
           "Smoke Signals"
          ],
          [
           "American Splendor"
          ],
          [
           "Before Sunset"
          ],
          [
           "Amores perros"
          ],
          [
           "Thirteen"
          ],
          [
           "Gentleman's Agreement"
          ],
          [
           "Winter's Bone"
          ],
          [
           "Touching the Void"
          ],
          [
           "Alexander's Ragtime Band"
          ],
          [
           "Me and You and Everyone We Know"
          ],
          [
           "Inside Job"
          ],
          [
           "We Are Your Friends"
          ],
          [
           "Ghost Dog: The Way of the Samurai"
          ],
          [
           "Harsh Times"
          ],
          [
           "Captive"
          ],
          [
           "Full Frontal"
          ],
          [
           "Witchboard"
          ],
          [
           "Shortbus"
          ],
          [
           "Waltz with Bashir"
          ],
          [
           "The Book of Mormon Movie, Volume 1: The Journey"
          ],
          [
           "No End in Sight"
          ],
          [
           "The Diary of a Teenage Girl"
          ],
          [
           "In the Shadow of the Moon"
          ],
          [
           "Meek's Cutoff"
          ],
          [
           "Inside Deep Throat"
          ],
          [
           "Dinner Rush"
          ],
          [
           "Clockwatchers"
          ],
          [
           "The Virginity Hit"
          ],
          [
           "Subway"
          ],
          [
           "House of D"
          ],
          [
           "Teeth"
          ],
          [
           "Six-String Samurai"
          ],
          [
           "Hum To Mohabbat Karega"
          ],
          [
           "It's All Gone Pete Tong"
          ],
          [
           "Saint John of Las Vegas"
          ],
          [
           "24 7: Twenty Four Seven"
          ],
          [
           "Stonewall"
          ],
          [
           "Roadside Romeo"
          ],
          [
           "This Thing of Ours"
          ],
          [
           "The Lost Medallion: The Adventures of Billy Stone"
          ],
          [
           "The Last Five Years"
          ],
          [
           "The Missing Person"
          ],
          [
           "Return of the Living Dead 3"
          ],
          [
           "London"
          ],
          [
           "Sherrybaby"
          ],
          [
           "Circle"
          ],
          [
           "Eden Lake"
          ],
          [
           "Plush"
          ],
          [
           "Lesbian Vampire Killers"
          ],
          [
           "Gangster's Paradise: Jerusalema"
          ],
          [
           "Freeze Frame"
          ],
          [
           "Grave Encounters"
          ],
          [
           "Stitches"
          ],
          [
           "Nine Dead"
          ],
          [
           "To Be Frank, Sinatra at 100"
          ],
          [
           "Bananas"
          ],
          [
           "Supercapitalist"
          ],
          [
           "Rockaway"
          ],
          [
           "The Lady from Shanghai"
          ],
          [
           "No Man's Land: The Rise of Reeker"
          ],
          [
           "Highway"
          ],
          [
           "Small Apartments"
          ],
          [
           "Coffee Town"
          ],
          [
           "The Ghastly Love of Johnny X"
          ],
          [
           "All Is Bright"
          ],
          [
           "The Torture Chamber of Dr. Sadism"
          ],
          [
           "Straight A's"
          ],
          [
           "A Funny Thing Happened on the Way to the Forum"
          ],
          [
           "Slacker Uprising"
          ],
          [
           "The Legend of Hell's Gate: An American Conspiracy"
          ],
          [
           "The Walking Deceased"
          ],
          [
           "The Curse of Downers Grove"
          ],
          [
           "Shark Lake"
          ],
          [
           "River's Edge"
          ],
          [
           "Northfork"
          ],
          [
           "The Marine 4: Moving Target"
          ],
          [
           "Buried"
          ],
          [
           "Submarine"
          ],
          [
           "The Square"
          ],
          [
           "One to Another"
          ],
          [
           "ABCD (Any Body Can Dance)"
          ],
          [
           "Man on Wire"
          ],
          [
           "Abandoned"
          ],
          [
           "Brotherly Love"
          ],
          [
           "The Last Exorcism"
          ],
          [
           "Nowhere Boy"
          ],
          [
           "A Streetcar Named Desire"
          ],
          [
           "Dr. Strangelove or: How I Learned to Stop Worrying and Love the Bomb"
          ],
          [
           "The Crime of Padre Amaro"
          ],
          [
           "Beasts of the Southern Wild"
          ],
          [
           "Battle for the Planet of the Apes"
          ],
          [
           "Songcatcher"
          ],
          [
           "Higher Ground"
          ],
          [
           "Vaalu"
          ],
          [
           "The Greatest Movie Ever Sold"
          ],
          [
           "Ed and His Dead Mother"
          ],
          [
           "Travellers and Magicians"
          ],
          [
           "Hang 'em High"
          ],
          [
           "Deadline - U.S.A."
          ],
          [
           "Sublime"
          ],
          [
           "A Beginner's Guide to Snuff"
          ],
          [
           "Independence Daysaster"
          ],
          [
           "Dysfunctional Friends"
          ],
          [
           "Run Lola Run"
          ],
          [
           "May"
          ],
          [
           "Against the Wild"
          ],
          [
           "Under the Same Moon"
          ],
          [
           "Conquest of the Planet of the Apes"
          ],
          [
           "In the Bedroom"
          ],
          [
           "I Spit on Your Grave"
          ],
          [
           "Happy, Texas"
          ],
          [
           "My Summer of Love"
          ],
          [
           "The Lunchbox"
          ],
          [
           "Yes"
          ],
          [
           "You Can't Take It With You"
          ],
          [
           "From Here to Eternity"
          ],
          [
           "She Wore a Yellow Ribbon"
          ],
          [
           "Grace Unplugged"
          ],
          [
           "Foolish"
          ],
          [
           "N-Secure"
          ],
          [
           "Caramel"
          ],
          [
           "Out of the Dark"
          ],
          [
           "The Bubble"
          ],
          [
           "The Conversation"
          ],
          [
           "Dil Jo Bhi Kahey..."
          ],
          [
           "Mississippi Mermaid"
          ],
          [
           "I Love Your Work"
          ],
          [
           "Cabin Fever"
          ],
          [
           "Waitress"
          ],
          [
           "Bloodsport"
          ],
          [
           "Mr. Smith Goes to Washington"
          ],
          [
           "Kids"
          ],
          [
           "The Squid and the Whale"
          ],
          [
           "Kissing Jessica Stein"
          ],
          [
           "Kickboxer: Vengeance"
          ],
          [
           "Spellbound"
          ],
          [
           "Exotica"
          ],
          [
           "Buffalo '66"
          ],
          [
           "Insidious"
          ],
          [
           "Repo Man"
          ],
          [
           "Nine Queens"
          ],
          [
           "The Gatekeepers"
          ],
          [
           "The Ballad of Jack and Rose"
          ],
          [
           "The To Do List"
          ],
          [
           "Killing Zoe"
          ],
          [
           "The Believer"
          ],
          [
           "Snow Angels"
          ],
          [
           "Unsullied"
          ],
          [
           "Session 9"
          ],
          [
           "I Want Someone to Eat Cheese With"
          ],
          [
           "Mooz-lum"
          ],
          [
           "Hatchet"
          ],
          [
           "Modern Times"
          ],
          [
           "Stolen Summer"
          ],
          [
           "My Name Is Bruce"
          ],
          [
           "The Salon"
          ],
          [
           "Road Hard"
          ],
          [
           "Forty Shades of Blue"
          ],
          [
           "Amigo"
          ],
          [
           "Pontypool"
          ],
          [
           "Trucker"
          ],
          [
           "Me You and Five Bucks"
          ],
          [
           "The Lords of Salem"
          ],
          [
           "Housebound"
          ],
          [
           "Wal-Mart: The High Cost of Low Price"
          ],
          [
           "Fetching Cody"
          ],
          [
           "Last I Heard"
          ],
          [
           "Closer to the Moon"
          ],
          [
           "Mutant World"
          ],
          [
           "Growing Up Smith"
          ],
          [
           "Checkmate"
          ],
          [
           "#Horror"
          ],
          [
           "Wind Walkers"
          ],
          [
           "Snow White and the Seven Dwarfs"
          ],
          [
           "The Holy Girl"
          ],
          [
           "Shalako"
          ],
          [
           "Incident at Loch Ness"
          ],
          [
           "The Dog Lover"
          ],
          [
           "GirlHouse"
          ],
          [
           "The Blue Room"
          ],
          [
           "House at the End of the Drive"
          ],
          [
           "Batman"
          ],
          [
           "Lock, Stock and Two Smoking Barrels"
          ],
          [
           "The Ballad of Gregorio Cortez"
          ],
          [
           "The Celebration"
          ],
          [
           "Trees Lounge"
          ],
          [
           "Journey from the Fall"
          ],
          [
           "The Basket"
          ],
          [
           "Eddie: The Sleepwalking Cannibal"
          ],
          [
           "Queen of the Mountains"
          ],
          [
           "Def-Con 4"
          ],
          [
           "The Hebrew Hammer"
          ],
          [
           "Neal 'n' Nikki"
          ],
          [
           "The 41–Year–Old Virgin Who Knocked Up Sarah Marshall and Felt Superbad About It"
          ],
          [
           "Forget Me Not"
          ],
          [
           "Rebecca"
          ],
          [
           "Friday the 13th Part 2"
          ],
          [
           "The Lost Weekend"
          ],
          [
           "C.H.U.D."
          ],
          [
           "Filly Brown"
          ],
          [
           "The Lion of Judah"
          ],
          [
           "Niagara"
          ],
          [
           "How Green Was My Valley"
          ],
          [
           "Da Sweet Blood of Jesus"
          ],
          [
           "Sex, Lies, and Videotape"
          ],
          [
           "Saw"
          ],
          [
           "Super Troopers"
          ],
          [
           "The Algerian"
          ],
          [
           "The Amazing Catfish"
          ],
          [
           "Monsoon Wedding"
          ],
          [
           "You Can Count on Me"
          ],
          [
           "The Trouble with Harry"
          ],
          [
           "But I'm a Cheerleader"
          ],
          [
           "Home Run"
          ],
          [
           "Reservoir Dogs"
          ],
          [
           "The Blue Bird"
          ],
          [
           "The Good, the Bad and the Ugly"
          ],
          [
           "The Second Mother"
          ],
          [
           "Blue Like Jazz"
          ],
          [
           "Down & Out With The Dolls"
          ],
          [
           "Pink Ribbons, Inc."
          ],
          [
           "Certifiably Jonathan"
          ],
          [
           "Desire"
          ],
          [
           "The Blade of Don Juan"
          ],
          [
           "Grand Theft Parsons"
          ],
          [
           "Extreme Movie"
          ],
          [
           "The Charge of the Light Brigade"
          ],
          [
           "Below Zero"
          ],
          [
           "Crowsnest"
          ],
          [
           "Airborne"
          ],
          [
           "Cotton Comes to Harlem"
          ],
          [
           "The Wicked Within"
          ],
          [
           "Bleeding Hearts"
          ],
          [
           "Waiting..."
          ],
          [
           "Dead Man's Shoes"
          ],
          [
           "From a Whisper to a Scream"
          ],
          [
           "Sex With Strangers"
          ],
          [
           "Dracula: Pages from a Virgin's Diary"
          ],
          [
           "Faith Like Potatoes"
          ],
          [
           "Beyond the Black Rainbow"
          ],
          [
           "The Raid"
          ],
          [
           "The Dead Undead"
          ],
          [
           "The Vatican Exorcisms"
          ],
          [
           "Casablanca"
          ],
          [
           "Lake Mungo"
          ],
          [
           "Rocket Singh: Salesman of the Year"
          ],
          [
           "Silent Running"
          ],
          [
           "Rocky"
          ],
          [
           "The Sleepwalker"
          ],
          [
           "Tom Jones"
          ],
          [
           "Unfriended"
          ],
          [
           "Taxi Driver"
          ],
          [
           "The Howling"
          ],
          [
           "Dr. No"
          ],
          [
           "Chernobyl Diaries"
          ],
          [
           "Hellraiser"
          ],
          [
           "God's Not Dead 2"
          ],
          [
           "Cry_Wolf"
          ],
          [
           "Godzilla 2000"
          ],
          [
           "Blue Valentine"
          ],
          [
           "Transamerica"
          ],
          [
           "The Devil Inside"
          ],
          [
           "Beyond the Valley of the Dolls"
          ],
          [
           "Love Me Tender"
          ],
          [
           "An Inconvenient Truth"
          ],
          [
           "Sands of Iwo Jima"
          ],
          [
           "Shine a Light"
          ],
          [
           "The Green Inferno"
          ],
          [
           "Departure"
          ],
          [
           "The Sessions"
          ],
          [
           "Food, Inc."
          ],
          [
           "October Baby"
          ],
          [
           "Next Stop Wonderland"
          ],
          [
           "The Skeleton Twins"
          ],
          [
           "Martha Marcy May Marlene"
          ],
          [
           "Obvious Child"
          ],
          [
           "Frozen River"
          ],
          [
           "20 Feet from Stardom"
          ],
          [
           "Two Girls and a Guy"
          ],
          [
           "Walking and Talking"
          ],
          [
           "Who Killed the Electric Car?"
          ],
          [
           "The Broken Hearts Club: A Romantic Comedy"
          ],
          [
           "Bubba Ho-tep"
          ],
          [
           "Slam"
          ],
          [
           "Brigham City"
          ],
          [
           "Fiza"
          ],
          [
           "Orgazmo"
          ],
          [
           "All the Real Girls"
          ],
          [
           "Dream with the Fishes"
          ],
          [
           "Blue Car"
          ],
          [
           "Palo Alto"
          ],
          [
           "Ajami"
          ],
          [
           "Wristcutters: A Love Story"
          ],
          [
           "I Origins"
          ],
          [
           "The Battle of Shaker Heights"
          ],
          [
           "The Act of Killing"
          ],
          [
           "Taxi to the Dark Side"
          ],
          [
           "Once in a Lifetime: The Extraordinary Story of the New York Cosmos"
          ],
          [
           "Guiana 1838"
          ],
          [
           "Lisa Picard Is Famous"
          ],
          [
           "Antarctica: A Year on Ice"
          ],
          [
           "A LEGO Brickumentary"
          ],
          [
           "Hardflip"
          ],
          [
           "Chocolate: Deep Dark Secrets"
          ],
          [
           "The House of the Devil"
          ],
          [
           "The Perfect Host"
          ],
          [
           "Safe Men"
          ],
          [
           "Speedway Junky"
          ],
          [
           "The Last Big Thing"
          ],
          [
           "The Specials"
          ],
          [
           "16 to Life"
          ],
          [
           "Alone With Her"
          ],
          [
           "Creative Control"
          ],
          [
           "Special"
          ],
          [
           "Sparkler"
          ],
          [
           "The Helix... Loaded"
          ],
          [
           "In Her Line of Fire"
          ],
          [
           "The Jimmy Show"
          ],
          [
           "Heli"
          ],
          [
           "Karachi se Lahore"
          ],
          [
           "Loving Annabelle"
          ],
          [
           "Hits"
          ],
          [
           "Jimmy and Judy"
          ],
          [
           "Frat Party"
          ],
          [
           "The Party's Over"
          ],
          [
           "Proud"
          ],
          [
           "The Poker House"
          ],
          [
           "Childless"
          ],
          [
           "ZMD: Zombies of Mass Destruction"
          ],
          [
           "Snow White: A Deadly Summer"
          ],
          [
           "Hidden Away"
          ],
          [
           "My Last Day Without You"
          ],
          [
           "Steppin: The Movie"
          ],
          [
           "Doc Holliday's Revenge"
          ],
          [
           "Black Rock"
          ],
          [
           "Truth or Dare"
          ],
          [
           "The Pet"
          ],
          [
           "Bang Bang Baby"
          ],
          [
           "Fear Clinic"
          ],
          [
           "Zombie Hunter"
          ],
          [
           "A Fine Step"
          ],
          [
           "Charly"
          ],
          [
           "Banshee Chapter"
          ],
          [
           "Ask Me Anything"
          ],
          [
           "And Then Came Love"
          ],
          [
           "Food Chains"
          ],
          [
           "On the Waterfront"
          ],
          [
           "L!fe Happens"
          ],
          [
           "4 Months, 3 Weeks and 2 Days"
          ],
          [
           "The Horror Network Vol. 1"
          ],
          [
           "Hard Candy"
          ],
          [
           "The Quiet"
          ],
          [
           "Circumstance"
          ],
          [
           "Fruitvale Station"
          ],
          [
           "The Brass Teapot"
          ],
          [
           "Bambi"
          ],
          [
           "The Hammer"
          ],
          [
           "Latter Days"
          ],
          [
           "Elza"
          ],
          [
           "1982"
          ],
          [
           "For a Good Time, Call..."
          ],
          [
           "Celeste & Jesse Forever"
          ],
          [
           "Time Changer"
          ],
          [
           "London to Brighton"
          ],
          [
           "American Hero"
          ],
          [
           "Windsor Drive"
          ],
          [
           "A Separation"
          ],
          [
           "Crying with Laughter"
          ],
          [
           "Welcome to the Dollhouse"
          ],
          [
           "Ruby in Paradise"
          ],
          [
           "Raising Victor Vargas"
          ],
          [
           "Pandora's Box"
          ],
          [
           "Harrison Montgomery"
          ],
          [
           "Live-In Maid"
          ],
          [
           "Deterrence"
          ],
          [
           "The Mudge Boy"
          ],
          [
           "The Young Unknowns"
          ],
          [
           "Not Cool"
          ],
          [
           "Dead Snow"
          ],
          [
           "Saints and Soldiers"
          ],
          [
           "Vessel"
          ],
          [
           "American Graffiti"
          ],
          [
           "Iraq for Sale: The War Profiteers"
          ],
          [
           "Aqua Teen Hunger Force Colon Movie Film for Theaters"
          ],
          [
           "Safety Not Guaranteed"
          ],
          [
           "Kevin Hart: Laugh at My Pain"
          ],
          [
           "Kill List"
          ],
          [
           "The Innkeepers"
          ],
          [
           "The Conformist"
          ],
          [
           "Interview with the Assassin"
          ],
          [
           "Donkey Punch"
          ],
          [
           "All the Boys Love Mandy Lane"
          ],
          [
           "Bled"
          ],
          [
           "High Noon"
          ],
          [
           "Hoop Dreams"
          ],
          [
           "Rize"
          ],
          [
           "L.I.E."
          ],
          [
           "The Sisterhood of Night"
          ],
          [
           "B-Girl"
          ],
          [
           "Half Nelson"
          ],
          [
           "Naturally Native"
          ],
          [
           "Hav Plenty"
          ],
          [
           "Adulterers"
          ],
          [
           "Escape from Tomorrow"
          ],
          [
           "Starsuckers"
          ],
          [
           "The Hadza:  Last of the First"
          ],
          [
           "After"
          ],
          [
           "Treachery"
          ],
          [
           "Walter"
          ],
          [
           "Top Hat"
          ],
          [
           "The Blair Witch Project"
          ],
          [
           "Woodstock"
          ],
          [
           "The Kentucky Fried Movie"
          ],
          [
           "Mercy Streets"
          ],
          [
           "Carousel of Revenge"
          ],
          [
           "Broken Vessels"
          ],
          [
           "Water & Power"
          ],
          [
           "They Will Have to Kill Us First"
          ],
          [
           "Light from the Darkroom"
          ],
          [
           "The Country Doctor"
          ],
          [
           "The Maid's Room"
          ],
          [
           "A Hard Day's Night"
          ],
          [
           "The Harvest (La Cosecha)"
          ],
          [
           "Love Letters"
          ],
          [
           "Juliet and Alfa Romeo"
          ],
          [
           "Fireproof"
          ],
          [
           "Faith Connections"
          ],
          [
           "Benji"
          ],
          [
           "Open Water"
          ],
          [
           "High Road"
          ],
          [
           "Kingdom of the Spiders"
          ],
          [
           "Mad Hot Ballroom"
          ],
          [
           "The Station Agent"
          ],
          [
           "To Save A Life"
          ],
          [
           "Wordplay"
          ],
          [
           "Beyond the Mat"
          ],
          [
           "The Singles Ward"
          ],
          [
           "Osama"
          ],
          [
           "Sholem Aleichem: Laughing In The Darkness"
          ],
          [
           "Groove"
          ],
          [
           "The R.M."
          ],
          [
           "Twin Falls Idaho"
          ],
          [
           "Mean Creek"
          ],
          [
           "Hurricane Streets"
          ],
          [
           "Never Again"
          ],
          [
           "Civil Brand"
          ],
          [
           "Lonesome Jim"
          ],
          [
           "Drinking Buddies"
          ],
          [
           "Deceptive Practice: The Mysteries and Mentors of Ricky Jay"
          ],
          [
           "Seven Samurai"
          ],
          [
           "The Other Dream Team"
          ],
          [
           "Johnny Suede"
          ],
          [
           "Finishing The Game"
          ],
          [
           "Rubber"
          ],
          [
           "Kiss the Bride"
          ],
          [
           "The Slaughter Rule"
          ],
          [
           "Monsters"
          ],
          [
           "The Californians"
          ],
          [
           "The Living Wake"
          ],
          [
           "Detention of the Dead"
          ],
          [
           "Crazy Stone"
          ],
          [
           "Scott Walker: 30 Century Man"
          ],
          [
           "Everything Put Together"
          ],
          [
           "Good Kill"
          ],
          [
           "The Outrageous Sophie Tucker"
          ],
          [
           "Now Is Good"
          ],
          [
           "Girls Gone Dead"
          ],
          [
           "America Is Still the Place"
          ],
          [
           "Subconscious"
          ],
          [
           "Enter Nowhere"
          ],
          [
           "El Rey de Najayo"
          ],
          [
           "Fight to the Finish"
          ],
          [
           "Alleluia! The Devil's Carnival"
          ],
          [
           "The Sound and the Shadow"
          ],
          [
           "Rodeo Girl"
          ],
          [
           "Born to Fly: Elizabeth Streb vs. Gravity"
          ],
          [
           "The Little Ponderosa Zoo"
          ],
          [
           "The Toxic Avenger"
          ],
          [
           "Straight Out of Brooklyn"
          ],
          [
           "Bloody Sunday"
          ],
          [
           "Diamond Ruff"
          ],
          [
           "Conversations with Other Women"
          ],
          [
           "Poultrygeist: Night of the Chicken Dead"
          ],
          [
           "Mutual Friends"
          ],
          [
           "42nd Street"
          ],
          [
           "Rise of the Entrepreneur: The Search for a Better Way"
          ],
          [
           "Metropolitan"
          ],
          [
           "As It Is in Heaven"
          ],
          [
           "Roadside"
          ],
          [
           "Napoleon Dynamite"
          ],
          [
           "Blue Ruin"
          ],
          [
           "Paranormal Activity"
          ],
          [
           "Dogtown and Z-Boys"
          ],
          [
           "Monty Python and the Holy Grail"
          ],
          [
           "Quinceañera"
          ],
          [
           "Gory Gory Hallelujah"
          ],
          [
           "Tarnation"
          ],
          [
           "I Want Your Money"
          ],
          [
           "Love in the Time of Monsters"
          ],
          [
           "The Beyond"
          ],
          [
           "What Happens in Vegas"
          ],
          [
           "The Dark Hours"
          ],
          [
           "My Beautiful Laundrette"
          ],
          [
           "Fabled"
          ],
          [
           "Show Me"
          ],
          [
           "Cries and Whispers"
          ],
          [
           "Intolerance"
          ],
          [
           "Trekkies"
          ],
          [
           "The Broadway Melody"
          ],
          [
           "The Evil Dead"
          ],
          [
           "Maniac"
          ],
          [
           "Censored Voices"
          ],
          [
           "Murderball"
          ],
          [
           "American Ninja 2: The Confrontation"
          ],
          [
           "51 Birch Street"
          ],
          [
           "Rotor DR1"
          ],
          [
           "12 Angry Men"
          ],
          [
           "My Dog Tulip"
          ],
          [
           "It Happened One Night"
          ],
          [
           "Dogtooth"
          ],
          [
           "Tupac: Resurrection"
          ],
          [
           "Tumbleweeds"
          ],
          [
           "The Prophecy"
          ],
          [
           "When the Cat's Away"
          ],
          [
           "Pieces of April"
          ],
          [
           "The Big Swap"
          ],
          [
           "Old Joy"
          ],
          [
           "Wendy and Lucy"
          ],
          [
           "3 Backyards"
          ],
          [
           "Pierrot le Fou"
          ],
          [
           "Sisters in Law"
          ],
          [
           "Ayurveda: Art of Being"
          ],
          [
           "Nothing But a Man"
          ],
          [
           "First Love, Last Rites"
          ],
          [
           "Fighting Tommy Riley"
          ],
          [
           "Royal Kill"
          ],
          [
           "The Looking Glass"
          ],
          [
           "Death Race 2000"
          ],
          [
           "Locker 13"
          ],
          [
           "Midnight Cabaret"
          ],
          [
           "Anderson's Cross"
          ],
          [
           "Bizarre"
          ],
          [
           "Graduation Day"
          ],
          [
           "Some Guy Who Kills People"
          ],
          [
           "Compliance"
          ],
          [
           "Chasing Amy"
          ],
          [
           "Lovely & Amazing"
          ],
          [
           "Death Calls"
          ],
          [
           "Better Luck Tomorrow"
          ],
          [
           "The Incredibly True Adventure of Two Girls In Love"
          ],
          [
           "Chuck & Buck"
          ],
          [
           "American Desi"
          ],
          [
           "Amidst the Devil's Wings"
          ],
          [
           "Cube"
          ],
          [
           "Love and Other Catastrophes"
          ],
          [
           "I Married a Strange Person!"
          ],
          [
           "November"
          ],
          [
           "Like Crazy"
          ],
          [
           "Teeth and Blood"
          ],
          [
           "Sugar Town"
          ],
          [
           "The Motel"
          ],
          [
           "The Canyons"
          ],
          [
           "On the Outs"
          ],
          [
           "Shotgun Stories"
          ],
          [
           "Exam"
          ],
          [
           "The Sticky Fingers of Time"
          ],
          [
           "Sunday School Musical"
          ],
          [
           "Rust"
          ],
          [
           "Ink"
          ],
          [
           "The Christmas Bunny"
          ],
          [
           "Butterfly"
          ],
          [
           "UnDivided"
          ],
          [
           "The Frozen"
          ],
          [
           "Horse Camp"
          ],
          [
           "Give Me Shelter"
          ],
          [
           "The Big Parade"
          ],
          [
           "Little Big Top"
          ],
          [
           "Along the Roadside"
          ],
          [
           "Bronson"
          ],
          [
           "Western Religion"
          ],
          [
           "Burn"
          ],
          [
           "Urbania"
          ],
          [
           "The Stewardesses"
          ],
          [
           "The Beast from 20,000 Fathoms"
          ],
          [
           "Mad Max"
          ],
          [
           "Swingers"
          ],
          [
           "A Fistful of Dollars"
          ],
          [
           "She Done Him Wrong"
          ],
          [
           "Short Cut to Nirvana: Kumbh Mela"
          ],
          [
           "The Grace Card"
          ],
          [
           "Middle of Nowhere"
          ],
          [
           "Three"
          ],
          [
           "The Business of Fancydancing"
          ],
          [
           "Call + Response"
          ],
          [
           "Malevolence"
          ],
          [
           "Reality Show"
          ],
          [
           "Super Hybrid"
          ],
          [
           "Baghead"
          ],
          [
           "American Beast"
          ],
          [
           "The Case of the Grinning Cat"
          ],
          [
           "Ordet"
          ],
          [
           "Good Dick"
          ],
          [
           "The Man from Earth"
          ],
          [
           "The Trials Of Darryl Hunt"
          ],
          [
           "Samantha: An American Girl Holiday"
          ],
          [
           "Yesterday Was a Lie"
          ],
          [
           "Theresa Is a Mother"
          ],
          [
           "H."
          ],
          [
           "Archaeology of a Woman"
          ],
          [
           "Children of Heaven"
          ],
          [
           "Weekend"
          ],
          [
           "She's Gotta Have It"
          ],
          [
           "Butterfly Girl"
          ],
          [
           "The World Is Mine"
          ],
          [
           "Another Earth"
          ],
          [
           "Sweet Sweetback's Baadasssss Song"
          ],
          [
           "Perfect Cowboy"
          ],
          [
           "Tadpole"
          ],
          [
           "Once"
          ],
          [
           "The Woman Chaser"
          ],
          [
           "The Horse Boy"
          ],
          [
           "When the Lights Went Out"
          ],
          [
           "Heroes of Dirt"
          ],
          [
           "A Charlie Brown Christmas"
          ],
          [
           "Antarctic Edge: 70° South"
          ],
          [
           "Aroused"
          ],
          [
           "Top Spin"
          ],
          [
           "Roger & Me"
          ],
          [
           "An American in Hollywood"
          ],
          [
           "Sound of My Voice"
          ],
          [
           "The Blood of My Brother: A Story of Death in Iraq"
          ],
          [
           "Your Sister's Sister"
          ],
          [
           "A Dog's Breakfast"
          ],
          [
           "The Married Woman"
          ],
          [
           "The Birth of a Nation"
          ],
          [
           "The Work and The Story"
          ],
          [
           "Facing the Giants"
          ],
          [
           "The Gallows"
          ],
          [
           "Eraserhead"
          ],
          [
           "Hollywood Shuffle"
          ],
          [
           "The Mighty"
          ],
          [
           "Penitentiary"
          ],
          [
           "The Lost Skeleton of Cadavra"
          ],
          [
           "Dude Where's My Dog?"
          ],
          [
           "Cheap Thrills"
          ],
          [
           "Indie Game: The Movie"
          ],
          [
           "Straightheads"
          ],
          [
           "Open Secret"
          ],
          [
           "Echo Dr."
          ],
          [
           "The Night Visitor"
          ],
          [
           "The Past Is a Grotesque Animal"
          ],
          [
           "Peace, Propaganda & the Promised Land"
          ],
          [
           "Pi"
          ],
          [
           "I Love You, Don't Touch Me!"
          ],
          [
           "20 Dates"
          ],
          [
           "Queen Crab"
          ],
          [
           "Super Size Me"
          ],
          [
           "The FP"
          ],
          [
           "Happy Christmas"
          ],
          [
           "The Brain That Wouldn't Die"
          ],
          [
           "Tiger Orange"
          ],
          [
           "Supporting Characters"
          ],
          [
           "Absentia"
          ],
          [
           "The Brothers McMullen"
          ],
          [
           "The Dirties"
          ],
          [
           "Gabriela"
          ],
          [
           "Tiny Furniture"
          ],
          [
           "Hayride"
          ],
          [
           "The Naked Ape"
          ],
          [
           "Counting"
          ],
          [
           "The Call of Cthulhu"
          ],
          [
           "Bending Steel"
          ],
          [
           "The Signal"
          ],
          [
           "The Image Revolution"
          ],
          [
           "This Is Martin Bonner"
          ],
          [
           "A True Story"
          ],
          [
           "George Washington"
          ],
          [
           "Smiling Fish & Goat On Fire"
          ],
          [
           "Dawn of the Crescent Moon"
          ],
          [
           "Raymond Did It"
          ],
          [
           "The Last Waltz"
          ],
          [
           "Run, Hide, Die"
          ],
          [
           "The Exploding Girl"
          ],
          [
           "The Legend of God's Gun"
          ],
          [
           "Mutual Appreciation"
          ],
          [
           "Her Cry: La Llorona Investigation"
          ],
          [
           "Down Terrace"
          ],
          [
           "Clerks"
          ],
          [
           "Pink Narcissus"
          ],
          [
           "Funny Ha Ha"
          ],
          [
           "In the Company of Men"
          ],
          [
           "Manito"
          ],
          [
           "Rampage"
          ],
          [
           "Slacker"
          ],
          [
           "Dutch Kills"
          ],
          [
           "Dry Spell"
          ],
          [
           "Flywheel"
          ],
          [
           "Backmask"
          ],
          [
           "The Puffy Chair"
          ],
          [
           "Stories of Our Lives"
          ],
          [
           "Breaking Upwards"
          ],
          [
           "All Superheroes Must Die"
          ],
          [
           "Pink Flamingos"
          ],
          [
           "Clean"
          ],
          [
           "The Circle"
          ],
          [
           "Tin Can Man"
          ],
          [
           "Cure"
          ],
          [
           "On The Downlow"
          ],
          [
           "Sanctuary: Quite a Conundrum"
          ],
          [
           "Bang"
          ],
          [
           "Primer"
          ],
          [
           "Cavite"
          ],
          [
           "El Mariachi"
          ],
          [
           "Newlyweds"
          ],
          [
           "Signed, Sealed, Delivered"
          ],
          [
           "Shanghai Calling"
          ],
          [
           "My Date with Drew"
          ]
         ],
         "hovertemplate": "popularity=%{x}<br>revenue=%{y}<br>title=%{customdata[0]}<extra></extra>",
         "legendgroup": "",
         "marker": {
          "color": "#636efa",
          "symbol": "circle"
         },
         "mode": "markers",
         "name": "",
         "showlegend": false,
         "type": "scattergl",
         "x": [
          150.437577,
          139.082615,
          107.376788,
          112.31295,
          43.926995,
          115.699814,
          48.681969,
          134.279229,
          98.885637,
          155.790452,
          57.925623,
          107.928811,
          145.847379,
          49.046956,
          99.398009,
          53.978602,
          144.448633,
          135.413856,
          52.035179,
          120.965743,
          89.866276,
          37.668301,
          94.370564,
          42.990906,
          61.22601,
          100.025899,
          198.372395,
          64.928382,
          418.708552,
          93.004993,
          35.149586,
          77.68208,
          78.530105,
          3.857526,
          89.186492,
          21.939663,
          116.840296,
          46.985445,
          89.270217,
          73.79505,
          49.98659,
          51.872839,
          59.995418,
          71.862892,
          102.322217,
          81.834855,
          118.078691,
          78.291018,
          43.349855,
          61.196071,
          62.169881,
          56.523205,
          28.529607,
          75.674458,
          51.692953,
          125.114374,
          65.352913,
          66.390712,
          22.57178,
          45.274225,
          39.744242,
          85.36908,
          42.741719,
          67.391328,
          139.272042,
          187.322927,
          92.201962,
          36.167578,
          120.725053,
          32.319043,
          40.748915,
          60.034162,
          90.23792,
          27.082182,
          79.456485,
          44.640292,
          32.852443,
          128.655964,
          94.199316,
          77.300194,
          77.178973,
          110.620647,
          243.791743,
          2.418535,
          41.796339,
          72.225265,
          44.041186,
          130.311355,
          203.73459,
          62.341073,
          47.323228,
          48.775723,
          67.263269,
          69.405188,
          481.098624,
          724.247784,
          167.58371,
          9.476999,
          108.849621,
          6.909942,
          60.269279,
          3.195174,
          127.284427,
          35.580815,
          21.133748,
          56.268916,
          42.986467,
          63.148529,
          202.042635,
          49.661984,
          34.20669,
          25.468493,
          39.019229,
          78.144395,
          101.250416,
          56.758411,
          70.867401,
          53.905592,
          65.677399,
          115.040024,
          44.141021,
          81.781591,
          5.954334,
          73.313918,
          165.125366,
          70.78591,
          99.499595,
          434.278564,
          67.447636,
          86.493424,
          41.845878,
          26.710398,
          44.927635,
          50.306728,
          114.522237,
          21.214571,
          29.332905,
          51.247321,
          33.769336,
          63.079003,
          39.004588,
          12.362599,
          22.550135,
          48.03528,
          38.73494,
          66.803149,
          44.989192,
          54.159392,
          66.21806,
          58.485967,
          91.332849,
          35.601665,
          56.747978,
          77.77477,
          61.788035,
          25.159168,
          52.341226,
          101.599427,
          73.616808,
          82.502566,
          100.21391,
          56.257249,
          17.88953,
          64.798873,
          24.855701,
          34.981698,
          59.325589,
          21.605568,
          26.074908,
          74.506246,
          39.604363,
          36.973031,
          99.687084,
          17.7735,
          62.898336,
          44.19092,
          100.635882,
          44.765377,
          29.91353,
          84.366984,
          45.381501,
          84.689648,
          120.09361,
          76.310119,
          63.473086,
          48.572726,
          38.068736,
          20.678787,
          48.829437,
          46.115758,
          89.938296,
          79.679601,
          28.840997,
          42.840582,
          26.548594,
          115.597753,
          68.757242,
          109.984351,
          39.448066,
          271.972889,
          206.227151,
          45.313197,
          42.40024,
          2.871739,
          7.255718,
          81.499621,
          47.686442,
          43.129703,
          27.220157,
          90.33681,
          50.073575,
          45.419668,
          41.380094,
          54.931334,
          25.752118,
          60.810723,
          51.328145,
          46.834704,
          62.641286,
          33.616115,
          68.889395,
          27.990284,
          67.33767,
          27.835436,
          66.757869,
          17.060695,
          11.137655,
          44.906918,
          67.698004,
          44.108427,
          43.987061,
          106.815545,
          15.953444,
          54.035265,
          64.183321,
          20.344364,
          18.714197,
          60.467984,
          143.350376,
          110.153618,
          16.90444,
          39.873791,
          38.126095,
          48.780039,
          100.412364,
          42.887121,
          23.657284,
          76.840712,
          44.635452,
          103.718387,
          45.616098,
          22.845143,
          31.703608,
          71.510596,
          36.65422,
          19.625972,
          86.105615,
          37.195046,
          32.473628,
          23.336875,
          45.94834,
          48.93337,
          138.049577,
          22.643776,
          18.866672,
          18.251129,
          95.914473,
          44.490453,
          30.475297,
          62.479574,
          167.93287,
          37.68056,
          1.004579,
          52.995628,
          95.301296,
          65.948959,
          132.397737,
          88.935165,
          51.188633,
          101.74155,
          33.691694,
          42.361215,
          38.729418,
          40.597856,
          32.389353,
          24.399642,
          24.507987,
          82.121691,
          46.727941,
          51.113717,
          53.732892,
          58.849256,
          30.863434,
          31.586215,
          36.711378,
          41.426678,
          20.652943,
          52.792678,
          95.007934,
          48.205606,
          58.782359,
          73.872343,
          37.321848,
          32.271938,
          76.842247,
          38.924136,
          19.38841,
          61.025639,
          33.507289,
          17.815595,
          50.767332,
          12.092241,
          30.254021,
          34.308098,
          3.091077,
          41.862983,
          46.160048,
          12.516546,
          23.230851,
          19.224754,
          44.455166,
          16.460356,
          109.528572,
          18.325897,
          37.054554,
          65.229868,
          101.187052,
          29.257137,
          85.688789,
          123.630332,
          106.914973,
          63.628459,
          41.498631,
          58.991388,
          1.859364,
          138.433168,
          21.436682,
          65.402595,
          10.660441,
          77.817571,
          7.029308,
          61.121717,
          104.121555,
          73.575118,
          37.698465,
          35.814765,
          15.835672,
          46.781182,
          69.457898,
          43.348022,
          40.20395,
          63.429157,
          67.427755,
          43.192048,
          47.651083,
          51.881077,
          57.834787,
          29.608322,
          51.548589,
          27.867368,
          38.832842,
          40.597344,
          140.849495,
          34.035114,
          16.302378,
          55.249434,
          28.200874,
          18.69984,
          40.262261,
          56.811056,
          51.535701,
          20.913852,
          27.166757,
          16.058284,
          46.200042,
          24.939295,
          19.836124,
          15.350451,
          15.625949,
          31.802807,
          24.100863,
          3.593349,
          14.824166,
          32.079995,
          57.739713,
          37.272385,
          53.213931,
          36.38795,
          60.929352,
          36.605246,
          56.257411,
          29.21998,
          34.773106,
          9.895061,
          36.743324,
          44.967453,
          41.207568,
          16.479851,
          42.069993,
          26.61951,
          80.316463,
          41.273567,
          24.107835,
          32.044191,
          16.595874,
          8.282876,
          19.83683,
          36.069611,
          18.827753,
          5.159407,
          48.126297,
          38.885195,
          29.211255,
          17.783361,
          31.435539,
          57.673932,
          41.176631,
          13.661289,
          11.77398,
          21.218,
          58.57976,
          51.970905,
          18.447479,
          109.684788,
          77.580661,
          75.290998,
          68.550698,
          58.040149,
          59.113174,
          36.32705,
          55.659988,
          14.132583,
          34.070054,
          44.34333,
          26.065735,
          23.473004,
          45.589568,
          23.496054,
          16.939441,
          81.914696,
          19.500893,
          29.558157,
          46.075037,
          23.531721,
          49.078546,
          37.02665,
          45.154631,
          46.887983,
          24.598479,
          32.363538,
          11.50396,
          19.375768,
          36.125715,
          25.450534,
          41.890722,
          22.179658,
          139.575085,
          18.264635,
          11.187696,
          41.670544,
          27.46264,
          17.455024,
          21.394281,
          0.605645,
          61.692197,
          14.530946,
          25.978555,
          6.643778,
          36.788745,
          31.054334,
          21.891078,
          18.335992,
          40.138009,
          44.090535,
          3.300061,
          20.632673,
          36.664991,
          18.26121,
          16.681269,
          10.088006,
          7.89147,
          16.715631,
          9.357734,
          11.22268,
          14.564667,
          11.356079,
          52.612025,
          13.800656,
          27.097932,
          10.706613,
          7.342892,
          50.561849,
          0.719996,
          59.248437,
          90.457886,
          40.723459,
          41.247402,
          10.083905,
          16.759252,
          22.132418,
          10.520961,
          35.384423,
          15.673154,
          8.981427,
          31.482872,
          47.436675,
          136.886704,
          60.442593,
          2.502487,
          48.110909,
          35.387874,
          4.66891,
          73.82289,
          51.469576,
          85.115058,
          61.437586,
          31.160542,
          15.761384,
          17.561955,
          71.124686,
          38.864027,
          57.753914,
          13.25753,
          13.318744,
          18.70031,
          47.094369,
          14.486311,
          18.61472,
          29.035222,
          27.055085,
          23.004607,
          48.744209,
          14.209329,
          36.368839,
          24.353302,
          19.143321,
          13.327372,
          37.917002,
          23.663713,
          14.44381,
          10.605084,
          11.873856,
          12.708963,
          8.098369,
          20.374308,
          42.006908,
          875.581305,
          39.127082,
          20.790703,
          18.65988,
          45.720894,
          21.789615,
          20.199057,
          26.123705,
          12.599836,
          13.543053,
          60.722162,
          32.227223,
          46.875375,
          11.215702,
          8.468586,
          8.884318,
          27.491891,
          21.462935,
          28.848187,
          47.320801,
          82.643036,
          20.230535,
          46.217769,
          36.952268,
          16.411345,
          72.595961,
          33.648404,
          57.69847,
          34.052253,
          27.299301,
          20.219385,
          42.957216,
          29.412262,
          19.708731,
          59.428223,
          19.711951,
          49.199234,
          46.199482,
          13.758526,
          29.505574,
          43.873266,
          24.961625,
          23.25645,
          64.457947,
          20.089933,
          48.032734,
          16.92991,
          14.780634,
          14.086292,
          29.261348,
          13.267631,
          58.401204,
          23.515938,
          14.244518,
          29.501489,
          9.306253,
          8.37378,
          10.930537,
          10.54544,
          6.682006,
          46.832372,
          24.664776,
          13.483387,
          44.478043,
          25.020428,
          22.392544,
          107.069763,
          22.572323,
          113.858273,
          10.004564,
          68.734513,
          18.888806,
          12.948627,
          27.11589,
          26.153669,
          28.223664,
          37.507136,
          11.023691,
          38.634767,
          25.877794,
          18.59991,
          12.282911,
          76.041867,
          54.81489,
          31.39165,
          99.561972,
          26.792794,
          36.307296,
          104.309993,
          68.140214,
          14.646884,
          48.356214,
          28.540267,
          22.977983,
          31.086791,
          43.865294,
          43.055253,
          15.772081,
          26.19909,
          22.769108,
          18.281798,
          24.697533,
          19.718544,
          31.349143,
          27.870312,
          33.439187,
          59.634029,
          38.994297,
          49.660055,
          11.743085,
          9.110247,
          6.227675,
          42.57877,
          15.858629,
          14.866901,
          15.194239,
          146.757391,
          8.629665,
          16.803457,
          2.952595,
          31.324734,
          20.415572,
          28.613892,
          85.428395,
          4.137237,
          60.246978,
          42.551902,
          40.137264,
          24.857079,
          40.413191,
          13.859307,
          18.832471,
          9.568884,
          12.421504,
          18.096884,
          11.056763,
          13.218008,
          11.262655,
          68.717016,
          19.412028,
          16.791058,
          65.197968,
          32.829538,
          30.951203,
          103.698022,
          31.719463,
          47.973995,
          143.041543,
          86.476817,
          59.824565,
          18.345613,
          56.488027,
          29.464852,
          18.106021,
          42.881415,
          18.735024,
          62.766854,
          24.153567,
          41.515702,
          26.676487,
          16.278022,
          18.831023,
          113.161483,
          28.800112,
          19.705489,
          41.430245,
          23.127561,
          12.867352,
          44.815022,
          37.537093,
          10.99991,
          56.868399,
          22.991269,
          15.798622,
          38.820858,
          10.292864,
          51.146047,
          20.501582,
          45.299089,
          4.280619,
          28.848842,
          22.501041,
          47.479755,
          10.147321,
          39.539045,
          19.747459,
          29.018826,
          4.801849,
          16.493576,
          21.549232,
          13.080725,
          42.538258,
          29.876507,
          61.849521,
          37.44963,
          37.378081,
          30.656345,
          15.142701,
          59.547928,
          19.998581,
          27.615108,
          29.041198,
          25.293538,
          23.85119,
          21.685719,
          13.630049,
          6.80692,
          15.352807,
          23.661071,
          21.605533,
          22.620125,
          18.587114,
          24.657931,
          12.621769,
          21.08952,
          18.380176,
          18.877795,
          17.299333,
          16.848899,
          21.547446,
          16.930969,
          36.689223,
          28.350927,
          18.815442,
          29.787135,
          8.927137,
          15.213484,
          13.155999,
          15.433244,
          5.762037,
          22.736038,
          45.514031,
          18.676291,
          14.376463,
          14.298297,
          27.018886,
          14.84856,
          52.417529,
          15.406173,
          6.523472,
          4.72629,
          8.923215,
          514.569956,
          9.265672,
          87.53437,
          45.351617,
          13.43573,
          6.248309,
          31.294717,
          7.739276,
          19.694695,
          14.403696,
          1.551497,
          2.143764,
          12.29603,
          33.8473,
          21.723897,
          31.791979,
          14.113066,
          48.622278,
          9.061866,
          35.4763,
          23.438398,
          138.133331,
          47.336034,
          29.97224,
          47.845589,
          48.507081,
          20.28119,
          34.576913,
          22.573237,
          36.194802,
          52.786917,
          38.06168,
          19.830132,
          79.922059,
          19.738215,
          20.334629,
          80.581367,
          32.05145,
          15.064058,
          21.272734,
          79.754966,
          13.191829,
          50.622607,
          22.787667,
          29.498304,
          25.400935,
          17.231675,
          32.835777,
          17.097041,
          14.414937,
          45.856409,
          7.027139,
          32.657488,
          12.46525,
          39.882276,
          39.395881,
          8.634954,
          7.386394,
          8.802525,
          10.449975,
          23.700759,
          27.50916,
          20.58862,
          4.366488,
          18.927463,
          15.274137,
          29.954302,
          4.362535,
          4.700024,
          12.340384,
          14.808304,
          9.27875,
          22.863516,
          23.05451,
          23.962109,
          12.669778,
          67.169587,
          41.472404,
          22.503935,
          59.194915,
          22.894898,
          18.600367,
          30.515175,
          9.053456,
          7.768223,
          19.643365,
          45.565918,
          57.374341,
          8.41856,
          46.049902,
          23.9366,
          49.593978,
          16.637642,
          1.453765,
          6.162872,
          73.944049,
          38.306954,
          26.251217,
          30.780599,
          25.41929,
          15.98212,
          40.072583,
          32.015477,
          24.444186,
          40.06688,
          27.916284,
          15.20707,
          39.001682,
          10.430832,
          5.952527,
          94.815867,
          67.298732,
          26.60772,
          28.803729,
          27.039636,
          68.87691,
          37.885022,
          35.537397,
          38.125008,
          18.121404,
          37.069253,
          30.347332,
          23.854701,
          52.380982,
          50.163785,
          43.849351,
          45.318703,
          16.368283,
          38.616744,
          65.90161,
          45.220386,
          17.457947,
          10.755847,
          38.629763,
          32.693093,
          18.806031,
          32.233713,
          37.990705,
          17.667826,
          9.225166,
          46.180421,
          30.397496,
          83.295796,
          23.935053,
          84.630969,
          16.251204,
          9.894346,
          12.050755,
          11.596207,
          53.02787,
          14.382253,
          43.450266,
          16.871194,
          42.526529,
          34.890999,
          18.186026,
          13.576765,
          19.434672,
          62.925175,
          32.927994,
          14.837288,
          39.920035,
          28.725621,
          20.566554,
          20.333953,
          33.98637,
          42.472324,
          15.931084,
          29.880122,
          28.803802,
          14.993459,
          9.114168,
          12.31101,
          41.362082,
          13.298205,
          19.085403,
          9.622345,
          11.106006,
          12.25622,
          13.365715,
          16.167093,
          23.073933,
          6.567065,
          6.22577,
          42.933027,
          19.226763,
          10.089065,
          13.391833,
          21.637234,
          61.245957,
          25.237969,
          21.589393,
          22.442241,
          6.004422,
          74.64653,
          35.481169,
          14.723467,
          21.084542,
          21.408222,
          19.267479,
          3.314004,
          21.312186,
          7.44268,
          12.54949,
          18.394571,
          8.189406,
          27.631262,
          40.721373,
          11.329727,
          37.253774,
          6.397388,
          2.275331,
          30.387148,
          8.139676,
          21.746245,
          2.808428,
          31.02233,
          25.170217,
          80.972475,
          26.38704,
          116.700319,
          33.884459,
          53.043124,
          0.716764,
          34.973086,
          40.371098,
          18.60049,
          30.920075,
          11.940711,
          19.348007,
          8.59075,
          48.801089,
          88.844777,
          16.000178,
          19.525659,
          1.246883,
          7.859226,
          18.102572,
          7.226115,
          63.071046,
          24.132271,
          10.410933,
          6.067212,
          15.401855,
          10.698929,
          41.322708,
          25.6713,
          22.581313,
          12.971122,
          26.721386,
          24.672234,
          0.146783,
          28.964162,
          49.353524,
          36.585509,
          32.624355,
          53.090422,
          30.002907,
          17.923254,
          17.746719,
          31.305336,
          19.637704,
          10.411996,
          88.496873,
          52.081131,
          30.816341,
          35.376971,
          17.047276,
          43.815492,
          23.234651,
          17.270539,
          27.684779,
          26.79781,
          37.073127,
          87.350802,
          26.134678,
          16.582709,
          10.731574,
          2.094151,
          8.99269,
          51.742065,
          7.157635,
          12.06538,
          44.120328,
          6.156015,
          12.362876,
          11.095914,
          31.856589,
          24.459948,
          28.029015,
          20.239061,
          25.876582,
          11.872841,
          20.360549,
          32.31022,
          27.568194,
          6.250282,
          11.120344,
          13.707183,
          12.495436,
          6.803965,
          9.025236,
          7.524671,
          3.770161,
          21.118196,
          6.513856,
          11.387408,
          9.950505,
          14.813057,
          5.201688,
          5.361699,
          3.848893,
          35.6585,
          5.258726,
          62.01056,
          54.884297,
          33.747825,
          16.245068,
          38.653969,
          3.937352,
          46.007991,
          5.380124,
          49.020045,
          24.821138,
          19.043286,
          5.418921,
          25.999888,
          18.65632,
          23.736535,
          21.75433,
          44.094856,
          62.714026,
          28.969151,
          31.789029,
          33.238296,
          6.420434,
          37.654688,
          13.244365,
          26.799913,
          14.046705,
          3.844926,
          14.733513,
          16.122168,
          28.22119,
          45.151657,
          15.205371,
          14.587367,
          34.828241,
          23.607392,
          19.438503,
          74.168016,
          7.349497,
          7.663515,
          32.798571,
          5.794466,
          36.670399,
          14.653718,
          73.085576,
          34.041407,
          9.419726,
          28.456572,
          49.664128,
          36.238968,
          19.439386,
          43.345252,
          115.241998,
          98.755657,
          21.998734,
          25.219805,
          26.516624,
          37.084384,
          21.661028,
          68.794673,
          69.27822,
          26.253357,
          32.549282,
          24.992057,
          45.769562,
          36.301202,
          45.022964,
          22.853006,
          31.884559,
          31.385257,
          67.767785,
          24.287306,
          53.114573,
          25.136082,
          37.776566,
          21.743321,
          66.003433,
          24.862767,
          25.391899,
          29.854773,
          26.82041,
          17.61292,
          21.021809,
          52.571674,
          34.519636,
          32.478077,
          48.445978,
          24.012986,
          17.869443,
          14.231899,
          23.088571,
          19.833664,
          26.595983,
          26.072228,
          38.643914,
          74.440708,
          82.185281,
          18.14218,
          41.570047,
          23.331459,
          47.649554,
          7.519433,
          32.908414,
          29.88736,
          29.105407,
          16.394452,
          19.574774,
          14.199933,
          12.229516,
          27.303608,
          3.698276,
          7.021871,
          39.381913,
          14.398356,
          8.680334,
          17.659032,
          43.151268,
          15.283444,
          35.21926,
          25.580272,
          10.794175,
          72.641296,
          3.415534,
          38.555482,
          6.786117,
          24.313684,
          9.965073,
          15.055732,
          32.808675,
          8.178203,
          31.066874,
          22.491388,
          12.885985,
          7.832337,
          10.433667,
          3.321949,
          4.842626,
          13.210898,
          3.296933,
          22.939557,
          19.372805,
          13.445697,
          17.002096,
          4.516953,
          33.785969,
          16.059443,
          3.476966,
          5.778724,
          7.360793,
          3.621837,
          14.513305,
          22.364549,
          6.90894,
          4.494788,
          47.559928,
          2.410546,
          41.258956,
          8.980846,
          7.222985,
          73.720244,
          10.0403,
          15.219263,
          8.303696,
          4.746085,
          6.756886,
          16.424807,
          15.590001,
          5.483671,
          1.630541,
          14.566664,
          28.353517,
          9.579975,
          2.911819,
          10.844882,
          51.502884,
          13.119133,
          4.238482,
          26.935458,
          16.282962,
          31.690456,
          17.842246,
          8.048305,
          14.188982,
          6.884467,
          8.212018,
          64.238688,
          17.375562,
          6.7698,
          44.690107,
          16.254032,
          37.492928,
          18.678415,
          27.908783,
          45.388937,
          2.817364,
          22.164202,
          21.362949,
          14.8375,
          18.256028,
          22.332927,
          5.417787,
          24.085144,
          14.779041,
          19.947265,
          16.801218,
          5.057695,
          20.825781,
          11.500783,
          13.932203,
          41.258487,
          6.454634,
          5.257009,
          30.359164,
          3.426555,
          11.60815,
          18.664624,
          10.047579,
          52.731379,
          46.630062,
          4.131546,
          5.641978,
          23.465539,
          25.682509,
          6.760922,
          3.87823,
          57.889964,
          57.773583,
          24.218358,
          27.009723,
          31.941347,
          14.353279,
          33.003828,
          30.993736,
          25.825771,
          46.078371,
          6.63839,
          127.084938,
          27.465433,
          16.865782,
          100.348805,
          2.785832,
          9.176339,
          23.380757,
          33.926473,
          6.967857,
          11.470135,
          19.854932,
          29.652536,
          8.102925,
          2.79483,
          11.492474,
          70.398356,
          1.068453,
          6.293217,
          3.457194,
          82.21166,
          19.167377,
          18.316151,
          44.104469,
          6.668679,
          36.172182,
          25.767395,
          21.543389,
          50.309843,
          49.292384,
          83.893257,
          24.616634,
          34.005726,
          27.714043,
          45.149948,
          72.774941,
          3.74263,
          29.381878,
          24.860326,
          11.041659,
          11.897925,
          23.607071,
          38.204158,
          25.413955,
          28.98027,
          9.525037,
          18.39217,
          9.254647,
          40.526587,
          50.179171,
          31.957947,
          19.822791,
          38.429648,
          13.707843,
          51.927471,
          14.503568,
          6.74556,
          11.120167,
          40.370442,
          40.715623,
          36.230204,
          23.666229,
          25.903237,
          60.231382,
          18.38292,
          14.029012,
          15.913783,
          6.889633,
          19.286099,
          50.587541,
          3.721272,
          17.157738,
          22.636908,
          28.069419,
          19.774543,
          11.644243,
          27.934978,
          12.677505,
          8.737058,
          12.343507,
          14.699342,
          14.513243,
          5.525544,
          15.079993,
          23.835055,
          5.926966,
          25.454549,
          22.71592,
          35.120736,
          19.893646,
          14.051852,
          9.011729,
          19.088655,
          29.490057,
          11.195593,
          17.709888,
          18.262017,
          10.10364,
          28.670477,
          16.736734,
          13.668633,
          9.780588,
          9.904881,
          9.789027,
          6.81729,
          10.73522,
          11.1399,
          6.727949,
          16.343317,
          14.818718,
          43.862456,
          2.706207,
          27.903999,
          3.746806,
          17.112498,
          10.304172,
          37.335721,
          0.912395,
          16.782471,
          3.503408,
          9.122828,
          5.419181,
          9.07278,
          2.864979,
          2.877488,
          5.516207,
          13.930763,
          20.27704,
          0.126738,
          131.815575,
          16.832312,
          9.133747,
          24.606012,
          3.276912,
          16.830184,
          39.58676,
          41.946523,
          20.697556,
          1.656695,
          17.932561,
          15.50957,
          4.602185,
          40.379966,
          12.601306,
          24.389194,
          12.867326,
          23.328823,
          29.775441,
          19.642328,
          7.339908,
          35.099611,
          16.541791,
          31.92695,
          9.060642,
          46.509071,
          21.538222,
          33.923786,
          20.908494,
          16.901954,
          15.039407,
          13.655735,
          21.620317,
          14.642055,
          17.107065,
          38.21708,
          14.993169,
          24.147269,
          18.47242,
          18.84332,
          15.901137,
          59.19888,
          14.48851,
          23.197408,
          10.651202,
          10.032626,
          6.048743,
          34.628738,
          47.5612,
          16.473355,
          6.201404,
          15.560918,
          25.799697,
          4.822033,
          3.379454,
          26.9385,
          4.098444,
          4.901553,
          5.347936,
          4.120549,
          49.973462,
          13.611544,
          6.775294,
          27.891012,
          13.864975,
          42.213765,
          29.887404,
          74.417456,
          7.06762,
          15.895661,
          19.258041,
          47.753598,
          15.585138,
          32.217425,
          34.86859,
          36.432598,
          73.640445,
          49.526736,
          26.780961,
          6.487344,
          25.996219,
          46.212155,
          32.105328,
          41.156217,
          37.179547,
          34.391792,
          40.176265,
          10.704596,
          79.579532,
          63.13678,
          27.870755,
          31.242999,
          70.456012,
          29.415229,
          55.109138,
          30.695228,
          13.788422,
          4.590277,
          3.845231,
          26.952727,
          33.704181,
          19.925026,
          43.742241,
          46.377628,
          9.166658,
          34.36645,
          12.967137,
          50.670253,
          24.694551,
          11.409124,
          7.922716,
          33.385429,
          8.584398,
          41.569541,
          43.753585,
          18.568021,
          28.350529,
          10.81051,
          19.578249,
          5.73667,
          28.624038,
          27.230493,
          30.380747,
          29.489274,
          8.058109,
          33.369305,
          16.52083,
          11.19602,
          14.585968,
          43.571612,
          8.305085,
          55.424027,
          65.364452,
          45.083509,
          82.052056,
          15.011624,
          25.060342,
          11.42943,
          32.26789,
          33.394082,
          73.987775,
          10.608998,
          12.821329,
          30.131498,
          12.113235,
          31.191975,
          11.916389,
          20.355458,
          63.848541,
          8.999675,
          9.278361,
          7.185212,
          55.806402,
          48.237797,
          17.943945,
          19.143721,
          15.67747,
          4.52363,
          13.064264,
          2.644427,
          5.301589,
          20.252143,
          29.359201,
          20.063165,
          6.246199,
          27.71063,
          2.850896,
          34.421696,
          15.89534,
          18.706504,
          9.607391,
          2.77255,
          17.834976,
          20.236951,
          16.883429,
          12.779201,
          14.729386,
          23.227877,
          11.374306,
          10.703602,
          10.756266,
          4.352422,
          9.301562,
          18.27083,
          19.106154,
          5.259585,
          3.226243,
          21.677732,
          43.882857,
          12.10235,
          3.362045,
          10.694417,
          6.353971,
          37.181019,
          4.952735,
          22.975918,
          8.359599,
          16.102271,
          49.336397,
          29.647844,
          12.467267,
          2.774811,
          3.71305,
          8.386432,
          3.866026,
          12.790408,
          35.53352,
          4.065212,
          20.362025,
          48.0343,
          13.268936,
          8.010046,
          12.257654,
          6.036684,
          10.958697,
          2.625594,
          2.981047,
          66.242737,
          71.496894,
          35.580032,
          8.085872,
          10.364582,
          16.87784,
          18.165957,
          8.93941,
          20.55509,
          3.735723,
          4.310168,
          12.653831,
          24.240361,
          92.982009,
          61.76233,
          66.976776,
          7.981116,
          21.252797,
          19.237254,
          27.555646,
          66.169628,
          24.917665,
          57.518472,
          11.870161,
          7.534003,
          44.529429,
          14.949395,
          14.726338,
          24.13081,
          45.915165,
          28.043508,
          26.090746,
          14.530803,
          13.308127,
          38.0958,
          37.729059,
          18.650748,
          15.794946,
          45.054936,
          25.039383,
          6.756771,
          22.14595,
          36.58383,
          94.056131,
          10.703456,
          41.638961,
          14.518708,
          3.312385,
          3.75074,
          22.074306,
          4.436792,
          14.639324,
          1.767479,
          13.145205,
          12.921594,
          28.397048,
          7.039189,
          16.785866,
          40.28635,
          6.009644,
          25.520976,
          25.633663,
          22.527211,
          24.09152,
          6.248273,
          9.548391,
          12.576381,
          12.741073,
          16.188572,
          5.576937,
          18.913,
          44.714264,
          11.870301,
          5.753705,
          28.227984,
          11.678561,
          36.921445,
          17.567332,
          16.698316,
          47.862016,
          39.324831,
          18.591657,
          5.650125,
          3.123583,
          23.917982,
          8.715822,
          5.737161,
          14.788073,
          38.279458,
          9.670031,
          5.271559,
          17.193659,
          8.31653,
          2.653988,
          0.548435,
          31.250383,
          24.345651,
          38.473732,
          31.792964,
          61.309619,
          5.411154,
          41.832392,
          21.988861,
          19.068175,
          24.114459,
          20.256571,
          8.802626,
          37.355826,
          39.742009,
          30.981604,
          31.893932,
          15.376391,
          5.894163,
          10.981038,
          22.07638,
          10.925618,
          21.219292,
          14.831402,
          22.520842,
          3.314094,
          7.964451,
          1.492056,
          4.810621,
          9.317265,
          5.644844,
          4.475007,
          66.097437,
          20.679652,
          38.171417,
          30.884535,
          49.510658,
          50.7453,
          10.445391,
          80.879032,
          33.93914,
          26.576385,
          104.469351,
          42.191509,
          20.267062,
          22.644275,
          7.182761,
          26.69592,
          7.336256,
          12.739721,
          46.942396,
          15.505137,
          38.272889,
          53.645267,
          28.468,
          35.310712,
          28.727731,
          4.340616,
          14.604911,
          38.688822,
          30.537845,
          19.750059,
          25.939385,
          31.64341,
          26.811541,
          40.646102,
          34.160448,
          5.377155,
          48.552871,
          18.228538,
          29.342744,
          63.654244,
          11.859396,
          24.356483,
          70.105981,
          8.618208,
          21.189028,
          31.364901,
          7.615653,
          37.817905,
          5.784661,
          8.255708,
          6.086083,
          17.17372,
          16.936576,
          25.838073,
          5.625632,
          17.312433,
          53.811461,
          7.057765,
          19.045146,
          21.729434,
          12.837116,
          20.953265,
          10.81439,
          27.683874,
          9.855474,
          12.756344,
          29.533437,
          14.179538,
          14.340095,
          9.795985,
          6.889437,
          19.428994,
          7.326034,
          136.747729,
          6.081772,
          17.329269,
          22.622453,
          20.561682,
          13.288177,
          19.212552,
          29.365851,
          10.232599,
          8.870614,
          19.402816,
          24.903418,
          14.562197,
          18.896239,
          15.960916,
          25.848003,
          6.337063,
          10.006282,
          2.753501,
          6.718497,
          7.538513,
          21.606001,
          13.715715,
          3.707511,
          7.001176,
          39.784026,
          10.115011,
          7.321181,
          32.854557,
          6.309587,
          8.363702,
          4.88794,
          14.17009,
          12.18362,
          9.169271,
          8.127728,
          10.699952,
          29.796394,
          11.60921,
          51.915025,
          8.314624,
          5.529035,
          4.002579,
          3.888776,
          7.296459,
          21.680424,
          7.946769,
          7.473455,
          5.073536,
          3.623002,
          41.075532,
          4.020194,
          2.083856,
          2.909346,
          8.450513,
          8.186936,
          5.079017,
          17.603823,
          7.008216,
          20.011435,
          4.051221,
          5.987486,
          3.849873,
          3.593165,
          30.058263,
          17.339852,
          15.805449,
          15.279021,
          5.000126,
          1.684948,
          5.753564,
          35.022029,
          12.31708,
          1.894749,
          6.895866,
          3.344158,
          14.480628,
          14.613152,
          22.258428,
          30.445257,
          35.244037,
          15.333575,
          15.237142,
          23.441135,
          25.03414,
          24.70166,
          16.146572,
          20.793026,
          5.771479,
          27.326466,
          3.572339,
          20.69219,
          1.903405,
          10.713521,
          7.701041,
          6.589193,
          2.753313,
          3.113009,
          5.566203,
          8.630825,
          23.343839,
          6.138213,
          2.353441,
          2.439184,
          0.515677,
          26.324874,
          49.549984,
          57.300674,
          23.839127,
          78.51783,
          33.872182,
          27.33256,
          38.799596,
          20.317469,
          18.493202,
          7.901891,
          53.682367,
          11.183197,
          8.842722,
          8.976738,
          2.634119,
          26.257951,
          12.777008,
          6.130231,
          4.030724,
          6.921263,
          12.869436,
          15.676123,
          8.426589,
          11.071522,
          5.494047,
          6.618149,
          7.876883,
          35.169779,
          39.890798,
          22.096286,
          41.967005,
          57.110486,
          16.234053,
          11.263361,
          20.699212,
          17.606087,
          13.786075,
          35.227212,
          27.898438,
          23.218144,
          26.071644,
          9.175762,
          81.829237,
          17.7091,
          17.772518,
          5.609755,
          10.259461,
          30.114383,
          10.547959,
          12.887673,
          13.410919,
          3.70789,
          21.865021,
          9.448517,
          39.006187,
          6.404571,
          35.737655,
          4.365196,
          14.925633,
          14.725467,
          0.809588,
          0.816883,
          8.792054,
          25.002715,
          7.588597,
          13.906611,
          13.960945,
          16.668854,
          6.847133,
          48.784734,
          9.088209,
          12.445176,
          4.61335,
          29.230298,
          18.961323,
          2.809378,
          12.819447,
          14.866351,
          15.013386,
          8.700565,
          27.197799,
          20.410354,
          10.207065,
          5.683281,
          63.599973,
          17.746981,
          1.934524,
          34.433521,
          26.21425,
          4.781538,
          10.13559,
          5.815881,
          8.982335,
          33.649652,
          2.636193,
          13.847872,
          4.189378,
          21.928025,
          68.159596,
          81.487685,
          52.456505,
          9.662715,
          25.28436,
          8.351385,
          18.174804,
          21.815122,
          20.99174,
          19.636044,
          12.25264,
          49.975409,
          13.590677,
          21.657563,
          43.057323,
          16.470895,
          28.703007,
          40.903931,
          22.001408,
          23.139971,
          95.9229,
          4.748929,
          2.986286,
          47.51363,
          53.161905,
          7.050951,
          15.978136,
          42.512296,
          10.098722,
          15.341196,
          29.023184,
          19.819893,
          11.62423,
          22.049787,
          9.829859,
          29.295801,
          14.136476,
          6.064638,
          41.503588,
          20.495749,
          13.906944,
          2.003047,
          11.349664,
          11.203335,
          8.265317,
          18.632156,
          6.92592,
          17.165039,
          25.785925,
          20.311684,
          20.975165,
          26.509175,
          26.497025,
          14.211699,
          36.819044,
          7.902536,
          30.909699,
          16.663797,
          27.724913,
          17.971883,
          25.041992,
          7.924428,
          14.857884,
          23.982956,
          12.458131,
          3.996392,
          30.387754,
          56.481487,
          19.962713,
          18.666876,
          55.964605,
          5.0348,
          28.019226,
          16.176976,
          17.237143,
          4.34503,
          11.360997,
          12.300789,
          15.804814,
          9.750557,
          4.100942,
          12.309715,
          62.933899,
          16.074397,
          17.016284,
          93.067866,
          17.145287,
          27.256849,
          7.878177,
          0.173964,
          14.370111,
          11.090254,
          20.82778,
          43.644978,
          8.244324,
          23.292761,
          64.181668,
          9.03154,
          4.031585,
          13.658985,
          6.908351,
          10.446722,
          32.243357,
          9.149089,
          5.596835,
          5.214408,
          10.50098,
          3.011205,
          15.012237,
          16.238961,
          15.21229,
          6.397042,
          19.220789,
          35.232278,
          9.842771,
          35.542809,
          7.829295,
          3.476925,
          5.133744,
          14.031377,
          17.227376,
          17.98817,
          15.66135,
          19.705311,
          2.645722,
          17.662683,
          2.894154,
          29.371987,
          11.352693,
          7.553773,
          30.477114,
          9.927018,
          12.379781,
          12.643703,
          15.440465,
          5.886228,
          6.925645,
          9.36146,
          6.102663,
          0.709143,
          45.742217,
          1.682839,
          8.237336,
          2.605374,
          29.072964,
          1.322528,
          4.961306,
          8.628519,
          12.232048,
          27.133277,
          26.093043,
          13.621201,
          9.292987,
          7.716606,
          7.698075,
          37.629309,
          2.405911,
          3.350297,
          13.032308,
          15.131867,
          10.218307,
          12.761176,
          60.732738,
          0.49446,
          6.574285,
          14.617944,
          3.102987,
          5.65327,
          44.566609,
          8.978408,
          10.150993,
          0.28576,
          11.267676,
          9.129808,
          2.013405,
          20.086645,
          3.581906,
          12.373248,
          12.283025,
          10.617236,
          6.377308,
          3.620537,
          27.215666,
          4.127155,
          13.118983,
          14.182301,
          0.416179,
          0.485405,
          7.444189,
          33.625477,
          28.060472,
          20.746932,
          7.727035,
          45.707835,
          28.497242,
          11.47316,
          25.28132,
          45.99611,
          20.392858,
          78.699993,
          76.603233,
          13.664614,
          2.242809,
          1.224105,
          27.494037,
          18.47518,
          10.559414,
          1.916351,
          28.867568,
          118.968562,
          3.376967,
          7.436491,
          57.84156,
          17.952817,
          21.959742,
          4.229942,
          11.766564,
          2.366251,
          0.068228,
          5.380733,
          5.625989,
          30.205943,
          26.441669,
          15.262492,
          1.583918,
          44.511363,
          16.665841,
          36.471231,
          85.30318,
          20.716023,
          29.487784,
          25.43954,
          15.314027,
          32.602868,
          9.832326,
          33.452469,
          14.190837,
          6.501815,
          26.58873,
          36.15716,
          16.027955,
          14.329891,
          50.009408,
          31.82675,
          9.642041,
          36.423717,
          12.309718,
          11.693272,
          12.243887,
          89.811154,
          34.694216,
          17.50138,
          18.492655,
          11.238522,
          14.518598,
          19.234672,
          4.504377,
          10.529143,
          18.379124,
          35.524457,
          13.472365,
          8.321586,
          7.668063,
          52.464877,
          11.423533,
          6.961736,
          9.191187,
          4.492859,
          5.706767,
          53.670525,
          14.15192,
          13.462544,
          11.725805,
          7.047975,
          13.628601,
          16.520516,
          14.916264,
          9.633711,
          3.455018,
          1.946634,
          12.313143,
          3.258422,
          3.659292,
          24.548633,
          17.683563,
          10.1449,
          31.887978,
          1.110179,
          9.814785,
          1.876811,
          32.717853,
          8.945081,
          13.916583,
          17.94739,
          2.525569,
          10.47644,
          10.991281,
          7.871686,
          6.333869,
          1.138383,
          8.266124,
          0.910529,
          18.025206,
          10.144222,
          9.244181,
          12.752463,
          22.748174,
          33.436092,
          3.107371,
          7.922639,
          28.973074,
          23.980329,
          28.60542,
          42.669304,
          7.180403,
          21.638673,
          2.64486,
          25.881355,
          67.66094,
          20.786616,
          27.654472,
          70.668923,
          23.425431,
          14.304444,
          30.301307,
          3.56033,
          7.210095,
          23.491962,
          36.133536,
          14.18136,
          12.709227,
          24.054062,
          35.107857,
          10.149569,
          14.023082,
          9.054803,
          5.422285,
          32.746486,
          3.960098,
          10.178917,
          4.544216,
          2.184708,
          3.09159,
          18.790102,
          3.321095,
          33.912116,
          5.787891,
          7.864011,
          17.062117,
          1.782666,
          19.311572,
          2.897449,
          0.138564,
          36.960953,
          1.15641,
          9.583578,
          25.112567,
          9.349386,
          8.884405,
          2.215261,
          6.385234,
          20.935169,
          4.358255,
          24.898687,
          20.898711,
          18.236284,
          10.74648,
          12.102725,
          55.458584,
          35.777067,
          18.430419,
          7.980632,
          14.759948,
          9.229999,
          29.943316,
          15.788784,
          41.083914,
          21.380635,
          1.884558,
          4.382761,
          90.809408,
          6.579017,
          7.854989,
          11.807269,
          15.976335,
          10.484642,
          38.623178,
          8.8321,
          32.758254,
          6.091033,
          9.119797,
          9.423866,
          32.257414,
          3.021835,
          7.612849,
          36.764666,
          3.199784,
          9.455596,
          44.301745,
          19.890428,
          0.830596,
          2.637355,
          2.25453,
          8.711782,
          5.700333,
          29.253833,
          8.842869,
          2.848727,
          13.832464,
          4.488547,
          38.802415,
          9.400404,
          18.923181,
          2.397987,
          20.39955,
          7.251897,
          43.217089,
          14.529496,
          20.59148,
          2.244947,
          1.326264,
          0.212108,
          6.630856,
          18.20957,
          17.327279,
          29.843818,
          2.186927,
          12.335827,
          20.818567,
          58.900647,
          45.742254,
          80.878605,
          54.053576,
          17.638286,
          3.803495,
          17.571533,
          4.628525,
          145.364591,
          12.18838,
          3.826685,
          21.095489,
          47.455148,
          22.838834,
          27.165222,
          19.113278,
          58.553213,
          2.005111,
          16.418639,
          43.675191,
          4.688212,
          9.125594,
          19.786392,
          13.581966,
          11.927667,
          30.556135,
          31.565117,
          21.535126,
          7.921311,
          19.284129,
          23.423082,
          49.517264,
          11.375032,
          61.182331,
          7.314796,
          6.857923,
          41.286336,
          12.929525,
          42.952942,
          19.760383,
          10.194097,
          11.045593,
          44.533612,
          10.84158,
          49.294864,
          7.424798,
          5.164281,
          34.759855,
          7.297757,
          3.334804,
          2.027393,
          13.817269,
          13.237835,
          3.890223,
          19.517239,
          30.669913,
          9.681147,
          15.355589,
          19.85579,
          11.689337,
          3.043589,
          17.141376,
          8.885017,
          4.115398,
          7.679336,
          18.268009,
          7.809701,
          9.378688,
          35.395129,
          45.317278,
          4.302941,
          47.006162,
          11.379652,
          24.612603,
          26.708193,
          8.710294,
          1.800119,
          0.335195,
          11.782725,
          2.711955,
          16.629173,
          20.05902,
          8.113634,
          9.87419,
          2.857936,
          3.138118,
          6.684096,
          0.722911,
          17.672021,
          3.033471,
          3.313257,
          41.089863,
          10.9071,
          49.230089,
          11.429607,
          6.373316,
          9.717392,
          8.074807,
          7.034752,
          7.250379,
          0.116873,
          7.712206,
          25.329493,
          5.112809,
          13.832376,
          7.446069,
          13.568302,
          21.857387,
          0.249245,
          12.163832,
          8.962245,
          32.690038,
          8.583217,
          31.60985,
          12.295216,
          12.4654,
          30.983397,
          1.485324,
          11.428903,
          5.484679,
          5.770246,
          15.175289,
          2.414721,
          0.470645,
          32.351527,
          17.493735,
          6.932221,
          8.142166,
          6.329672,
          7.744166,
          9.029489,
          22.708647,
          2.609057,
          19.913961,
          1.897761,
          7.701186,
          1.833058,
          12.185204,
          2.500218,
          6.459787,
          49.808505,
          4.901936,
          0.738646,
          5.294319,
          0.165367,
          52.744331,
          29.660993,
          41.493042,
          10.072199,
          4.389363,
          37.380435,
          7.05145,
          59.258969,
          16.742972,
          45.473484,
          15.474831,
          4.289676,
          25.949277,
          22.409117,
          13.706357,
          6.92205,
          27.17347,
          12.159009,
          4.448494,
          13.13724,
          4.04701,
          23.3784,
          1.446172,
          3.650857,
          5.102258,
          6.772615,
          11.543363,
          7.436315,
          14.813614,
          20.792603,
          6.733485,
          7.708227,
          2.238646,
          7.866961,
          3.876242,
          1.89218,
          4.536745,
          11.220643,
          11.706309,
          4.66723,
          7.487843,
          13.65494,
          11.942862,
          5.833687,
          6.370267,
          4.052219,
          3.231848,
          0.900442,
          8.387573,
          0.633004,
          9.242554,
          1.866443,
          5.930533,
          4.930129,
          8.747922,
          4.898424,
          7.410523,
          24.210698,
          44.135568,
          16.051328,
          9.982885,
          16.618874,
          7.261196,
          32.306455,
          4.722403,
          32.445895,
          17.363739,
          29.782161,
          18.362333,
          0.680753,
          6.735922,
          91.285683,
          105.792936,
          9.969624,
          17.113408,
          10.248439,
          25.316146,
          9.499325,
          43.791745,
          11.828068,
          54.550275,
          13.525704,
          12.963328,
          60.829621,
          73.307513,
          7.964289,
          2.388918,
          4.580081,
          6.425528,
          4.63093,
          16.681567,
          24.656068,
          37.104353,
          95.130041,
          27.546914,
          2.27213,
          17.371327,
          6.130096,
          24.47248,
          6.764437,
          1.750054,
          66.11334,
          9.066881,
          6.170139,
          4.742537,
          1.212956,
          11.880899,
          10.131123,
          5.831302,
          35.522027,
          10.573191,
          4.898437,
          17.632446,
          1.780065,
          26.373864,
          1.647335,
          12.321302,
          43.444135,
          1.279106,
          3.680896,
          2.996284,
          10.475368,
          30.952377,
          4.267466,
          34.532418,
          6.116436,
          1.714972,
          19.664699,
          6.537986,
          13.349012,
          6.796079,
          35.268557,
          7.453347,
          13.939054,
          11.892615,
          5.69872,
          8.780512,
          4.021389,
          15.817096,
          34.821223,
          22.022228,
          0.139384,
          2.950618,
          7.497306,
          26.396191,
          6.546037,
          28.670193,
          9.572705,
          0.903529,
          47.584643,
          50.152327,
          60.767168,
          11.103202,
          15.26213,
          6.035152,
          10.297189,
          22.434102,
          41.249004,
          23.161754,
          19.195399,
          21.958055,
          45.477802,
          12.60629,
          40.631671,
          26.219598,
          64.504747,
          3.389249,
          14.779537,
          6.703319,
          49.070321,
          21.933822,
          20.624896,
          8.083995,
          11.135734,
          4.623609,
          11.510281,
          15.085981,
          18.422327,
          8.410688,
          74.358971,
          18.422008,
          15.896312,
          8.61659,
          6.044161,
          29.019504,
          6.2464,
          5.315213,
          16.931846,
          64.610671,
          4.480167,
          29.223881,
          7.710797,
          1.081822,
          16.183746,
          47.992817,
          1.20245,
          0.700792,
          10.409253,
          14.345428,
          6.803763,
          19.944479,
          26.967494,
          3.444542,
          74.817641,
          21.064082,
          16.40512,
          32.940597,
          13.427427,
          5.359381,
          8.708229,
          4.330428,
          7.594593,
          4.770195,
          1.623338,
          2.993939,
          10.536092,
          8.290636,
          3.603842,
          27.65527,
          1.379643,
          9.164386,
          9.779444,
          32.523573,
          2.24888,
          27.322212,
          12.664787,
          3.004432,
          4.795244,
          5.841285,
          5.327714,
          3.582733,
          2.678715,
          9.728143,
          2.303865,
          11.237374,
          1.906807,
          2.695896,
          1.416796,
          11.636883,
          4.793348,
          0.738652,
          5.158067,
          5.727602,
          25.496926,
          0.489271,
          11.150261,
          53.595686,
          0.186234,
          20.747994,
          2.930853,
          4.75919,
          0.753362,
          45.072136,
          126.393695,
          56.805781,
          12.854853,
          14.637357,
          21.801188,
          31.019381,
          11.227087,
          19.231507,
          31.162838,
          3.94487,
          7.559192,
          7.377587,
          38.018085,
          33.283554,
          15.864928,
          23.449703,
          31.900899,
          14.282314,
          7.645979,
          3.495758,
          7.558959,
          3.375208,
          4.234269,
          39.337949,
          29.543331,
          4.12064,
          2.259537,
          7.722021,
          7.063053,
          16.003958,
          21.204929,
          6.799314,
          33.758281,
          9.371811,
          33.282794,
          3.208172,
          4.131918,
          4.093288,
          1.187671,
          36.319205,
          4.146752,
          9.705589,
          1.396985,
          4.056774,
          5.062687,
          3.122152,
          32.943848,
          0.700127,
          31.763201,
          8.950864,
          3.246903,
          4.519523,
          18.764453,
          6.340135,
          86.201184,
          56.105798,
          12.792446,
          1.985552,
          0.037073,
          0.12082,
          3.646848,
          5.759545,
          25.302978,
          43.734886,
          10.016909,
          33.124871,
          10.892398,
          14.754281,
          53.727146,
          8.9876,
          29.244768,
          14.447723,
          5.882208,
          17.3393,
          19.524972,
          8.932837,
          35.695442,
          26.598884,
          23.316208,
          25.929893,
          8.305998,
          21.258991,
          5.699058,
          36.582038,
          34.224204,
          38.179483,
          30.934688,
          7.499639,
          45.946524,
          4.928777,
          10.125029,
          20.452449,
          14.543435,
          6.015354,
          12.902975,
          6.216203,
          3.290639,
          4.844451,
          9.559737,
          11.350382,
          13.455373,
          31.974359,
          16.78512,
          26.090495,
          2.698185,
          5.904126,
          22.888173,
          5.025446,
          2.580808,
          4.192064,
          2.596338,
          18.289303,
          26.268209,
          17.592299,
          6.27141,
          11.158906,
          3.079862,
          8.288813,
          32.579697,
          33.555764,
          2.959547,
          4.068107,
          17.663353,
          4.207456,
          7.944457,
          3.352702,
          5.856363,
          21.006078,
          5.647538,
          1.000178,
          27.247013,
          1.83428,
          11.592129,
          18.366362,
          6.736274,
          28.570174,
          5.671691,
          5.842299,
          9.525626,
          14.038512,
          9.177896,
          35.350303,
          12.067921,
          30.863082,
          10.254807,
          73.567232,
          16.361743,
          1.374409,
          6.18869,
          15.280261,
          0.753481,
          14.105392,
          14.905357,
          0.518056,
          12.172131,
          3.084874,
          17.078656,
          16.318608,
          10.409155,
          5.355763,
          4.725357,
          4.850402,
          8.902102,
          28.223163,
          3.007816,
          1.610132,
          8.326131,
          3.919057,
          2.23411,
          19.865989,
          0.310513,
          19.263477,
          4.123533,
          6.948401,
          3.988432,
          5.099923,
          19.494703,
          3.759988,
          4.176066,
          16.436178,
          14.979375,
          8.045488,
          8.312153,
          10.733761,
          0.111313,
          4.570043,
          6.265659,
          17.54768,
          3.412162,
          0.627964,
          5.75555,
          1.031142,
          7.554799,
          2.85283,
          1.769593,
          9.805551,
          12.898984,
          2.803642,
          6.085879,
          11.946898,
          0.397341,
          0.072085,
          2.849895,
          0.666218,
          1.388136,
          2.631688,
          10.955567,
          0.122874,
          5.145655,
          1.728816,
          3.064563,
          9.318033,
          7.245108,
          9.085482,
          6.814247,
          2.873796,
          4.481897,
          1.413934,
          2.574014,
          1.617943,
          1.259968,
          5.099472,
          2.131524,
          0.304566,
          11.847324,
          10.013629,
          3.753703,
          19.978021,
          3.588529,
          9.337388,
          11.431434,
          28.675891,
          9.70276,
          17.151293,
          11.225044,
          5.346205,
          14.562991,
          19.747809,
          12.928269,
          3.193777,
          5.107235,
          10.073144,
          4.807549,
          36.173598,
          5.499412,
          5.900535,
          94.184658,
          29.262427,
          17.611971,
          7.623979,
          31.036,
          10.424596,
          7.720692,
          6.717994,
          3.951041,
          27.600843,
          14.098952,
          82.975841,
          3.269459,
          18.514292,
          7.029126,
          11.233081,
          34.022209,
          4.134327,
          6.904734,
          4.641006,
          5.663889,
          1.118511,
          8.775844,
          2.062087,
          8.738737,
          4.976268,
          3.810697,
          2.365328,
          5.2545,
          5.293363,
          10.932711,
          9.05029,
          9.933926,
          0.843067,
          8.218383,
          5.119593,
          2.872281,
          0.717811,
          1.458884,
          7.028946,
          2.009597,
          7.247023,
          2.351706,
          4.799022,
          16.072466,
          3.891186,
          3.789485,
          3.949796,
          14.038703,
          18.172736,
          1.881466,
          6.677926,
          24.750909,
          17.697042,
          7.000949,
          11.436405,
          14.171759,
          0.702971,
          13.476596,
          3.604863,
          40.28709,
          3.809131,
          11.708343,
          2.60632,
          9.230073,
          14.719886,
          28.540614,
          0.034259,
          1.840511,
          6.787967,
          3.353176,
          7.973109,
          5.897479,
          1.465762,
          121.463076,
          10.639916,
          89.095538,
          2.62082,
          37.960289,
          21.735068,
          14.793177,
          51.109279,
          45.490374,
          3.804597,
          26.356697,
          3.501158,
          2.088251,
          33.372828,
          8.864368,
          37.821106,
          4.293706,
          3.467923,
          10.19377,
          25.289665,
          14.730796,
          4.482714,
          4.932893,
          7.894489,
          13.987772,
          45.310443,
          9.799177,
          5.069095,
          13.517017,
          1.353971,
          14.969093,
          45.395839,
          0.269661,
          5.93923,
          11.837067,
          2.149469,
          1.569449,
          3.535789,
          5.897391,
          21.024346,
          7.235794,
          8.204829,
          8.403859,
          4.221313,
          13.143045,
          6.138802,
          1.939054,
          8.717235,
          0.289433,
          10.621353,
          35.735689,
          7.433574,
          4.090382,
          0.812776,
          6.335881,
          1.278092,
          5.244518,
          1.265683,
          10.791954,
          9.782433,
          4.409263,
          3.942464,
          2.597665,
          6.500835,
          39.338097,
          12.893219,
          0.983484,
          2.214925,
          1.86453,
          9.100352,
          7.828459,
          11.000654,
          5.0005,
          6.41678,
          2.101718,
          19.585801,
          4.105363,
          17.318839,
          3.363973,
          29.01153,
          20.745052,
          16.990308,
          4.820166,
          2.226412,
          8.526635,
          1.369528,
          1.82184,
          0.571663,
          14.652342,
          1.71729,
          0.024186,
          8.859657,
          0.086731,
          7.802245,
          1.589693,
          0.553752,
          24.281951,
          9.983004,
          25.281197,
          38.150787,
          16.829837,
          1.288173,
          19.782725,
          4.943588,
          34.634181,
          143.659698,
          18.422323,
          45.610993,
          17.681707,
          35.897151,
          11.199544,
          30.465138,
          5.675535,
          29.173266,
          4.492455,
          17.717681,
          17.434862,
          25.511217,
          12.268143,
          30.214716,
          6.872784,
          23.413188,
          1.830306,
          14.741589,
          5.500324,
          16.754452,
          29.761163,
          2.772178,
          19.301432,
          0.000372,
          23.612409,
          6.557643,
          9.887662,
          8.079046,
          21.626288,
          14.672151,
          2.627232,
          12.150871,
          2.128211,
          2.881239,
          4.857028,
          2.206097,
          3.721858,
          5.091253,
          15.212569,
          0.838938,
          7.051521,
          11.400229,
          21.276864,
          1.799504,
          2.932784,
          2.550045,
          5.517597,
          3.829937,
          8.893676,
          9.590373,
          7.155519,
          0.587276,
          13.635828,
          10.416332,
          5.038953,
          1.498245,
          8.184588,
          2.26778,
          3.120016,
          8.207425,
          2.356244,
          34.917447,
          0.542814,
          5.060656,
          5.33861,
          1.874783,
          14.574995,
          8.591387,
          26.181753,
          21.01755,
          3.139294,
          6.665164,
          2.832628,
          3.528643,
          4.665309,
          25.613197,
          21.285206,
          4.240495,
          3.810943,
          23.604936,
          60.225219,
          0.050456,
          17.705671,
          6.847099,
          8.067702,
          11.208769,
          2.163683,
          11.142389,
          11.885221,
          12.524953,
          1.537859,
          3.481517,
          40.688426,
          24.0034,
          2.639106,
          16.574756,
          5.483531,
          1.068819,
          8.432401,
          2.074295,
          11.357474,
          74.234793,
          11.086001,
          13.409125,
          14.961629,
          16.139771,
          67.608041,
          49.802914,
          16.20985,
          24.499996,
          59.961523,
          12.541983,
          23.431117,
          15.929648,
          3.029944,
          5.537646,
          64.025031,
          12.654051,
          35.108498,
          40.196514,
          7.60445,
          10.982255,
          24.351305,
          3.159574,
          12.601677,
          7.077505,
          4.053017,
          6.379933,
          15.639016,
          3.89204,
          26.286954,
          8.008844,
          12.68514,
          0.041651,
          8.483531,
          3.561198,
          14.988746,
          5.754416,
          6.497285,
          19.411141,
          7.034618,
          26.218912,
          4.647547,
          9.371534,
          15.015271,
          5.696491,
          4.25422,
          5.411243,
          1.273773,
          6.27257,
          4.148253,
          1.369649,
          14.970654,
          7.161051,
          12.434688,
          2.507912,
          1.478505,
          0.215464,
          1.229667,
          6.903186,
          2.260315,
          3.427061,
          0.669169,
          6.077735,
          2.404626,
          0.475748,
          15.048067,
          1.734764,
          1.496454,
          10.19041,
          12.099486,
          4.957014,
          2.135689,
          18.119265,
          13.034602,
          6.349218,
          5.013575,
          4.448353,
          4.49029,
          2.204138,
          11.81832,
          0.356495,
          22.054546,
          4.245123,
          3.201886,
          0.114342,
          22.341462,
          0.305922,
          28.500913,
          10.439971,
          3.784535,
          10.396305,
          33.296684,
          19.127239,
          14.072941,
          2.714043,
          2.141143,
          20.982455,
          2.080741,
          7.79068,
          15.580335,
          5.336243,
          10.787322,
          32.476098,
          3.21392,
          5.206967,
          1.5846,
          3.653305,
          3.865122,
          1.391958,
          20.821846,
          9.451228,
          1.688495,
          5.033065,
          5.934016,
          0.075817,
          48.375848,
          42.187986,
          53.698683,
          14.752587,
          48.170508,
          29.15813,
          56.30466,
          17.304055,
          9.59729,
          20.326337,
          4.028875,
          6.470766,
          16.856231,
          19.683187,
          9.358197,
          19.984477,
          30.271066,
          59.454473,
          20.304235,
          60.715151,
          35.871248,
          18.077963,
          20.428237,
          32.14444,
          3.673566,
          3.656491,
          1.88484,
          4.227807,
          3.102862,
          15.688439,
          22.9951,
          5.769822,
          26.510558,
          7.544515,
          1.126941,
          35.307577,
          4.079111,
          7.058868,
          12.904615,
          18.115566,
          62.554173,
          9.483717,
          16.890285,
          49.12486,
          8.309894,
          5.960149,
          9.302349,
          8.190888,
          5.87193,
          8.452666,
          17.028252,
          19.336367,
          38.006982,
          6.377523,
          0.835617,
          14.947588,
          5.1299,
          1.199451,
          3.810827,
          3.7387,
          9.85123,
          3.03091,
          3.199904,
          2.739307,
          5.348446,
          4.070044,
          9.974681,
          6.308298,
          49.333137,
          4.149628,
          46.114184,
          3.562563,
          4.498368,
          7.673124,
          4.992475,
          6.174435,
          0.805312,
          8.753409,
          3.943706,
          9.169411,
          2.732031,
          35.252056,
          6.063868,
          21.343093,
          10.095184,
          4.129165,
          30.001024,
          6.759235,
          1.731035,
          11.700578,
          2.388683,
          0.080704,
          0.888986,
          0.679351,
          19.940245,
          1.286991,
          0.042442,
          1.116206,
          3.05434,
          38.94708,
          3.792015,
          0.219799,
          7.794,
          9.136965,
          8.39685,
          7.864905,
          1.963219,
          1.546169,
          10.619574,
          0.999655,
          1.985243,
          0.102003,
          10.48009,
          1.136568,
          11.095219,
          0.40703,
          0.028756,
          8.618793,
          2.394613,
          2.387463,
          5.461487,
          14.805264,
          25.30216,
          38.83192,
          3.500741,
          19.807295,
          1.435742,
          7.667888,
          8.496364,
          9.617777,
          4.495256,
          35.754865,
          0.20323,
          0.28076,
          3.11319,
          0.137535,
          6.368933,
          0.217538,
          3.531877,
          0.706355,
          15.002502,
          22.585384,
          29.834065,
          20.403344,
          5.224593,
          30.196039,
          15.359952,
          11.573034,
          1.847822,
          0.425551,
          3.819796,
          10.274542,
          61.210016,
          0.177356,
          0.011697,
          6.249262,
          3.108881,
          17.074843,
          0.774442,
          8.816995,
          8.48639,
          5.223096,
          7.759215,
          14.570359,
          0.371337,
          127.525581,
          3.898737,
          7.315935,
          2.551559,
          8.772574,
          6.988357,
          6.938854,
          11.21273,
          7.217328,
          12.439495,
          2.126139,
          10.142218,
          16.536374,
          0.933891,
          12.540624,
          8.839651,
          12.891276,
          10.789912,
          25.666029,
          45.66662,
          35.892034,
          8.988455,
          14.042041,
          40.016306,
          22.030517,
          2.503612,
          4.117968,
          24.161735,
          1.379354,
          15.338211,
          29.852608,
          35.061467,
          7.288352,
          10.605752,
          43.40352,
          17.229537,
          2.453459,
          1.433692,
          9.976428,
          2.930058,
          7.173059,
          1.735462,
          29.071955,
          18.428909,
          11.387335,
          5.975604,
          4.59841,
          22.87623,
          19.107285,
          0.456485,
          4.541908,
          4.348416,
          3.347885,
          6.091951,
          4.757625,
          12.062371,
          7.758188,
          12.781973,
          1.631993,
          12.690224,
          8.516229,
          5.90259,
          2.866934,
          9.140936,
          22.987897,
          1.204941,
          7.605291,
          2.855963,
          0.502396,
          1.771584,
          21.230737,
          0.068246,
          0.541652,
          18.790221,
          0.409089,
          3.663108,
          12.496261,
          0.596889,
          2.611364,
          3.238466,
          8.30723,
          3.408955,
          1.876621,
          1.807571,
          6.783053,
          8.484123,
          0.936232,
          12.822534,
          4.989985,
          1.390659,
          1.923514,
          4.118612,
          9.541688,
          17.234745,
          48.98255,
          1.972668,
          3.490215,
          1.726175,
          20.544999,
          0.389471,
          8.45342,
          0.90522,
          2.201678,
          3.771652,
          21.119209,
          17.002623,
          46.116885,
          1.398981,
          25.5748,
          3.418871,
          10.729884,
          2.676535,
          7.821438,
          3.281509,
          2.938973,
          10.219942,
          50.319662,
          0.593068,
          8.406025,
          5.588652,
          25.894065,
          3.280081,
          35.674774,
          3.115754,
          20.466433,
          0.015597,
          12.982319,
          0.595136,
          3.643608,
          6.396936,
          0.909067,
          1.348114,
          0.964802,
          0.042346,
          1.271621,
          25.891466,
          1.618138,
          4.304341,
          3.158056,
          3.230779,
          1.913302,
          5.690619,
          17.537154,
          26.259389,
          1.419431,
          11.637458,
          192.528841,
          44.356711,
          4.859873,
          6.723057,
          3.069605,
          21.826888,
          15.128316,
          1.814802,
          5.643023,
          2.964785,
          0.11615,
          13.437038,
          26.180367,
          11.735287,
          8.308442,
          3.027892,
          11.933449,
          8.825113,
          17.332585,
          47.812466,
          11.753553,
          42.868495,
          63.513324,
          1.918959,
          22.789649,
          5.735912,
          11.414843,
          6.017273,
          21.607228,
          7.961559,
          54.403033,
          41.045084,
          0.295226,
          16.553594,
          24.393296,
          11.241802,
          9.18885,
          11.158167,
          23.109959,
          1.586598,
          3.832858,
          22.889294,
          10.341982,
          7.924982,
          1.697846,
          14.936661,
          0.720091,
          2.747402,
          6.734965,
          13.338539,
          0.185373,
          5.344815,
          0.982624,
          23.299907,
          4.103764,
          5.003615,
          0.019984,
          1.026243,
          2.787375,
          3.667372,
          2.144354,
          3.937939,
          5.325156,
          23.981601,
          3.107149,
          5.016607,
          13.857194,
          6.997495,
          4.337685,
          3.636634,
          15.492257,
          2.504169,
          10.757539,
          1.580027,
          15.754614,
          56.76349,
          3.644872,
          16.900433,
          1.569246,
          4.682881,
          1.128559,
          12.68672,
          3.750338,
          2.857848,
          20.95282,
          0.18094,
          1.75311,
          3.120747,
          0.384496,
          2.504156,
          0.431332,
          11.882563,
          9.342465,
          12.564554,
          0.68822,
          0.194848,
          2.015525,
          2.680629,
          12.036888,
          1.737032,
          9.249229,
          5.164423,
          0.008263,
          1.998826,
          1.968679,
          1.141463,
          0.214704,
          1.034844,
          1.975941,
          5.928937,
          3.370225,
          5.485217,
          0.18887,
          3.077885,
          1.781462,
          4.952983,
          1.35088,
          0.687656,
          6.39503,
          39.30982,
          9.070842,
          67.417542,
          36.444894,
          15.351412,
          2.436019,
          0.93392,
          11.35972,
          0.296981,
          1.776624,
          1.897263,
          0.144031,
          0.531444,
          22.793929,
          14.013414,
          13.265432,
          11.552247,
          1.73892,
          0.895946,
          19.02965,
          0.406645,
          3.687574,
          36.556954,
          0.545825,
          18.661541,
          0.973582,
          14.885388,
          12.030456,
          18.30961,
          6.82919,
          9.799357,
          10.363642,
          30.583959,
          23.672571,
          0.205034,
          5.581743,
          2.487255,
          0.262135,
          23.419061,
          7.958831,
          25.722747,
          9.774126,
          0.197469,
          0.142255,
          0.301884,
          0.424957,
          3.393648,
          5.025938,
          4.624691,
          12.204569,
          0.630226,
          4.270489,
          3.674294,
          4.623059,
          1.946715,
          27.940093,
          1.759506,
          8.395624,
          8.248149,
          0.628051,
          0.500753,
          0.376662,
          1.606314,
          0.197264,
          5.759493,
          6.86302,
          32.875469,
          0.015295,
          14.206525,
          12.639469,
          2.371477,
          2.470443,
          1.532518,
          0.1813,
          2.713171,
          0.258413,
          2.025701,
          2.659804,
          8.38717,
          6.677093,
          2.526356,
          0.039007,
          31.691617,
          0.47909,
          0.027801,
          2.122451,
          0.803761,
          41.298723,
          1.791331,
          10.664202,
          100.876794,
          13.223111,
          22.139842,
          37.117362,
          15.046612,
          15.557144,
          11.66632,
          34.938177,
          5.961119,
          17.639478,
          1.867004,
          13.944645,
          2.304552,
          7.792851,
          14.799323,
          23.281616,
          20.331593,
          5.381536,
          20.834883,
          14.045887,
          0.483974,
          9.719094,
          16.930914,
          28.819424,
          18.223139,
          12.999023,
          6.728882,
          1.95686,
          7.151154,
          14.846001,
          14.08251,
          0.031947,
          2.283796,
          18.224326,
          3.43159,
          4.749885,
          3.980072,
          1.096355,
          1.196943,
          3.125382,
          5.261065,
          6.337735,
          7.359286,
          1.892183,
          0.001186,
          3.911445,
          2.559806,
          0.744406,
          5.16023,
          0.253595,
          0.046868,
          2.952932,
          5.563068,
          1.161034,
          7.502934,
          5.350423,
          4.261509,
          6.752141,
          20.362373,
          5.099368,
          6.632891,
          1.717376,
          4.922397,
          13.222268,
          7.447714,
          9.68793,
          0.050625,
          5.941852,
          0.174311,
          0.361554,
          8.055084,
          4.346271,
          3.419685,
          5.100741,
          2.253589,
          0.209475,
          3.613577,
          1.296784,
          4.50829,
          8.902102,
          1.619635,
          1.002585,
          1.332804,
          2.00163,
          1.187764,
          6.463806,
          1.980265,
          3.696123,
          32.841229,
          8.518866,
          4.892203,
          4.665026,
          1.294967,
          14.331992,
          3.068463,
          1.367751,
          14.838986,
          1.950959,
          14.884756,
          41.996783,
          2.179428,
          12.471239,
          13.315383,
          3.363321,
          1.699101,
          0.320387,
          0.692497,
          0.023436,
          0.749699,
          11.756943,
          0.225627,
          6.833164,
          0.060127,
          1.959405,
          0.21544,
          27.36562,
          8.650779,
          2.492747,
          2.756435,
          18.828683,
          6.979638,
          26.281839,
          2.079125,
          3.939753,
          14.017809,
          3.677831,
          3.426314,
          6.915201,
          8.535178,
          2.160586,
          0.796009,
          0.13456,
          4.554574,
          3.215465,
          1.49436,
          20.810292,
          0.122704,
          3.654018,
          3.313339,
          5.379319,
          9.67299,
          17.49699,
          12.2624,
          13.291991,
          13.788054,
          3.990215,
          6.526588,
          11.145915,
          5.446832,
          10.009994,
          58.594852,
          11.35344,
          8.589355,
          2.828303,
          3.618646,
          15.017068,
          5.817519,
          9.856826,
          4.262374,
          0.06124,
          11.064228,
          1.742383,
          0.414754,
          12.677016,
          28.27648,
          0.87066,
          7.5591,
          2.02817,
          0.859014,
          0.071377,
          0.193172,
          4.680206,
          1.20173,
          0.094105,
          14.504326,
          10.322858,
          1.404175,
          0.077876,
          0.35819,
          9.159265,
          1.893697,
          0.71087,
          1.105357,
          2.815228,
          0.446858,
          80.171283,
          0.684881,
          3.598457,
          1.452152,
          1.193219,
          8.039223,
          2.486992,
          0.43049,
          9.815394,
          16.032594,
          0.592821,
          10.240917,
          3.443916,
          0.072066,
          0.430758,
          0.143784,
          0.077873,
          0.319792,
          1.600797,
          0.285131,
          5.628399,
          5.065752,
          18.426825,
          16.517777,
          6.903314,
          4.45544,
          0.106949,
          0.165909,
          9.903992,
          7.70019,
          4.480579,
          10.869492,
          63.655973,
          16.312803,
          0.025364,
          1.473405,
          8.109958,
          7.142448,
          6.920873,
          4.826908,
          3.085411,
          66.925866,
          1.280733,
          88.377076,
          9.683622,
          1.6116,
          0.002386,
          0.097913,
          0.047781,
          20.422246,
          0.021678,
          1.998557,
          8.148187,
          2.968235,
          1.36514,
          0.057564,
          8.001156,
          1.079125,
          1.906151,
          0.100533,
          10.230583,
          12.818441,
          1.220072,
          0.014406,
          0.552361,
          0.147886,
          7.717237,
          40.285095,
          0.249457,
          0.447166,
          43.729123,
          4.653047,
          3.000435,
          11.095414,
          72.19808,
          0.926084,
          2.833166,
          41.972329,
          58.845025,
          6.532855,
          48.901542,
          20.649145,
          22.583834,
          6.96858,
          6.926926,
          3.322721,
          26.881611,
          9.773398,
          13.152822,
          4.289003,
          1.444258,
          14.139004,
          3.851,
          2.162522,
          17.845161,
          0.42583,
          9.115486,
          15.017162,
          1.86221,
          1.334481,
          15.699363,
          17.806082,
          10.12895,
          4.805651,
          5.247956,
          4.86805,
          0.367312,
          5.323184,
          3.424158,
          9.954848,
          0.29245,
          0.280083,
          0.043023,
          5.06516,
          3.65924,
          0.948316,
          0.672695,
          16.570708,
          0.51799,
          8.542921,
          37.555398,
          5.20209,
          8.887411,
          0.748565,
          0.436148,
          0.030253,
          0.690089,
          1.883947,
          1.631274,
          0.341461,
          0.887821,
          8.628485,
          6.507094,
          1.190729,
          0.340019,
          0.678475,
          9.055447,
          0.108468,
          2.175696,
          1.50211,
          1.260314,
          0.547654,
          0.0206,
          0.429587,
          0.098351,
          3.629777,
          0.060003,
          7.145832,
          3.638411,
          1.255771,
          0.783842,
          0.118324,
          0.023681,
          2.948576,
          0.243853,
          1.563711,
          0.653495,
          1.233688,
          0.153625,
          0.328498,
          0.4594,
          7.207051,
          6.679954,
          1.284741,
          0.973323,
          1.859965,
          3.418372,
          0.65434,
          0.178689,
          7.310879,
          8.976128,
          0.280829,
          0.795698,
          16.015599,
          5.974156,
          9.270133,
          0.392658,
          25.918007,
          4.0971,
          2.34239,
          20.967146,
          10.639774,
          47.651878,
          0.957022,
          5.424916,
          0.007254,
          0.175885,
          14.238376,
          9.436431,
          0.339757,
          3.060685,
          5.023091,
          0.504251,
          12.049373,
          0.108135,
          5.870319,
          0.59424,
          3.643662,
          1.824184,
          0.006943,
          0.038706,
          2.171288,
          5.292536,
          0.004922,
          1.186971,
          11.205726,
          6.003418,
          0.322553,
          19.326115,
          1.517771,
          1.453146,
          25.186002,
          5.498834,
          12.203041,
          14.386807,
          8.429295,
          0.471264,
          3.283886,
          12.284939,
          1.039149,
          18.644023,
          9.188431,
          1.623769,
          7.731064,
          2.868942,
          0.631571,
          12.378031,
          0.578798,
          0.003142,
          1.471139,
          1.352222,
          0.429083,
          0.045648,
          4.596157,
          0.283059,
          2.659006,
          3.898498,
          41.690578,
          3.409764,
          10.861167,
          0.099902,
          0.006069,
          0.069277,
          0.350557,
          0.071349,
          0.012942,
          2.651304,
          1.501688,
          10.730056,
          0.010909,
          0.001586,
          0.061248,
          6.093989,
          0.48088,
          2.651418,
          15.611857,
          1.292948,
          2.537032,
          0.772668,
          11.578545,
          0.05021,
          0.906096,
          2.778633,
          0.920591,
          1.447734,
          0.109579,
          1.09454,
          0.082978,
          0.619136,
          8.519202,
          0.36447,
          0.039077,
          0.665512,
          3.433625,
          17.378455,
          0.425195,
          39.756748,
          0.388401,
          1.354816,
          0.459625,
          9.108949,
          1.65426,
          1.390909,
          26.406001,
          0.218736,
          0.383442,
          2.391847,
          1.68502,
          0.607782,
          0.046903,
          10.924273,
          0.021419,
          14.142073,
          1.600171,
          0,
          0.397323,
          3.637857,
          0.080105,
          0.251828,
          0.674398,
          0.072359,
          0.087574,
          0.069244,
          0.073079,
          6.672008,
          0.161517,
          7.330691,
          0.165257,
          4.442355,
          3.905877,
          0.136721,
          1.933366,
          0.052942,
          1.014966,
          4.321249,
          0.160234,
          23.603514,
          25.349758,
          47.456823,
          3.291609,
          64.782984,
          0.034135,
          0.033883,
          1.063439,
          0.084344,
          0.133619,
          8.022122,
          38.100488,
          1.428483,
          3.703005,
          0.003352,
          0.231297,
          11.347855,
          3.232447,
          2.77754,
          0.968865,
          35.037625,
          19.331884,
          0.59458,
          1.085909,
          5.061107,
          0.049921,
          0.249561,
          59.259204,
          1.170257,
          11.871424,
          28.858238,
          1.314576,
          1.505703,
          11.818333,
          1.410387,
          4.270596,
          0.627763,
          1.673208,
          0.713906,
          0.17817,
          7.791898,
          0.025211,
          0.055868,
          0.008453,
          0.374291,
          0.045429,
          1.088501,
          0.062979,
          6.473667,
          1.905197,
          0.001389,
          0.006323,
          0.583446,
          1.452199,
          2.733725,
          8.942203,
          20.601483,
          1.45917,
          0.005883,
          3.877036,
          1.70819,
          0.812855,
          0.126304,
          0.018087,
          44.656151,
          0.619348,
          0.293649,
          5.742359,
          21.825564,
          0.055325,
          0.375423,
          0.120505,
          6.978907,
          0.493223,
          5.251143,
          20.265518,
          0.130169,
          0.46049,
          0.399491,
          5.217002,
          0.065103,
          1.063615,
          0.010607,
          1.084387,
          0.172299,
          0.278981,
          0.785744,
          0.0921,
          0.166655,
          18.450613,
          0.58954,
          0.126676,
          0.065155,
          1.183892,
          2.043661,
          33.142185,
          13.971674,
          38.771062,
          0.622752,
          0.004998,
          0.616283,
          2.836537,
          5.937602,
          0.06104,
          0.062089,
          1.077321,
          0.472123,
          4.009379,
          3.299345,
          0.018716,
          0.092562,
          3.225189,
          1.948435,
          31.339015,
          0.15066,
          4.980585,
          0.145014,
          0.036532,
          1.045623,
          0.254659,
          7.072118,
          1.041254,
          6.722213,
          0.015189,
          0.327622,
          25.402697,
          0.132878,
          0.050978,
          8.570328,
          19.052179,
          0.619979,
          0.465404,
          2.805351,
          0.076647,
          8.701183,
          0.021392,
          2.557258,
          0.523122,
          3.284903,
          0.015697,
          6.192383,
          0.005256,
          12.833247,
          2.213889,
          1.112792,
          9.452808,
          0.002388,
          4.563698,
          18.045782,
          20.399578,
          2.353483,
          5.497682,
          0.001117,
          1.680525,
          0.28397,
          10.826253,
          7.676677,
          8.302951,
          0.186401,
          0.053755,
          0.074005,
          0.394575,
          0.020168,
          27.788067,
          0.020839,
          0.408073,
          0.140989,
          10.400603,
          0.838957,
          7.052422,
          2.407048,
          0.176377,
          0.620554,
          6.328665,
          1.578903,
          0.833937,
          0.557602,
          2.380332,
          0.412342,
          0.077577,
          0.293587,
          1.777148,
          0.048726,
          27.662696,
          0.54562,
          0.76368,
          0.970351,
          2.058834,
          0.00734,
          0.049469,
          0.160779,
          3.277287,
          0.595809,
          0.611081,
          0.003582,
          0.123068,
          0.056459,
          1.330379,
          19.748658,
          0.027811,
          0.362633,
          2.634007,
          0.039264,
          7.101197,
          3.320622,
          0.038143,
          0.048948,
          1.048524,
          3.619167,
          1.243955,
          0.327794,
          0.67457,
          3.545991,
          4.553644,
          1.464566,
          1.193779,
          0.332679,
          0.212443,
          0.029757,
          0.166513,
          0.918116,
          23.307949,
          0.022173,
          14.269792,
          0.642552,
          1.444476,
          0.857008,
          1.929883
         ],
         "xaxis": "x",
         "y": [
          2787965087,
          961000000,
          880674609,
          1084939099,
          284139100,
          890871626,
          591794936,
          1405403694,
          933959197,
          873260194,
          391081192,
          586090727,
          1065659812,
          89289910,
          662845518,
          419651413,
          1519557910,
          1045713802,
          624026776,
          956019788,
          752215857,
          310669540,
          958400000,
          372234864,
          550000000,
          1845034188,
          1153304495,
          303025485,
          1513528810,
          1108561013,
          783766341,
          1215439994,
          1025491110,
          459359555,
          743559607,
          836297228,
          1091405097,
          491868548,
          705717432,
          400062763,
          559852396,
          219851172,
          1066969703,
          371353001,
          1506249360,
          531865000,
          747862775,
          467365246,
          197687603,
          351040419,
          335154643,
          407602906,
          1123746996,
          786636033,
          331926147,
          538983207,
          343471816,
          521311860,
          258022233,
          769653595,
          325233863,
          183987723,
          356743061,
          748806957,
          543934787,
          1004558444,
          735099082,
          381509870,
          585174222,
          185770160,
          222104681,
          401128639,
          745000000,
          173000000,
          370541256,
          264218220,
          302469017,
          857611174,
          966550600,
          623933331,
          396600000,
          758539785,
          710644566,
          0,
          150962475,
          714766572,
          752600867,
          209154322,
          652105443,
          471222889,
          305875730,
          389681935,
          494878759,
          435000000,
          773328629,
          675120017,
          825532764,
          77000000,
          1021103568,
          207283925,
          333932083,
          353624124,
          653428261,
          215283742,
          181674817,
          299370084,
          798958165,
          433677183,
          440603537,
          415686217,
          449220945,
          709709780,
          167298192,
          938212738,
          895921036,
          624029371,
          585349010,
          474968763,
          623722818,
          374218673,
          603900354,
          413106170,
          373062864,
          424988211,
          1274219009,
          738599701,
          644571402,
          378858340,
          356613439,
          449326618,
          309979994,
          292817841,
          301000000,
          245527149,
          682330139,
          0,
          287594577,
          665692281,
          318502923,
          397850012,
          205366737,
          38992758,
          64459316,
          128388320,
          272912430,
          497409852,
          746921274,
          431971116,
          229147509,
          553799566,
          441818803,
          195735876,
          521170825,
          694713380,
          306941670,
          202026112,
          456758981,
          268031828,
          385680446,
          821708551,
          609123048,
          150680864,
          76932943,
          185258983,
          285444603,
          245360480,
          371876278,
          119269486,
          85131830,
          370569774,
          361832400,
          212011111,
          829000000,
          150406466,
          163712074,
          183345589,
          532950503,
          282570682,
          245724603,
          373552094,
          442824138,
          631744560,
          519311965,
          847423452,
          368871007,
          591739379,
          273339556,
          554987477,
          293329073,
          362637473,
          371940071,
          789804554,
          49554002,
          243843127,
          354248063,
          349424282,
          321887208,
          976475550,
          61648500,
          655011224,
          752100229,
          767820459,
          500188435,
          407711549,
          626137675,
          334615000,
          232713139,
          261317921,
          61698899,
          276572938,
          238207122,
          345141403,
          544272402,
          546388105,
          325756637,
          289047763,
          609016565,
          228738393,
          415484914,
          259175788,
          403170142,
          169956806,
          286140700,
          115772733,
          242688965,
          93945766,
          48668907,
          261930431,
          286168572,
          850000000,
          649398328,
          562816256,
          415440673,
          924317558,
          585178928,
          132900000,
          77628265,
          164602163,
          477200000,
          716392705,
          178127760,
          245623848,
          167977596,
          574480841,
          470490832,
          333011068,
          215294342,
          362744280,
          478207520,
          295238201,
          102000000,
          237382724,
          227817248,
          337580051,
          563749323,
          103951461,
          179246868,
          299268508,
          347434178,
          164508066,
          125537191,
          383531464,
          871368364,
          72178895,
          87713825,
          0,
          347234916,
          211643158,
          300135367,
          267045765,
          630161890,
          162949164,
          10372291,
          237202299,
          457640427,
          358372926,
          876688482,
          599045960,
          362211740,
          520000000,
          214104620,
          266465037,
          378882411,
          150166126,
          310650585,
          170432927,
          242295562,
          425368238,
          100138851,
          169327687,
          312573423,
          347451894,
          249288105,
          100086793,
          268426634,
          278731369,
          211989043,
          170877916,
          392000694,
          336529144,
          121214377,
          130482868,
          140073390,
          82102379,
          243400000,
          109578115,
          68688831,
          206172544,
          133718711,
          0,
          93820758,
          7103973,
          94882889,
          246233113,
          13835130,
          433013274,
          193772504,
          95311434,
          149044513,
          102000000,
          172989651,
          104907746,
          263920180,
          288347692,
          76432727,
          877244782,
          543514353,
          93525586,
          940335536,
          1118888979,
          926287400,
          114178613,
          274703340,
          103039258,
          368780809,
          482860185,
          162839667,
          304654182,
          25819961,
          631442092,
          10017322,
          226497209,
          589390539,
          497366869,
          167805466,
          347325802,
          155464351,
          242988466,
          886686817,
          188133322,
          264105545,
          289847354,
          304320254,
          188072649,
          232617430,
          366101666,
          524028679,
          94061311,
          186053725,
          233755553,
          200276000,
          201596308,
          243637091,
          235926552,
          182290266,
          171120329,
          190213455,
          162944923,
          174578751,
          156505388,
          334901337,
          118063304,
          143049560,
          60874615,
          484635760,
          93700000,
          0,
          140807547,
          35168966,
          79114085,
          108539911,
          16178959,
          148336445,
          494471524,
          429632142,
          384335608,
          288500217,
          315156409,
          450717150,
          132274484,
          358375603,
          340487652,
          208076205,
          183611771,
          152930623,
          194168700,
          250649836,
          219103655,
          311312624,
          197309027,
          288747895,
          96976270,
          80916492,
          137298489,
          162242962,
          158468292,
          0,
          142940100,
          78382433,
          37823676,
          183018522,
          47664559,
          74208267,
          123307945,
          275650703,
          41037742,
          237681299,
          21028755,
          112483764,
          222231186,
          160388063,
          84785914,
          96085477,
          484572835,
          274470394,
          457696359,
          691210692,
          254455986,
          280000000,
          343397247,
          145771527,
          144000000,
          140464664,
          0,
          190320568,
          342695435,
          246984278,
          230685453,
          266728738,
          294804195,
          163733697,
          260696994,
          245676146,
          212874442,
          181001478,
          214918407,
          224012234,
          178066569,
          173013509,
          157107755,
          177977226,
          91188905,
          250200000,
          0,
          233093859,
          136982834,
          211817906,
          164000000,
          201584141,
          122563539,
          169852759,
          136159423,
          96105964,
          0,
          473226958,
          90874570,
          123729176,
          0,
          147080413,
          142400065,
          71485043,
          0,
          105316267,
          101371017,
          0,
          43312294,
          122444772,
          34566746,
          159212469,
          126546518,
          21400000,
          68514844,
          53825515,
          19480739,
          17626234,
          69131860,
          146936910,
          33463969,
          107944236,
          19406406,
          5989640,
          117831631,
          0,
          313542341,
          788241776,
          355692760,
          248384621,
          209196298,
          108103450,
          149673788,
          236350661,
          97571250,
          15071514,
          35134820,
          875958308,
          179265204,
          970761885,
          816969268,
          229074524,
          532680671,
          69959751,
          296339527,
          258270008,
          335062621,
          660940780,
          196482882,
          90450008,
          78000586,
          0,
          117698894,
          271430189,
          219417255,
          73034460,
          215663859,
          119000410,
          367275019,
          154937680,
          95226116,
          130358911,
          85632458,
          98159963,
          108145109,
          55041367,
          140175006,
          67631903,
          127600435,
          0,
          226904017,
          77944725,
          36754634,
          51142659,
          14567883,
          5802422,
          5409517,
          21009180,
          248118121,
          1156730962,
          89792502,
          103891409,
          13100000,
          349779543,
          111231041,
          61458982,
          86658558,
          162966177,
          176104344,
          210000000,
          96889998,
          527068851,
          37317558,
          54744738,
          62172050,
          256697520,
          294456605,
          408247917,
          919838758,
          461983149,
          309457509,
          277448382,
          311594032,
          309492681,
          319131050,
          300854823,
          240031094,
          116643346,
          203388341,
          42285169,
          171183863,
          443140005,
          114660784,
          161025640,
          118000000,
          202466756,
          122919055,
          0,
          177584879,
          154984035,
          90000098,
          134748021,
          215529201,
          116672912,
          135560026,
          131457682,
          67112664,
          65977295,
          55987321,
          33561137,
          160112671,
          59418613,
          32287044,
          57777106,
          0,
          19924033,
          19870567,
          13596911,
          18662027,
          17752940,
          57958696,
          38629478,
          122915111,
          61279452,
          193000000,
          698491347,
          71069884,
          543513985,
          35431113,
          217022588,
          39041505,
          29762011,
          83160734,
          60289912,
          52099090,
          113280098,
          86387857,
          112265139,
          212404396,
          189198313,
          25303038,
          481840909,
          203277636,
          374111707,
          383257136,
          75715436,
          275293450,
          463517383,
          355237933,
          172855065,
          441809770,
          250821495,
          128107642,
          250288523,
          211780824,
          163442937,
          128884132,
          255000211,
          150270147,
          69700000,
          162945894,
          0,
          179379533,
          162091208,
          133821816,
          153962963,
          156974557,
          128905366,
          38376497,
          0,
          240159255,
          73762516,
          89456761,
          0,
          64321501,
          100853753,
          43545364,
          17218080,
          0,
          71154592,
          42093706,
          56681566,
          39407616,
          74608570,
          203427584,
          132180323,
          296655431,
          44091067,
          920100000,
          25052000,
          215887717,
          121545703,
          101595121,
          127666415,
          107879496,
          41819064,
          18720175,
          155760117,
          0,
          183953723,
          422610419,
          516642939,
          244082376,
          284600000,
          253625427,
          314432665,
          369330363,
          214034224,
          352194034,
          149705852,
          264118201,
          218613188,
          164433867,
          131940411,
          93375151,
          176070171,
          93354918,
          171757863,
          171844840,
          157920733,
          129181830,
          311256926,
          204594016,
          0,
          71664962,
          100230832,
          186883563,
          217764291,
          165333180,
          74541707,
          218340595,
          73648228,
          0,
          137551594,
          0,
          124596398,
          163403799,
          130293714,
          61112916,
          170268750,
          129832389,
          99318987,
          56702901,
          107139399,
          159330280,
          96269812,
          0,
          50877145,
          0,
          104324083,
          50549107,
          101134059,
          205754447,
          162000000,
          95696996,
          108255770,
          46683377,
          469160692,
          0,
          43061982,
          105200903,
          62357900,
          122233971,
          87784194,
          60000000,
          36850101,
          77920346,
          104945765,
          67312826,
          119940815,
          0,
          74901339,
          33956608,
          55003135,
          73174566,
          0,
          31720158,
          39459427,
          47383689,
          141702264,
          71073932,
          78309131,
          26288320,
          26673242,
          52322400,
          49111202,
          17800000,
          27642707,
          14828081,
          30800231,
          90565421,
          50650079,
          25473093,
          0,
          57490374,
          39031337,
          30418560,
          0,
          0,
          193677158,
          10166502,
          783112979,
          0,
          542307423,
          158162788,
          102854431,
          59468275,
          189015611,
          41299492,
          0,
          85280250,
          44000000,
          300228084,
          50365377,
          152944660,
          58058367,
          115267375,
          61347797,
          149217355,
          62112895,
          113006880,
          57223890,
          677945399,
          361366633,
          330444045,
          346079773,
          300218018,
          128769345,
          368100420,
          0,
          231449203,
          95000000,
          152263880,
          287928194,
          192330738,
          154906693,
          157387195,
          307077295,
          223387299,
          214015089,
          198685114,
          180949000,
          0,
          152159461,
          63408614,
          149022650,
          56932305,
          121969216,
          187361754,
          127906624,
          110000000,
          159773545,
          141047179,
          41610884,
          75000000,
          259207227,
          68267862,
          34234008,
          0,
          33828318,
          33472850,
          118338361,
          113020255,
          60209334,
          18626419,
          154648887,
          74237563,
          52304001,
          12923936,
          11466088,
          0,
          80383290,
          28283637,
          89519773,
          0,
          9250000,
          6416302,
          155010032,
          168167691,
          9489829,
          136766062,
          52034889,
          130431368,
          190458706,
          7266209,
          9450897,
          107196498,
          139804348,
          179213434,
          54249294,
          98837872,
          65900249,
          126690726,
          25037897,
          0,
          5761917,
          352114312,
          132820716,
          204999686,
          609841637,
          216485654,
          110803676,
          98126565,
          75450437,
          47434430,
          116112375,
          52826594,
          0,
          149270999,
          72779000,
          47231070,
          709827462,
          484409218,
          127869379,
          390493908,
          273552592,
          549368315,
          314178011,
          202292902,
          173649015,
          171269535,
          260095987,
          256271286,
          177371441,
          188441614,
          223664608,
          225990978,
          216972543,
          0,
          242786137,
          212902372,
          184376254,
          161626121,
          152022101,
          120081841,
          155446362,
          88715192,
          161451538,
          142851197,
          200804534,
          0,
          110206216,
          189859560,
          222809600,
          106303988,
          132511035,
          88323487,
          69834815,
          66002004,
          100020092,
          224803475,
          119137784,
          144492830,
          94000000,
          69411370,
          97437106,
          82800000,
          50068310,
          48169156,
          109423648,
          97607453,
          0,
          234989584,
          44547681,
          160602194,
          119208989,
          41482207,
          83719388,
          0,
          129394835,
          40203020,
          55495563,
          49000000,
          69425966,
          144056873,
          49718611,
          60462347,
          0,
          113309743,
          83761844,
          105197635,
          56714147,
          30303072,
          82169884,
          58900031,
          63327201,
          42792561,
          26199517,
          60161391,
          42277365,
          23159305,
          34808403,
          25035950,
          38955598,
          0,
          71561644,
          55112356,
          44434439,
          66976317,
          26121638,
          38502340,
          10541523,
          16671505,
          10382407,
          24188922,
          22944502,
          9851610,
          40828540,
          60052138,
          0,
          55969000,
          6808550,
          0,
          28931401,
          12764201,
          72700000,
          20423389,
          36348784,
          207515725,
          474171806,
          68929150,
          104399548,
          151493655,
          196397415,
          0,
          108000000,
          3324330,
          85498534,
          50315140,
          0,
          90383208,
          25928721,
          70016220,
          325771424,
          77745568,
          102825796,
          528972,
          103738726,
          124305181,
          35743308,
          125212904,
          0,
          38085778,
          12379402,
          299288605,
          0,
          113714830,
          150000000,
          10539000,
          100860818,
          181000000,
          15436808,
          5200000,
          341631208,
          376141306,
          220673217,
          212000000,
          101702060,
          95149435,
          195268056,
          117615211,
          175372502,
          178051587,
          154749918,
          122126687,
          104876233,
          90683916,
          141220678,
          165184237,
          131183530,
          76669806,
          94935764,
          136885767,
          113916474,
          244931766,
          363258859,
          74558115,
          170362582,
          53854588,
          0,
          56070433,
          104478416,
          0,
          148412065,
          123494610,
          38399961,
          0,
          0,
          82966152,
          56422687,
          160583018,
          55181129,
          30925690,
          0,
          75225693,
          65664721,
          72108608,
          0,
          0,
          57881056,
          29400000,
          38058335,
          17300889,
          0,
          13681765,
          60222298,
          11203026,
          9323833,
          0,
          42487390,
          8493890,
          4607608,
          2154540,
          160078586,
          73706,
          232324128,
          368875760,
          136000000,
          165615285,
          300400432,
          0,
          84300000,
          3484331,
          111340801,
          34227298,
          80049764,
          0,
          50871113,
          68696770,
          270248367,
          48190704,
          51070807,
          201585328,
          363889678,
          224834564,
          171963386,
          70100000,
          158674180,
          71000000,
          73100172,
          63781810,
          0,
          55157539,
          0,
          156167015,
          89162162,
          56359980,
          20915465,
          24127895,
          177394432,
          36893721,
          12342632,
          11087569,
          14000000,
          215000000,
          0,
          117487473,
          0,
          672806292,
          46221189,
          7448385,
          90815558,
          251171807,
          317375031,
          177841558,
          332000000,
          126546825,
          571006128,
          197011982,
          152266007,
          190212113,
          149295601,
          107458785,
          320170008,
          224920315,
          177259441,
          178262620,
          161834276,
          244527583,
          111811453,
          215862692,
          129540499,
          95020213,
          128798265,
          169837010,
          120455994,
          194564672,
          124827316,
          75505856,
          124731534,
          158733820,
          151161491,
          91636986,
          141069860,
          205405498,
          138259062,
          147845033,
          136267476,
          196781193,
          186167139,
          165478348,
          91753202,
          90029656,
          170128460,
          54682547,
          87840042,
          75395048,
          85412898,
          130786397,
          109676311,
          107670357,
          74597643,
          120175290,
          191185897,
          126248813,
          0,
          92913171,
          114830111,
          91974818,
          51854875,
          84601681,
          67347013,
          45916769,
          141591324,
          74000000,
          0,
          41797066,
          0,
          0,
          145896422,
          97552050,
          41863726,
          97138686,
          96618699,
          34416893,
          126069509,
          36037909,
          157887643,
          0,
          55707411,
          50451307,
          0,
          0,
          48063435,
          55247881,
          58785180,
          46442528,
          30199105,
          31670620,
          0,
          29000000,
          49627779,
          27053815,
          0,
          65754228,
          62771059,
          3000000,
          24332324,
          60965854,
          38172500,
          22433915,
          0,
          46546197,
          0,
          20350754,
          60474340,
          0,
          19412993,
          180274123,
          14375181,
          46471023,
          16872671,
          14358033,
          173921954,
          0,
          13395939,
          24719215,
          28121100,
          18902015,
          28169671,
          19322135,
          0,
          0,
          10667893,
          20645327,
          0,
          10959475,
          0,
          32017803,
          22044277,
          0,
          13644292,
          23937870,
          117760134,
          7563728,
          0,
          0,
          0,
          0,
          86758912,
          0,
          0,
          94000000,
          100000000,
          101229792,
          69485490,
          35287788,
          38869464,
          6614280,
          75850624,
          44907260,
          127814609,
          180622424,
          205298907,
          0,
          119723358,
          120000000,
          64076736,
          114156230,
          0,
          73956241,
          51801187,
          0,
          107597242,
          29700000,
          0,
          58401898,
          17380126,
          16991902,
          47536959,
          10300000,
          19629760,
          98337295,
          6482195,
          0,
          17869048,
          28258060,
          5410749,
          9793496,
          109906372,
          173567581,
          154026136,
          79700000,
          163720069,
          100076342,
          90247624,
          48451803,
          55583804,
          112343513,
          95404397,
          392616625,
          102244770,
          117758500,
          269994119,
          21834845,
          50159144,
          160000000,
          64572262,
          52424533,
          32168970,
          44350926,
          26250020,
          0,
          0,
          96047633,
          12532777,
          3003296,
          63800345,
          0,
          459270619,
          156844753,
          310940086,
          411348924,
          0,
          321731527,
          309208309,
          147934180,
          117000000,
          252276927,
          326551094,
          139000000,
          173965010,
          182300000,
          69823199,
          140795793,
          68915888,
          231976425,
          126216940,
          86369815,
          0,
          113374103,
          25504513,
          104155843,
          0,
          60251371,
          95608995,
          52277485,
          150483765,
          108758521,
          112544580,
          48169908,
          88058786,
          92219310,
          91353501,
          69307224,
          0,
          58405313,
          41954997,
          102984862,
          122200000,
          0,
          85416905,
          173930596,
          77477008,
          59901913,
          0,
          35323292,
          99423521,
          120072577,
          0,
          68766121,
          115505027,
          84606030,
          72436439,
          45479110,
          57120318,
          32483410,
          40263020,
          27107960,
          36098382,
          30353232,
          25105255,
          4100000,
          93246388,
          0,
          68369434,
          27388767,
          50363790,
          82087155,
          19478106,
          0,
          25871834,
          19701164,
          19294901,
          31083599,
          51680201,
          29882645,
          46216641,
          41512007,
          39340177,
          0,
          16519460,
          63215872,
          0,
          18317151,
          0,
          13678913,
          27409889,
          12206028,
          54674226,
          0,
          17508518,
          11560806,
          10089373,
          12506188,
          61181942,
          0,
          42064105,
          4651977,
          0,
          0,
          16838910,
          0,
          15000000,
          635096,
          25147786,
          10496317,
          0,
          348319861,
          14431253,
          32255440,
          15304890,
          11263966,
          2106557,
          187479518,
          63013281,
          19598588,
          0,
          0,
          27330000,
          40382659,
          243240178,
          79958599,
          173959438,
          0,
          64626786,
          140470746,
          62022014,
          0,
          54700105,
          27610873,
          40346186,
          0,
          572700000,
          22211426,
          113019290,
          24159934,
          173398518,
          152036382,
          0,
          60328000,
          80197993,
          288383523,
          126041322,
          50041732,
          48814909,
          69055695,
          21819348,
          83615414,
          147332697,
          36733909,
          77566815,
          9494789,
          31755742,
          0,
          60740827,
          85167639,
          18552460,
          30016165,
          0,
          18409891,
          53587404,
          0,
          27437881,
          3566637,
          0,
          5914908,
          0,
          89460381,
          42045846,
          106269971,
          14708696,
          128499205,
          161772375,
          210308099,
          174600318,
          24185781,
          53208180,
          68106245,
          104384188,
          115101622,
          306776732,
          234801895,
          287553595,
          373554033,
          350448145,
          196114570,
          15134293,
          136706683,
          199200000,
          115922175,
          167722310,
          191502426,
          212385533,
          165335153,
          116400000,
          327311859,
          210819611,
          140161792,
          156822020,
          216763646,
          176885658,
          115603229,
          160259319,
          155545279,
          103,
          74787599,
          160638883,
          163670000,
          105834556,
          116980662,
          47042000,
          0,
          254134910,
          114281051,
          105173115,
          92374674,
          63833449,
          0,
          114663461,
          69631118,
          96455697,
          151119219,
          0,
          83282296,
          118880016,
          70200000,
          0,
          51132598,
          152427960,
          192452832,
          156835339,
          93772522,
          129266061,
          0,
          45892212,
          54819301,
          117195061,
          42647449,
          84025816,
          91709827,
          90810892,
          65663276,
          0,
          159291809,
          51842679,
          53653224,
          75505973,
          66486080,
          84646831,
          38413606,
          38122105,
          38748395,
          63782078,
          51376861,
          36160375,
          82394288,
          34742066,
          41480851,
          0,
          48428063,
          63372757,
          0,
          14460000,
          39267515,
          29202884,
          31911598,
          0,
          24048000,
          60896147,
          0,
          108609310,
          22034832,
          53909751,
          21800302,
          51148651,
          31070211,
          35294470,
          19204929,
          17193231,
          0,
          102820008,
          16930884,
          25224242,
          26155781,
          0,
          37962774,
          31148328,
          15007991,
          15368897,
          13001257,
          24922237,
          30536013,
          0,
          0,
          0,
          0,
          30114487,
          12,
          13521829,
          18618284,
          64352607,
          8454301,
          62616646,
          18195610,
          26828365,
          0,
          18074539,
          0,
          0,
          3102550,
          35078241,
          0,
          480314,
          14711793,
          108348,
          0,
          0,
          2527904,
          0,
          0,
          0,
          0,
          0,
          0,
          140752617,
          287506194,
          186438883,
          37036004,
          0,
          0,
          33013805,
          16930185,
          78636257,
          0,
          0,
          24829644,
          21126225,
          504050219,
          201634991,
          333000000,
          100491683,
          105178561,
          48902953,
          98185582,
          140767956,
          92380927,
          133346506,
          0,
          64445708,
          102356381,
          94728529,
          17137302,
          71441250,
          90259536,
          134402450,
          195312802,
          77516304,
          101646581,
          60780981,
          97594140,
          39514713,
          92601050,
          96188903,
          40547440,
          33000337,
          100654149,
          121147947,
          33139618,
          31596911,
          52597999,
          54926886,
          0,
          20217080,
          38159905,
          8888143,
          45236543,
          8345056,
          14010832,
          7002261,
          16374328,
          5684789,
          17286299,
          60700000,
          23321954,
          68896829,
          187500000,
          219076518,
          95714875,
          43650785,
          27187653,
          49469904,
          24748670,
          96900000,
          0,
          60527873,
          115229890,
          44352417,
          0,
          129000000,
          56870414,
          56308881,
          21500000,
          15395087,
          20158808,
          27200316,
          0,
          11137801,
          76000000,
          29000000,
          13000000,
          0,
          85564310,
          93282604,
          14,
          4488529,
          21148829,
          6673422,
          0,
          0,
          183293131,
          110230332,
          109449237,
          289317794,
          53181600,
          201957688,
          101624843,
          65705772,
          68296293,
          61489265,
          50750000,
          57891803,
          90426405,
          71868327,
          67918658,
          86175291,
          0,
          38793283,
          0,
          43318349,
          28818995,
          142044638,
          35402320,
          29657751,
          14000000,
          36800000,
          0,
          0,
          0,
          0,
          20080020,
          30523226,
          82466670,
          611899420,
          441286195,
          412800000,
          269958228,
          29506464,
          226830568,
          35926213,
          411006740,
          321365567,
          124272124,
          8555008,
          181466833,
          0,
          114908830,
          0,
          80936232,
          170764026,
          78000000,
          76270454,
          171600000,
          153997819,
          281929795,
          152500343,
          124914842,
          119772232,
          147780440,
          56505065,
          91036760,
          60922980,
          117719158,
          99357138,
          137587063,
          116766556,
          0,
          77278331,
          122644820,
          90574188,
          46836394,
          58795814,
          122489822,
          65884703,
          0,
          43984230,
          63100000,
          0,
          77208711,
          0,
          0,
          41604473,
          39053061,
          64437847,
          70442940,
          36351350,
          38307627,
          66980456,
          0,
          63102666,
          59192128,
          56489558,
          41597830,
          33889159,
          229736344,
          70992898,
          2415472,
          66122026,
          82150642,
          50671850,
          29548291,
          100000000,
          34942188,
          0,
          28341469,
          39438674,
          25023434,
          39171130,
          74188937,
          27645491,
          42886719,
          46152800,
          21567853,
          22200000,
          114977104,
          23580000,
          36993168,
          40452643,
          17000000,
          20796847,
          0,
          0,
          0,
          0,
          15431177,
          33333531,
          0,
          24362772,
          19829957,
          30411183,
          51702483,
          0,
          42972994,
          14334401,
          10126458,
          13,
          28831145,
          0,
          15478800,
          13411957,
          24902723,
          11000000,
          0,
          23057115,
          16900000,
          25000000,
          11207130,
          10719357,
          13000000,
          85446075,
          10070000,
          10324441,
          11772461,
          0,
          27635305,
          5778353,
          0,
          0,
          0,
          4064495,
          0,
          19844979,
          2405420,
          27603069,
          0,
          34153101,
          777423,
          2336172,
          19255873,
          10589102,
          0,
          48531470,
          0,
          0,
          6500000,
          71009334,
          0,
          3052000,
          0,
          0,
          34670720,
          8784318,
          133000000,
          155721132,
          172363301,
          1397284,
          70181428,
          106371651,
          80035402,
          87055349,
          41895491,
          40002112,
          36609995,
          42105111,
          0,
          68729358,
          0,
          0,
          16980098,
          16290976,
          21049053,
          12372410,
          8434146,
          30551495,
          83188165,
          0,
          4562146,
          669276,
          0,
          23081726,
          234710455,
          102391382,
          185991646,
          538400000,
          141407024,
          86930411,
          53302314,
          75993061,
          53187659,
          0,
          47351251,
          36642838,
          6399,
          18653615,
          0,
          33372606,
          51881013,
          0,
          0,
          10827816,
          7434726,
          29541790,
          0,
          0,
          9366227,
          16123851,
          5837674,
          94679598,
          38119483,
          15520023,
          505000000,
          369884651,
          189833357,
          75597042,
          147880543,
          182016617,
          84772742,
          77737889,
          88880821,
          110627965,
          92542418,
          67800064,
          95708457,
          57479076,
          35424826,
          0,
          22400154,
          51164106,
          9930095,
          19351569,
          77112176,
          0,
          33788161,
          23619609,
          63647656,
          0,
          43058898,
          13555988,
          0,
          10696210,
          0,
          0,
          0,
          72629670,
          0,
          26193068,
          17709155,
          14400000,
          0,
          15447154,
          12000000,
          9479718,
          0,
          15400000,
          92991835,
          0,
          0,
          24000000,
          73244881,
          70687344,
          0,
          46,
          42000000,
          40222729,
          205738714,
          41170784,
          37000000,
          43928932,
          41627431,
          17762705,
          14899417,
          17600000,
          10011050,
          0,
          0,
          970816,
          69701637,
          2856712,
          389925971,
          358991681,
          303788635,
          29907685,
          299965036,
          132675402,
          272742922,
          121697323,
          117224271,
          187884007,
          149281606,
          318000141,
          97918663,
          100525432,
          131282949,
          122195920,
          113086475,
          177243185,
          0,
          0,
          187000000,
          57588485,
          60072596,
          53000000,
          207945075,
          0,
          41158757,
          183936074,
          48548426,
          109862682,
          66787908,
          135680000,
          67192859,
          84146832,
          45554533,
          41596251,
          43967255,
          86865564,
          88346473,
          27640028,
          39143839,
          37672350,
          0,
          41237648,
          35841901,
          65464324,
          60000000,
          80547866,
          135330182,
          41296320,
          50907234,
          50907422,
          47241945,
          0,
          78378744,
          31678778,
          54586584,
          46069568,
          68349884,
          35387212,
          67200000,
          0,
          45636368,
          47126295,
          0,
          0,
          64822796,
          72258126,
          32005248,
          65569869,
          46089287,
          0,
          51416464,
          49779728,
          17425000,
          27105095,
          0,
          39300000,
          37597471,
          0,
          28972508,
          21284514,
          83707310,
          20211394,
          0,
          32000000,
          36620508,
          34077920,
          0,
          2297493,
          18432000,
          18253415,
          22222308,
          56255142,
          17807569,
          52302796,
          25836616,
          0,
          17519169,
          100914445,
          0,
          73276047,
          60427839,
          16605763,
          17432163,
          0,
          17436509,
          15473333,
          34854990,
          14109284,
          22942221,
          13801755,
          30426096,
          32204030,
          0,
          34560577,
          0,
          13391174,
          27674124,
          12482775,
          12398628,
          0,
          17280326,
          24145613,
          0,
          0,
          0,
          12639297,
          10686841,
          0,
          36606743,
          0,
          0,
          16974459,
          0,
          9109322,
          12382362,
          10337477,
          11341016,
          20000000,
          11110975,
          0,
          16549477,
          7000000,
          15008161,
          0,
          6575282,
          0,
          6420319,
          27462041,
          7659918,
          0,
          10442808,
          5210988,
          0,
          12007070,
          0,
          0,
          4001121,
          16863583,
          5530764,
          0,
          159375308,
          0,
          0,
          5048693,
          0,
          1675706,
          5359645,
          7400000,
          0,
          0,
          3727746,
          0,
          0,
          0,
          305070,
          47301471,
          0,
          4634062,
          0,
          346594,
          17671101,
          0,
          0,
          0,
          0,
          0,
          0,
          0,
          5496951,
          0,
          0,
          424208848,
          216197492,
          110879513,
          70067909,
          173046663,
          0,
          44017374,
          381109762,
          40846082,
          0,
          0,
          49830607,
          101564935,
          5728213,
          0,
          54956140,
          274925095,
          0,
          8613462,
          76586316,
          18755936,
          29922472,
          4750000,
          6928068,
          5310554,
          2119994,
          0,
          0,
          108047131,
          32801173,
          46770602,
          0,
          10680275,
          31912793,
          268157400,
          351583407,
          151668774,
          261572744,
          141774679,
          87000000,
          144216468,
          65535067,
          19682924,
          0,
          65070412,
          76488889,
          67683989,
          88923251,
          72417394,
          98235548,
          51973029,
          14796236,
          129042871,
          0,
          87754044,
          41382841,
          103215094,
          99206215,
          76286096,
          62646763,
          0,
          21378361,
          47088990,
          24911670,
          24007324,
          100000000,
          23000000,
          36133014,
          0,
          0,
          35692920,
          0,
          17200925,
          24000000,
          16702864,
          0,
          34441873,
          0,
          0,
          2945600,
          28008462,
          12000000,
          10501938,
          8038061,
          25312387,
          0,
          0,
          6735922,
          14110013,
          0,
          5887457,
          20275812,
          26527510,
          25739015,
          0,
          0,
          20719451,
          6212282,
          0,
          22309223,
          0,
          0,
          3500000,
          676698,
          7972967,
          382174,
          871279,
          0,
          0,
          34000000,
          0,
          1831348,
          6948633,
          13551174,
          121463226,
          90508336,
          0,
          150816700,
          51053787,
          38000000,
          99965753,
          7018189,
          266586800,
          0,
          0,
          183316455,
          72070731,
          125586134,
          136621271,
          109502303,
          19179969,
          70000000,
          0,
          71625195,
          57103895,
          136150434,
          0,
          30331165,
          43165571,
          69623713,
          0,
          45710059,
          0,
          21170563,
          115350426,
          19693891,
          0,
          0,
          0,
          0,
          29536299,
          10000000,
          97542952,
          20455276,
          7314027,
          19300000,
          0,
          9500000,
          0,
          0,
          86915017,
          2000000,
          1569918,
          3758328,
          374743,
          0,
          8720000,
          9627492,
          0,
          2281089,
          43848069,
          135000000,
          37311672,
          13620075,
          16942795,
          235860116,
          247275374,
          92823546,
          53977250,
          119754278,
          0,
          133432856,
          76514050,
          68263166,
          0,
          6490401,
          0,
          83258226,
          0,
          29381649,
          40492759,
          30987695,
          30102717,
          80573774,
          50007546,
          96408652,
          0,
          20627372,
          0,
          31556061,
          15427192,
          0,
          0,
          0,
          13854000,
          206678440,
          18564088,
          12,
          0,
          0,
          0,
          4217115,
          5900000,
          2849142,
          1686429,
          5867686,
          0,
          24261569,
          14822346,
          53191886,
          0,
          754249,
          0,
          47801389,
          0,
          3442853,
          0,
          0,
          0,
          1237615,
          0,
          0,
          316360478,
          476684675,
          0,
          177200000,
          356830601,
          213525736,
          356296601,
          414211549,
          216614388,
          317000,
          146292009,
          11301649,
          233555708,
          0,
          67182787,
          75700498,
          146497771,
          61399552,
          151831537,
          123384128,
          73326666,
          55184721,
          0,
          127730736,
          66966987,
          52970014,
          50000000,
          64256513,
          55534455,
          42930462,
          61548707,
          40283321,
          0,
          44862187,
          66468332,
          48126384,
          35007180,
          123726688,
          0,
          33771174,
          69995385,
          39421467,
          52501541,
          32721635,
          47175038,
          37664855,
          30857814,
          30226144,
          78054825,
          29331068,
          46905889,
          64238440,
          30127963,
          32645546,
          27728118,
          28084357,
          40105542,
          0,
          24769466,
          85306374,
          0,
          23237911,
          43101594,
          0,
          21000000,
          0,
          38574362,
          0,
          22165608,
          20566327,
          20529194,
          17507368,
          35485608,
          32556119,
          0,
          42000000,
          17080167,
          37930465,
          31554855,
          0,
          0,
          22730842,
          15843608,
          0,
          59389433,
          16633035,
          12000000,
          0,
          0,
          0,
          0,
          0,
          15608545,
          10443316,
          0,
          0,
          14867514,
          46189568,
          10903846,
          9237470,
          18928871,
          9902115,
          8586376,
          0,
          0,
          0,
          34533783,
          0,
          8762890,
          6405245,
          8138788,
          35097815,
          5217498,
          12036149,
          0,
          15785148,
          4152230,
          20117339,
          0,
          0,
          9455232,
          0,
          5926410,
          0,
          0,
          7938872,
          0,
          0,
          650422,
          9584131,
          529766,
          632542,
          0,
          0,
          8936663,
          6814789,
          76382,
          3533227,
          0,
          0,
          23000,
          20380,
          0,
          27187375,
          0,
          0,
          0,
          0,
          0,
          70906973,
          122513057,
          147298761,
          17511906,
          0,
          159157447,
          674918,
          377910544,
          320145693,
          463000000,
          239606210,
          0,
          161001698,
          154864401,
          100734718,
          75511123,
          185438673,
          72527595,
          0,
          34793160,
          0,
          114956699,
          0,
          27515786,
          25482931,
          19800000,
          30749142,
          0,
          0,
          22852638,
          21409028,
          0,
          21001563,
          0,
          0,
          0,
          13196245,
          16951798,
          0,
          10424470,
          11417362,
          19777647,
          14821658,
          5108820,
          0,
          4291965,
          0,
          2474000,
          0,
          0,
          5405500,
          0,
          0,
          0,
          0,
          46495,
          0,
          1755212,
          178043761,
          0,
          29027914,
          12314651,
          7060876,
          19422261,
          0,
          92180910,
          38535221,
          5380251,
          123922370,
          16700000,
          98441954,
          327803731,
          47542841,
          91038276,
          72500000,
          77000000,
          73180723,
          44726644,
          54837234,
          49002684,
          53478166,
          0,
          0,
          119100758,
          96060858,
          0,
          0,
          36450736,
          27007143,
          0,
          35763605,
          53830415,
          57096190,
          36869414,
          22863596,
          0,
          45300000,
          16929123,
          68673228,
          11130889,
          8026971,
          35401758,
          0,
          7820688,
          27500000,
          0,
          16757163,
          0,
          0,
          48065672,
          4857367,
          0,
          18000000,
          0,
          8459458,
          9789900,
          2636637,
          33400000,
          1200000,
          1151330,
          0,
          1784763,
          3964682,
          303877,
          68572378,
          0,
          33082548,
          10652035,
          55260558,
          23367586,
          0,
          12281551,
          0,
          10725228,
          0,
          0,
          27206120,
          0,
          11293663,
          20416563,
          40031879,
          0,
          1227324,
          5024782,
          31327899,
          1083683,
          84460846,
          15,
          3878993,
          441306145,
          470654000,
          235483004,
          8109160,
          79817939,
          96070507,
          75781642,
          96800000,
          107217396,
          79567667,
          68706993,
          81272766,
          114194847,
          0,
          39673162,
          43493123,
          145000000,
          30400000,
          42365581,
          61141030,
          100000000,
          89800000,
          52223306,
          40855419,
          56309766,
          31179516,
          31155435,
          27281507,
          56298474,
          32726956,
          307166834,
          22921898,
          25434291,
          54000000,
          21133087,
          100129872,
          0,
          0,
          23006849,
          85512300,
          51,
          17654912,
          0,
          17292381,
          22939027,
          42931041,
          13960203,
          12902790,
          21520719,
          0,
          0,
          31466789,
          85000000,
          0,
          87100449,
          92863945,
          35485056,
          32248241,
          0,
          0,
          6739141,
          5542025,
          0,
          6754898,
          4922166,
          4939939,
          23,
          3148182,
          0,
          88489643,
          0,
          0,
          0,
          8371085,
          0,
          12077441,
          19271312,
          0,
          0,
          1644755,
          15250000,
          0,
          0,
          0,
          0,
          0,
          0,
          0,
          0,
          0,
          10652498,
          2570000,
          11212294,
          17479,
          0,
          0,
          101332962,
          83557872,
          0,
          57469467,
          0,
          0,
          0,
          153083102,
          775398007,
          94073028,
          111858363,
          0,
          0,
          93617009,
          72778712,
          64088552,
          78874843,
          0,
          49797148,
          0,
          97837138,
          41227069,
          39363635,
          75902208,
          68233629,
          31672907,
          38105395,
          23978402,
          37170057,
          11,
          4884663,
          62076141,
          20000000,
          14782676,
          13700000,
          59520298,
          23430766,
          13110448,
          61619773,
          0,
          0,
          6413915,
          30000000,
          4069090,
          0,
          0,
          2832826,
          32935319,
          16017403,
          2807854,
          2200000,
          2945242,
          0,
          0,
          113857533,
          0,
          0,
          0,
          17000000,
          18535191,
          0,
          0,
          68700000,
          792910554,
          17500000,
          0,
          123509,
          0,
          0,
          9622846,
          0,
          225933435,
          0,
          163876815,
          85300000,
          90449929,
          118587880,
          103166989,
          139352633,
          91196419,
          57231524,
          52293982,
          50100000,
          50752337,
          183474602,
          41205099,
          59217789,
          40485039,
          37402877,
          136836156,
          44460850,
          36230219,
          57500000,
          64188367,
          33583175,
          33526835,
          104303851,
          25754284,
          32101000,
          32973937,
          30652890,
          0,
          29450919,
          30050028,
          29392418,
          34411240,
          38368909,
          25605015,
          33697647,
          143695338,
          20766616,
          52882018,
          24637469,
          0,
          42333295,
          0,
          0,
          0,
          0,
          17096053,
          66821036,
          85978266,
          0,
          0,
          16153593,
          0,
          48572000,
          28650575,
          15795189,
          15156200,
          21587700,
          20342161,
          0,
          0,
          0,
          35057696,
          17297244,
          0,
          58978653,
          0,
          0,
          12827813,
          10571408,
          28883511,
          9898412,
          0,
          8801940,
          6110000,
          0,
          32438988,
          0,
          9636289,
          6861102,
          23875127,
          6842058,
          0,
          9495408,
          0,
          0,
          7800000,
          33000000,
          2154696,
          21571189,
          0,
          7177143,
          10835752,
          4417580,
          0,
          0,
          3275585,
          3193102,
          98410061,
          5164404,
          0,
          0,
          0,
          0,
          40055439,
          439564,
          7587485,
          1759252,
          0,
          1631839,
          0,
          1969193,
          0,
          0,
          3665069,
          7022728,
          0,
          0,
          21786738,
          0,
          598645,
          1296184,
          42776760,
          0,
          0,
          0,
          0,
          1072602,
          0,
          0,
          295750,
          0,
          0,
          42145,
          126247,
          0,
          0,
          0,
          45779,
          0,
          0,
          0,
          140987,
          17472,
          9069,
          0,
          0,
          0,
          0,
          0,
          0,
          0,
          0,
          0,
          11,
          0,
          0,
          0,
          0,
          0,
          10000000,
          0,
          17164377,
          4386236,
          59827328,
          0,
          111584787,
          0,
          19839492,
          14144000,
          0,
          60000000,
          85582407,
          0,
          0,
          0,
          0,
          0,
          21817298,
          0,
          0,
          104931801,
          30859000,
          2995811,
          83304330,
          141195658,
          0,
          8220215,
          41590886,
          34573780,
          44196684,
          24538513,
          108782847,
          0,
          23936908,
          0,
          28780255,
          90400000,
          21510851,
          0,
          0,
          0,
          6126237,
          19125401,
          4777465,
          4350774,
          0,
          0,
          2955039,
          0,
          0,
          1053788,
          0,
          18663238,
          0,
          0,
          14348529,
          0,
          771499,
          140666,
          0,
          1046166,
          0,
          0,
          0,
          328203506,
          0,
          0,
          0,
          20374201,
          14373825,
          0,
          0,
          32222567,
          39462438,
          29174648,
          22456509,
          2500000,
          0,
          0,
          20138836,
          43528634,
          5271666,
          0,
          0,
          4440055,
          42345360,
          6108720,
          1997807,
          0,
          22889018,
          46000000,
          30000000,
          188126,
          0,
          213928762,
          76657000,
          38697217,
          5001655,
          286214286,
          69821334,
          100523181,
          52287414,
          82719885,
          0,
          43000000,
          27362712,
          0,
          39187783,
          0,
          26049082,
          0,
          0,
          0,
          81974493,
          18090181,
          22593409,
          18948425,
          17460020,
          29010817,
          34266564,
          16856124,
          12671300,
          10629321,
          0,
          25288872,
          74952305,
          8880705,
          8279017,
          10130000,
          0,
          0,
          0,
          25966555,
          5659286,
          18124262,
          0,
          2275557,
          0,
          6491240,
          0,
          92,
          589304,
          0,
          0,
          63464861,
          852872,
          458232,
          0,
          0,
          0,
          426224,
          0,
          3453043,
          0,
          0,
          143451,
          0,
          53086,
          553171,
          413454,
          2019009,
          0,
          0,
          2455831,
          0,
          22441323,
          0,
          882290,
          0,
          145793296,
          0,
          32392047,
          0,
          24793509,
          35619521,
          26096852,
          11588205,
          0,
          12633747,
          4245870,
          0,
          3347647,
          10848783,
          0,
          0,
          0,
          0,
          5634828,
          0,
          0,
          0,
          0,
          19000000,
          1333124,
          10329747,
          2400000,
          231411584,
          0,
          116019547,
          245066411,
          92921203,
          60722734,
          116700000,
          167221571,
          0,
          161777836,
          0,
          55447968,
          37710610,
          54600000,
          49084830,
          25405445,
          25000000,
          97572000,
          20256975,
          0,
          21268532,
          36433975,
          14702438,
          0,
          17986781,
          14011454,
          16829545,
          0,
          31430334,
          0,
          0,
          14618727,
          0,
          8373585,
          7292175,
          0,
          0,
          0,
          5,
          4720371,
          29385320,
          0,
          0,
          0,
          2062066,
          0,
          6038942,
          0,
          0,
          1246141,
          0,
          0,
          0,
          0,
          1429299,
          0,
          382946,
          523511,
          0,
          0,
          573335,
          453079,
          1310673,
          46488,
          0,
          30471,
          0,
          0,
          12400000,
          0,
          41410568,
          8900000,
          7993039,
          7000000,
          0,
          0,
          0,
          0,
          0,
          44287131,
          7103838,
          0,
          0,
          0,
          255273813,
          7,
          57504069,
          54215416,
          0,
          31899000,
          0,
          28451622,
          13368437,
          12376563,
          10,
          0,
          17693675,
          11850214,
          2025032,
          2401510,
          1548955,
          0,
          1521261,
          0,
          8159508,
          78371200,
          79384880,
          0,
          14237000,
          2122561,
          181813770,
          138530565,
          119114517,
          102308889,
          102272727,
          0,
          43656822,
          39846344,
          0,
          25059640,
          23341568,
          22168359,
          38275483,
          44703995,
          20400000,
          0,
          50244700,
          0,
          18197398,
          18814720,
          18750246,
          0,
          58000000,
          12000000,
          48027970,
          11642254,
          9206470,
          7518876,
          0,
          6852450,
          13231461,
          0,
          6670712,
          19560274,
          6230276,
          10409377,
          0,
          0,
          5483299,
          4398989,
          0,
          3283371,
          0,
          2944752,
          2025238,
          0,
          638641,
          2899975,
          0,
          0,
          869325,
          399611,
          0,
          0,
          1332231,
          0,
          0,
          0,
          69497,
          25,
          0,
          0,
          0,
          66351,
          0,
          0,
          0,
          2120439,
          3897799,
          32251,
          530048,
          0,
          6800000,
          0,
          27165581,
          0,
          76578641,
          0,
          7000000,
          126,
          18469680,
          531826,
          159616327,
          58972904,
          0,
          0,
          0,
          15700000,
          0,
          0,
          4865000,
          0,
          3031801,
          2466444,
          37295445,
          0,
          0,
          792,
          0,
          11502151,
          0,
          0,
          0,
          0,
          15699707,
          0,
          0,
          5000000,
          0,
          0,
          0,
          152925093,
          108286421,
          64282312,
          44107032,
          205703818,
          103590271,
          44793222,
          99067206,
          142817992,
          36000000,
          41833347,
          34872033,
          60378584,
          28200000,
          86362372,
          26010864,
          55198285,
          64110728,
          39723096,
          44030246,
          26888376,
          110000000,
          23198652,
          0,
          20659423,
          0,
          0,
          0,
          17273593,
          24804129,
          0,
          40100000,
          0,
          0,
          43884652,
          15000000,
          19905359,
          14000000,
          368744044,
          31724284,
          15116634,
          33616692,
          30039392,
          0,
          13269963,
          17768757,
          0,
          0,
          12232628,
          25562924,
          16174377,
          54418872,
          14056528,
          12200000,
          21164799,
          0,
          25,
          0,
          0,
          0,
          3432342,
          0,
          0,
          7230000,
          0,
          6538177,
          0,
          5321508,
          5476060,
          9760104,
          0,
          4074023,
          3263585,
          41424067,
          4040588,
          0,
          3049135,
          4842699,
          2614773,
          1980338,
          8203235,
          0,
          2450846,
          5129058,
          742898,
          3220371,
          0,
          846704,
          560069,
          0,
          0,
          0,
          0,
          5476793,
          0,
          0,
          0,
          0,
          98450062,
          782102,
          0,
          0,
          0,
          0,
          0,
          0,
          0,
          0,
          0,
          0,
          0,
          0,
          0,
          0,
          0,
          0,
          0,
          0,
          0,
          17872796,
          24475416,
          209696,
          80578934,
          0,
          3099314,
          0,
          0,
          0,
          8025872,
          11000000,
          10337387,
          0,
          0,
          0,
          0,
          0,
          0,
          0,
          0,
          146198896,
          58853106,
          254700832,
          27092880,
          10400000,
          13060843,
          7011317,
          7390108,
          0,
          0,
          0,
          10429707,
          1270522,
          0,
          0,
          0,
          744816,
          23803308,
          0,
          0,
          0,
          623528,
          0,
          3606395,
          0,
          108981275,
          0,
          0,
          32000000,
          0,
          0,
          6294161,
          0,
          0,
          41400000,
          0,
          0,
          0,
          0,
          32000000,
          62548947,
          125728258,
          0,
          30000000,
          119723856,
          38251425,
          36000000,
          44909486,
          187112,
          49800000,
          0,
          0,
          52425855,
          14400000,
          34705850,
          13008928,
          11744471,
          10000000,
          15179302,
          44349000,
          31584901,
          10229331,
          9000000,
          0,
          8200000,
          0,
          0,
          44000000,
          0,
          0,
          6000000,
          4630045,
          4300000,
          9304609,
          0,
          3468572,
          0,
          0,
          2426851,
          1919197,
          1104682,
          866999,
          0,
          0,
          1406224,
          0,
          0,
          0,
          641100,
          2365467,
          302204,
          354704,
          0,
          0,
          0,
          120000,
          0,
          0,
          318982,
          0,
          146402,
          33245,
          0,
          0,
          355688,
          25345000,
          0,
          4037782,
          0,
          0,
          8000000,
          0,
          0,
          0,
          0,
          0,
          0,
          28350000,
          23689877,
          400176459,
          0,
          14873,
          8000000,
          4270000,
          0,
          44462,
          2956000,
          0,
          13401952,
          44785053,
          257850122,
          83453539,
          0,
          28215918,
          27900000,
          14000000,
          5000000,
          13007551,
          12800000,
          12000000,
          12600000,
          40423945,
          0,
          9482579,
          6451628,
          33965843,
          0,
          5923044,
          0,
          0,
          0,
          4159678,
          0,
          113783,
          0,
          0,
          0,
          0,
          0,
          0,
          0,
          0,
          0,
          0,
          0,
          0,
          31063038,
          127392239,
          19504039,
          0,
          3830137,
          13092000,
          30641770,
          4000000,
          0,
          0,
          16800000,
          19294144,
          0,
          0,
          45000,
          7,
          28814580,
          33395426,
          8000000,
          2277396,
          0,
          5332926,
          658573,
          141000000,
          124881062,
          0,
          9644124,
          16491080,
          0,
          177512032,
          0,
          35564473,
          0,
          29999213,
          20966644,
          89328627,
          77712439,
          19184015,
          17570324,
          18999718,
          23144499,
          68411275,
          19472057,
          33300000,
          15369573,
          7900000,
          25000000,
          15938065,
          13000000,
          11718595,
          229094,
          0,
          0,
          10400000,
          10000000,
          9016377,
          9012000,
          0,
          11176469,
          0,
          7282851,
          6804016,
          0,
          10422387,
          28200000,
          0,
          4109095,
          0,
          4000000,
          0,
          0,
          0,
          0,
          3076820,
          3011195,
          4069826,
          9879971,
          2807390,
          0,
          1826705,
          14980005,
          0,
          748453,
          0,
          0,
          0,
          2357852,
          0,
          0,
          11947954,
          0,
          0,
          0,
          0,
          0,
          0,
          22000,
          0,
          3387000,
          0,
          0,
          0,
          0,
          0,
          0,
          0,
          3200000,
          0,
          0,
          0,
          0,
          0,
          0,
          0,
          5596708,
          5000000,
          0,
          0,
          0,
          103735,
          0,
          0,
          0,
          23563727,
          25000000,
          19170001,
          33754967,
          86273333,
          5364858,
          0,
          0,
          37799643,
          0,
          0,
          6600000,
          0,
          5363000,
          119500000,
          32980880,
          10700000,
          0,
          0,
          3166000,
          553198,
          0,
          0,
          7200000,
          0,
          60141683,
          33400000,
          34585416,
          14400000,
          12348905,
          10000000,
          32230907,
          0,
          26781723,
          5535405,
          0,
          0,
          0,
          0,
          3325038,
          9726954,
          6854611,
          0,
          0,
          0,
          71904,
          0,
          0,
          0,
          107559,
          324138,
          0,
          0,
          0,
          5731103,
          0,
          495303,
          0,
          8176544,
          0,
          6892000,
          0,
          565592,
          11000000,
          0,
          0,
          0,
          83320000,
          0,
          36690067,
          21930418,
          0,
          0,
          0,
          9132000,
          0,
          0,
          0,
          0,
          23650000,
          480811,
          0,
          3330,
          30448000,
          0,
          0,
          0,
          0,
          78898765,
          0,
          18344729,
          14674076,
          18016290,
          13129846,
          24600832,
          0,
          11540607,
          13101672,
          70000000,
          34522221,
          7600000,
          9172000,
          1477676,
          0,
          6003587,
          15992615,
          20908467,
          4601043,
          7800000,
          13831503,
          13885802,
          4000000,
          0,
          7871522,
          11122090,
          0,
          5967038,
          2801508,
          2506446,
          0,
          5179037,
          11125849,
          1672730,
          1431623,
          1477002,
          0,
          876302,
          653621,
          0,
          0,
          563706,
          390659,
          0,
          0,
          124494,
          0,
          120620,
          111731,
          0,
          187674,
          1100000,
          0,
          0,
          0,
          0,
          54207,
          0,
          622806,
          0,
          3983997,
          0,
          0,
          0,
          0,
          0,
          95000,
          0,
          0,
          11833696,
          0,
          0,
          0,
          0,
          0,
          0,
          0,
          0,
          0,
          0,
          0,
          0,
          0,
          0,
          0,
          0,
          0,
          0,
          0,
          0,
          19152480,
          864659,
          0,
          0,
          222000,
          2957978,
          0,
          0,
          67738090,
          0,
          8000000,
          9440272,
          0,
          21107746,
          8844595,
          0,
          841733,
          0,
          621951,
          0,
          0,
          6800000,
          0,
          0,
          0,
          0,
          0,
          7267585,
          150277,
          0,
          23311391,
          9700000,
          0,
          572809,
          1943649,
          0,
          4235151,
          0,
          7433101,
          30500000,
          5400000,
          0,
          6033999,
          2592808,
          0,
          0,
          0,
          4420000,
          0,
          0,
          0,
          0,
          22179430,
          11806119,
          9600000,
          7412216,
          11098131,
          10013424,
          0,
          7000000,
          0,
          2375097,
          97009150,
          2300000,
          0,
          0,
          712294,
          3566225,
          418961,
          416925,
          414404,
          0,
          373967,
          0,
          330048,
          0,
          8500000,
          0,
          173066,
          0,
          0,
          0,
          0,
          32000,
          0,
          0,
          1165882,
          0,
          0,
          0,
          0,
          0,
          1500000,
          0,
          0,
          0,
          0,
          184925486,
          0,
          2620000,
          0,
          0,
          0,
          0,
          0,
          0,
          3897569,
          0,
          0,
          0,
          639000,
          619042,
          1632,
          0,
          0,
          0,
          0,
          0,
          0,
          6000000,
          21722776,
          11000000,
          3412497,
          0,
          0,
          8500000,
          6000000,
          0,
          0,
          103911669,
          18492362,
          0,
          0,
          0,
          0,
          7000000,
          0,
          2861020,
          14661007,
          0,
          6000000,
          0,
          0,
          0,
          25000,
          0,
          0,
          0,
          0,
          0,
          2736000,
          0,
          0,
          2850263,
          0,
          0,
          0,
          18637690,
          0,
          1400000,
          0,
          0,
          0,
          0,
          4105187,
          0,
          0,
          10462500,
          0,
          0,
          0,
          117235147,
          0,
          37600000,
          62882090,
          28262574,
          17985893,
          59600000,
          18112929,
          14564027,
          23507567,
          10047674,
          10037390,
          16566240,
          13350369,
          101758490,
          40000000,
          9000000,
          46243000,
          7800000,
          0,
          6833445,
          0,
          9138338,
          0,
          5355847,
          0,
          5284309,
          3538446,
          3123963,
          0,
          0,
          2057193,
          0,
          1678874,
          1744858,
          0,
          0,
          852206,
          623791,
          0,
          0,
          0,
          464000,
          0,
          0,
          0,
          336472,
          0,
          444575,
          274661,
          0,
          0,
          0,
          0,
          0,
          0,
          0,
          0,
          14870,
          0,
          0,
          0,
          0,
          0,
          10018,
          0,
          7202,
          0,
          0,
          0,
          0,
          0,
          0,
          0,
          0,
          0,
          0,
          0,
          0,
          0,
          0,
          0,
          0,
          0,
          0,
          0,
          0,
          0,
          0,
          0,
          0,
          0,
          0,
          0,
          814666,
          0,
          0,
          0,
          0,
          9600000,
          30905,
          1185783,
          0,
          7022209,
          381420,
          0,
          17385830,
          0,
          267447150,
          0,
          819939,
          0,
          0,
          1243961,
          3094813,
          0,
          0,
          0,
          0,
          0,
          0,
          0,
          1001437,
          2816116,
          0,
          0,
          0,
          0,
          62852,
          0,
          0,
          1984662,
          0,
          0,
          140000000,
          0,
          0,
          4007792,
          0,
          171760,
          78396,
          0,
          0,
          0,
          0,
          0,
          8000000,
          7830611,
          0,
          1667192,
          0,
          0,
          4911725,
          10508,
          0,
          0,
          0,
          0,
          0,
          0,
          0,
          0,
          3202000,
          248000000,
          34505110,
          0,
          0,
          0,
          0,
          0,
          0,
          0,
          0,
          0,
          12299668,
          0,
          0,
          0,
          33456317,
          0,
          0,
          54667954,
          0,
          17000000,
          0,
          8679814,
          0,
          0,
          500000,
          0,
          0,
          845188,
          0,
          0,
          0,
          603943,
          0,
          0,
          0,
          0,
          343341,
          0,
          271841,
          0,
          0,
          0,
          98017,
          0,
          0,
          4242978,
          0,
          0,
          0,
          0,
          0,
          0,
          316472,
          0,
          0,
          0,
          0,
          0,
          0,
          0,
          0,
          0,
          0,
          0,
          0,
          0,
          0,
          0,
          773228,
          0,
          973525,
          0,
          0,
          2281000,
          0,
          0,
          0,
          0,
          46118097,
          258384,
          193355800,
          0,
          5028948,
          0,
          0,
          1162014,
          0,
          0,
          0,
          170000000,
          0,
          2451545,
          0,
          0,
          0,
          8394751,
          0,
          4358000,
          29400000,
          31081,
          0,
          1750211,
          0,
          0,
          0,
          1000000,
          246574,
          4500000,
          110197,
          7808524,
          1281176,
          16,
          0,
          0,
          0,
          0,
          0,
          0,
          0,
          0,
          2074000,
          0,
          40542,
          0,
          0,
          0,
          8000000,
          0,
          0,
          0,
          0,
          0,
          0,
          319285,
          12021272,
          4186931,
          0,
          0,
          0,
          0,
          0,
          0,
          501818,
          0,
          203,
          0,
          3542353,
          0,
          0,
          0,
          56825,
          0,
          0,
          0,
          0,
          0,
          0,
          0,
          0,
          0,
          0,
          0,
          0,
          0,
          22000000,
          0,
          0,
          2260712,
          0,
          111300,
          0,
          27000000,
          5000000,
          100000000,
          4505922,
          14500000,
          2200000,
          0,
          2295733,
          0,
          2611555,
          0,
          0,
          0,
          0,
          0,
          0,
          0,
          0,
          0,
          0,
          0,
          0,
          0,
          0,
          0,
          0,
          0,
          900000,
          469947,
          0,
          0,
          0,
          1776935,
          15200000,
          0,
          2891288,
          20710513,
          0,
          0,
          0,
          0,
          0,
          0,
          0,
          0,
          6706368,
          0,
          0,
          0,
          3200000,
          0,
          0,
          15861566,
          0,
          10178331,
          42664410,
          7000000,
          0,
          0,
          0,
          0,
          0,
          0,
          0,
          0,
          0,
          0,
          0,
          0,
          0,
          3221152,
          0,
          0,
          0,
          28575078,
          0,
          0,
          0,
          0,
          0,
          0,
          0,
          0,
          0,
          416498,
          0,
          0,
          0,
          0,
          0,
          600896,
          0,
          0,
          0,
          0,
          0,
          0,
          0,
          321952,
          0,
          0,
          0,
          0,
          0,
          10000,
          3151130,
          0,
          76901,
          0,
          0,
          0,
          0,
          0,
          0,
          0,
          0,
          0,
          0,
          0,
          0,
          6000000,
          0,
          0,
          0,
          99000,
          0,
          0,
          0,
          424760,
          0,
          2040920,
          0,
          0,
          0,
          0
         ],
         "yaxis": "y"
        }
       ],
       "layout": {
        "legend": {
         "tracegroupgap": 0
        },
        "margin": {
         "t": 60
        },
        "template": {
         "data": {
          "bar": [
           {
            "error_x": {
             "color": "#f2f5fa"
            },
            "error_y": {
             "color": "#f2f5fa"
            },
            "marker": {
             "line": {
              "color": "rgb(17,17,17)",
              "width": 0.5
             },
             "pattern": {
              "fillmode": "overlay",
              "size": 10,
              "solidity": 0.2
             }
            },
            "type": "bar"
           }
          ],
          "barpolar": [
           {
            "marker": {
             "line": {
              "color": "rgb(17,17,17)",
              "width": 0.5
             },
             "pattern": {
              "fillmode": "overlay",
              "size": 10,
              "solidity": 0.2
             }
            },
            "type": "barpolar"
           }
          ],
          "carpet": [
           {
            "aaxis": {
             "endlinecolor": "#A2B1C6",
             "gridcolor": "#506784",
             "linecolor": "#506784",
             "minorgridcolor": "#506784",
             "startlinecolor": "#A2B1C6"
            },
            "baxis": {
             "endlinecolor": "#A2B1C6",
             "gridcolor": "#506784",
             "linecolor": "#506784",
             "minorgridcolor": "#506784",
             "startlinecolor": "#A2B1C6"
            },
            "type": "carpet"
           }
          ],
          "choropleth": [
           {
            "colorbar": {
             "outlinewidth": 0,
             "ticks": ""
            },
            "type": "choropleth"
           }
          ],
          "contour": [
           {
            "colorbar": {
             "outlinewidth": 0,
             "ticks": ""
            },
            "colorscale": [
             [
              0,
              "#0d0887"
             ],
             [
              0.1111111111111111,
              "#46039f"
             ],
             [
              0.2222222222222222,
              "#7201a8"
             ],
             [
              0.3333333333333333,
              "#9c179e"
             ],
             [
              0.4444444444444444,
              "#bd3786"
             ],
             [
              0.5555555555555556,
              "#d8576b"
             ],
             [
              0.6666666666666666,
              "#ed7953"
             ],
             [
              0.7777777777777778,
              "#fb9f3a"
             ],
             [
              0.8888888888888888,
              "#fdca26"
             ],
             [
              1,
              "#f0f921"
             ]
            ],
            "type": "contour"
           }
          ],
          "contourcarpet": [
           {
            "colorbar": {
             "outlinewidth": 0,
             "ticks": ""
            },
            "type": "contourcarpet"
           }
          ],
          "heatmap": [
           {
            "colorbar": {
             "outlinewidth": 0,
             "ticks": ""
            },
            "colorscale": [
             [
              0,
              "#0d0887"
             ],
             [
              0.1111111111111111,
              "#46039f"
             ],
             [
              0.2222222222222222,
              "#7201a8"
             ],
             [
              0.3333333333333333,
              "#9c179e"
             ],
             [
              0.4444444444444444,
              "#bd3786"
             ],
             [
              0.5555555555555556,
              "#d8576b"
             ],
             [
              0.6666666666666666,
              "#ed7953"
             ],
             [
              0.7777777777777778,
              "#fb9f3a"
             ],
             [
              0.8888888888888888,
              "#fdca26"
             ],
             [
              1,
              "#f0f921"
             ]
            ],
            "type": "heatmap"
           }
          ],
          "heatmapgl": [
           {
            "colorbar": {
             "outlinewidth": 0,
             "ticks": ""
            },
            "colorscale": [
             [
              0,
              "#0d0887"
             ],
             [
              0.1111111111111111,
              "#46039f"
             ],
             [
              0.2222222222222222,
              "#7201a8"
             ],
             [
              0.3333333333333333,
              "#9c179e"
             ],
             [
              0.4444444444444444,
              "#bd3786"
             ],
             [
              0.5555555555555556,
              "#d8576b"
             ],
             [
              0.6666666666666666,
              "#ed7953"
             ],
             [
              0.7777777777777778,
              "#fb9f3a"
             ],
             [
              0.8888888888888888,
              "#fdca26"
             ],
             [
              1,
              "#f0f921"
             ]
            ],
            "type": "heatmapgl"
           }
          ],
          "histogram": [
           {
            "marker": {
             "pattern": {
              "fillmode": "overlay",
              "size": 10,
              "solidity": 0.2
             }
            },
            "type": "histogram"
           }
          ],
          "histogram2d": [
           {
            "colorbar": {
             "outlinewidth": 0,
             "ticks": ""
            },
            "colorscale": [
             [
              0,
              "#0d0887"
             ],
             [
              0.1111111111111111,
              "#46039f"
             ],
             [
              0.2222222222222222,
              "#7201a8"
             ],
             [
              0.3333333333333333,
              "#9c179e"
             ],
             [
              0.4444444444444444,
              "#bd3786"
             ],
             [
              0.5555555555555556,
              "#d8576b"
             ],
             [
              0.6666666666666666,
              "#ed7953"
             ],
             [
              0.7777777777777778,
              "#fb9f3a"
             ],
             [
              0.8888888888888888,
              "#fdca26"
             ],
             [
              1,
              "#f0f921"
             ]
            ],
            "type": "histogram2d"
           }
          ],
          "histogram2dcontour": [
           {
            "colorbar": {
             "outlinewidth": 0,
             "ticks": ""
            },
            "colorscale": [
             [
              0,
              "#0d0887"
             ],
             [
              0.1111111111111111,
              "#46039f"
             ],
             [
              0.2222222222222222,
              "#7201a8"
             ],
             [
              0.3333333333333333,
              "#9c179e"
             ],
             [
              0.4444444444444444,
              "#bd3786"
             ],
             [
              0.5555555555555556,
              "#d8576b"
             ],
             [
              0.6666666666666666,
              "#ed7953"
             ],
             [
              0.7777777777777778,
              "#fb9f3a"
             ],
             [
              0.8888888888888888,
              "#fdca26"
             ],
             [
              1,
              "#f0f921"
             ]
            ],
            "type": "histogram2dcontour"
           }
          ],
          "mesh3d": [
           {
            "colorbar": {
             "outlinewidth": 0,
             "ticks": ""
            },
            "type": "mesh3d"
           }
          ],
          "parcoords": [
           {
            "line": {
             "colorbar": {
              "outlinewidth": 0,
              "ticks": ""
             }
            },
            "type": "parcoords"
           }
          ],
          "pie": [
           {
            "automargin": true,
            "type": "pie"
           }
          ],
          "scatter": [
           {
            "marker": {
             "line": {
              "color": "#283442"
             }
            },
            "type": "scatter"
           }
          ],
          "scatter3d": [
           {
            "line": {
             "colorbar": {
              "outlinewidth": 0,
              "ticks": ""
             }
            },
            "marker": {
             "colorbar": {
              "outlinewidth": 0,
              "ticks": ""
             }
            },
            "type": "scatter3d"
           }
          ],
          "scattercarpet": [
           {
            "marker": {
             "colorbar": {
              "outlinewidth": 0,
              "ticks": ""
             }
            },
            "type": "scattercarpet"
           }
          ],
          "scattergeo": [
           {
            "marker": {
             "colorbar": {
              "outlinewidth": 0,
              "ticks": ""
             }
            },
            "type": "scattergeo"
           }
          ],
          "scattergl": [
           {
            "marker": {
             "line": {
              "color": "#283442"
             }
            },
            "type": "scattergl"
           }
          ],
          "scattermapbox": [
           {
            "marker": {
             "colorbar": {
              "outlinewidth": 0,
              "ticks": ""
             }
            },
            "type": "scattermapbox"
           }
          ],
          "scatterpolar": [
           {
            "marker": {
             "colorbar": {
              "outlinewidth": 0,
              "ticks": ""
             }
            },
            "type": "scatterpolar"
           }
          ],
          "scatterpolargl": [
           {
            "marker": {
             "colorbar": {
              "outlinewidth": 0,
              "ticks": ""
             }
            },
            "type": "scatterpolargl"
           }
          ],
          "scatterternary": [
           {
            "marker": {
             "colorbar": {
              "outlinewidth": 0,
              "ticks": ""
             }
            },
            "type": "scatterternary"
           }
          ],
          "surface": [
           {
            "colorbar": {
             "outlinewidth": 0,
             "ticks": ""
            },
            "colorscale": [
             [
              0,
              "#0d0887"
             ],
             [
              0.1111111111111111,
              "#46039f"
             ],
             [
              0.2222222222222222,
              "#7201a8"
             ],
             [
              0.3333333333333333,
              "#9c179e"
             ],
             [
              0.4444444444444444,
              "#bd3786"
             ],
             [
              0.5555555555555556,
              "#d8576b"
             ],
             [
              0.6666666666666666,
              "#ed7953"
             ],
             [
              0.7777777777777778,
              "#fb9f3a"
             ],
             [
              0.8888888888888888,
              "#fdca26"
             ],
             [
              1,
              "#f0f921"
             ]
            ],
            "type": "surface"
           }
          ],
          "table": [
           {
            "cells": {
             "fill": {
              "color": "#506784"
             },
             "line": {
              "color": "rgb(17,17,17)"
             }
            },
            "header": {
             "fill": {
              "color": "#2a3f5f"
             },
             "line": {
              "color": "rgb(17,17,17)"
             }
            },
            "type": "table"
           }
          ]
         },
         "layout": {
          "annotationdefaults": {
           "arrowcolor": "#f2f5fa",
           "arrowhead": 0,
           "arrowwidth": 1
          },
          "autotypenumbers": "strict",
          "coloraxis": {
           "colorbar": {
            "outlinewidth": 0,
            "ticks": ""
           }
          },
          "colorscale": {
           "diverging": [
            [
             0,
             "#8e0152"
            ],
            [
             0.1,
             "#c51b7d"
            ],
            [
             0.2,
             "#de77ae"
            ],
            [
             0.3,
             "#f1b6da"
            ],
            [
             0.4,
             "#fde0ef"
            ],
            [
             0.5,
             "#f7f7f7"
            ],
            [
             0.6,
             "#e6f5d0"
            ],
            [
             0.7,
             "#b8e186"
            ],
            [
             0.8,
             "#7fbc41"
            ],
            [
             0.9,
             "#4d9221"
            ],
            [
             1,
             "#276419"
            ]
           ],
           "sequential": [
            [
             0,
             "#0d0887"
            ],
            [
             0.1111111111111111,
             "#46039f"
            ],
            [
             0.2222222222222222,
             "#7201a8"
            ],
            [
             0.3333333333333333,
             "#9c179e"
            ],
            [
             0.4444444444444444,
             "#bd3786"
            ],
            [
             0.5555555555555556,
             "#d8576b"
            ],
            [
             0.6666666666666666,
             "#ed7953"
            ],
            [
             0.7777777777777778,
             "#fb9f3a"
            ],
            [
             0.8888888888888888,
             "#fdca26"
            ],
            [
             1,
             "#f0f921"
            ]
           ],
           "sequentialminus": [
            [
             0,
             "#0d0887"
            ],
            [
             0.1111111111111111,
             "#46039f"
            ],
            [
             0.2222222222222222,
             "#7201a8"
            ],
            [
             0.3333333333333333,
             "#9c179e"
            ],
            [
             0.4444444444444444,
             "#bd3786"
            ],
            [
             0.5555555555555556,
             "#d8576b"
            ],
            [
             0.6666666666666666,
             "#ed7953"
            ],
            [
             0.7777777777777778,
             "#fb9f3a"
            ],
            [
             0.8888888888888888,
             "#fdca26"
            ],
            [
             1,
             "#f0f921"
            ]
           ]
          },
          "colorway": [
           "#636efa",
           "#EF553B",
           "#00cc96",
           "#ab63fa",
           "#FFA15A",
           "#19d3f3",
           "#FF6692",
           "#B6E880",
           "#FF97FF",
           "#FECB52"
          ],
          "font": {
           "color": "#f2f5fa"
          },
          "geo": {
           "bgcolor": "rgb(17,17,17)",
           "lakecolor": "rgb(17,17,17)",
           "landcolor": "rgb(17,17,17)",
           "showlakes": true,
           "showland": true,
           "subunitcolor": "#506784"
          },
          "hoverlabel": {
           "align": "left"
          },
          "hovermode": "closest",
          "mapbox": {
           "style": "dark"
          },
          "paper_bgcolor": "rgb(17,17,17)",
          "plot_bgcolor": "rgb(17,17,17)",
          "polar": {
           "angularaxis": {
            "gridcolor": "#506784",
            "linecolor": "#506784",
            "ticks": ""
           },
           "bgcolor": "rgb(17,17,17)",
           "radialaxis": {
            "gridcolor": "#506784",
            "linecolor": "#506784",
            "ticks": ""
           }
          },
          "scene": {
           "xaxis": {
            "backgroundcolor": "rgb(17,17,17)",
            "gridcolor": "#506784",
            "gridwidth": 2,
            "linecolor": "#506784",
            "showbackground": true,
            "ticks": "",
            "zerolinecolor": "#C8D4E3"
           },
           "yaxis": {
            "backgroundcolor": "rgb(17,17,17)",
            "gridcolor": "#506784",
            "gridwidth": 2,
            "linecolor": "#506784",
            "showbackground": true,
            "ticks": "",
            "zerolinecolor": "#C8D4E3"
           },
           "zaxis": {
            "backgroundcolor": "rgb(17,17,17)",
            "gridcolor": "#506784",
            "gridwidth": 2,
            "linecolor": "#506784",
            "showbackground": true,
            "ticks": "",
            "zerolinecolor": "#C8D4E3"
           }
          },
          "shapedefaults": {
           "line": {
            "color": "#f2f5fa"
           }
          },
          "sliderdefaults": {
           "bgcolor": "#C8D4E3",
           "bordercolor": "rgb(17,17,17)",
           "borderwidth": 1,
           "tickwidth": 0
          },
          "ternary": {
           "aaxis": {
            "gridcolor": "#506784",
            "linecolor": "#506784",
            "ticks": ""
           },
           "baxis": {
            "gridcolor": "#506784",
            "linecolor": "#506784",
            "ticks": ""
           },
           "bgcolor": "rgb(17,17,17)",
           "caxis": {
            "gridcolor": "#506784",
            "linecolor": "#506784",
            "ticks": ""
           }
          },
          "title": {
           "x": 0.05
          },
          "updatemenudefaults": {
           "bgcolor": "#506784",
           "borderwidth": 0
          },
          "xaxis": {
           "automargin": true,
           "gridcolor": "#283442",
           "linecolor": "#506784",
           "ticks": "",
           "title": {
            "standoff": 15
           },
           "zerolinecolor": "#283442",
           "zerolinewidth": 2
          },
          "yaxis": {
           "automargin": true,
           "gridcolor": "#283442",
           "linecolor": "#506784",
           "ticks": "",
           "title": {
            "standoff": 15
           },
           "zerolinecolor": "#283442",
           "zerolinewidth": 2
          }
         }
        },
        "xaxis": {
         "anchor": "y",
         "domain": [
          0,
          1
         ],
         "title": {
          "text": "popularity"
         }
        },
        "yaxis": {
         "anchor": "x",
         "domain": [
          0,
          1
         ],
         "title": {
          "text": "revenue"
         }
        }
       }
      }
     },
     "metadata": {},
     "output_type": "display_data"
    }
   ],
   "source": [
    "fig.show()"
   ]
  },
  {
   "cell_type": "code",
   "execution_count": null,
   "metadata": {},
   "outputs": [],
   "source": []
  }
 ],
 "metadata": {
  "kernelspec": {
   "display_name": "analytics",
   "language": "python",
   "name": "python3"
  },
  "language_info": {
   "codemirror_mode": {
    "name": "ipython",
    "version": 3
   },
   "file_extension": ".py",
   "mimetype": "text/x-python",
   "name": "python",
   "nbconvert_exporter": "python",
   "pygments_lexer": "ipython3",
   "version": "3.10.9"
  },
  "orig_nbformat": 4
 },
 "nbformat": 4,
 "nbformat_minor": 2
}
